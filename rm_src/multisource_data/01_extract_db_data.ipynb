{
 "cells": [
  {
   "cell_type": "code",
   "execution_count": 1,
   "id": "38b147ff",
   "metadata": {},
   "outputs": [],
   "source": [
    "import os\n",
    "import sys\n",
    "import pickle\n",
    "import importlib\n",
    "\n",
    "import matplotlib.pyplot as plt\n",
    "import numpy as np\n",
    "import pandas as pd\n",
    "import seaborn as sns\n",
    "\n",
    "from pathlib import Path\n",
    "from uuid import UUID\n",
    "from collections import defaultdict\n",
    "\n",
    "%matplotlib inline"
   ]
  },
  {
   "cell_type": "code",
   "execution_count": 2,
   "id": "e550aa2b",
   "metadata": {},
   "outputs": [],
   "source": [
    "INCLUDE_TEST_USERS = False"
   ]
  },
  {
   "cell_type": "code",
   "execution_count": 3,
   "id": "39306a1d",
   "metadata": {},
   "outputs": [],
   "source": [
    "emission_path = Path(os.getcwd()).parent.parent / 'my_emission_server' / 'e-mission-server'\n",
    "sys.path.append(str(emission_path))\n",
    "\n",
    "# Also add the home (viz_scripts) to the path\n",
    "sys.path.append('../viz_scripts')"
   ]
  },
  {
   "cell_type": "code",
   "execution_count": 4,
   "id": "e171e277",
   "metadata": {},
   "outputs": [],
   "source": [
    "DB_SOURCE = [\n",
    "    \"Stage_database\",\n",
    "    \"openpath_prod_durham\",\n",
    "    \"openpath_prod_mm_masscec\",\n",
    "    \"openpath_prod_ride2own\",\n",
    "    # No replaced mode!\n",
    "    \"openpath_prod_uprm_civic\",\n",
    "    \"openpath_prod_uprm_nicr\"\n",
    "]"
   ]
  },
  {
   "cell_type": "code",
   "execution_count": 5,
   "id": "70fa3112",
   "metadata": {},
   "outputs": [],
   "source": [
    "CURRENT_DB = DB_SOURCE[0]\n",
    "\n",
    "assert CURRENT_DB in DB_SOURCE"
   ]
  },
  {
   "cell_type": "code",
   "execution_count": 6,
   "id": "bbde79d1",
   "metadata": {},
   "outputs": [],
   "source": [
    "# ['p_micro', 'no_trip', 's_car', 'transit', 'car', 's_micro', 'ridehail', 'walk', 'unknown']\n",
    "\n",
    "REPLACED_MODE_DICT = {\n",
    "    \"Stage_database\": {\n",
    "        'no_travel': 'no_trip',\n",
    "        'Unknown': 'unknown',\n",
    "        'bus': 'transit',\n",
    "        'drove_alone': 'car',\n",
    "        'bike': 'p_micro',\n",
    "        'shared_ride': 's_car',\n",
    "        'walk': 'walk',\n",
    "        'train': 'transit',\n",
    "        'bikeshare': 's_micro',\n",
    "        'not_a trip': 'no_trip',\n",
    "        'pilot_ebike': 'p_micro',\n",
    "        'electric_car': 'car',\n",
    "        'taxi': 'ridehail',\n",
    "        'not_a_trip': 'no_trip',\n",
    "        'run': 'walk',\n",
    "        'scootershare': 's_micro',\n",
    "        'tramway': 'transit',\n",
    "        'free_shuttle': 'transit',\n",
    "        'e-bike': 'p_micro',\n",
    "        'rental_car': 'car',\n",
    "        'train_+ bus': 'transit',\n",
    "        'skateboard': 'p_micro',\n",
    "        'snowboarding': 'p_micro',\n",
    "        'e_bike': 'p_micro',\n",
    "        'golf_cart': 'unknown',\n",
    "        'emergency_vehicle with others': 's_car',\n",
    "        'call_friend': 's_car',\n",
    "        'no_replacement': 'no_travel',\n",
    "        'doing_nothing': 'no_trip',\n",
    "        'na': 'no_trip',\n",
    "        'ebike': 'p_micro',\n",
    "        'hiking': 'walk',\n",
    "        'n/a': 'no_trip',\n",
    "        'testing': 'unknown',\n",
    "        'home': 'no_trip',\n",
    "        'must_walk 3-5 mi a day for back': 'walk',\n",
    "        'family': 's_car',\n",
    "        'car': 'car',\n",
    "        'pilot_e-bike': 'p_micro',\n",
    "        'pilot_bike': 'p_micro',\n",
    "        'time_spent on the clock at amazon': 'no_trip',\n",
    "        'working': 'no_trip',\n",
    "        'walk_at work': 'walk',\n",
    "        'sitting_on my butt doing nothing': 'no_trip',\n",
    "        'nothing._delivered food for work': 'no_trip',\n",
    "        'train,_bus and walk': 'transit',\n",
    "        'work_vehicle': 'car',\n",
    "        'friend_picked me up': 's_car',\n",
    "        'ski': 'p_micro',\n",
    "        'not_accurate': 'unknown',\n",
    "        'stolen_ebike': 'p_micro'\n",
    "    },\n",
    "    \"openpath_prod_durham\": {\n",
    "        'Unknown': 'unknown',\n",
    "        'bike': 'p_micro',\n",
    "        'shared_ride': 's_car',\n",
    "        'drove_alone': 'car',\n",
    "        'bus': 'transit',\n",
    "        'no_travel': 'no_trip',\n",
    "        'scootershare': 's_micro',\n",
    "        'walk': 'walk',\n",
    "        'taxi': 'ridehail',\n",
    "        'e_car_drove_alone': 'car',\n",
    "        'bikeshare': 's_micro',\n",
    "        'ebike': 'p_micro',\n",
    "        'train': 'transit',\n",
    "        'e_car_shared_ride': 's_car'\n",
    "    },\n",
    "    \"openpath_prod_mm_masscec\": {\n",
    "        'Unknown': 'unknown',\n",
    "        'drove_alone': 'car',\n",
    "        'walk': 'walk',\n",
    "        'shared_ride': 's_car',\n",
    "        'bike': 'p_micro',\n",
    "        'bikeshare': 's_micro',\n",
    "        'no_travel': 'no_trip',\n",
    "        'taxi': 'ridehail',\n",
    "        'bus': 'transit',\n",
    "        'scootershare': 's_micro',\n",
    "        'train': 'transit',\n",
    "        'walking': 'walk',\n",
    "        'e_car_drove_alone': 'car'\n",
    "    },\n",
    "    \"openpath_prod_ride2own\": {\n",
    "        'Unknown': 'unknown',\n",
    "        'drove_alone': 'car',\n",
    "        'walk': 'walk',\n",
    "        'shared_ride': 's_car',\n",
    "        'bike': 'p_micro',\n",
    "        'no_travel': 'no_trip',\n",
    "        'taxi': 'ridehail',\n",
    "        'bus': 'transit',\n",
    "        'train': 'transit',\n",
    "        'e_car_drove_alone': 'car',\n",
    "        'e_car_shared_ride': 's_car'\n",
    "    },\n",
    "    \"openpath_prod_uprm_nicr\": {\n",
    "        'Unknown': 'unknown',\n",
    "        'walk': 'walk',\n",
    "        'drove_alone': 'car'\n",
    "    }\n",
    "}\n",
    "\n",
    "SURVEY_DATA_DICT = {\n",
    "    \"Stage_database\": {\n",
    "        \"Unique User ID (auto-filled, do not edit)\": \"user_id\",\n",
    "        \"In which year were you born?\": \"birth_year\",\n",
    "        \"What is your gender?\": \"gender\",\n",
    "        \"Do you have a valid driver's license?\": \"has_drivers_license\",\n",
    "        \"Are you a student?\": \"is_student\",\n",
    "        \"What is the highest grade or degree that you have completed?\": \"highest_education\",\n",
    "        \"Do you work for either pay or profit?\": \"is_paid\",\n",
    "        \"Do you have more than one job?\": \"has_multiple_jobs\",\n",
    "        \"Do you work full-time or part-time at your primary job?\": \"primary_job_type\",\n",
    "        \"Which best describes your primary job?\": \"primary_job_description\",\n",
    "        \"How did you usually get to your primary job last week? \": \"primary_job_commute_mode\",\n",
    "        \"Thinking about your daily commute to work last week, how many minutes did it usually take to get from home to the primary job/work place?\": \"primary_job_commute_time\",\n",
    "        \"At your primary job, do you have the ability to set or change your own start time?\": \"is_primary_job_flexible\",\n",
    "        \"Do you have the option of working from home or an alternate location instead of going into your primary work place?\": \"primary_job_can_wfh\",\n",
    "        \"How many days per week do you usually work from home or an alternate location?\": \"wfh_days\",\n",
    "        \"Do you own or rent your place of residence?\": \"residence_ownership_type\",\n",
    "        \"What is your home type?\": \"residence_type\",\n",
    "        \"Please identify which category represents your total household income, before taxes, for last year.\": \"income_category\",\n",
    "        \"Including yourself, how many people live in your home?\": \"n_residence_members\",\n",
    "        \"How many children under age 18 live in your home?\": \"n_residents_u18\",\n",
    "        \"Including yourself, how many people have a driver's license in your household?\": \"n_residents_with_license\",\n",
    "        \"How many motor vehicles are owned, leased, or available for regular use by the people who currently live in your household?\": \"n_motor_vehicles\",\n",
    "        \"If you were unable to use your household vehicle(s), which of the following options would be available to you to get you from place to place?\": \"available_modes\",\n",
    "        \"Do you have a medical condition that makes it difficult to travel outside of the home?\": \"has_medical_condition\",\n",
    "        \"How long have you had this condition?\": \"medical_condition_duration\"\n",
    "    },\n",
    "    # Retrieved from: e-mission-phone/survey-resources/data-xls/demo-survey-v1.xlsx\n",
    "    \"openpath_prod_durham\": {\n",
    "        \"At_your_primary_job_do_you_ha\": \"is_primary_job_flexible\",\n",
    "        \"Which_best_describes_your_prim\": \"primary_job_description\",\n",
    "        \"Do_you_work_full_time_or_part_\": \"primary_job_type\",\n",
    "        \"Do_you_have_the_option_of_work\": \"primary_job_can_wfh\",\n",
    "        \"Please_describe_your_primary_job\": \"primary_job_description\",\n",
    "        \"Do_you_have_more_than_one_job\": \"has_multiple_jobs\",\n",
    "        # Two columns: how many days/week do you work & what days of the week do you work. \n",
    "        # the latter has only 4 NA values, the former has 45 NA values.\n",
    "        \"What_days_of_the_week_do_you_t\": \"wfh_days\",\n",
    "        \"How_many_days_do_you_usually_w_001\": \"n_wfh_days\",\n",
    "        # All these are NAs.\n",
    "        \"Which_one_below_describe_you_b\": \"description\",\n",
    "        \"What_is_your_race_ethnicity\": \"race_or_ethnicity\",\n",
    "        \"Are_you_a_student\": \"is_student\",\n",
    "        \"What_is_the_highest_grade_or_d\": \"highest_education\",\n",
    "        \"do_you_consider_yourself_to_be\": \"is_transgender\",\n",
    "        \"What_is_your_gender\": \"gender\",\n",
    "        \"How_old_are_you\": \"age\",\n",
    "        \"Are_you_a_paid_worker\": \"is_paid\",\n",
    "        \"Do_you_have_a_driver_license\": \"has_drivers_license\",\n",
    "        \"How_long_you_had_this_conditio\": \"medical_condition_duration\",\n",
    "        \"Including_yourself_how_many_w_001\": \"n_residents_u18\",\n",
    "        \"Including_yourself_how_many_p\": \"n_residence_members\",\n",
    "        \"Do_you_own_or_rent_your_home\": \"residence_ownership_type\",\n",
    "        \"Please_identify_which_category\": \"income_category\",\n",
    "        \"If_you_were_unable_to_use_your\": \"available_modes\",\n",
    "        \"Including_yourself_how_many_p_001\": \"n_residents_with_license\",\n",
    "        \"Including_yourself_how_many_w\": \"n_working_residents\",\n",
    "        \"What_is_your_home_type\": \"residence_type\",\n",
    "        \"How_many_motor_vehicles_are_ow\": \"n_motor_vehicles\",\n",
    "        \"Do_you_have_a_condition_or_han\": \"has_medical_condition\"\n",
    "    },\n",
    "    \"openpath_prod_mm_masscec\": {\n",
    "        # Same questions as Durham.\n",
    "        \"At_your_primary_job_do_you_ha\": \"is_primary_job_flexible\",\n",
    "        \"Which_best_describes_your_prim\": \"primary_job_description\",\n",
    "        \"Do_you_work_full_time_or_part_\": \"primary_job_type\",\n",
    "        \"Do_you_have_the_option_of_work\": \"primary_job_can_wfh\",\n",
    "        \"Please_describe_your_primary_job\": \"primary_job_description\",\n",
    "        \"Do_you_have_more_than_one_job\": \"has_multiple_jobs\",\n",
    "        # Two columns: how many days/week do you work & what days of the week do you work. \n",
    "        # the latter has only 4 NA values, the former has 45 NA values.\n",
    "        \"What_days_of_the_week_do_you_t\": \"wfh_days\",\n",
    "        \"How_many_days_do_you_usually_w_001\": \"n_wfh_days\",\n",
    "        # All these are NAs.\n",
    "        \"Which_one_below_describe_you_b\": \"description\",\n",
    "        \"What_is_your_race_ethnicity\": \"race_or_ethnicity\",\n",
    "        \"Are_you_a_student\": \"is_student\",\n",
    "        \"What_is_the_highest_grade_or_d\": \"highest_education\",\n",
    "        \"do_you_consider_yourself_to_be\": \"is_transgender\",\n",
    "        \"What_is_your_gender\": \"gender\",\n",
    "        \"How_old_are_you\": \"age\",\n",
    "        \"Are_you_a_paid_worker\": \"is_paid\",\n",
    "        \"Do_you_have_a_driver_license\": \"has_drivers_license\",\n",
    "        \"How_long_you_had_this_conditio\": \"medical_condition_duration\",\n",
    "        \"Including_yourself_how_many_w_001\": \"n_residents_u18\",\n",
    "        \"Including_yourself_how_many_p\": \"n_residence_members\",\n",
    "        \"Do_you_own_or_rent_your_home\": \"residence_ownership_type\",\n",
    "        \"Please_identify_which_category\": \"income_category\",\n",
    "        \"If_you_were_unable_to_use_your\": \"available_modes\",\n",
    "        \"Including_yourself_how_many_p_001\": \"n_residents_with_license\",\n",
    "        \"Including_yourself_how_many_w\": \"n_working_residents\",\n",
    "        \"What_is_your_home_type\": \"residence_type\",\n",
    "        \"How_many_motor_vehicles_are_ow\": \"n_motor_vehicles\",\n",
    "        \"Do_you_have_a_condition_or_han\": \"has_medical_condition\"\n",
    "    },\n",
    "    \"openpath_prod_ride2own\": {\n",
    "        # Same questions as Durham.\n",
    "        \"How_old_are_you\": \"age\",\n",
    "        \"What_is_your_gender\": \"gender\",\n",
    "        \"do_you_consider_yourself_to_be\": \"is_transgender\",\n",
    "        \"What_is_your_race_ethnicity\": \"race_or_ethnicity\",\n",
    "        \"Do_you_have_a_driver_license\": \"has_drivers_license\",\n",
    "        \"Are_you_a_student\": \"is_student\",\n",
    "        \"What_is_the_highest_grade_or_d\": \"highest_education\",\n",
    "        \"Are_you_a_paid_worker\": \"is_paid\",\n",
    "        \"Which_one_below_describe_you_b\": \"description\",\n",
    "        \"Do_you_own_or_rent_your_home\": \"residence_ownership_type\",\n",
    "        \"What_is_your_home_type\": \"residence_type\",\n",
    "        \"Please_identify_which_category\": \"income_category\",\n",
    "        \"Including_yourself_how_many_p\": \"n_residence_members\",\n",
    "        \"Including_yourself_how_many_w\": \"n_working_residents\",\n",
    "        \"Including_yourself_how_many_p_001\": \"n_residents_with_license\",\n",
    "        \"Including_yourself_how_many_w_001\": \"n_residents_u18\",\n",
    "        \"How_many_motor_vehicles_are_ow\": \"n_motor_vehicles\",\n",
    "        \"If_you_were_unable_to_use_your\": \"available_modes\",\n",
    "        \"Do_you_have_a_condition_or_han\": \"has_medical_condition\",\n",
    "        \"How_long_you_had_this_conditio\": \"medical_condition_duration\",\n",
    "        \"Do_you_have_more_than_one_job\": \"has_multiple_jobs\",\n",
    "        \"Do_you_work_full_time_or_part_\": \"primary_job_type\",\n",
    "        \"Which_best_describes_your_prim\": \"primary_job_description\",\n",
    "        \"Please_describe_your_primary_job\": \"primary_job_description\",\n",
    "        \"At_your_primary_job_do_you_ha\": \"is_primary_job_flexible\",\n",
    "        \"Do_you_have_the_option_of_work\": \"primary_job_can_wfh\",\n",
    "        \"How_many_days_do_you_usually_w_001\": \"n_wfh_days\",\n",
    "        \"What_days_of_the_week_do_you_t\": \"wfh_days\"\n",
    "    },\n",
    "    \"openpath_prod_uprm_nicr\": {\n",
    "        # Same as Durham!\n",
    "        \"At_your_primary_job_do_you_ha\": \"is_primary_job_flexible\",\n",
    "        \"Which_best_describes_your_prim\": \"primary_job_description\",\n",
    "        \"Do_you_work_full_time_or_part_\": \"primary_job_type\",\n",
    "        \"Do_you_have_the_option_of_work\": \"primary_job_can_wfh\",\n",
    "        \"Please_describe_your_primary_job\": \"primary_job_description\",\n",
    "        \"Do_you_have_more_than_one_job\": \"has_multiple_jobs\",\n",
    "        # Two columns: how many days/week do you work & what days of the week do you work. \n",
    "        # the latter has only 4 NA values, the former has 45 NA values.\n",
    "        \"What_days_of_the_week_do_you_t\": \"wfh_days\",\n",
    "        \"How_many_days_do_you_usually_w_001\": \"n_wfh_days\",\n",
    "        # All these are NAs.\n",
    "        \"Which_one_below_describe_you_b\": \"description\",\n",
    "        \"What_is_your_race_ethnicity\": \"race_or_ethnicity\",\n",
    "        \"Are_you_a_student\": \"is_student\",\n",
    "        \"What_is_the_highest_grade_or_d\": \"highest_education\",\n",
    "        \"do_you_consider_yourself_to_be\": \"is_transgender\",\n",
    "        \"What_is_your_gender\": \"gender\",\n",
    "        \"How_old_are_you\": \"age\",\n",
    "        \"Are_you_a_paid_worker\": \"is_paid\",\n",
    "        \"Do_you_have_a_driver_license\": \"has_drivers_license\",\n",
    "        \"How_long_you_had_this_conditio\": \"medical_condition_duration\",\n",
    "        \"Including_yourself_how_many_w_001\": \"n_residents_u18\",\n",
    "        \"Including_yourself_how_many_p\": \"n_residence_members\",\n",
    "        \"Do_you_own_or_rent_your_home\": \"residence_ownership_type\",\n",
    "        \"Please_identify_which_category\": \"income_category\",\n",
    "        \"If_you_were_unable_to_use_your\": \"available_modes\",\n",
    "        \"Including_yourself_how_many_p_001\": \"n_residents_with_license\",\n",
    "        \"Including_yourself_how_many_w\": \"n_working_residents\",\n",
    "        \"What_is_your_home_type\": \"residence_type\",\n",
    "        \"How_many_motor_vehicles_are_ow\": \"n_motor_vehicles\",\n",
    "        \"Do_you_have_a_condition_or_han\": \"has_medical_condition\"\n",
    "    }\n",
    "}"
   ]
  },
  {
   "cell_type": "code",
   "execution_count": 7,
   "id": "4df64ba8",
   "metadata": {},
   "outputs": [
    {
     "data": {
      "text/plain": [
       "{'birth_year',\n",
       " 'primary_job_commute_mode',\n",
       " 'primary_job_commute_time',\n",
       " 'user_id'}"
      ]
     },
     "execution_count": 7,
     "metadata": {},
     "output_type": "execute_result"
    }
   ],
   "source": [
    "set(SURVEY_DATA_DICT[\"Stage_database\"].values()).difference(\n",
    "    set(SURVEY_DATA_DICT[\"openpath_prod_durham\"].values())\n",
    ")"
   ]
  },
  {
   "cell_type": "code",
   "execution_count": 8,
   "id": "69008893",
   "metadata": {},
   "outputs": [],
   "source": [
    "## Source: db_utils.py in op-admin-dashboard.\n",
    "\n",
    "BINARY_DEMOGRAPHICS_COLS = [\n",
    "    'user_id',\n",
    "    '_id',\n",
    "]\n",
    "\n",
    "EXCLUDED_DEMOGRAPHICS_COLS = [\n",
    "    'data.xmlResponse', \n",
    "    'data.name',\n",
    "    'data.version',\n",
    "    'data.label',\n",
    "    'xmlns:jr',\n",
    "    'xmlns:orx',\n",
    "    'id',\n",
    "    'start',\n",
    "    'end',\n",
    "    'attrxmlns:jr',\n",
    "    'attrxmlns:orx',\n",
    "    'attrid',\n",
    "    '__version__',\n",
    "    'attrversion',\n",
    "    'instanceID',\n",
    "]"
   ]
  },
  {
   "cell_type": "markdown",
   "id": "4357d455",
   "metadata": {},
   "source": [
    "<b>Ensure that you point the database to the appropriate name</b>"
   ]
  },
  {
   "cell_type": "code",
   "execution_count": 9,
   "id": "255b8896",
   "metadata": {},
   "outputs": [
    {
     "name": "stdout",
     "output_type": "stream",
     "text": [
      "storage not configured, falling back to sample, default configuration\n",
      "URL not formatted, defaulting to Stage_database\n",
      "Connecting to database URL localhost\n"
     ]
    }
   ],
   "source": [
    "import scaffolding\n",
    "import emission.core.get_database as edb\n",
    "import emission.storage.timeseries.abstract_timeseries as esta"
   ]
  },
  {
   "cell_type": "code",
   "execution_count": 10,
   "id": "12cc0c54",
   "metadata": {},
   "outputs": [],
   "source": [
    "## Source: scaffolding.py\n",
    "\n",
    "def expand_userinputs(labeled_ct):\n",
    "    '''\n",
    "    param: labeled_ct: a dataframe of confirmed trips, some of which have labels\n",
    "    params: labels_per_trip: the number of labels for each trip.\n",
    "        Currently, this is 2 for studies and 3 for programs, and should be \n",
    "        passed in by the notebook based on the input config.\n",
    "        If used with a trip-level survey, it could be even larger.\n",
    "    '''\n",
    "    # CASE 1 of https://github.com/e-mission/em-public-dashboard/issues/69#issuecomment-1256835867\n",
    "    if len(labeled_ct) == 0:\n",
    "        return labeled_ct\n",
    "    label_only = pd.DataFrame(labeled_ct.user_input.to_list(), index=labeled_ct.index)\n",
    "    # disp.display(label_only.head())\n",
    "    labels_per_trip = len(label_only.columns)\n",
    "    print(\"Found %s columns of length %d\" % (label_only.columns, labels_per_trip))\n",
    "    expanded_ct = pd.concat([labeled_ct, label_only], axis=1)\n",
    "    assert len(expanded_ct) == len(labeled_ct), \\\n",
    "        (\"Mismatch after expanding labels, expanded_ct.rows = %s != labeled_ct.rows %s\" %\n",
    "            (len(expanded_ct), len(labeled_ct)))\n",
    "    print(\"After expanding, columns went from %s -> %s\" %\n",
    "        (len(labeled_ct.columns), len(expanded_ct.columns)))\n",
    "    assert len(expanded_ct.columns) == len(labeled_ct.columns) + labels_per_trip, \\\n",
    "        (\"Mismatch after expanding labels, expanded_ct.columns = %s != labeled_ct.columns %s\" %\n",
    "            (len(expanded_ct.columns), len(labeled_ct.columns)))\n",
    "    # disp.display(expanded_ct.head())\n",
    "    return expanded_ct"
   ]
  },
  {
   "cell_type": "code",
   "execution_count": 11,
   "id": "9a98e2fb",
   "metadata": {},
   "outputs": [],
   "source": [
    "## Source: scaffolding.py\n",
    "\n",
    "def data_quality_check(expanded_ct):\n",
    "    '''1. Delete rows where the mode_confirm was pilot_ebike and repalced_mode was pilot_ebike.\n",
    "       2. Delete rows where the mode_confirm was pilot_ebike and repalced_mode was same_mode.\n",
    "       3. Replace same_mode for the mode_confirm for Energy Impact Calcualtion.'''\n",
    "\n",
    "    # TODO: This is only really required for the initial data collection around the minipilot\n",
    "    # in subsequent deployes, we removed \"same mode\" and \"pilot_ebike\" from the options, so the\n",
    "    # dataset did not contain of these data quality issues\n",
    "\n",
    "    if 'replaced_mode' in expanded_ct.columns:\n",
    "        expanded_ct.drop(expanded_ct[(expanded_ct['mode_confirm'] == 'pilot_ebike') & (expanded_ct['replaced_mode'] == 'pilot_ebike')].index, inplace=True)\n",
    "        expanded_ct.drop(expanded_ct[(expanded_ct['mode_confirm'] == 'pilot_ebike') & (expanded_ct['replaced_mode'] == 'same_mode')].index, inplace=True)\n",
    "        expanded_ct['replaced_mode'] = np.where(expanded_ct['replaced_mode'] == 'same_mode',expanded_ct['mode_confirm'], expanded_ct['replaced_mode'])\n",
    "    \n",
    "    return expanded_ct"
   ]
  },
  {
   "cell_type": "code",
   "execution_count": 12,
   "id": "fe37bf27",
   "metadata": {},
   "outputs": [
    {
     "name": "stdout",
     "output_type": "stream",
     "text": [
      "Before filtering, length=241123\n",
      "After filtering, length=241123\n",
      "Found Index(['mode_confirm', 'purpose_confirm', 'replaced_mode'], dtype='object') columns of length 3\n",
      "After expanding, columns went from 41 -> 44\n",
      "['source', 'end_ts', 'end_fmt_time', 'end_loc', 'raw_trip', 'start_ts', 'start_fmt_time', 'start_loc', 'duration', 'distance', 'start_place', 'end_place', 'cleaned_trip', 'inferred_labels', 'inferred_trip', 'expectation', 'confidence_threshold', 'expected_trip', 'user_input', 'section_modes', 'section_distances', 'start_local_dt_year', 'start_local_dt_month', 'start_local_dt_day', 'start_local_dt_hour', 'start_local_dt_minute', 'start_local_dt_second', 'start_local_dt_weekday', 'start_local_dt_timezone', 'end_local_dt_year', 'end_local_dt_month', 'end_local_dt_day', 'end_local_dt_hour', 'end_local_dt_minute', 'end_local_dt_second', 'end_local_dt_weekday', 'end_local_dt_timezone', '_id', 'user_id', 'metadata_write_ts', 'additions', 'mode_confirm', 'purpose_confirm', 'replaced_mode']\n"
     ]
    }
   ],
   "source": [
    "## Source: scaffolding.py\n",
    "\n",
    "uuid_df = pd.json_normalize(list(edb.get_uuid_db().find()))\n",
    "\n",
    "if not INCLUDE_TEST_USERS:\n",
    "    uuid_df = uuid_df.loc[~uuid_df.user_email.str.contains('_test_'), :]\n",
    "\n",
    "filtered = uuid_df.uuid.unique()\n",
    "\n",
    "agg = esta.TimeSeries.get_aggregate_time_series()\n",
    "all_ct = agg.get_data_df(\"analysis/confirmed_trip\", None)\n",
    "\n",
    "print(f\"Before filtering, length={len(all_ct)}\")\n",
    "participant_ct_df = all_ct.loc[all_ct.user_id.isin(filtered), :]\n",
    "print(f\"After filtering, length={len(participant_ct_df)}\")\n",
    "\n",
    "expanded_ct = expand_userinputs(participant_ct_df)\n",
    "expanded_ct = data_quality_check(expanded_ct)\n",
    "print(expanded_ct.columns.tolist())\n",
    "expanded_ct['replaced_mode'] = expanded_ct['replaced_mode'].fillna('Unknown')"
   ]
  },
  {
   "cell_type": "code",
   "execution_count": 13,
   "id": "13536d14",
   "metadata": {},
   "outputs": [],
   "source": [
    "# # Additional preprocessing for replaced mode (if any)\n",
    "\n",
    "mode_counts = expanded_ct['replaced_mode'].value_counts()\n",
    "drop_modes = mode_counts[mode_counts == 1].index.tolist()\n",
    "\n",
    "expanded_ct.drop(\n",
    "    index=expanded_ct.loc[expanded_ct.replaced_mode.isin(drop_modes)].index,\n",
    "    inplace=True\n",
    ")\n",
    "\n",
    "# Additional modes to drop.\n",
    "expanded_ct.drop(\n",
    "    index=expanded_ct.loc[expanded_ct.replaced_mode.isin(\n",
    "        # Remove all rows with air, boat, or weird answers.\n",
    "        ['houseboat', 'gondola', 'airline_flight', 'aircraft', 'zoo', 'air',\n",
    "         'airplane', 'boat', 'flight', 'plane', 'meal', 'lunch']\n",
    "    )].index,\n",
    "    inplace=True\n",
    ")"
   ]
  },
  {
   "cell_type": "code",
   "execution_count": 14,
   "id": "2b56af00",
   "metadata": {},
   "outputs": [
    {
     "name": "stdout",
     "output_type": "stream",
     "text": [
      "['no_travel' 'Unknown' 'bus' 'drove_alone' 'bike' 'shared_ride' 'walk'\n",
      " 'train' 'bikeshare' 'not_a trip' 'pilot_ebike' 'electric_car' 'taxi'\n",
      " 'not_a_trip' 'run' 'scootershare' 'tramway' 'free_shuttle' 'e-bike'\n",
      " 'rental_car' 'train_+ bus' 'skateboard' 'e_bike' 'golf_cart'\n",
      " 'emergency_vehicle with others' 'call_friend' 'no_replacement'\n",
      " 'doing_nothing' 'na' 'ebike' 'hiking' 'ski' 'not_accurate' 'pilot_bike'\n",
      " 'snowboarding' 'stolen_ebike' 'n/a' 'testing' 'home'\n",
      " 'must_walk 3-5 mi a day for back' 'family' 'car' 'pilot_e-bike'\n",
      " 'time_spent on the clock at amazon' 'working' 'walk_at work'\n",
      " 'sitting_on my butt doing nothing' 'nothing._delivered food for work'\n",
      " 'train,_bus and walk' 'work_vehicle' 'friend_picked me up']\n"
     ]
    }
   ],
   "source": [
    "print(expanded_ct.replaced_mode.unique())"
   ]
  },
  {
   "cell_type": "code",
   "execution_count": 15,
   "id": "757ccbee",
   "metadata": {},
   "outputs": [],
   "source": [
    "expanded_ct.replaced_mode = expanded_ct.replaced_mode.apply(lambda x: REPLACED_MODE_DICT[CURRENT_DB][x])"
   ]
  },
  {
   "cell_type": "code",
   "execution_count": 16,
   "id": "c878ad12",
   "metadata": {},
   "outputs": [
    {
     "name": "stdout",
     "output_type": "stream",
     "text": [
      "['no_trip' 'unknown' 'transit' 'car' 'p_micro' 's_car' 'walk' 's_micro'\n",
      " 'ridehail' 'no_travel']\n"
     ]
    }
   ],
   "source": [
    "print(expanded_ct.replaced_mode.unique())"
   ]
  },
  {
   "cell_type": "code",
   "execution_count": 17,
   "id": "7461a4d2",
   "metadata": {},
   "outputs": [],
   "source": [
    "# Demographics\n",
    "\n",
    "if CURRENT_DB != \"Stage_database\":\n",
    "\n",
    "    decoded_uuids = [str(x) for x in filtered]\n",
    "\n",
    "    ## Source: query_demographics() in op-admin-dashboard.\n",
    "    ts = esta.TimeSeries.get_aggregate_time_series()\n",
    "    entries = list(ts.find_entries([\"manual/demographic_survey\"]))\n",
    "\n",
    "    available_key = {}\n",
    "    for entry in entries:\n",
    "        survey_key = list(entry['data']['jsonDocResponse'].keys())[0]\n",
    "        if survey_key not in available_key:\n",
    "            available_key[survey_key] = []\n",
    "\n",
    "        # Minor modification: Added user_id check to filter users.\n",
    "        if str(entry['user_id']) in decoded_uuids:\n",
    "            available_key[survey_key].append(entry)\n",
    "\n",
    "    dataframes = {}\n",
    "    for key, json_object in available_key.items():\n",
    "        df = pd.json_normalize(json_object)\n",
    "        dataframes[key] = df\n",
    "\n",
    "    for key, df in dataframes.items():\n",
    "        if not df.empty:\n",
    "            for col in BINARY_DEMOGRAPHICS_COLS:\n",
    "                if col in df.columns:\n",
    "                    df[col] = df[col].apply(str) \n",
    "            columns_to_drop = [col for col in df.columns if col.startswith(\"metadata\")]\n",
    "            df.drop(columns= columns_to_drop, inplace=True) \n",
    "            df.columns=[col.rsplit('.',1)[-1] if col.startswith('data.jsonDocResponse.') else col for col in df.columns]\n",
    "            for col in EXCLUDED_DEMOGRAPHICS_COLS:\n",
    "                if col in df.columns:\n",
    "                    df.drop(columns= [col], inplace=True)\n",
    "\n",
    "    survey_data = pd.DataFrame()                \n",
    "    for v in dataframes.values():\n",
    "        survey_data = pd.concat([survey_data, v], axis=0, ignore_index=True)\n",
    "else:\n",
    "    # Read the demographics.\n",
    "    survey_data = pd.read_csv('../viz_scripts/Can Do Colorado eBike Program - en.csv')\n",
    "    survey_data.rename(columns={'Unique User ID (auto-filled, do not edit)': 'user_id'}, inplace=True)"
   ]
  },
  {
   "cell_type": "code",
   "execution_count": 18,
   "id": "a6be751e",
   "metadata": {},
   "outputs": [
    {
     "name": "stdout",
     "output_type": "stream",
     "text": [
      "203 261\n"
     ]
    }
   ],
   "source": [
    "print(len(survey_data.user_id.unique()), len(expanded_ct.user_id.unique()))"
   ]
  },
  {
   "cell_type": "code",
   "execution_count": 19,
   "id": "9ebc87d8",
   "metadata": {},
   "outputs": [],
   "source": [
    "survey_data.rename(SURVEY_DATA_DICT[CURRENT_DB], axis='columns', inplace=True)"
   ]
  },
  {
   "cell_type": "code",
   "execution_count": 20,
   "id": "86bd8337",
   "metadata": {},
   "outputs": [
    {
     "data": {
      "text/html": [
       "<div>\n",
       "<style scoped>\n",
       "    .dataframe tbody tr th:only-of-type {\n",
       "        vertical-align: middle;\n",
       "    }\n",
       "\n",
       "    .dataframe tbody tr th {\n",
       "        vertical-align: top;\n",
       "    }\n",
       "\n",
       "    .dataframe thead th {\n",
       "        text-align: right;\n",
       "    }\n",
       "</style>\n",
       "<table border=\"1\" class=\"dataframe\">\n",
       "  <thead>\n",
       "    <tr style=\"text-align: right;\">\n",
       "      <th></th>\n",
       "      <th>user_id</th>\n",
       "    </tr>\n",
       "  </thead>\n",
       "  <tbody>\n",
       "    <tr>\n",
       "      <th>0</th>\n",
       "      <td>a2d48b05d5454d428c0841432c7467b6</td>\n",
       "    </tr>\n",
       "    <tr>\n",
       "      <th>1</th>\n",
       "      <td>f2799dc202bc4249b42a4fda8770d1b6</td>\n",
       "    </tr>\n",
       "    <tr>\n",
       "      <th>2</th>\n",
       "      <td>b2bbe715b6a14fd19f751cae8adf6b4e</td>\n",
       "    </tr>\n",
       "    <tr>\n",
       "      <th>3</th>\n",
       "      <td>6373dfb8cb9b47e88e8f76adcfadde20</td>\n",
       "    </tr>\n",
       "    <tr>\n",
       "      <th>4</th>\n",
       "      <td>93c6e0f156a44e07b920ded664419dc6</td>\n",
       "    </tr>\n",
       "  </tbody>\n",
       "</table>\n",
       "</div>"
      ],
      "text/plain": [
       "                            user_id\n",
       "0  a2d48b05d5454d428c0841432c7467b6\n",
       "1  f2799dc202bc4249b42a4fda8770d1b6\n",
       "2  b2bbe715b6a14fd19f751cae8adf6b4e\n",
       "3  6373dfb8cb9b47e88e8f76adcfadde20\n",
       "4  93c6e0f156a44e07b920ded664419dc6"
      ]
     },
     "metadata": {},
     "output_type": "display_data"
    },
    {
     "name": "stdout",
     "output_type": "stream",
     "text": [
      "<class 'str'>\n"
     ]
    }
   ],
   "source": [
    "display(survey_data[['user_id']].head())\n",
    "print(type(survey_data['user_id'][0]))"
   ]
  },
  {
   "cell_type": "code",
   "execution_count": 21,
   "id": "189ab848",
   "metadata": {},
   "outputs": [
    {
     "data": {
      "text/html": [
       "<div>\n",
       "<style scoped>\n",
       "    .dataframe tbody tr th:only-of-type {\n",
       "        vertical-align: middle;\n",
       "    }\n",
       "\n",
       "    .dataframe tbody tr th {\n",
       "        vertical-align: top;\n",
       "    }\n",
       "\n",
       "    .dataframe thead th {\n",
       "        text-align: right;\n",
       "    }\n",
       "</style>\n",
       "<table border=\"1\" class=\"dataframe\">\n",
       "  <thead>\n",
       "    <tr style=\"text-align: right;\">\n",
       "      <th></th>\n",
       "      <th>user_id</th>\n",
       "    </tr>\n",
       "  </thead>\n",
       "  <tbody>\n",
       "    <tr>\n",
       "      <th>0</th>\n",
       "      <td>8a0473ca-e53d-4720-a99c-0696cc1fb407</td>\n",
       "    </tr>\n",
       "    <tr>\n",
       "      <th>1</th>\n",
       "      <td>0a093cbd-b536-43af-b03d-293425e84c76</td>\n",
       "    </tr>\n",
       "    <tr>\n",
       "      <th>2</th>\n",
       "      <td>0a093cbd-b536-43af-b03d-293425e84c76</td>\n",
       "    </tr>\n",
       "    <tr>\n",
       "      <th>3</th>\n",
       "      <td>0a093cbd-b536-43af-b03d-293425e84c76</td>\n",
       "    </tr>\n",
       "    <tr>\n",
       "      <th>4</th>\n",
       "      <td>0a093cbd-b536-43af-b03d-293425e84c76</td>\n",
       "    </tr>\n",
       "  </tbody>\n",
       "</table>\n",
       "</div>"
      ],
      "text/plain": [
       "                                user_id\n",
       "0  8a0473ca-e53d-4720-a99c-0696cc1fb407\n",
       "1  0a093cbd-b536-43af-b03d-293425e84c76\n",
       "2  0a093cbd-b536-43af-b03d-293425e84c76\n",
       "3  0a093cbd-b536-43af-b03d-293425e84c76\n",
       "4  0a093cbd-b536-43af-b03d-293425e84c76"
      ]
     },
     "metadata": {},
     "output_type": "display_data"
    },
    {
     "name": "stdout",
     "output_type": "stream",
     "text": [
      "<class 'uuid.UUID'>\n"
     ]
    }
   ],
   "source": [
    "display(expanded_ct[['user_id']].head())\n",
    "print(type(expanded_ct['user_id'][0]))"
   ]
  },
  {
   "cell_type": "code",
   "execution_count": 22,
   "id": "c7eb2e09",
   "metadata": {},
   "outputs": [],
   "source": [
    "# Additional preprocessing to filter unwanted users from sensed trips data.\n",
    "ct_users = expanded_ct['user_id'].apply(lambda x: str(x).replace('-', ''))\n",
    "survey_users = survey_data['user_id'].apply(lambda x: str(x).replace('-', ''))\n",
    "\n",
    "common = set(ct_users.unique()).intersection(set(survey_users.unique()))\n",
    "\n",
    "filtered_trips = expanded_ct.loc[ct_users.isin(common), :].reset_index(drop=True)\n",
    "filtered_survey = survey_data.loc[survey_users.isin(common), :].reset_index(drop=True)"
   ]
  },
  {
   "cell_type": "code",
   "execution_count": 23,
   "id": "1ca22a08",
   "metadata": {},
   "outputs": [
    {
     "name": "stdout",
     "output_type": "stream",
     "text": [
      "[trip data] After filtering, size goes from 240962 -> 205388\n",
      "[trip data] Unique users after filtering: 184\n",
      "[survey data] After filtering, size goes from 310 -> 286\n",
      "[survey data] Unique users after filtering: 184\n"
     ]
    }
   ],
   "source": [
    "print(f\"[trip data] After filtering, size goes from {expanded_ct.shape[0]} -> {filtered_trips.shape[0]}\")\n",
    "print(f\"[trip data] Unique users after filtering: {len(filtered_trips.user_id.unique())}\")\n",
    "\n",
    "print(f\"[survey data] After filtering, size goes from {survey_users.shape[0]} -> {filtered_survey.shape[0]}\")\n",
    "print(f\"[survey data] Unique users after filtering: {len(filtered_survey.user_id.unique())}\")"
   ]
  },
  {
   "cell_type": "code",
   "execution_count": 24,
   "id": "b48cd6e2",
   "metadata": {},
   "outputs": [
    {
     "data": {
      "text/plain": [
       "uuid.UUID"
      ]
     },
     "execution_count": 24,
     "metadata": {},
     "output_type": "execute_result"
    }
   ],
   "source": [
    "type(filtered_trips.user_id[0])"
   ]
  },
  {
   "cell_type": "code",
   "execution_count": null,
   "id": "86deb40c",
   "metadata": {},
   "outputs": [],
   "source": [
    "# raw data dump.\n",
    "expanded_ct.to_csv(f'../data/raw_data/trips__{CURRENT_DB}.csv', index=False)\n",
    "survey_data.to_csv(f'../data/raw_data/survey__{CURRENT_DB}.csv', index=False)\n",
    "\n",
    "# filtered data dump.\n",
    "filtered_trips.to_csv(f'../data/filtered_data/trips__{CURRENT_DB}.csv', index=False)\n",
    "filtered_survey.to_csv(f'../data/filtered_data/survey__{CURRENT_DB}.csv', index=False)"
   ]
  },
  {
   "cell_type": "code",
   "execution_count": null,
   "id": "a1b140b9",
   "metadata": {},
   "outputs": [],
   "source": [
    "# durham has section modes and section distances.\n",
    "# masscec does not have section distance and section modes.\n",
    "# ride2own does not have section distances and modes.\n",
    "# uprm nicr also does not have section distances and modes."
   ]
  },
  {
   "cell_type": "code",
   "execution_count": null,
   "id": "062c18c7",
   "metadata": {},
   "outputs": [],
   "source": []
  },
  {
   "cell_type": "code",
   "execution_count": null,
   "id": "ea248509",
   "metadata": {},
   "outputs": [],
   "source": []
  }
 ],
 "metadata": {
  "kernelspec": {
   "display_name": "emission",
   "language": "python",
   "name": "emission"
  },
  "language_info": {
   "codemirror_mode": {
    "name": "ipython",
    "version": 3
   },
   "file_extension": ".py",
   "mimetype": "text/x-python",
   "name": "python",
   "nbconvert_exporter": "python",
   "pygments_lexer": "ipython3",
   "version": "3.9.16"
  }
 },
 "nbformat": 4,
 "nbformat_minor": 5
}
