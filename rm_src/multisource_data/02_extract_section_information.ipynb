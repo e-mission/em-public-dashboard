{
 "cells": [
  {
   "cell_type": "code",
   "execution_count": 1,
   "id": "e3166085",
   "metadata": {},
   "outputs": [],
   "source": [
    "import os\n",
    "import sys\n",
    "import pickle\n",
    "import ast\n",
    "import importlib\n",
    "# from multiprocessing import cpu_count, Pool\n",
    "\n",
    "import matplotlib.pyplot as plt\n",
    "import numpy as np\n",
    "import pandas as pd\n",
    "import seaborn as sns\n",
    "\n",
    "from enum import Enum\n",
    "from pathlib import Path\n",
    "from uuid import UUID\n",
    "from bson.objectid import ObjectId\n",
    "from collections import defaultdict\n",
    "\n",
    "%matplotlib inline"
   ]
  },
  {
   "cell_type": "code",
   "execution_count": 2,
   "id": "5d482225",
   "metadata": {},
   "outputs": [],
   "source": [
    "emission_path = Path(os.getcwd()).parent.parent / 'my_emission_server' / 'e-mission-server'\n",
    "sys.path.append(str(emission_path))\n",
    "\n",
    "# Also add the home (viz_scripts) to the path\n",
    "sys.path.append('../viz_scripts')"
   ]
  },
  {
   "cell_type": "code",
   "execution_count": 3,
   "id": "cf187095",
   "metadata": {},
   "outputs": [
    {
     "name": "stdout",
     "output_type": "stream",
     "text": [
      "storage not configured, falling back to sample, default configuration\n",
      "URL not formatted, defaulting to openpath_prod_ride2own\n",
      "Connecting to database URL localhost\n"
     ]
    }
   ],
   "source": [
    "import scaffolding\n",
    "\n",
    "import emission.core.get_database as edb\n",
    "import emission.storage.timeseries.abstract_timeseries as esta\n",
    "import emission.storage.decorations.trip_queries as esdt"
   ]
  },
  {
   "cell_type": "code",
   "execution_count": 4,
   "id": "5eba5f02",
   "metadata": {},
   "outputs": [],
   "source": [
    "class Sections(Enum):\n",
    "    DURATION = 0\n",
    "    DISTANCE = 1\n",
    "    MODE = 2\n",
    "    \n",
    "# A lightweight wrapper around the lists to ease management.\n",
    "class SectionData:\n",
    "    def __init__(self, section_dict):\n",
    "        self._section_dict = section_dict\n",
    "    \n",
    "    def get_section_data(self, section: Sections):\n",
    "        if section not in self._section_dict:\n",
    "            return []\n",
    "        return self._section_dict[section]\n",
    "    \n",
    "SENSED_MODE_DICT = {\n",
    "    'IN_VEHICLE': 'car',\n",
    "    'BICYCLING': 'p_micro',\n",
    "    ''\n",
    "}"
   ]
  },
  {
   "cell_type": "code",
   "execution_count": 5,
   "id": "fcd776e5",
   "metadata": {},
   "outputs": [],
   "source": [
    "REQUIRED = {\n",
    "    \"Stage_database\": [Sections.DURATION],\n",
    "    \"openpath_prod_durham\": [Sections.DURATION],\n",
    "    \"openpath_prod_mm_masscec\": [Sections.DURATION, Sections.DISTANCE, Sections.MODE],\n",
    "    \"openpath_prod_ride2own\": [Sections.DURATION, Sections.DISTANCE, Sections.MODE],\n",
    "    \"openpath_prod_uprm_nicr\": [Sections.DURATION, Sections.DISTANCE, Sections.MODE]\n",
    "}"
   ]
  },
  {
   "cell_type": "code",
   "execution_count": 9,
   "id": "be70ead8",
   "metadata": {},
   "outputs": [],
   "source": [
    "def get_section_data(df: pd.DataFrame, db_name: str):\n",
    "    \n",
    "    def _get_section_data(row):\n",
    "        \n",
    "        user_id, trip_id = UUID(row.user_id), ObjectId(row.cleaned_trip)\n",
    "        \n",
    "        section_data = esdt.get_sections_for_trip(\n",
    "            key='analysis/cleaned_section', user_id=user_id, trip_id=trip_id\n",
    "        )\n",
    "        \n",
    "        if section_data is None or len(section_data) == 0:\n",
    "            section_data = esdt.get_sections_for_trip(\n",
    "                key='analysis/inferred_section', user_id=user_id, trip_id=trip_id\n",
    "            )\n",
    "        \n",
    "        if section_data is None or len(section_data) == 0:\n",
    "            return None\n",
    "        \n",
    "        required = REQUIRED[db_name]\n",
    "        \n",
    "        section_dict = dict()\n",
    "        \n",
    "        if Sections.DURATION in required:\n",
    "            section_dict[Sections.DURATION] = [x.data.duration for x in section_data]\n",
    "        else:\n",
    "            section_dict[Sections.DURATION] = ast.literal_eval(x.section_durations)\n",
    "        \n",
    "        if Sections.DISTANCE in required:\n",
    "            section_dict[Sections.DISTANCE] = [x.data.distance for x in section_data]\n",
    "        else:\n",
    "            section_dict[Sections.DISTANCE] = ast.literal_eval(x.section_distances)\n",
    "        \n",
    "        if Sections.MODE in required:\n",
    "            section_dict[Sections.MODE] = [x.data.sensed_mode for x in section_data]\n",
    "        else:\n",
    "            section_dict[Sections.MODE] = ast.literal_eval(x.section_modes)\n",
    "        \n",
    "        return SectionData(section_dict)\n",
    "    \n",
    "    \n",
    "    section_series = df.apply(lambda x: _get_section_data(x), axis=1)\n",
    "    \n",
    "    return section_series"
   ]
  },
  {
   "cell_type": "code",
   "execution_count": 10,
   "id": "27cd85fd",
   "metadata": {},
   "outputs": [
    {
     "name": "stderr",
     "output_type": "stream",
     "text": [
      "/var/folders/4x/l9lw50rn7qvf79m01f21x70mlpd6gh/T/ipykernel_33228/382724123.py:41: SettingWithCopyWarning: \n",
      "A value is trying to be set on a copy of a slice from a DataFrame.\n",
      "Try using .loc[row_indexer,col_indexer] = value instead\n",
      "\n",
      "See the caveats in the documentation: https://pandas.pydata.org/pandas-docs/stable/user_guide/indexing.html#returning-a-view-versus-a-copy\n",
      "  sections.loc[:, 'user_id'] = sections.loc[:, 'user_id'].apply(lambda x: UUID(x))\n",
      "/var/folders/4x/l9lw50rn7qvf79m01f21x70mlpd6gh/T/ipykernel_33228/382724123.py:42: SettingWithCopyWarning: \n",
      "A value is trying to be set on a copy of a slice from a DataFrame.\n",
      "Try using .loc[row_indexer,col_indexer] = value instead\n",
      "\n",
      "See the caveats in the documentation: https://pandas.pydata.org/pandas-docs/stable/user_guide/indexing.html#returning-a-view-versus-a-copy\n",
      "  sections.loc[:, 'cleaned_trip'] = sections.loc[:, 'cleaned_trip'].apply(lambda x: ObjectId(x))\n"
     ]
    }
   ],
   "source": [
    "df = pd.read_csv('../data/filtered_data/trips__openpath_prod_ride2own.csv')\n",
    "\n",
    "section_info = get_section_data(df, 'openpath_prod_ride2own')"
   ]
  },
  {
   "cell_type": "code",
   "execution_count": 11,
   "id": "0ff2d17f",
   "metadata": {},
   "outputs": [
    {
     "data": {
      "text/plain": [
       "0       <__main__.SectionData object at 0x165720d00>\n",
       "1       <__main__.SectionData object at 0x165720880>\n",
       "2       <__main__.SectionData object at 0x1657209d0>\n",
       "3       <__main__.SectionData object at 0x165720f70>\n",
       "4       <__main__.SectionData object at 0x165720fa0>\n",
       "                            ...                     \n",
       "5817    <__main__.SectionData object at 0x1659ebd60>\n",
       "5818    <__main__.SectionData object at 0x1659eb400>\n",
       "5819    <__main__.SectionData object at 0x1659ebf70>\n",
       "5820    <__main__.SectionData object at 0x1659ebf10>\n",
       "5821    <__main__.SectionData object at 0x1659eba60>\n",
       "Length: 5822, dtype: object"
      ]
     },
     "execution_count": 11,
     "metadata": {},
     "output_type": "execute_result"
    }
   ],
   "source": [
    "section_info"
   ]
  },
  {
   "cell_type": "code",
   "execution_count": 19,
   "id": "938db9b9",
   "metadata": {},
   "outputs": [
    {
     "name": "stdout",
     "output_type": "stream",
     "text": [
      "{<MotionTypes.UNKNOWN: 4>, <MotionTypes.AIR_OR_HSR: 11>, <MotionTypes.BICYCLING: 1>, <MotionTypes.WALKING: 7>, <MotionTypes.ON_FOOT: 2>, <MotionTypes.IN_VEHICLE: 0>}\n"
     ]
    }
   ],
   "source": [
    "modes = set()\n",
    "for s in section_info:\n",
    "    modes.update(s.get_section_data(Sections.MODE))\n",
    "\n",
    "print(modes)"
   ]
  },
  {
   "cell_type": "code",
   "execution_count": null,
   "id": "d30a8d58",
   "metadata": {},
   "outputs": [],
   "source": [
    "def compute_argmax(db_name: str, df:pd.DataFrame, sections: pd.Series):\n",
    "    # Evaluate once.\n",
    "    distance_mask = Sections.DISTANCE in REQUIRED[db_name]\n",
    "    mode_mask = Sections.MODE in REQUIRED[db_name]\n",
    "    \n",
    "    for ix, section in enumerate(sections):\n",
    "        distance = ast.literal_eval(\n",
    "            section.get_section_data(Sections.DISTANCE) if distance_mask else df.loc[ix, 'section_distances']\n",
    "        )\n",
    "        \n",
    "        duration = ast.literal_eval(section.get_section_data(Sections.DISTANCE))\n",
    "        \n",
    "        mode = ast.literal_eval(\n",
    "            section.get_section_data(Sections.DISTANCE) if distance_mask else df.loc[ix, 'section_modes']\n",
    "        )\n",
    "        \n",
    "        "
   ]
  }
 ],
 "metadata": {
  "kernelspec": {
   "display_name": "emission",
   "language": "python",
   "name": "emission"
  },
  "language_info": {
   "codemirror_mode": {
    "name": "ipython",
    "version": 3
   },
   "file_extension": ".py",
   "mimetype": "text/x-python",
   "name": "python",
   "nbconvert_exporter": "python",
   "pygments_lexer": "ipython3",
   "version": "3.9.16"
  }
 },
 "nbformat": 4,
 "nbformat_minor": 5
}
