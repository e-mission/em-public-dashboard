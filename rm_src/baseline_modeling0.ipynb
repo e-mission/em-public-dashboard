{
 "cells": [
  {
   "cell_type": "markdown",
   "metadata": {},
   "source": [
    "### All experiments are logged in Notion [here](https://www.notion.so/Replacement-mode-modeling-257c2f460377498d921e6b167f465945)"
   ]
  },
  {
   "cell_type": "code",
   "execution_count": 1,
   "metadata": {},
   "outputs": [],
   "source": [
    "from enum import Enum\n",
    "import random\n",
    "\n",
    "# Math and graphing.\n",
    "import pandas as pd\n",
    "import numpy as np\n",
    "import seaborn as sns\n",
    "import matplotlib.pyplot as plt\n",
    "\n",
    "# sklearn imports.\n",
    "from sklearn.model_selection import train_test_split, StratifiedGroupKFold, GroupKFold\n",
    "from sklearn.preprocessing import StandardScaler\n",
    "from sklearn.linear_model import LinearRegression\n",
    "from sklearn.metrics import f1_score, r2_score, ConfusionMatrixDisplay\n",
    "\n",
    "%matplotlib inline"
   ]
  },
  {
   "cell_type": "code",
   "execution_count": 2,
   "metadata": {},
   "outputs": [],
   "source": [
    "# Global experiment flags and variables.\n",
    "SEED = 19348\n",
    "TARGETS = ['p_micro', 'no_trip', 's_car', 'transit', 'car', 's_micro', 'ridehail', 'walk', 'unknown']\n",
    "\n",
    "DROP_S_MICRO = True\n",
    "\n",
    "# Set the Numpy seed too.\n",
    "random.seed(SEED)\n",
    "np.random.seed(SEED)"
   ]
  },
  {
   "cell_type": "code",
   "execution_count": 3,
   "metadata": {},
   "outputs": [],
   "source": [
    "class SPLIT_TYPE(Enum):\n",
    "    INTRA_USER = 0\n",
    "    INTER_USER = 1\n",
    "    TARGET = 2\n",
    "    MODE = 3\n",
    "    INTER_USER_STATIC = 4\n",
    "    \n",
    "\n",
    "class SPLIT(Enum):\n",
    "    TRAIN = 0\n",
    "    TEST = 1\n",
    "\n",
    "\n",
    "def get_train_test_splits(data: pd.DataFrame, how=SPLIT_TYPE, test_ratio=0.2, shuffle=True):\n",
    "    \n",
    "    if how == SPLIT_TYPE.INTER_USER:\n",
    "\n",
    "        X = data.drop(columns=['target'])\n",
    "        y = data['target'].values\n",
    "        groups = data.user_id.values\n",
    "        \n",
    "        splitter = StratifiedGroupKFold(n_splits=5, shuffle=shuffle, random_state=SEED)\n",
    "        # splitter = GroupKFold(n_splits=5)\n",
    "        \n",
    "        for train_index, test_index in splitter.split(X, y, groups):\n",
    "            X_tr = data.iloc[train_index, :]\n",
    "            X_te = data.iloc[test_index, :]\n",
    "            \n",
    "            # Iterate only once and break.\n",
    "            break\n",
    "\n",
    "        return X_tr, X_te\n",
    "    \n",
    "    elif how == SPLIT_TYPE.INTRA_USER:\n",
    "        \n",
    "        # There are certain users with only one observation. What do we do with those?\n",
    "        # As per the mobilitynet modeling pipeline, we randomly assign them to either the\n",
    "        # training or test set.\n",
    "        \n",
    "        value_counts = data.user_id.value_counts()\n",
    "        single_count_ids = value_counts[value_counts == 1].index\n",
    "        \n",
    "        data_filtered = data.loc[~data.user_id.isin(single_count_ids), :].reset_index(drop=True)\n",
    "        data_single_counts = data.loc[data.user_id.isin(single_count_ids), :].reset_index(drop=True)\n",
    "        \n",
    "        X_tr, X_te = train_test_split(\n",
    "            data_filtered, test_size=test_ratio, shuffle=shuffle, stratify=data_filtered.user_id,\n",
    "            random_state=SEED\n",
    "        )\n",
    "        \n",
    "        data_single_counts['assigned'] = np.random.choice(['train', 'test'], len(data_single_counts))\n",
    "        X_tr_merged = pd.concat(\n",
    "            [X_tr, data_single_counts.loc[data_single_counts.assigned == 'train', :].drop(\n",
    "                columns=['assigned'], inplace=False\n",
    "            )],\n",
    "            ignore_index=True, axis=0\n",
    "        )\n",
    "        \n",
    "        X_te_merged = pd.concat(\n",
    "            [X_te, data_single_counts.loc[data_single_counts.assigned == 'test', :].drop(\n",
    "                columns=['assigned'], inplace=False\n",
    "            )],\n",
    "            ignore_index=True, axis=0\n",
    "        )\n",
    "        \n",
    "        return X_tr_merged, X_te_merged\n",
    "    \n",
    "    elif how == SPLIT_TYPE.TARGET:\n",
    "        \n",
    "        X_tr, X_te = train_test_split(\n",
    "            data, test_size=test_ratio, shuffle=shuffle, stratify=data.target,\n",
    "            random_state=SEED\n",
    "        )\n",
    "        \n",
    "        return X_tr, X_te\n",
    "    \n",
    "    elif how == SPLIT_TYPE.MODE:\n",
    "        X_tr, X_te = train_test_split(\n",
    "            data, test_size=test_ratio, shuffle=shuffle, stratify=data.section_mode_argmax,\n",
    "            random_state=SEED\n",
    "        )\n",
    "        \n",
    "        return X_tr, X_te\n",
    "    \n",
    "    elif how == SPLIT_TYPE.INTER_USER_STATIC:\n",
    "        \n",
    "        train_ids = ['810be63d084746e3b7da9d943dd88e8c', 'bf774cbe6c3040b0a022278d36a23f19', '8a8332a53a1b4cdd9f3680434e91a6ef', \n",
    "                     '5ad862e79a6341f69f28c0096fe884da', '7f89656bd4a94d12ad8e5ad9f0afecaf', 'fbaa338d7cd7457c8cad4d0e60a44d18', \n",
    "                     '3b25446778824941a4c70ae5774f4c68', '28cb1dde85514bbabfd42145bdaf7e0a', '3aeb5494088542fdaf798532951aebb0', \n",
    "                     '531732fee3c24366a286d76eb534aebc', '950f4287bab5444aa0527cc23fb082b2', '737ef8494f26407b8b2a6b1b1dc631a4', \n",
    "                     'e06cf95717f448ecb81c440b1b2fe1ab', '7347df5e0ac94a109790b31ba2e8a02a', 'bd9cffc8dbf1402da479f9f148ec9e60', \n",
    "                     '2f3b66a5f98546d4b7691fba57fa640f', 'f289f7001bd94db0b33a7d2e1cd28b19', '19a043d1f2414dbcafcca44ea2bd1f19', \n",
    "                     '68788082836e4762b26ad0877643fdcf', '4e8b1b7f026c4384827f157225da13fa', '703a9cee8315441faff7eb63f2bfa93f', \n",
    "                     'add706b73839413da13344c355dde0bb', '47b5d57bd4354276bb6d2dcd1438901d', 'e4cfb2a8f600426897569985e234636e', \n",
    "                     '0154d71439284c34b865e5a417cd48af', '234f4f2366244fe682dccded2fa7cc4e', '0d0ae3a556414d138c52a6040a203d24', \n",
    "                     '44c10f66dec244d6b8644231d4a8fecb', '30e9b141d7894fbfaacecd2fa18929f9', '0eb313ab00e6469da78cc2d2e94660fb', \n",
    "                     'fc51d1258e4649ecbfb0e6ecdaeca454', 'a1954793b1454b2f8cf95917d7547169', '6656c04c6cba4c189fed805eaa529741', \n",
    "                     '6a0f3653b80a4c949e127d6504debb55', 'dfe5ca1bb0854b67a6ffccad9565d669', '8b1f3ba43de945bea79de6a81716ad04', \n",
    "                     'cde34edb8e3a4278a18e0adb062999e5', '6d96909e5ca442ccb5679d9cdf3c8f5b', 'a60a64d82d1c439a901b683b73a74d73', \n",
    "                     '60e6a6f6ed2e4e838f2bbed6a427028d', '88041eddad7542ea8c92b30e5c64e198', '1635c003b1f94a399ebebe21640ffced', \n",
    "                     '1581993b404a4b9c9ca6b0e0b8212316', 'b1aed24c863949bfbfa3a844ecf60593', '4b89612d7f1f4b368635c2bc48bd7993', \n",
    "                     'eb2e2a5211564a9290fcb06032f9b4af', '26767f9f3da54e93b692f8be6acdac43', '8a98e383a2d143e798fc23869694934a', \n",
    "                     'b346b83b9f7c4536b809d5f92074fdae', 'd929e7f8b7624d76bdb0ec9ada6cc650', '863e9c6c8ec048c4b7653f73d839c85b', \n",
    "                     'f50537eb104e4213908f1862c8160a3e', '4a9db5a9bac046a59403b44b883cc0ba', 'cded005d5fd14c64a5bba3f5c4fe8385', \n",
    "                     'c7ce889c796f4e2a8859fa2d7d5068fe', '405b221abe9e43bc86a57ca7fccf2227', '0b3e78fa91d84aa6a3203440143c8c16', \n",
    "                     'fbff5e08b7f24a94ab4b2d7371999ef7', 'e35e65107a34496db49fa5a0b41a1e9e', 'd5137ebd4f034dc193d216128bb7fc9a', \n",
    "                     '3f7f2e536ba9481e92f8379b796ad1d0', 'dc75e0b776214e1b9888f6abd042fd95', 'b41dd7d7c6d94fe6afe2fd26fa4ac0bd', \n",
    "                     'eec6936e1ac347ef9365881845ec74df', '8c7d261fe8284a42a777ffa6f380ba3b', '4baf8c8af7b7445e9067854065e3e612', \n",
    "                     'c6e4db31c18b4355b02a7dd97deca70b', 'f0db3b1999c2410ba5933103eca9212f', '487e20ab774742378198f94f5b5b0b43', \n",
    "                     'dc1ed4d71e3645d0993885398d5628ca', '8c3c63abb3ec4fc3a61e7bf316ee4efd', '15eb78dd6e104966ba6112589c29dc41', \n",
    "                     'c23768ccb817416eaf08be487b2e3643', 'ecd2ae17d5184807abd87a287115c299', '71f21d53b655463784f3a3c63c56707b', \n",
    "                     '2931e0a34319495bbb5898201a54feb5', '92bde0d0662f45ac864629f486cffe77', '42b3ee0bc02a481ab1a94644a8cd7a0d', \n",
    "                     '15aa4ba144a34b8b8079ed7e049d84df', '509b909390934e988eb120b58ed9bd8c', '14103cda12c94642974129989d39e50d', \n",
    "                     '8b0876430c2641bcaea954ea00520e64', 'baa4ff1573ae411183e10aeb17c71c53', '14fe8002bbdc4f97acbd1a00de241bf6', \n",
    "                     '1b7d6dfea8464bcab9321018b10ec9c9', '487ad897ba93404a8cbe5de7d1922691', '5182d93d69754d7ba06200cd1ac5980a', \n",
    "                     '91f3ca1c278247f79a806e49e9cc236f', 'e66e63b206784a559d977d4cb5f1ec34', '840297ae39484e26bfebe83ee30c5b3e', \n",
    "                     'c6807997194c4c528a8fa8c1f6ee1595', '802667b6371f45b29c7abb051244836a', 'b2bbe715b6a14fd19f751cae8adf6b4e', \n",
    "                     'feb1d940cd3647d1a101580c2a3b3f8c', '1b9883393ab344a69bc1a0fab192a94c', 'ac604b44fdca482fb753034cb55d1351', \n",
    "                     'f446bf3102ff4bd99ea1c98f7d2f7af0', 'c2c5d4b9a607487ea405a99c721079d4', '85ddd3c34c58407392953c47a32f5428', \n",
    "                     'd51de709f95045f8bacf473574b96ba5', '6373dfb8cb9b47e88e8f76adcfadde20', '313d003df34b4bd9823b3474fc93f9f9', \n",
    "                     '53e78583db87421f8decb529ba859ca4', '8fdc9b926a674a9ea07d91df2c5e06f2', '90480ac60a3d475a88fbdab0a003dd5d', \n",
    "                     '7559c3f880f341e898a402eba96a855d', '19a4c2cf718d40588eb96ac25a566353', 'f4427cccaa9442b48b42bedab5ab648e', \n",
    "                     'e192b8a00b6c422296851c93785deaf7', '355e25bdfc244c5e85d358e39432bd44', 'a0c3a7b410b24e18995f63369a31d123', \n",
    "                     '03a395b4d8614757bb8432b4984559b0', 'a2d48b05d5454d428c0841432c7467b6', '3d981e617b304afab0f21ce8aa6c9786', \n",
    "                     '2cd5668ac9054e2eb2c88bb4ed94bc6d', 'd7a732f4a8644bcbb8dedfc8be242fb2', '367eb90b929d4f6e9470d15c700d2e3f', \n",
    "                     'e049a7b2a6cb44259f907abbb44c5abc', 'a231added8674bef95092b32bc254ac8', 'e88a8f520dde445484c0a9395e1a0599',\n",
    "                     'cba570ae38f341faa6257342727377b7', '97953af1b97d4e268c52e1e54dcf421a', 'd200a61757d84b1dab8fbac35ff52c28', \n",
    "                     'fc68a5bb0a7b4b6386b3f08a69ead36f', '4a8210aec25e443391efb924cc0e5f23', '903742c353ce42c3ad9ab039fc418816', \n",
    "                     '2114e2a75304475fad06ad201948fbad', 'ac917eae407c4deb96625dd0dc2f2ba9', '3dddfb70e7cd40f18a63478654182e9a', \n",
    "                     'd3735ba212dd4c768e1675dca7bdcb6f', '7abe572148864412a33979592fa985fb', 'd3dff742d07942ca805c2f72e49e12c5' \n",
    "                     ]\n",
    "        \n",
    "        X_tr = data.loc[data.user_id.isin(train_ids), :]\n",
    "        X_te = data.loc[~data.user_id.isin(train_ids), :]\n",
    "        \n",
    "        return X_tr, X_te\n",
    "    \n",
    "    raise NotImplementedError(\"Unknown split type\")"
   ]
  },
  {
   "cell_type": "markdown",
   "metadata": {},
   "source": [
    "## Modeling"
   ]
  },
  {
   "cell_type": "code",
   "execution_count": 4,
   "metadata": {},
   "outputs": [
    {
     "name": "stderr",
     "output_type": "stream",
     "text": [
      "/var/folders/4x/l9lw50rn7qvf79m01f21x70mlpd6gh/T/ipykernel_76325/2274972291.py:4: DtypeWarning: Columns (38) have mixed types. Specify dtype option on import or set low_memory=False.\n",
      "  data = pd.read_csv('../data/ReplacedMode_Fix_02142024.csv')\n"
     ]
    }
   ],
   "source": [
    "# Read the data.\n",
    "# data = pd.read_csv('../data/FULL_preprocessed_data_RM_weather.csv')\n",
    "# data = pd.read_csv('../data/ReplacedMode_Fix.csv')\n",
    "data = pd.read_csv('../data/ReplacedMode_Fix_02142024.csv')"
   ]
  },
  {
   "cell_type": "code",
   "execution_count": 5,
   "metadata": {},
   "outputs": [],
   "source": [
    "if DROP_S_MICRO:\n",
    "    data.drop(\n",
    "        index=data.loc[data.target == 6, :].index,\n",
    "        inplace=True\n",
    "    )\n",
    "    \n",
    "    # Shift all values after 6 by -1\n",
    "    data.loc[data.target > 5, 'target'] -= 1"
   ]
  },
  {
   "cell_type": "code",
   "execution_count": 6,
   "metadata": {},
   "outputs": [],
   "source": [
    "data.drop_duplicates(inplace=True)"
   ]
  },
  {
   "cell_type": "code",
   "execution_count": 7,
   "metadata": {},
   "outputs": [],
   "source": [
    "def plot_hist(df, features=None):\n",
    "    if not features:\n",
    "        # All features.\n",
    "        features = df.columns.tolist()\n",
    "        \n",
    "    n_features = len(features)\n",
    "    \n",
    "    ncols = 6\n",
    "    nrows = n_features//ncols if n_features%ncols == 0 else (n_features//ncols) + 1\n",
    "    \n",
    "    fig, axes = plt.subplots(nrows=nrows, ncols=ncols, figsize=(10, 10))\n",
    "    for ix, ax in enumerate(axes.flatten()):\n",
    "        \n",
    "        if ix > n_features:\n",
    "            break\n",
    "        \n",
    "        df[features[ix]].hist(ax=ax)\n",
    "        ax.set(title=features[ix])\n",
    "    \n",
    "    plt.tight_layout()\n",
    "    plt.show()"
   ]
  },
  {
   "cell_type": "code",
   "execution_count": 8,
   "metadata": {},
   "outputs": [],
   "source": [
    "# First, we map the user IDs to ints.\n",
    "\n",
    "# USERS = list(data.user_id.unique())\n",
    "\n",
    "# USER_MAP = {\n",
    "#     u: i+1 for (i, u) in enumerate(USERS)\n",
    "# }\n",
    "\n",
    "# data['user_id'] = data['user_id'].apply(lambda x: USER_MAP[x])\n",
    "\n",
    "# data.rename(\n",
    "#     columns={'start_local_dt_weekday': 'start:DOW', 'end_local_dt_weekday': 'end:DOW'},\n",
    "#     inplace=True\n",
    "# )\n",
    "\n",
    "# Drop the samples with chosen == no trip or chosen == unknown\n",
    "# data.drop(index=data.loc[data.chosen.isin([2, 9])].index, inplace=True)\n",
    "\n",
    "# data.n_working_residents = data.n_working_residents.apply(lambda x: 0 if x < 0 else x)\n",
    "\n",
    "# Fix some age preprocessing issues.\n",
    "# data.age = data.age.apply(lambda x: x if x < 100 else 2024-x)\n",
    "\n",
    "# Collapse 'train' and 'bus' into 'transit'\n",
    "# data.loc[\n",
    "#     data.section_mode_argmax.isin(['train', 'bus']), 'section_mode_argmax'\n",
    "# ] = 'transit'"
   ]
  },
  {
   "cell_type": "code",
   "execution_count": 9,
   "metadata": {},
   "outputs": [],
   "source": [
    "# display(data.section_mode_argmax.value_counts())"
   ]
  },
  {
   "cell_type": "code",
   "execution_count": 10,
   "metadata": {},
   "outputs": [],
   "source": [
    "# transit = data.loc[data.section_mode_argmax == 'transit', :].copy()\n",
    "# transit['section_duration_argmax'] /= 60.\n",
    "\n",
    "# transit['mph'] = transit['section_distance_argmax']/transit['section_duration_argmax']\n",
    "\n",
    "# display(transit[['section_duration_argmax', 'section_distance_argmax', 'mph']].describe())"
   ]
  },
  {
   "cell_type": "code",
   "execution_count": 11,
   "metadata": {},
   "outputs": [],
   "source": [
    "# import plotly.express as px\n",
    "\n",
    "# sp = data.loc[data.section_mode_argmax.isin(['car', 'transit', 'walking']), :]\n",
    "# fig = px.line(sp, y='section_distance_argmax', color='section_mode_argmax')\n",
    "# fig.show()"
   ]
  },
  {
   "cell_type": "code",
   "execution_count": 12,
   "metadata": {},
   "outputs": [],
   "source": [
    "# Close the figure above.\n",
    "# plt.close()"
   ]
  },
  {
   "cell_type": "code",
   "execution_count": 13,
   "metadata": {},
   "outputs": [],
   "source": [
    "def get_duration_estimate(df: pd.DataFrame, dset: SPLIT, model_dict: dict):\n",
    "    \n",
    "    X_features = ['section_distance_argmax', 'age']\n",
    "    \n",
    "    if 'mph' in df.columns:\n",
    "        X_features += ['mph']\n",
    "    \n",
    "    if dset == SPLIT.TRAIN and model_dict is None:\n",
    "        model_dict = dict()\n",
    "    \n",
    "    if dset == SPLIT.TEST and model_dict is None:\n",
    "        raise AttributeError(\"Expected model dict for testing.\")\n",
    "    \n",
    "    if dset == SPLIT.TRAIN:\n",
    "        for section_mode in df.section_mode_argmax.unique():\n",
    "            section_data = df.loc[df.section_mode_argmax == section_mode, :]\n",
    "            if section_mode not in model_dict:\n",
    "                model_dict[section_mode] = dict()\n",
    "\n",
    "                model = LinearRegression(fit_intercept=True)\n",
    "\n",
    "                X = section_data[\n",
    "                    X_features\n",
    "                ]\n",
    "                Y = section_data[['section_duration_argmax']]\n",
    "\n",
    "                model.fit(X, Y.values.ravel())\n",
    "\n",
    "                r2 = r2_score(y_pred=model.predict(X), y_true=Y.values.ravel())\n",
    "                print(f\"Train R2 for {section_mode}: {r2}\")\n",
    "\n",
    "                model_dict[section_mode]['model'] = model\n",
    "                \n",
    "    elif dset == SPLIT.TEST:\n",
    "        for section_mode in df.section_mode_argmax.unique():\n",
    "            section_data = df.loc[df.section_mode_argmax == section_mode, :]\n",
    "            X = section_data[\n",
    "                X_features\n",
    "            ]\n",
    "            Y = section_data[['section_duration_argmax']]\n",
    "            \n",
    "            y_pred = model_dict[section_mode]['model'].predict(X)\n",
    "            r2 = r2_score(y_pred=y_pred, y_true=Y.values.ravel())\n",
    "            print(f\"Test R2 for {section_mode}: {r2}\")\n",
    "    \n",
    "    # Create the new columns for the duration.\n",
    "    new_columns = ['p_micro','no_trip','s_car','transit','car','s_micro','ridehail','walk','unknown']\n",
    "    df[new_columns] = 0\n",
    "    df['temp'] = 0\n",
    "    \n",
    "    for section in df.section_mode_argmax.unique():\n",
    "        X_section = df.loc[df.section_mode_argmax == section, X_features]\n",
    "        \n",
    "        # broadcast to all columns.\n",
    "        df.loc[df.section_mode_argmax == section, 'temp'] = model_dict[section]['model'].predict(X_section)\n",
    "    \n",
    "    for c in new_columns:\n",
    "        df[c] = df['av_' + c] * df['temp']\n",
    "    \n",
    "    df.drop(columns=['temp'], inplace=True)\n",
    "    \n",
    "    df.rename(columns=dict([(x, 'tt_'+x) for x in new_columns]), inplace=True)\n",
    "    \n",
    "    # return model_dict, result_df\n",
    "    return model_dict, df"
   ]
  },
  {
   "cell_type": "code",
   "execution_count": 14,
   "metadata": {},
   "outputs": [],
   "source": [
    "# Now, we split the data.\n",
    "train_data, test_data = get_train_test_splits(data=data, how=SPLIT_TYPE.INTER_USER)"
   ]
  },
  {
   "cell_type": "code",
   "execution_count": 15,
   "metadata": {},
   "outputs": [
    {
     "name": "stdout",
     "output_type": "stream",
     "text": [
      "0.7757575757575758\n",
      "0.8380486968449932\n"
     ]
    }
   ],
   "source": [
    "# If split is inter-user, we should verify test size.\n",
    "\n",
    "n_tr, n_te = len(train_data.user_id.unique()), len(test_data.user_id.unique())\n",
    "n_ex_tr, n_ex_te = train_data.shape[0], test_data.shape[0]\n",
    "\n",
    "print(n_tr/(n_tr+n_te))\n",
    "print(n_ex_tr/(n_ex_tr+n_ex_te))"
   ]
  },
  {
   "cell_type": "code",
   "execution_count": 16,
   "metadata": {},
   "outputs": [
    {
     "name": "stdout",
     "output_type": "stream",
     "text": [
      "['source', 'end_ts', 'end_fmt_time', 'end_loc', 'raw_trip', 'start_ts', 'start_fmt_time', 'start_loc', 'duration', 'distance', 'start_place', 'end_place', 'cleaned_trip', 'inferred_labels', 'inferred_trip', 'expectation', 'confidence_threshold', 'expected_trip', 'user_input', 'start:year', 'start:month', 'start:day', 'start:hour', 'start_local_dt_minute', 'start_local_dt_second', 'start_local_dt_weekday', 'start_local_dt_timezone', 'end:year', 'end:month', 'end:day', 'end:hour', 'end_local_dt_minute', 'end_local_dt_second', 'end_local_dt_weekday', 'end_local_dt_timezone', '_id', 'user_id', 'metadata_write_ts', 'additions', 'mode_confirm', 'purpose_confirm', 'distance_miles', 'Mode_confirm', 'Trip_purpose', 'original_user_id', 'program', 'opcode', 'Timestamp', 'birth_year', 'primary_job_commute_time', 'income_category', 'n_residence_members', 'n_residents_u18', 'n_residents_with_license', 'n_motor_vehicles', 'available_modes', 'age', 'gender_Man', 'gender_Man;Nonbinary/genderqueer/genderfluid', 'gender_Nonbinary/genderqueer/genderfluid', 'gender_Prefer not to say', 'gender_Woman', 'gender_Woman;Nonbinary/genderqueer/genderfluid', 'has_drivers_license_No', 'has_drivers_license_Prefer not to say', 'has_drivers_license_Yes', 'has_multiple_jobs_No', 'has_multiple_jobs_Prefer not to say', 'has_multiple_jobs_Yes', \"highest_education_Bachelor's degree\", 'highest_education_Graduate degree or professional degree', 'highest_education_High school graduate or GED', 'highest_education_Less than a high school graduate', 'highest_education_Prefer not to say', 'highest_education_Some college or associates degree', 'primary_job_type_Full-time', 'primary_job_type_Part-time', 'primary_job_type_Prefer not to say', 'primary_job_description_Clerical or administrative support', 'primary_job_description_Custodial', 'primary_job_description_Education', 'primary_job_description_Food service', 'primary_job_description_Manufacturing, construction, maintenance, or farming', 'primary_job_description_Medical/healthcare', 'primary_job_description_Other', 'primary_job_description_Professional, managerial, or technical', 'primary_job_description_Sales or service', 'primary_job_commute_mode_Active transport', 'primary_job_commute_mode_Car transport', 'primary_job_commute_mode_Hybrid', 'primary_job_commute_mode_Public transport', 'primary_job_commute_mode_Unknown', 'primary_job_commute_mode_WFH', 'is_overnight_trip', 'n_working_residents', 'start_lat', 'start_lng', 'end_lat', 'end_lng', 'temperature_2m (°F)', 'relative_humidity_2m (%)', 'dew_point_2m (°F)', 'rain (inch)', 'snowfall (inch)', 'wind_speed_10m (mp/h)', 'wind_gusts_10m (mp/h)', 'section_distance_argmax', 'section_duration_argmax', 'section_mode_argmax', 'section_coordinates_argmax', 'mph', 'target', 'av_s_micro', 'av_ridehail', 'av_unknown', 'av_car', 'av_transit', 'av_walk', 'av_s_car', 'av_no_trip', 'av_p_micro', 'cost_p_micro', 'cost_no_trip', 'cost_s_car', 'cost_transit', 'cost_car', 'cost_s_micro', 'cost_ridehail', 'cost_walk', 'cost_unknown']\n"
     ]
    }
   ],
   "source": [
    "print(train_data.columns.tolist())"
   ]
  },
  {
   "cell_type": "code",
   "execution_count": 17,
   "metadata": {},
   "outputs": [
    {
     "name": "stdout",
     "output_type": "stream",
     "text": [
      "Train R2 for bicycling: 0.9131217438269534\n",
      "Train R2 for transit: 0.7868655990732462\n",
      "Train R2 for car: 0.7673262331496208\n",
      "Train R2 for no_sensed: 0.6274006368569693\n",
      "Train R2 for walking: 0.6356687086293809\n"
     ]
    },
    {
     "name": "stderr",
     "output_type": "stream",
     "text": [
      "/var/folders/4x/l9lw50rn7qvf79m01f21x70mlpd6gh/T/ipykernel_76325/1465244600.py:48: SettingWithCopyWarning: \n",
      "A value is trying to be set on a copy of a slice from a DataFrame.\n",
      "Try using .loc[row_indexer,col_indexer] = value instead\n",
      "\n",
      "See the caveats in the documentation: https://pandas.pydata.org/pandas-docs/stable/user_guide/indexing.html#returning-a-view-versus-a-copy\n",
      "  df[new_columns] = 0\n",
      "/var/folders/4x/l9lw50rn7qvf79m01f21x70mlpd6gh/T/ipykernel_76325/1465244600.py:48: SettingWithCopyWarning: \n",
      "A value is trying to be set on a copy of a slice from a DataFrame.\n",
      "Try using .loc[row_indexer,col_indexer] = value instead\n",
      "\n",
      "See the caveats in the documentation: https://pandas.pydata.org/pandas-docs/stable/user_guide/indexing.html#returning-a-view-versus-a-copy\n",
      "  df[new_columns] = 0\n",
      "/var/folders/4x/l9lw50rn7qvf79m01f21x70mlpd6gh/T/ipykernel_76325/1465244600.py:48: SettingWithCopyWarning: \n",
      "A value is trying to be set on a copy of a slice from a DataFrame.\n",
      "Try using .loc[row_indexer,col_indexer] = value instead\n",
      "\n",
      "See the caveats in the documentation: https://pandas.pydata.org/pandas-docs/stable/user_guide/indexing.html#returning-a-view-versus-a-copy\n",
      "  df[new_columns] = 0\n",
      "/var/folders/4x/l9lw50rn7qvf79m01f21x70mlpd6gh/T/ipykernel_76325/1465244600.py:48: SettingWithCopyWarning: \n",
      "A value is trying to be set on a copy of a slice from a DataFrame.\n",
      "Try using .loc[row_indexer,col_indexer] = value instead\n",
      "\n",
      "See the caveats in the documentation: https://pandas.pydata.org/pandas-docs/stable/user_guide/indexing.html#returning-a-view-versus-a-copy\n",
      "  df[new_columns] = 0\n",
      "/var/folders/4x/l9lw50rn7qvf79m01f21x70mlpd6gh/T/ipykernel_76325/1465244600.py:48: SettingWithCopyWarning: \n",
      "A value is trying to be set on a copy of a slice from a DataFrame.\n",
      "Try using .loc[row_indexer,col_indexer] = value instead\n",
      "\n",
      "See the caveats in the documentation: https://pandas.pydata.org/pandas-docs/stable/user_guide/indexing.html#returning-a-view-versus-a-copy\n",
      "  df[new_columns] = 0\n",
      "/var/folders/4x/l9lw50rn7qvf79m01f21x70mlpd6gh/T/ipykernel_76325/1465244600.py:48: SettingWithCopyWarning: \n",
      "A value is trying to be set on a copy of a slice from a DataFrame.\n",
      "Try using .loc[row_indexer,col_indexer] = value instead\n",
      "\n",
      "See the caveats in the documentation: https://pandas.pydata.org/pandas-docs/stable/user_guide/indexing.html#returning-a-view-versus-a-copy\n",
      "  df[new_columns] = 0\n",
      "/var/folders/4x/l9lw50rn7qvf79m01f21x70mlpd6gh/T/ipykernel_76325/1465244600.py:48: SettingWithCopyWarning: \n",
      "A value is trying to be set on a copy of a slice from a DataFrame.\n",
      "Try using .loc[row_indexer,col_indexer] = value instead\n",
      "\n",
      "See the caveats in the documentation: https://pandas.pydata.org/pandas-docs/stable/user_guide/indexing.html#returning-a-view-versus-a-copy\n",
      "  df[new_columns] = 0\n",
      "/var/folders/4x/l9lw50rn7qvf79m01f21x70mlpd6gh/T/ipykernel_76325/1465244600.py:48: SettingWithCopyWarning: \n",
      "A value is trying to be set on a copy of a slice from a DataFrame.\n",
      "Try using .loc[row_indexer,col_indexer] = value instead\n",
      "\n",
      "See the caveats in the documentation: https://pandas.pydata.org/pandas-docs/stable/user_guide/indexing.html#returning-a-view-versus-a-copy\n",
      "  df[new_columns] = 0\n",
      "/var/folders/4x/l9lw50rn7qvf79m01f21x70mlpd6gh/T/ipykernel_76325/1465244600.py:48: SettingWithCopyWarning: \n",
      "A value is trying to be set on a copy of a slice from a DataFrame.\n",
      "Try using .loc[row_indexer,col_indexer] = value instead\n",
      "\n",
      "See the caveats in the documentation: https://pandas.pydata.org/pandas-docs/stable/user_guide/indexing.html#returning-a-view-versus-a-copy\n",
      "  df[new_columns] = 0\n",
      "/var/folders/4x/l9lw50rn7qvf79m01f21x70mlpd6gh/T/ipykernel_76325/1465244600.py:49: SettingWithCopyWarning: \n",
      "A value is trying to be set on a copy of a slice from a DataFrame.\n",
      "Try using .loc[row_indexer,col_indexer] = value instead\n",
      "\n",
      "See the caveats in the documentation: https://pandas.pydata.org/pandas-docs/stable/user_guide/indexing.html#returning-a-view-versus-a-copy\n",
      "  df['temp'] = 0\n",
      "/var/folders/4x/l9lw50rn7qvf79m01f21x70mlpd6gh/T/ipykernel_76325/1465244600.py:58: SettingWithCopyWarning: \n",
      "A value is trying to be set on a copy of a slice from a DataFrame.\n",
      "Try using .loc[row_indexer,col_indexer] = value instead\n",
      "\n",
      "See the caveats in the documentation: https://pandas.pydata.org/pandas-docs/stable/user_guide/indexing.html#returning-a-view-versus-a-copy\n",
      "  df[c] = df['av_' + c] * df['temp']\n",
      "/var/folders/4x/l9lw50rn7qvf79m01f21x70mlpd6gh/T/ipykernel_76325/1465244600.py:60: SettingWithCopyWarning: \n",
      "A value is trying to be set on a copy of a slice from a DataFrame\n",
      "\n",
      "See the caveats in the documentation: https://pandas.pydata.org/pandas-docs/stable/user_guide/indexing.html#returning-a-view-versus-a-copy\n",
      "  df.drop(columns=['temp'], inplace=True)\n",
      "/var/folders/4x/l9lw50rn7qvf79m01f21x70mlpd6gh/T/ipykernel_76325/1465244600.py:62: SettingWithCopyWarning: \n",
      "A value is trying to be set on a copy of a slice from a DataFrame\n",
      "\n",
      "See the caveats in the documentation: https://pandas.pydata.org/pandas-docs/stable/user_guide/indexing.html#returning-a-view-versus-a-copy\n",
      "  df.rename(columns=dict([(x, 'tt_'+x) for x in new_columns]), inplace=True)\n",
      "/var/folders/4x/l9lw50rn7qvf79m01f21x70mlpd6gh/T/ipykernel_76325/1465244600.py:48: SettingWithCopyWarning: \n",
      "A value is trying to be set on a copy of a slice from a DataFrame.\n",
      "Try using .loc[row_indexer,col_indexer] = value instead\n",
      "\n",
      "See the caveats in the documentation: https://pandas.pydata.org/pandas-docs/stable/user_guide/indexing.html#returning-a-view-versus-a-copy\n",
      "  df[new_columns] = 0\n",
      "/var/folders/4x/l9lw50rn7qvf79m01f21x70mlpd6gh/T/ipykernel_76325/1465244600.py:48: SettingWithCopyWarning: \n",
      "A value is trying to be set on a copy of a slice from a DataFrame.\n",
      "Try using .loc[row_indexer,col_indexer] = value instead\n",
      "\n",
      "See the caveats in the documentation: https://pandas.pydata.org/pandas-docs/stable/user_guide/indexing.html#returning-a-view-versus-a-copy\n",
      "  df[new_columns] = 0\n",
      "/var/folders/4x/l9lw50rn7qvf79m01f21x70mlpd6gh/T/ipykernel_76325/1465244600.py:48: SettingWithCopyWarning: \n",
      "A value is trying to be set on a copy of a slice from a DataFrame.\n",
      "Try using .loc[row_indexer,col_indexer] = value instead\n",
      "\n",
      "See the caveats in the documentation: https://pandas.pydata.org/pandas-docs/stable/user_guide/indexing.html#returning-a-view-versus-a-copy\n",
      "  df[new_columns] = 0\n",
      "/var/folders/4x/l9lw50rn7qvf79m01f21x70mlpd6gh/T/ipykernel_76325/1465244600.py:48: SettingWithCopyWarning: \n",
      "A value is trying to be set on a copy of a slice from a DataFrame.\n",
      "Try using .loc[row_indexer,col_indexer] = value instead\n",
      "\n",
      "See the caveats in the documentation: https://pandas.pydata.org/pandas-docs/stable/user_guide/indexing.html#returning-a-view-versus-a-copy\n",
      "  df[new_columns] = 0\n",
      "/var/folders/4x/l9lw50rn7qvf79m01f21x70mlpd6gh/T/ipykernel_76325/1465244600.py:48: SettingWithCopyWarning: \n",
      "A value is trying to be set on a copy of a slice from a DataFrame.\n",
      "Try using .loc[row_indexer,col_indexer] = value instead\n",
      "\n",
      "See the caveats in the documentation: https://pandas.pydata.org/pandas-docs/stable/user_guide/indexing.html#returning-a-view-versus-a-copy\n",
      "  df[new_columns] = 0\n",
      "/var/folders/4x/l9lw50rn7qvf79m01f21x70mlpd6gh/T/ipykernel_76325/1465244600.py:48: SettingWithCopyWarning: \n",
      "A value is trying to be set on a copy of a slice from a DataFrame.\n",
      "Try using .loc[row_indexer,col_indexer] = value instead\n",
      "\n",
      "See the caveats in the documentation: https://pandas.pydata.org/pandas-docs/stable/user_guide/indexing.html#returning-a-view-versus-a-copy\n",
      "  df[new_columns] = 0\n",
      "/var/folders/4x/l9lw50rn7qvf79m01f21x70mlpd6gh/T/ipykernel_76325/1465244600.py:48: SettingWithCopyWarning: \n",
      "A value is trying to be set on a copy of a slice from a DataFrame.\n",
      "Try using .loc[row_indexer,col_indexer] = value instead\n",
      "\n",
      "See the caveats in the documentation: https://pandas.pydata.org/pandas-docs/stable/user_guide/indexing.html#returning-a-view-versus-a-copy\n",
      "  df[new_columns] = 0\n",
      "/var/folders/4x/l9lw50rn7qvf79m01f21x70mlpd6gh/T/ipykernel_76325/1465244600.py:48: SettingWithCopyWarning: \n",
      "A value is trying to be set on a copy of a slice from a DataFrame.\n",
      "Try using .loc[row_indexer,col_indexer] = value instead\n",
      "\n",
      "See the caveats in the documentation: https://pandas.pydata.org/pandas-docs/stable/user_guide/indexing.html#returning-a-view-versus-a-copy\n",
      "  df[new_columns] = 0\n",
      "/var/folders/4x/l9lw50rn7qvf79m01f21x70mlpd6gh/T/ipykernel_76325/1465244600.py:48: SettingWithCopyWarning: \n",
      "A value is trying to be set on a copy of a slice from a DataFrame.\n",
      "Try using .loc[row_indexer,col_indexer] = value instead\n",
      "\n",
      "See the caveats in the documentation: https://pandas.pydata.org/pandas-docs/stable/user_guide/indexing.html#returning-a-view-versus-a-copy\n",
      "  df[new_columns] = 0\n",
      "/var/folders/4x/l9lw50rn7qvf79m01f21x70mlpd6gh/T/ipykernel_76325/1465244600.py:49: SettingWithCopyWarning: \n",
      "A value is trying to be set on a copy of a slice from a DataFrame.\n",
      "Try using .loc[row_indexer,col_indexer] = value instead\n",
      "\n",
      "See the caveats in the documentation: https://pandas.pydata.org/pandas-docs/stable/user_guide/indexing.html#returning-a-view-versus-a-copy\n",
      "  df['temp'] = 0\n",
      "/var/folders/4x/l9lw50rn7qvf79m01f21x70mlpd6gh/T/ipykernel_76325/1465244600.py:58: SettingWithCopyWarning: \n",
      "A value is trying to be set on a copy of a slice from a DataFrame.\n",
      "Try using .loc[row_indexer,col_indexer] = value instead\n",
      "\n",
      "See the caveats in the documentation: https://pandas.pydata.org/pandas-docs/stable/user_guide/indexing.html#returning-a-view-versus-a-copy\n",
      "  df[c] = df['av_' + c] * df['temp']\n",
      "/var/folders/4x/l9lw50rn7qvf79m01f21x70mlpd6gh/T/ipykernel_76325/1465244600.py:60: SettingWithCopyWarning: \n",
      "A value is trying to be set on a copy of a slice from a DataFrame\n",
      "\n",
      "See the caveats in the documentation: https://pandas.pydata.org/pandas-docs/stable/user_guide/indexing.html#returning-a-view-versus-a-copy\n",
      "  df.drop(columns=['temp'], inplace=True)\n",
      "/var/folders/4x/l9lw50rn7qvf79m01f21x70mlpd6gh/T/ipykernel_76325/1465244600.py:62: SettingWithCopyWarning: \n",
      "A value is trying to be set on a copy of a slice from a DataFrame\n",
      "\n",
      "See the caveats in the documentation: https://pandas.pydata.org/pandas-docs/stable/user_guide/indexing.html#returning-a-view-versus-a-copy\n",
      "  df.rename(columns=dict([(x, 'tt_'+x) for x in new_columns]), inplace=True)\n"
     ]
    },
    {
     "name": "stdout",
     "output_type": "stream",
     "text": [
      "----------\n",
      "Test R2 for bicycling: 0.9035643287707561\n",
      "Test R2 for transit: 0.41808445188600185\n",
      "Test R2 for car: 0.729524725154663\n",
      "Test R2 for no_sensed: 0.708585489321987\n",
      "Test R2 for walking: 0.6801138679986298\n"
     ]
    }
   ],
   "source": [
    "params, train_data = get_duration_estimate(train_data, SPLIT.TRAIN, None)\n",
    "print(10 * \"-\")\n",
    "_, test_data = get_duration_estimate(test_data, SPLIT.TEST, params)"
   ]
  },
  {
   "cell_type": "code",
   "execution_count": 18,
   "metadata": {},
   "outputs": [
    {
     "data": {
      "text/plain": [
       "((58650, 139), (11334, 139))"
      ]
     },
     "execution_count": 18,
     "metadata": {},
     "output_type": "execute_result"
    }
   ],
   "source": [
    "train_data.shape, test_data.shape"
   ]
  },
  {
   "cell_type": "code",
   "execution_count": 19,
   "metadata": {},
   "outputs": [],
   "source": [
    "# Some helper functions that will help ease redundancy in the code.\n",
    "\n",
    "def drop_columns(df: pd.DataFrame):\n",
    "    to_drop = [\n",
    "        'source', 'end_ts', 'end_fmt_time', 'end_loc', 'raw_trip', 'start_ts', \n",
    "        'start_fmt_time', 'start_loc', 'duration', 'distance', 'start_place', \n",
    "        'end_place', 'cleaned_trip', 'inferred_labels', 'inferred_trip', 'expectation',\n",
    "        'confidence_threshold', 'expected_trip', 'user_input', 'start:year', 'start:month', \n",
    "        'start:day', 'start_local_dt_minute', 'start_local_dt_second', \n",
    "        'start_local_dt_weekday', 'start_local_dt_timezone', 'end:year', 'end:month', 'end:day', \n",
    "        'end_local_dt_minute', 'end_local_dt_second', 'end_local_dt_weekday', \n",
    "        'end_local_dt_timezone', '_id', 'user_id', 'metadata_write_ts', 'additions', \n",
    "        'mode_confirm', 'purpose_confirm', 'Mode_confirm', 'Trip_purpose', \n",
    "        'original_user_id', 'program', 'opcode', 'Timestamp', 'birth_year', \n",
    "        'available_modes', 'section_coordinates_argmax', 'section_mode_argmax'\n",
    "    ]\n",
    "    \n",
    "    # Drop section_mode_argmax and available_modes.\n",
    "    return df.drop(\n",
    "        columns=to_drop, \n",
    "        inplace=False\n",
    "    )\n",
    "\n",
    "\n",
    "def scale_values(df: pd.DataFrame, split: SPLIT, scalers=None):\n",
    "    # Scale costs using StandardScaler.\n",
    "    costs = df[[c for c in df.columns if 'cost_' in c]].copy()\n",
    "    times = df[[c for c in df.columns if 'tt_' in c or 'duration' in c]].copy()\n",
    "    distances = df[[c for c in df.columns if 'distance' in c]]\n",
    "    \n",
    "    print(\n",
    "        \"Cost columns to be scaled: \", costs.columns,\"\\nTime columns to be scaled: \", times.columns, \\\n",
    "        \"\\nDistance columns to be scaled: \", distances.columns\n",
    "    )\n",
    "    \n",
    "    if split == SPLIT.TRAIN and scalers is None:\n",
    "        cost_scaler = StandardScaler()\n",
    "        tt_scaler = StandardScaler()\n",
    "        dist_scaler = StandardScaler()\n",
    "        \n",
    "        cost_scaled = pd.DataFrame(\n",
    "            cost_scaler.fit_transform(costs), \n",
    "            columns=costs.columns, \n",
    "            index=costs.index\n",
    "        )\n",
    "        \n",
    "        tt_scaled = pd.DataFrame(\n",
    "            tt_scaler.fit_transform(times),\n",
    "            columns=times.columns,\n",
    "            index=times.index\n",
    "        )\n",
    "        \n",
    "        dist_scaled = pd.DataFrame(\n",
    "            dist_scaler.fit_transform(distances),\n",
    "            columns=distances.columns,\n",
    "            index=distances.index\n",
    "        )\n",
    "    \n",
    "    elif split == SPLIT.TEST and scalers is not None:\n",
    "        \n",
    "        cost_scaler, tt_scaler, dist_scaler = scalers\n",
    "        \n",
    "        cost_scaled = pd.DataFrame(\n",
    "            cost_scaler.transform(costs), \n",
    "            columns=costs.columns, \n",
    "            index=costs.index\n",
    "        )\n",
    "        \n",
    "        tt_scaled = pd.DataFrame(\n",
    "            tt_scaler.transform(times), \n",
    "            columns=times.columns, \n",
    "            index=times.index\n",
    "        )\n",
    "        \n",
    "        dist_scaled = pd.DataFrame(\n",
    "            dist_scaler.transform(distances),\n",
    "            columns=distances.columns,\n",
    "            index=distances.index\n",
    "        )\n",
    "        \n",
    "    else:\n",
    "        raise NotImplementedError(\"Unknown split\")\n",
    "    \n",
    "    # Drop the original columns.\n",
    "    df.drop(\n",
    "        columns=costs.columns.tolist() + times.columns.tolist() + distances.columns.tolist(), \n",
    "        inplace=True\n",
    "    )\n",
    "    \n",
    "    df = df.merge(right=cost_scaled, left_index=True, right_index=True)\n",
    "    df = df.merge(right=tt_scaled, left_index=True, right_index=True)\n",
    "    df = df.merge(right=dist_scaled, left_index=True, right_index=True)\n",
    "    \n",
    "    return df, (cost_scaler, tt_scaler, dist_scaler)"
   ]
  },
  {
   "cell_type": "code",
   "execution_count": 20,
   "metadata": {},
   "outputs": [],
   "source": [
    "# First, drop columns.\n",
    "\n",
    "train_data = drop_columns(train_data)\n",
    "\n",
    "# Scale cost.\n",
    "# train_data, scalers = scale_values(train_data, SPLIT.TRAIN, None)"
   ]
  },
  {
   "cell_type": "code",
   "execution_count": 21,
   "metadata": {},
   "outputs": [],
   "source": [
    "test_data = drop_columns(test_data)\n",
    "\n",
    "# Scale cost.\n",
    "# test_data, _ = scale_values(test_data, SPLIT.TEST, scalers)"
   ]
  },
  {
   "cell_type": "code",
   "execution_count": 22,
   "metadata": {},
   "outputs": [
    {
     "name": "stdout",
     "output_type": "stream",
     "text": [
      "Index(['start:hour', 'end:hour', 'distance_miles', 'primary_job_commute_time',\n",
      "       'income_category', 'n_residence_members', 'n_residents_u18',\n",
      "       'n_residents_with_license', 'n_motor_vehicles', 'age', 'gender_Man',\n",
      "       'gender_Man;Nonbinary/genderqueer/genderfluid',\n",
      "       'gender_Nonbinary/genderqueer/genderfluid', 'gender_Prefer not to say',\n",
      "       'gender_Woman', 'gender_Woman;Nonbinary/genderqueer/genderfluid',\n",
      "       'has_drivers_license_No', 'has_drivers_license_Prefer not to say',\n",
      "       'has_drivers_license_Yes', 'has_multiple_jobs_No',\n",
      "       'has_multiple_jobs_Prefer not to say', 'has_multiple_jobs_Yes',\n",
      "       'highest_education_Bachelor's degree',\n",
      "       'highest_education_Graduate degree or professional degree',\n",
      "       'highest_education_High school graduate or GED',\n",
      "       'highest_education_Less than a high school graduate',\n",
      "       'highest_education_Prefer not to say',\n",
      "       'highest_education_Some college or associates degree',\n",
      "       'primary_job_type_Full-time', 'primary_job_type_Part-time',\n",
      "       'primary_job_type_Prefer not to say',\n",
      "       'primary_job_description_Clerical or administrative support',\n",
      "       'primary_job_description_Custodial',\n",
      "       'primary_job_description_Education',\n",
      "       'primary_job_description_Food service',\n",
      "       'primary_job_description_Manufacturing, construction, maintenance, or farming',\n",
      "       'primary_job_description_Medical/healthcare',\n",
      "       'primary_job_description_Other',\n",
      "       'primary_job_description_Professional, managerial, or technical',\n",
      "       'primary_job_description_Sales or service',\n",
      "       'primary_job_commute_mode_Active transport',\n",
      "       'primary_job_commute_mode_Car transport',\n",
      "       'primary_job_commute_mode_Hybrid',\n",
      "       'primary_job_commute_mode_Public transport',\n",
      "       'primary_job_commute_mode_Unknown', 'primary_job_commute_mode_WFH',\n",
      "       'is_overnight_trip', 'n_working_residents', 'start_lat', 'start_lng',\n",
      "       'end_lat', 'end_lng', 'temperature_2m (°F)', 'relative_humidity_2m (%)',\n",
      "       'dew_point_2m (°F)', 'rain (inch)', 'snowfall (inch)',\n",
      "       'wind_speed_10m (mp/h)', 'wind_gusts_10m (mp/h)',\n",
      "       'section_distance_argmax', 'section_duration_argmax', 'mph', 'target',\n",
      "       'av_s_micro', 'av_ridehail', 'av_unknown', 'av_car', 'av_transit',\n",
      "       'av_walk', 'av_s_car', 'av_no_trip', 'av_p_micro', 'cost_p_micro',\n",
      "       'cost_no_trip', 'cost_s_car', 'cost_transit', 'cost_car',\n",
      "       'cost_s_micro', 'cost_ridehail', 'cost_walk', 'cost_unknown',\n",
      "       'tt_p_micro', 'tt_no_trip', 'tt_s_car', 'tt_transit', 'tt_car',\n",
      "       'tt_s_micro', 'tt_ridehail', 'tt_walk', 'tt_unknown'],\n",
      "      dtype='object')\n"
     ]
    }
   ],
   "source": [
    "print(train_data.columns)"
   ]
  },
  {
   "cell_type": "code",
   "execution_count": 23,
   "metadata": {},
   "outputs": [
    {
     "data": {
      "text/plain": [
       "8"
      ]
     },
     "execution_count": 23,
     "metadata": {},
     "output_type": "execute_result"
    }
   ],
   "source": [
    "len(train_data.target.unique())"
   ]
  },
  {
   "cell_type": "code",
   "execution_count": 24,
   "metadata": {},
   "outputs": [],
   "source": [
    "# train_data.to_csv('../data/train.csv', index=False)\n",
    "# test_data.to_csv('../data/test.csv', index=False)"
   ]
  },
  {
   "cell_type": "code",
   "execution_count": 25,
   "metadata": {},
   "outputs": [],
   "source": [
    "from sklearn.metrics import classification_report\n",
    "from sklearn.model_selection import GridSearchCV, StratifiedKFold\n",
    "from pprint import pprint\n",
    "from sklearn.inspection import permutation_importance\n",
    "from time import perf_counter"
   ]
  },
  {
   "cell_type": "markdown",
   "metadata": {},
   "source": [
    "## Random Forest classifier"
   ]
  },
  {
   "cell_type": "code",
   "execution_count": 35,
   "metadata": {},
   "outputs": [],
   "source": [
    "CV = False\n",
    "SAVE_MODEL = True"
   ]
  },
  {
   "cell_type": "code",
   "execution_count": 36,
   "metadata": {},
   "outputs": [],
   "source": [
    "from sklearn.ensemble import RandomForestClassifier\n",
    "\n",
    "# exp question - compute sample weights using user_id.\n",
    "\n",
    "rf_train = train_data.drop(columns=['target', \n",
    "                                    'start_lat', 'start_lng', 'end_lat', 'end_lng'\n",
    "                                   ])\n",
    "rf_test = test_data.drop(columns=['target', \n",
    "                                  'start_lat', 'start_lng', 'end_lat', 'end_lng'\n",
    "                                 ])\n",
    "\n",
    "if CV:\n",
    "\n",
    "    model = RandomForestClassifier(random_state=SEED)\n",
    "\n",
    "    # We want to build bootstrapped trees that would not always use all the features.\n",
    "\n",
    "    param_set2 = {\n",
    "        'n_estimators': [150, 200, 250, 300],\n",
    "        'min_samples_split': [2, 3, 4],\n",
    "        'min_samples_leaf': [1, 2, 3],\n",
    "        'class_weight': ['balanced_subsample'],\n",
    "        'max_features': [None, 'sqrt'],\n",
    "        'bootstrap': [True]\n",
    "    }\n",
    "\n",
    "    cv_set2 = StratifiedKFold(n_splits=3, shuffle=True, random_state=SEED)\n",
    "\n",
    "    clf_set2 = GridSearchCV(model, param_set2, cv=cv_set2, n_jobs=-1, scoring='f1_weighted', verbose=1)\n",
    "\n",
    "    start = perf_counter()\n",
    "\n",
    "    clf_set2.fit(\n",
    "        rf_train,\n",
    "        train_data.target.values.ravel()\n",
    "    )\n",
    "\n",
    "    time_req = (perf_counter() - start)/60.\n",
    "\n",
    "    best_model = clf_set2.best_estimator_\n",
    "else:\n",
    "    best_model = RandomForestClassifier(\n",
    "        n_estimators=150,\n",
    "        max_depth=None,\n",
    "        min_samples_leaf=2,\n",
    "        bootstrap=True,\n",
    "        class_weight='balanced_subsample',\n",
    "        random_state=SEED,\n",
    "        n_jobs=-1\n",
    "    ).fit(rf_train, train_data.target.values.ravel())"
   ]
  },
  {
   "cell_type": "code",
   "execution_count": 37,
   "metadata": {},
   "outputs": [
    {
     "data": {
      "text/html": [
       "<style>#sk-container-id-1 {color: black;background-color: white;}#sk-container-id-1 pre{padding: 0;}#sk-container-id-1 div.sk-toggleable {background-color: white;}#sk-container-id-1 label.sk-toggleable__label {cursor: pointer;display: block;width: 100%;margin-bottom: 0;padding: 0.3em;box-sizing: border-box;text-align: center;}#sk-container-id-1 label.sk-toggleable__label-arrow:before {content: \"▸\";float: left;margin-right: 0.25em;color: #696969;}#sk-container-id-1 label.sk-toggleable__label-arrow:hover:before {color: black;}#sk-container-id-1 div.sk-estimator:hover label.sk-toggleable__label-arrow:before {color: black;}#sk-container-id-1 div.sk-toggleable__content {max-height: 0;max-width: 0;overflow: hidden;text-align: left;background-color: #f0f8ff;}#sk-container-id-1 div.sk-toggleable__content pre {margin: 0.2em;color: black;border-radius: 0.25em;background-color: #f0f8ff;}#sk-container-id-1 input.sk-toggleable__control:checked~div.sk-toggleable__content {max-height: 200px;max-width: 100%;overflow: auto;}#sk-container-id-1 input.sk-toggleable__control:checked~label.sk-toggleable__label-arrow:before {content: \"▾\";}#sk-container-id-1 div.sk-estimator input.sk-toggleable__control:checked~label.sk-toggleable__label {background-color: #d4ebff;}#sk-container-id-1 div.sk-label input.sk-toggleable__control:checked~label.sk-toggleable__label {background-color: #d4ebff;}#sk-container-id-1 input.sk-hidden--visually {border: 0;clip: rect(1px 1px 1px 1px);clip: rect(1px, 1px, 1px, 1px);height: 1px;margin: -1px;overflow: hidden;padding: 0;position: absolute;width: 1px;}#sk-container-id-1 div.sk-estimator {font-family: monospace;background-color: #f0f8ff;border: 1px dotted black;border-radius: 0.25em;box-sizing: border-box;margin-bottom: 0.5em;}#sk-container-id-1 div.sk-estimator:hover {background-color: #d4ebff;}#sk-container-id-1 div.sk-parallel-item::after {content: \"\";width: 100%;border-bottom: 1px solid gray;flex-grow: 1;}#sk-container-id-1 div.sk-label:hover label.sk-toggleable__label {background-color: #d4ebff;}#sk-container-id-1 div.sk-serial::before {content: \"\";position: absolute;border-left: 1px solid gray;box-sizing: border-box;top: 0;bottom: 0;left: 50%;z-index: 0;}#sk-container-id-1 div.sk-serial {display: flex;flex-direction: column;align-items: center;background-color: white;padding-right: 0.2em;padding-left: 0.2em;position: relative;}#sk-container-id-1 div.sk-item {position: relative;z-index: 1;}#sk-container-id-1 div.sk-parallel {display: flex;align-items: stretch;justify-content: center;background-color: white;position: relative;}#sk-container-id-1 div.sk-item::before, #sk-container-id-1 div.sk-parallel-item::before {content: \"\";position: absolute;border-left: 1px solid gray;box-sizing: border-box;top: 0;bottom: 0;left: 50%;z-index: -1;}#sk-container-id-1 div.sk-parallel-item {display: flex;flex-direction: column;z-index: 1;position: relative;background-color: white;}#sk-container-id-1 div.sk-parallel-item:first-child::after {align-self: flex-end;width: 50%;}#sk-container-id-1 div.sk-parallel-item:last-child::after {align-self: flex-start;width: 50%;}#sk-container-id-1 div.sk-parallel-item:only-child::after {width: 0;}#sk-container-id-1 div.sk-dashed-wrapped {border: 1px dashed gray;margin: 0 0.4em 0.5em 0.4em;box-sizing: border-box;padding-bottom: 0.4em;background-color: white;}#sk-container-id-1 div.sk-label label {font-family: monospace;font-weight: bold;display: inline-block;line-height: 1.2em;}#sk-container-id-1 div.sk-label-container {text-align: center;}#sk-container-id-1 div.sk-container {/* jupyter's `normalize.less` sets `[hidden] { display: none; }` but bootstrap.min.css set `[hidden] { display: none !important; }` so we also need the `!important` here to be able to override the default hidden behavior on the sphinx rendered scikit-learn.org. See: https://github.com/scikit-learn/scikit-learn/issues/21755 */display: inline-block !important;position: relative;}#sk-container-id-1 div.sk-text-repr-fallback {display: none;}</style><div id=\"sk-container-id-1\" class=\"sk-top-container\"><div class=\"sk-text-repr-fallback\"><pre>RandomForestClassifier(class_weight=&#x27;balanced_subsample&#x27;, min_samples_leaf=2,\n",
       "                       n_estimators=150, n_jobs=-1, random_state=19348)</pre><b>In a Jupyter environment, please rerun this cell to show the HTML representation or trust the notebook. <br />On GitHub, the HTML representation is unable to render, please try loading this page with nbviewer.org.</b></div><div class=\"sk-container\" hidden><div class=\"sk-item\"><div class=\"sk-estimator sk-toggleable\"><input class=\"sk-toggleable__control sk-hidden--visually\" id=\"sk-estimator-id-1\" type=\"checkbox\" checked><label for=\"sk-estimator-id-1\" class=\"sk-toggleable__label sk-toggleable__label-arrow\">RandomForestClassifier</label><div class=\"sk-toggleable__content\"><pre>RandomForestClassifier(class_weight=&#x27;balanced_subsample&#x27;, min_samples_leaf=2,\n",
       "                       n_estimators=150, n_jobs=-1, random_state=19348)</pre></div></div></div></div></div>"
      ],
      "text/plain": [
       "RandomForestClassifier(class_weight='balanced_subsample', min_samples_leaf=2,\n",
       "                       n_estimators=150, n_jobs=-1, random_state=19348)"
      ]
     },
     "execution_count": 37,
     "metadata": {},
     "output_type": "execute_result"
    }
   ],
   "source": [
    "best_model"
   ]
  },
  {
   "cell_type": "code",
   "execution_count": 38,
   "metadata": {},
   "outputs": [],
   "source": [
    "tr_f1_set2 = f1_score(\n",
    "    y_true=train_data.target.values,\n",
    "    y_pred=best_model.predict(rf_train),\n",
    "    average='weighted'\n",
    ")"
   ]
  },
  {
   "cell_type": "code",
   "execution_count": 39,
   "metadata": {},
   "outputs": [],
   "source": [
    "te_f1_set2 = f1_score(\n",
    "    y_true=test_data.target.values,\n",
    "    y_pred=best_model.predict(rf_test),\n",
    "    average='weighted'\n",
    ")"
   ]
  },
  {
   "cell_type": "code",
   "execution_count": 40,
   "metadata": {},
   "outputs": [
    {
     "name": "stdout",
     "output_type": "stream",
     "text": [
      "[BOOTSTRAPPED] | Train F1: 0.9429078702826239, Test F1: 0.3260387751184679\n"
     ]
    }
   ],
   "source": [
    "# Without location:\n",
    "#.  intra-user split:\n",
    "#   [BOOTSTRAPPED] | Train F1: 0.9983454261487021, Test F1: 0.7192048995905516\n",
    "#   if stratified by section_mode_argmax:\n",
    "#   [BOOTSTRAPPED] | Train F1: 0.9987250576328509, Test F1: 0.7242573620109232\n",
    "\n",
    "# With location:\n",
    "# [BOOTSTRAPPED] | Train F1: 0.9992402006853468, Test F1: 0.7654135199070202\n",
    "\n",
    "print(f\"[BOOTSTRAPPED] | Train F1: {tr_f1_set2}, Test F1: {te_f1_set2}\")"
   ]
  },
  {
   "cell_type": "code",
   "execution_count": 31,
   "metadata": {},
   "outputs": [],
   "source": [
    "if SAVE_MODEL:\n",
    "\n",
    "    import pickle\n",
    "\n",
    "    with open('../models/tuned_rf_model.pkl', 'wb') as f:\n",
    "        f.write(pickle.dumps(best_model))"
   ]
  },
  {
   "cell_type": "code",
   "execution_count": 41,
   "metadata": {},
   "outputs": [
    {
     "name": "stdout",
     "output_type": "stream",
     "text": [
      "[('primary_job_commute_time', 0.03656116744063983),\n",
      " ('distance_miles', 0.03384896885706385),\n",
      " ('mph', 0.03365824428294463),\n",
      " ('cost_transit', 0.03351839132356644),\n",
      " ('income_category', 0.03327663593086925),\n",
      " ('age', 0.03320140844541059),\n",
      " ('dew_point_2m (°F)', 0.03174850829935579),\n",
      " ('section_distance_argmax', 0.0316844184072864),\n",
      " ('temperature_2m (°F)', 0.031062635841221802),\n",
      " ('n_motor_vehicles', 0.02809262054525041),\n",
      " ('cost_s_car', 0.02590076039294508),\n",
      " ('cost_ridehail', 0.02390316297823517),\n",
      " ('section_duration_argmax', 0.023124663088762328),\n",
      " ('n_residents_with_license', 0.022957697145547393),\n",
      " ('tt_p_micro', 0.022799905074206473),\n",
      " ('tt_transit', 0.02231532316999558),\n",
      " ('relative_humidity_2m (%)', 0.02223392911205542),\n",
      " ('tt_walk', 0.02156031560995313),\n",
      " ('end:hour', 0.02127261764701738),\n",
      " ('start:hour', 0.02113307125915479),\n",
      " ('cost_car', 0.02069943868032831),\n",
      " ('primary_job_commute_mode_Car transport', 0.020695999999399473),\n",
      " ('n_residence_members', 0.02039769915552014),\n",
      " ('wind_gusts_10m (mp/h)', 0.020371151744672206),\n",
      " ('wind_speed_10m (mp/h)', 0.0202171294903448),\n",
      " ('n_working_residents', 0.019856756085641247),\n",
      " ('tt_s_car', 0.018478958407386708),\n",
      " ('tt_car', 0.017174957078456614),\n",
      " ('tt_ridehail', 0.01676576006316021),\n",
      " ('cost_s_micro', 0.014284462066383688),\n",
      " ('primary_job_description_Sales or service', 0.012984251205446487),\n",
      " ('n_residents_u18', 0.011854045241279415),\n",
      " ('tt_s_micro', 0.011691299016354224),\n",
      " ('primary_job_commute_mode_Public transport', 0.011604917446563265),\n",
      " ('primary_job_commute_mode_Active transport', 0.011563480793645827),\n",
      " ('gender_Woman', 0.011263214031603247),\n",
      " ('highest_education_High school graduate or GED', 0.010576049151755485),\n",
      " ('highest_education_Some college or associates degree', 0.01020534553535622),\n",
      " ('av_transit', 0.009289915096852685),\n",
      " ('primary_job_type_Full-time', 0.009228727317286755),\n",
      " ('primary_job_description_Clerical or administrative support',\n",
      "  0.009038264768764997),\n",
      " ('primary_job_type_Part-time', 0.008895929760766197),\n",
      " ('av_p_micro', 0.00863641893397233),\n",
      " ('gender_Man', 0.008452778636530149),\n",
      " ('primary_job_description_Professional, managerial, or technical',\n",
      "  0.008401553611939554),\n",
      " ('has_drivers_license_Yes', 0.007324804786898662),\n",
      " ('primary_job_description_Manufacturing, construction, maintenance, or '\n",
      "  'farming',\n",
      "  0.007086900844546432),\n",
      " ('av_walk', 0.0065497221649774935),\n",
      " ('primary_job_description_Education', 0.0062592730468462535),\n",
      " ('has_drivers_license_No', 0.0061996065304084184),\n",
      " (\"highest_education_Bachelor's degree\", 0.006032319692096047),\n",
      " ('has_multiple_jobs_Yes', 0.005882443681020677),\n",
      " ('has_multiple_jobs_No', 0.005335658287831361),\n",
      " ('av_s_micro', 0.005050550371666917),\n",
      " ('av_car', 0.004728243532015504),\n",
      " ('highest_education_Graduate degree or professional degree',\n",
      "  0.004642958375833981),\n",
      " ('gender_Woman;Nonbinary/genderqueer/genderfluid', 0.00421330092341653),\n",
      " ('primary_job_description_Custodial', 0.003419042865152697),\n",
      " ('av_s_car', 0.0033783136347606295),\n",
      " ('av_ridehail', 0.0027666404305310257),\n",
      " ('gender_Nonbinary/genderqueer/genderfluid', 0.0026293269089904046),\n",
      " ('highest_education_Prefer not to say', 0.002504632146302557),\n",
      " ('primary_job_description_Food service', 0.002417226793032642),\n",
      " ('primary_job_description_Medical/healthcare', 0.002318202110078709),\n",
      " ('primary_job_type_Prefer not to say', 0.0018874661300219261),\n",
      " ('tt_unknown', 0.0017189591933169184),\n",
      " ('primary_job_description_Other', 0.0016913655476757901),\n",
      " ('rain (inch)', 0.0014573980261950155),\n",
      " ('has_drivers_license_Prefer not to say', 0.0012507320988533646),\n",
      " ('primary_job_commute_mode_WFH', 0.0010339629984452642),\n",
      " ('av_unknown', 0.0009490470975242473),\n",
      " ('highest_education_Less than a high school graduate', 0.0009240966799280463),\n",
      " ('has_multiple_jobs_Prefer not to say', 0.0009222062920680996),\n",
      " ('snowfall (inch)', 0.0009015378230446266),\n",
      " ('primary_job_commute_mode_Hybrid', 0.0008805253765039911),\n",
      " ('gender_Man;Nonbinary/genderqueer/genderfluid', 0.0005723629022594494),\n",
      " ('primary_job_commute_mode_Unknown', 0.0005385851614091888),\n",
      " ('gender_Prefer not to say', 3.0396144453361146e-05),\n",
      " ('tt_no_trip', 1.0172431126169753e-05),\n",
      " ('av_no_trip', 9.070799875677394e-06),\n",
      " ('is_overnight_trip', 0.0),\n",
      " ('cost_p_micro', 0.0),\n",
      " ('cost_no_trip', 0.0),\n",
      " ('cost_walk', 0.0),\n",
      " ('cost_unknown', 0.0)]\n"
     ]
    }
   ],
   "source": [
    "# Feature importances - gini entropy\n",
    "\n",
    "pprint(\n",
    "    sorted(\n",
    "        zip(\n",
    "            best_model.feature_names_in_, \n",
    "            best_model.feature_importances_\n",
    "        ), \n",
    "        key=lambda x: x[-1], reverse=True\n",
    "    )\n",
    ")"
   ]
  },
  {
   "cell_type": "code",
   "execution_count": 32,
   "metadata": {},
   "outputs": [],
   "source": [
    "# importance = permutation_importance(\n",
    "#     best_model,\n",
    "#     rf_test,\n",
    "#     test_data.target.values,\n",
    "#     n_repeats=5,\n",
    "#     random_state=SEED,\n",
    "#     n_jobs=-1,\n",
    "#     scoring='f1_weighted'\n",
    "# )"
   ]
  },
  {
   "cell_type": "code",
   "execution_count": 33,
   "metadata": {},
   "outputs": [],
   "source": [
    "# pd.DataFrame(\n",
    "#     {\n",
    "#         'feature names': test_data.columns.delete(\n",
    "#             test_data.columns.isin(['target'])\n",
    "#         ),\n",
    "#         'imp_mean': importance.importances_mean, \n",
    "#         'imp_std': importance.importances_std\n",
    "#     }\n",
    "# ).sort_values(by=['imp_mean'], axis='rows', ascending=False).head(20)"
   ]
  },
  {
   "cell_type": "code",
   "execution_count": 34,
   "metadata": {},
   "outputs": [],
   "source": [
    "# fig, ax = plt.subplots(nrows=1, ncols=2)\n",
    "y_pred = best_model.predict(rf_test)\n",
    "pred_df = pd.DataFrame(\n",
    "    {\n",
    "        'y_pred': y_pred.ravel(),\n",
    "        'y_true': test_data.target.values.ravel()\n",
    "    }\n",
    ")"
   ]
  },
  {
   "cell_type": "code",
   "execution_count": 35,
   "metadata": {},
   "outputs": [
    {
     "data": {
      "image/png": "[encoded data removed]",
      "text/plain": [
       "<Figure size 700x700 with 2 Axes>"
      ]
     },
     "metadata": {},
     "output_type": "display_data"
    }
   ],
   "source": [
    "fig, ax = plt.subplots(figsize=(7, 7))\n",
    "cm = ConfusionMatrixDisplay.from_estimator(\n",
    "    best_model,\n",
    "    X=rf_test,\n",
    "    y=test_data[['target']],\n",
    "    ax=ax\n",
    ")\n",
    "# ax.set_xticklabels(TARGETS, rotation=45)\n",
    "# ax.set_yticklabels(TARGETS)\n",
    "fig.tight_layout()\n",
    "plt.show()"
   ]
  },
  {
   "cell_type": "code",
   "execution_count": 36,
   "metadata": {},
   "outputs": [
    {
     "name": "stdout",
     "output_type": "stream",
     "text": [
      "              precision    recall  f1-score   support\n",
      "\n",
      "           1       0.71      0.73      0.72      1087\n",
      "           2       0.78      0.74      0.76      3358\n",
      "           3       0.61      0.59      0.60      1690\n",
      "           4       0.53      0.61      0.57       565\n",
      "           5       0.79      0.76      0.77      4288\n",
      "           6       0.57      0.65      0.61       348\n",
      "           7       0.65      0.73      0.69      1351\n",
      "           8       0.77      0.82      0.79      1310\n",
      "\n",
      "    accuracy                           0.73     13997\n",
      "   macro avg       0.68      0.70      0.69     13997\n",
      "weighted avg       0.73      0.73      0.73     13997\n",
      "\n"
     ]
    }
   ],
   "source": [
    "# print(classification_report(y_true=pred_df.y_true, y_pred=pred_df.y_pred, target_names=TARGETS))\n",
    "print(classification_report(y_true=pred_df.y_true, y_pred=pred_df.y_pred))"
   ]
  },
  {
   "cell_type": "markdown",
   "metadata": {},
   "source": [
    "## XGBoost"
   ]
  },
  {
   "cell_type": "code",
   "execution_count": 37,
   "metadata": {},
   "outputs": [],
   "source": [
    "# from sklearn.utils.class_weight import compute_sample_weight\n",
    "\n",
    "# sample_weights = compute_sample_weight(class_weight='balanced', y=train_data.user_id.values.ravel())"
   ]
  },
  {
   "cell_type": "code",
   "execution_count": 38,
   "metadata": {},
   "outputs": [],
   "source": [
    "# from xgboost import XGBClassifier\n",
    "\n",
    "# y_train = train_data.target.values.ravel() - 1\n",
    "# y_test = test_data.target.values.ravel() - 1\n",
    "\n",
    "# # weights = compute_class_weight(class_weight='balanced', classes=np.unique(y_pred), y_pred)\n",
    "\n",
    "# xgm = XGBClassifier(\n",
    "#     n_estimators=300,\n",
    "#     max_depth=None,\n",
    "#     tree_method='hist',\n",
    "#     objective='multi:softmax',\n",
    "#     num_class=9\n",
    "# ).fit(rf_train, y_train)"
   ]
  },
  {
   "cell_type": "code",
   "execution_count": 39,
   "metadata": {},
   "outputs": [],
   "source": [
    "# preds = xgm.predict(rf_test)\n",
    "\n",
    "# print(classification_report(y_true=y_test, y_pred=preds, target_names=TARGETS))"
   ]
  },
  {
   "cell_type": "code",
   "execution_count": 40,
   "metadata": {},
   "outputs": [],
   "source": [
    "# import pickle\n",
    "\n",
    "# # RF_RM.pkl = 0.8625 on test.\n",
    "# # RF_RM_1.pkl = 0.77 on test.\n",
    "# with open('../models/RF_RM_1.pkl', 'wb') as f:\n",
    "#     f.write(pickle.dumps(model))"
   ]
  },
  {
   "cell_type": "markdown",
   "metadata": {},
   "source": [
    "## TODO:\n",
    "\n",
    "\n",
    "- Explain why location might not be a good feature to add (plot start and end on map and explain how model might just overfit to the raw coordinates)\n",
    "- Merge `unknown` and `no_trip` into one category and validate against models trained on (a) separate labels (b) dropped labels\n",
    "- Explore more of the abnormal `walking` trips"
   ]
  },
  {
   "cell_type": "code",
   "execution_count": null,
   "metadata": {},
   "outputs": [],
   "source": []
  }
 ],
 "metadata": {
  "interpreter": {
   "hash": "ab0c6e94c9422d07d42069ec9e3bb23090f5e156fc0e23cc25ca45a62375bf53"
  },
  "kernelspec": {
   "display_name": "emission",
   "language": "python",
   "name": "emission"
  },
  "language_info": {
   "codemirror_mode": {
    "name": "ipython",
    "version": 3
   },
   "file_extension": ".py",
   "mimetype": "text/x-python",
   "name": "python",
   "nbconvert_exporter": "python",
   "pygments_lexer": "ipython3",
   "version": "3.9.16"
  }
 },
 "nbformat": 4,
 "nbformat_minor": 4
}
