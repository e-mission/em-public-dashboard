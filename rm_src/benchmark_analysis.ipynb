{
 "cells": [
  {
   "cell_type": "code",
   "execution_count": 1,
   "id": "269547d8",
   "metadata": {},
   "outputs": [],
   "source": [
    "import pandas as pd\n",
    "import numpy as np\n",
    "import matplotlib.pyplot as plt\n",
    "import seaborn as sns\n",
    "\n",
    "%matplotlib inline"
   ]
  },
  {
   "cell_type": "code",
   "execution_count": 2,
   "id": "28343f2b",
   "metadata": {},
   "outputs": [],
   "source": [
    "df = pd.read_csv('../data/FULL_preprocessed_data_RM_weather.csv')"
   ]
  },
  {
   "cell_type": "code",
   "execution_count": 12,
   "id": "fa60582f",
   "metadata": {},
   "outputs": [
    {
     "data": {
      "text/plain": [
       "E-bike                  20029\n",
       "Gas Car, drove alone    18412\n",
       "Gas Car, with others    16684\n",
       "Walk                    10857\n",
       "Not a Trip               2420\n",
       "Regular Bike             1703\n",
       "Bus                      1363\n",
       "Other                    1145\n",
       "Taxi/Uber/Lyft            310\n",
       "Bikeshare                  84\n",
       "Train                      67\n",
       "Scooter share              52\n",
       "Free Shuttle               50\n",
       "Skate board                41\n",
       "Name: Mode_confirm, dtype: int64"
      ]
     },
     "execution_count": 12,
     "metadata": {},
     "output_type": "execute_result"
    }
   ],
   "source": [
    "df.Mode_confirm.value_counts()"
   ]
  },
  {
   "cell_type": "code",
   "execution_count": 43,
   "id": "7e380c56",
   "metadata": {},
   "outputs": [],
   "source": [
    "# hyp = df[df.Mode_confirm == 'E-bike']\n",
    "hyp = df.copy()\n",
    "hyp = hyp[['income_category', 'n_motor_vehicles',\n",
    "       'n_residence_members', 'n_residents_u18', 'is_student',\n",
    "       'n_residents_with_license', 'duration', 'distance_miles',\n",
    "       'age', 'is_overnight_trip', 'n_working_residents', 'is_male',\n",
    "        'start:sin_HOD', \n",
    "       'start:cos_HOD',\n",
    "       'end:sin_HOD', 'end:cos_HOD', 'temperature_2m (°F)',\n",
    "       'relative_humidity_2m (%)', 'dew_point_2m (°F)', 'rain (inch)',\n",
    "       'snowfall (inch)', 'cloud_cover (%)', 'wind_speed_10m (mp/h)',\n",
    "       'wind_gusts_10m (mp/h)', 'section_distance_argmax',\n",
    "       'section_duration_argmax', 'mph', 'chosen', 'av_no_trip', 'av_s_car',\n",
    "       'av_p_micro', 'av_walk', 'av_s_micro', 'av_transit', 'av_ridehail',\n",
    "       'av_car', 'av_unknown', 'cost_p_micro', 'cost_no_trip', 'cost_s_car',\n",
    "       'cost_transit', 'cost_car', 'cost_s_micro', 'cost_ridehail',\n",
    "       'cost_walk', 'cost_unknown']]"
   ]
  },
  {
   "cell_type": "code",
   "execution_count": 44,
   "id": "77e331a5",
   "metadata": {},
   "outputs": [],
   "source": [
    "from sklearn.model_selection import train_test_split\n",
    "from sklearn.metrics import f1_score\n",
    "from sklearn.ensemble import RandomForestClassifier"
   ]
  },
  {
   "cell_type": "code",
   "execution_count": 45,
   "id": "1ccfe253",
   "metadata": {},
   "outputs": [],
   "source": [
    "X_tr, X_te, Y_tr, Y_te = train_test_split(\n",
    "    hyp.drop(columns=['chosen']), hyp[['chosen']], test_size=0.2, shuffle=True, stratify=hyp[['chosen']]\n",
    ")"
   ]
  },
  {
   "cell_type": "code",
   "execution_count": 46,
   "id": "2ea90f37",
   "metadata": {},
   "outputs": [],
   "source": [
    "model = RandomForestClassifier().fit(X_tr, Y_tr.values.ravel())"
   ]
  },
  {
   "cell_type": "code",
   "execution_count": 47,
   "id": "46c50e0d",
   "metadata": {},
   "outputs": [],
   "source": [
    "y_tr_pred = model.predict(X_tr)\n",
    "y_te_pred = model.predict(X_te)"
   ]
  },
  {
   "cell_type": "code",
   "execution_count": 48,
   "id": "77f9f005",
   "metadata": {},
   "outputs": [
    {
     "data": {
      "text/plain": [
       "1.0"
      ]
     },
     "execution_count": 48,
     "metadata": {},
     "output_type": "execute_result"
    }
   ],
   "source": [
    "f1_score(y_true=Y_tr.values.ravel(), y_pred=y_tr_pred, average='weighted')"
   ]
  },
  {
   "cell_type": "code",
   "execution_count": 49,
   "id": "c08ccd5a",
   "metadata": {},
   "outputs": [
    {
     "data": {
      "text/plain": [
       "0.7247243014745804"
      ]
     },
     "execution_count": 49,
     "metadata": {},
     "output_type": "execute_result"
    }
   ],
   "source": [
    "f1_score(y_true=Y_te.values.ravel(), y_pred=y_te_pred, average='weighted')"
   ]
  },
  {
   "cell_type": "code",
   "execution_count": 50,
   "id": "bb5be29d",
   "metadata": {},
   "outputs": [
    {
     "name": "stdout",
     "output_type": "stream",
     "text": [
      "[('age', 0.07034490454052576), ('mph', 0.046077458861916464), ('distance_miles', 0.04227922185622416), ('income_category', 0.042045300984451986), ('dew_point_2m (°F)', 0.040326971736931075), ('temperature_2m (°F)', 0.04026013502695752), ('n_residence_members', 0.04011768641381229), ('duration', 0.038452743580322295), ('section_distance_argmax', 0.038170155240570436), ('cost_transit', 0.03781163632826536), ('section_duration_argmax', 0.035462758618913716), ('cost_s_car', 0.034390094889762884), ('n_motor_vehicles', 0.03379247604608051), ('n_residents_with_license', 0.03070869700490467), ('cost_ridehail', 0.03048846642958717), ('relative_humidity_2m (%)', 0.030090075033090597), ('wind_gusts_10m (mp/h)', 0.029081664383436266), ('n_working_residents', 0.028816144221162413), ('wind_speed_10m (mp/h)', 0.02858556819484081), ('cloud_cover (%)', 0.02495871571321774), ('cost_car', 0.023892323875139673), ('end:cos_HOD', 0.023765393583672044), ('start:cos_HOD', 0.023437391395931484), ('start:sin_HOD', 0.022230720826376518), ('end:sin_HOD', 0.02207708217592035), ('n_residents_u18', 0.021771464179907447), ('is_male', 0.02009990945010731), ('cost_s_micro', 0.01639305932751749), ('av_p_micro', 0.015927295338181373), ('av_walk', 0.012539972617736221), ('av_transit', 0.011339815089503233), ('is_student', 0.010405977662256977), ('av_s_micro', 0.007322014585269799), ('av_car', 0.006833582392128755), ('av_ridehail', 0.006552208955349027), ('av_s_car', 0.006497932334664742), ('rain (inch)', 0.0026762209888453866), ('av_unknown', 0.0016465804016971863), ('snowfall (inch)', 0.0016132591409545494), ('av_no_trip', 0.0007168051104359397), ('is_overnight_trip', 1.1546343053889719e-07), ('cost_p_micro', 0.0), ('cost_no_trip', 0.0), ('cost_walk', 0.0), ('cost_unknown', 0.0)]\n"
     ]
    }
   ],
   "source": [
    "print(\n",
    "    sorted(list(zip(model.feature_names_in_, model.feature_importances_)), key=lambda x: x[-1], reverse=True)\n",
    ")"
   ]
  },
  {
   "cell_type": "code",
   "execution_count": 57,
   "id": "7c886ef1",
   "metadata": {},
   "outputs": [],
   "source": [
    "survey_data = pd.read_csv('../viz_scripts/Can Do Colorado eBike Program - en.csv')\n",
    "df = pd.read_csv('../data/FULL_preprocessed_data_RM_weather.csv')"
   ]
  },
  {
   "cell_type": "code",
   "execution_count": 66,
   "id": "88434a04",
   "metadata": {},
   "outputs": [],
   "source": [
    "# column renaming here!\n",
    "\n",
    "survey_data.rename(\n",
    "    {\n",
    "        \"Unique User ID (auto-filled, do not edit)\": \"user_id\",\n",
    "        \"In which year were you born?\": \"birth_year\",\n",
    "        \"What is your gender?\": \"gender\",\n",
    "        \"Do you have a valid driver's license?\": \"has_drivers_license\",\n",
    "        \"Are you a student?\": \"is_student\",\n",
    "        \"What is the highest grade or degree that you have completed?\": \"highest_education\",\n",
    "        \"Do you work for either pay or profit?\": \"is_paid\",\n",
    "        \"Do you have more than one job?\": \"has_multiple_jobs\",\n",
    "        \"Do you work full-time or part-time at your primary job?\": \"primary_job_type\",\n",
    "        \"Which best describes your primary job?\": \"primary_job_description\",\n",
    "        \"How did you usually get to your primary job last week? \": \"primary_job_commute_mode\",\n",
    "        \"Thinking about your daily commute to work last week, how many minutes did it usually take to get from home to the primary job/work place?\": \"primary_job_commute_time\",\n",
    "        \"At your primary job, do you have the ability to set or change your own start time?\": \"is_primary_job_flexible\",\n",
    "        \"Do you have the option of working from home or an alternate location instead of going into your primary work place?\": \"primary_job_can_wfh\",\n",
    "        \"How many days per week do you usually work from home or an alternate location?\": \"wfh_days\",\n",
    "        \"Do you own or rent your place of residence?\": \"residence_ownership_type\",\n",
    "        \"What is your home type?\": \"residence_type\",\n",
    "        \"Please identify which category represents your total household income, before taxes, for last year.\": \"income_category\",\n",
    "        \"Including yourself, how many people live in your home?\": \"n_residence_members\",\n",
    "        \"How many children under age 18 live in your home?\": \"n_residents_u18\",\n",
    "        \"Including yourself, how many people have a driver's license in your household?\": \"n_residents_with_license\",\n",
    "        \"How many motor vehicles are owned, leased, or available for regular use by the people who currently live in your household?\": \"n_motor_vehicles\",\n",
    "        \"If you were unable to use your household vehicle(s), which of the following options would be available to you to get you from place to place?\": \"available_modes\",\n",
    "        \"Do you have a medical condition that makes it difficult to travel outside of the home?\": \"has_medical_condition\",\n",
    "        \"How long have you had this condition?\": \"medical_condition_duration\"\n",
    "    },\n",
    "    axis='columns',\n",
    "    inplace=True\n",
    ")"
   ]
  },
  {
   "cell_type": "code",
   "execution_count": 67,
   "id": "48a2ece6",
   "metadata": {},
   "outputs": [
    {
     "data": {
      "text/plain": [
       "0    a2d48b05d5454d428c0841432c7467b6\n",
       "1    f2799dc202bc4249b42a4fda8770d1b6\n",
       "2    b2bbe715b6a14fd19f751cae8adf6b4e\n",
       "3    6373dfb8cb9b47e88e8f76adcfadde20\n",
       "4    93c6e0f156a44e07b920ded664419dc6\n",
       "Name: user_id, dtype: object"
      ]
     },
     "metadata": {},
     "output_type": "display_data"
    }
   ],
   "source": [
    "display(survey_data.user_id.head())"
   ]
  },
  {
   "cell_type": "code",
   "execution_count": 68,
   "id": "f88441fe",
   "metadata": {},
   "outputs": [
    {
     "data": {
      "text/plain": [
       "0    6373dfb8cb9b47e88e8f76adcfadde20\n",
       "1    6373dfb8cb9b47e88e8f76adcfadde20\n",
       "2    6373dfb8cb9b47e88e8f76adcfadde20\n",
       "3    6373dfb8cb9b47e88e8f76adcfadde20\n",
       "4    6373dfb8cb9b47e88e8f76adcfadde20\n",
       "Name: user_id, dtype: object"
      ]
     },
     "metadata": {},
     "output_type": "display_data"
    }
   ],
   "source": [
    "display(df.user_id.head())"
   ]
  },
  {
   "cell_type": "code",
   "execution_count": 70,
   "id": "2af9b36f",
   "metadata": {},
   "outputs": [
    {
     "data": {
      "text/plain": [
       "203"
      ]
     },
     "execution_count": 70,
     "metadata": {},
     "output_type": "execute_result"
    }
   ],
   "source": [
    "len(survey_data.user_id.unique())"
   ]
  },
  {
   "cell_type": "code",
   "execution_count": 74,
   "id": "de46b68c",
   "metadata": {},
   "outputs": [],
   "source": [
    "f_survey = survey_data.loc[survey_data.user_id.isin(df.user_id), :]"
   ]
  },
  {
   "cell_type": "code",
   "execution_count": 75,
   "id": "9b77fd2f",
   "metadata": {},
   "outputs": [
    {
     "data": {
      "text/plain": [
       "156"
      ]
     },
     "execution_count": 75,
     "metadata": {},
     "output_type": "execute_result"
    }
   ],
   "source": [
    "len(f_survey.user_id.unique())"
   ]
  },
  {
   "cell_type": "code",
   "execution_count": null,
   "id": "e23fa31b",
   "metadata": {},
   "outputs": [],
   "source": []
  }
 ],
 "metadata": {
  "kernelspec": {
   "display_name": "emission",
   "language": "python",
   "name": "emission"
  },
  "language_info": {
   "codemirror_mode": {
    "name": "ipython",
    "version": 3
   },
   "file_extension": ".py",
   "mimetype": "text/x-python",
   "name": "python",
   "nbconvert_exporter": "python",
   "pygments_lexer": "ipython3",
   "version": "3.9.16"
  }
 },
 "nbformat": 4,
 "nbformat_minor": 5
}
