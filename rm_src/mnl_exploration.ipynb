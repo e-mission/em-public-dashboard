{
 "cells": [
  {
   "cell_type": "code",
   "execution_count": 1,
   "metadata": {},
   "outputs": [],
   "source": [
    "import os\n",
    "import sys\n",
    "import pickle\n",
    "import importlib\n",
    "\n",
    "import matplotlib.pyplot as plt\n",
    "import numpy as np\n",
    "import pandas as pd\n",
    "import seaborn as sns\n",
    "\n",
    "from pathlib import Path\n",
    "from uuid import UUID\n",
    "from collections import defaultdict\n",
    "\n",
    "%matplotlib inline"
   ]
  },
  {
   "cell_type": "code",
   "execution_count": 2,
   "metadata": {},
   "outputs": [],
   "source": [
    "emission_path = Path(os.getcwd()).parent.parent / 'my_emission_server' / 'e-mission-server'\n",
    "sys.path.append(str(emission_path))\n",
    "\n",
    "# Also add the home (viz_scripts) to the path\n",
    "sys.path.append('../viz_scripts')"
   ]
  },
  {
   "cell_type": "code",
   "execution_count": 3,
   "metadata": {},
   "outputs": [
    {
     "name": "stdout",
     "output_type": "stream",
     "text": [
      "storage not configured, falling back to sample, default configuration\n",
      "URL not formatted, defaulting to \"Stage_database\"\n",
      "Connecting to database URL localhost\n"
     ]
    }
   ],
   "source": [
    "import scaffolding\n",
    "import emission.core.get_database as edb"
   ]
  },
  {
   "cell_type": "code",
   "execution_count": 4,
   "metadata": {},
   "outputs": [
    {
     "data": {
      "text/plain": [
       "<module 'scaffolding' from '/Users/rkulhall/em-public-dashboard/rm_src/../viz_scripts/scaffolding.py'>"
      ]
     },
     "execution_count": 4,
     "metadata": {},
     "output_type": "execute_result"
    }
   ],
   "source": [
    "importlib.reload(scaffolding)"
   ]
  },
  {
   "cell_type": "code",
   "execution_count": 5,
   "metadata": {},
   "outputs": [],
   "source": [
    "def r(df: pd.DataFrame) -> pd.DataFrame:\n",
    "    return df.reset_index(drop=True, inplace=False)"
   ]
  },
  {
   "cell_type": "code",
   "execution_count": 6,
   "metadata": {},
   "outputs": [],
   "source": [
    "with open('../viz_scripts/auxiliary_files/dic_re.pkl', 'rb') as f:\n",
    "    dic_re = pickle.loads(f.read())\n",
    "\n",
    "with open('../viz_scripts/auxiliary_files/dic_pur.pkl', 'rb') as f:\n",
    "    dic_pur = pickle.loads(f.read())\n",
    "\n",
    "# convert a dictionary to a defaultdict\n",
    "dic_re = defaultdict(lambda: 'Other', dic_re)\n",
    "dic_pur = defaultdict(lambda: 'Other', dic_pur)"
   ]
  },
  {
   "cell_type": "code",
   "execution_count": 7,
   "metadata": {},
   "outputs": [
    {
     "name": "stdout",
     "output_type": "stream",
     "text": [
      "Found new program stage, creating new list\n",
      "Found new program 4c, creating new list\n",
      "Found new program cc, creating new list\n",
      "Found new program fc, creating new list\n",
      "Found new program pc, creating new list\n",
      "Found new program sc, creating new list\n",
      "Found new program vail, creating new list\n",
      "Found new program prepilot, creating new list\n"
     ]
    }
   ],
   "source": [
    "# Split UUIDs by program\n",
    "program_uuid_map = {}\n",
    "for ue in edb.get_uuid_db().find():\n",
    "    uuid = str(ue['uuid'])\n",
    "    # uuid = str(ue['uuid'])\n",
    "    program = ue['user_email'].split(\"_\")[0]\n",
    "    if program in program_uuid_map.keys():\n",
    "        program_uuid_map[program].append(uuid)\n",
    "    else:\n",
    "        print(f\"Found new program {program}, creating new list\")\n",
    "        program_uuid_map[program] = []\n",
    "        program_uuid_map[program].append(uuid)\n",
    "\n",
    "uuid_program_list = []\n",
    "for ue in edb.get_uuid_db().find():\n",
    "    # uuid = str(ue['uuid'].as_uuid(3))\n",
    "    uuid = str(ue['uuid'])\n",
    "    program = ue['user_email'].split(\"_\")[0]\n",
    "    uuid_program_list.append({\"program\": program, \"opcode\": ue[\"user_email\"], \"user_id\": uuid})"
   ]
  },
  {
   "cell_type": "code",
   "execution_count": 8,
   "metadata": {},
   "outputs": [],
   "source": [
    "uuid_program_df = pd.DataFrame(uuid_program_list)"
   ]
  },
  {
   "cell_type": "code",
   "execution_count": 9,
   "metadata": {},
   "outputs": [
    {
     "name": "stdout",
     "output_type": "stream",
     "text": [
      "Loaded all confirmed trips of length 241123\n",
      "After filtering, found 241123 participant trips \n",
      "After filtering, found 92446 labeled trips\n",
      "Found Index(['mode_confirm', 'purpose_confirm', 'replaced_mode'], dtype='object') columns of length 3\n",
      "After expanding, columns went from 41 -> 44\n",
      "_prepilot\n",
      "Based on 92395 confirmed trips from 235 users\n",
      "of 241123 total  trips from 261 users (38.32%)\n"
     ]
    }
   ],
   "source": [
    "# %%capture\n",
    "\n",
    "# for program in uuid_program_df.program.unique():\n",
    "expanded_ct, file_suffix, quality_text, debug_df = scaffolding.load_viz_notebook_data(None,\n",
    "                                                                            None,\n",
    "                                                                            'prepilot',\n",
    "                                                                            'program',\n",
    "                                                                            dic_re,\n",
    "                                                                            dic_pur=dic_pur)"
   ]
  },
  {
   "cell_type": "code",
   "execution_count": 10,
   "metadata": {},
   "outputs": [],
   "source": [
    "# Join to the program df to get each user's program\n",
    "expanded_ct['original_user_id'] = expanded_ct['user_id'].copy()\n",
    "expanded_ct['user_id'] = expanded_ct['user_id'].apply(lambda x: str(x))\n",
    "expanded_ct = expanded_ct.merge(uuid_program_df, on='user_id')\n",
    "expanded_ct['user_id'] = expanded_ct['user_id'].apply(lambda x: str(x).replace(\"-\", \"\"))"
   ]
  },
  {
   "cell_type": "code",
   "execution_count": 11,
   "metadata": {},
   "outputs": [
    {
     "data": {
      "text/plain": [
       "Index(['source', 'end_ts', 'end_fmt_time', 'end_loc', 'raw_trip', 'start_ts',\n",
       "       'start_fmt_time', 'start_loc', 'duration', 'distance', 'start_place',\n",
       "       'end_place', 'cleaned_trip', 'inferred_labels', 'inferred_trip',\n",
       "       'expectation', 'confidence_threshold', 'expected_trip', 'user_input',\n",
       "       'section_modes', 'section_distances', 'start_local_dt_year',\n",
       "       'start_local_dt_month', 'start_local_dt_day', 'start_local_dt_hour',\n",
       "       'start_local_dt_minute', 'start_local_dt_second',\n",
       "       'start_local_dt_weekday', 'start_local_dt_timezone',\n",
       "       'end_local_dt_year', 'end_local_dt_month', 'end_local_dt_day',\n",
       "       'end_local_dt_hour', 'end_local_dt_minute', 'end_local_dt_second',\n",
       "       'end_local_dt_weekday', 'end_local_dt_timezone', '_id', 'user_id',\n",
       "       'metadata_write_ts', 'additions', 'mode_confirm', 'purpose_confirm',\n",
       "       'replaced_mode', 'distance_miles', 'Mode_confirm', 'Replaced_mode',\n",
       "       'Trip_purpose', 'original_user_id', 'program', 'opcode'],\n",
       "      dtype='object')"
      ]
     },
     "execution_count": 11,
     "metadata": {},
     "output_type": "execute_result"
    }
   ],
   "source": [
    "expanded_ct.columns"
   ]
  },
  {
   "cell_type": "code",
   "execution_count": 12,
   "metadata": {},
   "outputs": [],
   "source": [
    "# Rename the target column.\n",
    "expanded_ct.drop(columns=['replaced_mode'], axis='rows', inplace=True)\n",
    "expanded_ct['Replaced_mode'] = expanded_ct['Replaced_mode'].fillna('Unlabeled')"
   ]
  },
  {
   "cell_type": "code",
   "execution_count": 13,
   "metadata": {},
   "outputs": [
    {
     "data": {
      "text/plain": [
       "235"
      ]
     },
     "execution_count": 13,
     "metadata": {},
     "output_type": "execute_result"
    }
   ],
   "source": [
    "len(expanded_ct.user_id.unique())"
   ]
  },
  {
   "cell_type": "markdown",
   "metadata": {},
   "source": [
    "## Survey Data preprocessing"
   ]
  },
  {
   "cell_type": "code",
   "execution_count": 14,
   "metadata": {},
   "outputs": [],
   "source": [
    "# Read the Denver dedmographic info\n",
    "survey_data = pd.read_csv('../viz_scripts/Can Do Colorado eBike Program - en.csv')"
   ]
  },
  {
   "cell_type": "code",
   "execution_count": 15,
   "metadata": {},
   "outputs": [],
   "source": [
    "survey_data.rename(\n",
    "    {\n",
    "        \"Unique User ID (auto-filled, do not edit)\": \"user_id\",\n",
    "        \"In which year were you born?\": \"birth_year\",\n",
    "        \"What is your gender?\": \"gender\",\n",
    "        \"Do you have a valid driver's license?\": \"has_drivers_license\",\n",
    "        \"Are you a student?\": \"is_student\",\n",
    "        \"What is the highest grade or degree that you have completed?\": \"highest_education\",\n",
    "        \"Do you work for either pay or profit?\": \"is_paid\",\n",
    "        \"Do you have more than one job?\": \"has_multiple_jobs\",\n",
    "        \"Do you work full-time or part-time at your primary job?\": \"primary_job_type\",\n",
    "        \"Which best describes your primary job?\": \"primary_job_description\",\n",
    "        \"How did you usually get to your primary job last week? \": \"primary_job_commute_mode\",\n",
    "        \"Thinking about your daily commute to work last week, how many minutes did it usually take to get from home to the primary job/work place?\": \"primary_job_commute_time\",\n",
    "        \"At your primary job, do you have the ability to set or change your own start time?\": \"is_primary_job_flexible\",\n",
    "        \"Do you have the option of working from home or an alternate location instead of going into your primary work place?\": \"primary_job_can_wfh\",\n",
    "        \"How many days per week do you usually work from home or an alternate location?\": \"wfh_days\",\n",
    "        \"Do you own or rent your place of residence?\": \"residence_ownership_type\",\n",
    "        \"What is your home type?\": \"residence_type\",\n",
    "        \"Please identify which category represents your total household income, before taxes, for last year.\": \"income_category\",\n",
    "        \"Including yourself, how many people live in your home?\": \"n_residence_members\",\n",
    "        \"How many children under age 18 live in your home?\": \"n_residents_u18\",\n",
    "        \"Including yourself, how many people have a driver's license in your household?\": \"n_residents_with_license\",\n",
    "        \"How many motor vehicles are owned, leased, or available for regular use by the people who currently live in your household?\": \"n_motor_vehicles\",\n",
    "        \"If you were unable to use your household vehicle(s), which of the following options would be available to you to get you from place to place?\": \"available_modes\",\n",
    "        \"Do you have a medical condition that makes it difficult to travel outside of the home?\": \"has_medical_condition\",\n",
    "        \"How long have you had this condition?\": \"medical_condition_duration\"\n",
    "    },\n",
    "    axis='columns',\n",
    "    inplace=True\n",
    ")"
   ]
  },
  {
   "cell_type": "code",
   "execution_count": 16,
   "metadata": {},
   "outputs": [
    {
     "name": "stderr",
     "output_type": "stream",
     "text": [
      "/Users/rkulhall/miniconda3/envs/emission/lib/python3.9/site-packages/dateutil/parser/_parser.py:1207: UnknownTimezoneWarning: tzname PDT identified but not understood.  Pass `tzinfos` argument in order to correctly return a timezone-aware datetime.  In a future version, this will raise an exception.\n",
      "  warnings.warn(\"tzname {tzname} identified but not understood.  \"\n",
      "/Users/rkulhall/miniconda3/envs/emission/lib/python3.9/site-packages/dateutil/parser/_parser.py:1207: UnknownTimezoneWarning: tzname PST identified but not understood.  Pass `tzinfos` argument in order to correctly return a timezone-aware datetime.  In a future version, this will raise an exception.\n",
      "  warnings.warn(\"tzname {tzname} identified but not understood.  \"\n"
     ]
    }
   ],
   "source": [
    "survey_data['Timestamp'] = pd.to_datetime(survey_data['Timestamp'])\n",
    "survey_data['Timestamp'] = survey_data['Timestamp'].dt.tz_localize('America/Los_Angeles', ambiguous='infer')\n",
    "survey_data['Timestamp'] = survey_data['Timestamp'].dt.tz_convert('America/Denver')"
   ]
  },
  {
   "cell_type": "code",
   "execution_count": 17,
   "metadata": {},
   "outputs": [
    {
     "data": {
      "text/plain": [
       "(Timestamp('2021-05-23 16:21:52-0600', tz='America/Denver'),\n",
       " Timestamp('2022-12-21 06:33:59-0700', tz='America/Denver'))"
      ]
     },
     "execution_count": 17,
     "metadata": {},
     "output_type": "execute_result"
    }
   ],
   "source": [
    "survey_data.Timestamp.min(), survey_data.Timestamp.max()"
   ]
  },
  {
   "cell_type": "code",
   "execution_count": 18,
   "metadata": {},
   "outputs": [],
   "source": [
    "f_survey = survey_data.loc[survey_data.user_id.isin(expanded_ct.user_id), :]"
   ]
  },
  {
   "cell_type": "code",
   "execution_count": 19,
   "metadata": {},
   "outputs": [
    {
     "data": {
      "text/plain": [
       "(170, 203)"
      ]
     },
     "execution_count": 19,
     "metadata": {},
     "output_type": "execute_result"
    }
   ],
   "source": [
    "len(f_survey.user_id.unique()), len(survey_data.user_id.unique())"
   ]
  },
  {
   "cell_type": "code",
   "execution_count": 20,
   "metadata": {},
   "outputs": [],
   "source": [
    "f_survey = f_survey.sort_values(\n",
    "    by=['user_id', 'Timestamp'], ascending=True\n",
    ").drop_duplicates(\n",
    "    subset=['user_id'], keep='last', ignore_index=True\n",
    ")"
   ]
  },
  {
   "cell_type": "code",
   "execution_count": 21,
   "metadata": {},
   "outputs": [],
   "source": [
    "assert f_survey.user_id.value_counts().max() == 1"
   ]
  },
  {
   "cell_type": "code",
   "execution_count": 22,
   "metadata": {},
   "outputs": [],
   "source": [
    "# Remove outliers.\n",
    "\n",
    "bad_ix = list()\n",
    "\n",
    "# obvious. WFH is not a good feature to include because of its high sparsity.\n",
    "# wfh_mask = f_survey.wfh_days > 7\n",
    "\n",
    "# Computed by calculating 99th percentile.\n",
    "commute_time_mask = f_survey.primary_job_commute_time > 75\n",
    "\n",
    "# Computed by calculating 99th percentile.\n",
    "residence_members_mask = f_survey.n_residence_members > 8\n",
    "\n",
    "for mask in [commute_time_mask, residence_members_mask]:\n",
    "    bad_ix += f_survey[mask].index.tolist()\n",
    "\n",
    "f_survey.drop(index=set(bad_ix), inplace=True)"
   ]
  },
  {
   "cell_type": "code",
   "execution_count": 23,
   "metadata": {},
   "outputs": [],
   "source": [
    "# Find age at the time of the timestamp. subtract birth year from timestamp year.\n",
    "def compute_age(row):\n",
    "    if row['birth_year'] < 100:\n",
    "        return row['birth_year']\n",
    "    return row['Timestamp'].year - row['birth_year']\n",
    "\n",
    "f_survey['age'] = f_survey.apply(lambda x: compute_age(x), axis=1)\n",
    "# f_survey.drop(columns=['birth_year'], inplace=True)\n",
    "\n",
    "\n",
    "# For those who leave it NA, categorize them as 'prefer not to say'.\n",
    "f_survey.loc[f_survey['has_multiple_jobs'].isna(), 'has_multiple_jobs'] = 'Prefer not to say'\n",
    "\n",
    "\n",
    "# Fix primary commute mode.\n",
    "f_survey.loc[\n",
    "    f_survey.primary_job_commute_mode.isna(), 'primary_job_commute_mode'\n",
    "] = 'Unknown'\n",
    "\n",
    "f_survey.loc[\n",
    "    f_survey.primary_job_commute_mode.isin([\n",
    "        'Car', 'SUV', 'Pickup truck', 'Taxi/Limo (including services like Uber or Lyft)', 'Van',\n",
    "        'Shared vehicle'\n",
    "    ]), 'primary_job_commute_mode'\n",
    "] = 'Car transport'\n",
    "\n",
    "f_survey.loc[\n",
    "    f_survey.primary_job_commute_mode.isin([\n",
    "        'Public or commuter bus', 'Buss'\n",
    "    ]), 'primary_job_commute_mode'\n",
    "] = 'Public transport'\n",
    "\n",
    "f_survey.loc[\n",
    "    f_survey.primary_job_commute_mode.isin([\n",
    "        'Walk', 'Skateboard', 'Bicycle'\n",
    "    ]), 'primary_job_commute_mode'\n",
    "] = 'Active transport'\n",
    "\n",
    "f_survey.loc[\n",
    "    f_survey.primary_job_commute_mode.isin([\n",
    "        'Telecommute', 'Work from home', 'I work from home'\n",
    "    ]), 'primary_job_commute_mode'\n",
    "] = 'WFH'\n",
    "\n",
    "f_survey.loc[\n",
    "    f_survey.primary_job_commute_mode.isin([\n",
    "        'Walk, bike, bus, uber or lyft.', 'Car and E-Bike'\n",
    "    ]), 'primary_job_commute_mode'\n",
    "] = 'Hybrid'\n",
    "\n",
    "# Fix primary job type\n",
    "f_survey.loc[f_survey.primary_job_type.isna(), 'primary_job_type'] = 'Prefer not to say'\n",
    "\n",
    "# Normalize the job description. Inspired from the 'e-bike trips by occupation' graph.\n",
    "f_survey.loc[\n",
    "    f_survey.primary_job_description.isin([\n",
    "        'Paraprofessional ', 'Education ', 'education/early childhood', 'Teacher',\n",
    "        'Education non-profit manager', 'Scientific research'\n",
    "    ]), 'primary_job_description', \n",
    "] = 'Education'\n",
    "\n",
    "f_survey.loc[\n",
    "    f_survey.primary_job_description.isin([\n",
    "        'Custodian', 'Custodial ', 'Csu custodian ', 'Janitorial '\n",
    "    ]), 'primary_job_description'\n",
    "] = 'Custodial'\n",
    "\n",
    "f_survey.loc[\n",
    "    f_survey.primary_job_description.isin([\n",
    "        'Inbound cs', 'Accounting Technician ', \n",
    "    ]), 'primary_job_description'\n",
    "] = 'Clerical'\n",
    "\n",
    "f_survey.loc[\n",
    "    f_survey.primary_job_description.isin([\n",
    "        'Restaurant manager', 'Transportaion Services',\n",
    "    ]), 'primary_job_description'\n",
    "] = 'Sales or service'\n",
    "\n",
    "f_survey.loc[\n",
    "    f_survey.primary_job_description.isin([\n",
    "        'Pastry chef and line cook', 'Cook', 'Chef', 'Dining Services',\n",
    "        'Food Service', 'Cooking ', 'Residential Dining Services'\n",
    "    ]), 'primary_job_description'\n",
    "] = 'Food service'\n",
    "\n",
    "f_survey.loc[\n",
    "    f_survey.primary_job_description.isin([\n",
    "        'CNA', 'Caregiver/ Qmap', 'Health care', 'Nurse',\n",
    "        'Healthcare', 'Medical', 'Medical field',\n",
    "        'Family support '\n",
    "    ]), 'primary_job_description'\n",
    "] = 'Medical/healthcare'\n",
    "\n",
    "f_survey.loc[\n",
    "    f_survey.primary_job_description.isin([\n",
    "        'Amazon ', 'Hockey rink ', 'Caregiver', 'Security', 'Nonprofit social work '\n",
    "    ]), 'primary_job_description'\n",
    "] = 'Other'\n",
    "\n",
    "f_survey.loc[\n",
    "    f_survey.primary_job_description.isin([\n",
    "        'Hospital laundry', 'Maintenance ', 'Matreal handler',\n",
    "        'Co op laundry'\n",
    "    ]), 'primary_job_description'\n",
    "] = 'Manufacturing, construction, maintenance, or farming'\n",
    "\n",
    "f_survey.loc[f_survey.primary_job_description.isna(), 'primary_job_description'] = 'Other'"
   ]
  },
  {
   "cell_type": "code",
   "execution_count": 24,
   "metadata": {},
   "outputs": [],
   "source": [
    "# Impute the commute time by grouping by occupation type and using median.\n",
    "job_commutes = f_survey.groupby('primary_job_description')['primary_job_commute_time'].median()"
   ]
  },
  {
   "cell_type": "code",
   "execution_count": 25,
   "metadata": {},
   "outputs": [],
   "source": [
    "for job_type in job_commutes.index:\n",
    "    f_survey.loc[\n",
    "        (f_survey.primary_job_description == job_type)&(f_survey.primary_job_commute_time.isna()), \n",
    "        'primary_job_commute_time'\n",
    "    ] = job_commutes[job_type]"
   ]
  },
  {
   "cell_type": "code",
   "execution_count": 26,
   "metadata": {},
   "outputs": [],
   "source": [
    "# Fix motor vehicles. Keep this ordinal.\n",
    "f_survey.loc[f_survey.n_motor_vehicles == '4+', 'n_motor_vehicles'] = 4\n",
    "f_survey.loc[f_survey.n_motor_vehicles == 'Prefer not to say / Prefiero no decir.', 'n_motor_vehicles'] = 0\n",
    "f_survey.n_motor_vehicles = f_survey.n_motor_vehicles.astype(int)"
   ]
  },
  {
   "cell_type": "code",
   "execution_count": 27,
   "metadata": {},
   "outputs": [],
   "source": [
    "to_drop = [\n",
    "    'Which one below describe you best?', 'wfh_days', 'primary_job_can_wfh', 'is_primary_job_flexible',\n",
    "    'medical_condition_duration', 'has_medical_condition', 'residence_type', 'residence_ownership_type',\n",
    "    'is_paid', 'is_student'\n",
    "]\n",
    "\n",
    "f_survey.drop(columns=to_drop, inplace=True)"
   ]
  },
  {
   "cell_type": "code",
   "execution_count": 28,
   "metadata": {},
   "outputs": [
    {
     "data": {
      "text/plain": [
       "Timestamp                   0\n",
       "user_id                     0\n",
       "birth_year                  0\n",
       "gender                      0\n",
       "has_drivers_license         0\n",
       "highest_education           0\n",
       "has_multiple_jobs           0\n",
       "primary_job_type            0\n",
       "primary_job_description     0\n",
       "primary_job_commute_mode    0\n",
       "primary_job_commute_time    0\n",
       "income_category             0\n",
       "n_residence_members         0\n",
       "n_residents_u18             0\n",
       "n_residents_with_license    0\n",
       "n_motor_vehicles            0\n",
       "available_modes             0\n",
       "age                         0\n",
       "dtype: int64"
      ]
     },
     "metadata": {},
     "output_type": "display_data"
    }
   ],
   "source": [
    "display(f_survey.isna().sum())"
   ]
  },
  {
   "cell_type": "code",
   "execution_count": 29,
   "metadata": {},
   "outputs": [],
   "source": [
    "'''\n",
    "Let us think about this. Given that the income category is not defined, it does not make sense\n",
    "to encode the factor as a non-zero ordinal number. 9.6% of the people in the dataset choose to\n",
    "not disclose their income. We could just drop them, but then we risk losing quite a lot of information.\n",
    "'''\n",
    "\n",
    "f_survey.loc[f_survey.income_category == 'Prefer not to say', 'income_category'] = 0\n",
    "f_survey.loc[f_survey.income_category == 'Less than $24,999', 'income_category'] = 1\n",
    "f_survey.loc[f_survey.income_category == '$25,000-$49,999', 'income_category'] = 2\n",
    "f_survey.loc[f_survey.income_category == '$50,000-$99,999', 'income_category'] = 3\n",
    "f_survey.loc[f_survey.income_category == '$100,000 -$149,999', 'income_category'] = 4\n",
    "f_survey.loc[f_survey.income_category == '$150,000-$199,999', 'income_category'] = 5\n",
    "f_survey.loc[f_survey.income_category == '$150,000', 'income_category'] = 5\n",
    "f_survey.loc[f_survey.income_category == '$150,000-$199,999', 'income_category'] = 6\n",
    "f_survey.loc[f_survey.income_category == '$200,000 or more', 'income_category'] = 7\n",
    "f_survey.income_category = f_survey.income_category.astype(int)\n",
    "\n",
    "# TODO: Think of a strategy here."
   ]
  },
  {
   "cell_type": "code",
   "execution_count": 30,
   "metadata": {},
   "outputs": [
    {
     "data": {
      "text/plain": [
       "Sales or service                                        47\n",
       "Professional, managerial, or technical                  37\n",
       "Manufacturing, construction, maintenance, or farming    17\n",
       "Clerical or administrative support                      17\n",
       "Other                                                   13\n",
       "Education                                                9\n",
       "Food service                                             8\n",
       "Medical/healthcare                                       8\n",
       "Custodial                                                7\n",
       "Clerical                                                 2\n",
       "Maintenance                                              1\n",
       "Name: primary_job_description, dtype: int64"
      ]
     },
     "execution_count": 30,
     "metadata": {},
     "output_type": "execute_result"
    }
   ],
   "source": [
    "f_survey.primary_job_description.value_counts()"
   ]
  },
  {
   "cell_type": "code",
   "execution_count": 31,
   "metadata": {},
   "outputs": [
    {
     "name": "stdout",
     "output_type": "stream",
     "text": [
      "<class 'pandas.core.frame.DataFrame'>\n",
      "Int64Index: 166 entries, 0 to 169\n",
      "Data columns (total 18 columns):\n",
      " #   Column                    Non-Null Count  Dtype                         \n",
      "---  ------                    --------------  -----                         \n",
      " 0   Timestamp                 166 non-null    datetime64[ns, America/Denver]\n",
      " 1   user_id                   166 non-null    object                        \n",
      " 2   birth_year                166 non-null    int64                         \n",
      " 3   gender                    166 non-null    object                        \n",
      " 4   has_drivers_license       166 non-null    object                        \n",
      " 5   highest_education         166 non-null    object                        \n",
      " 6   has_multiple_jobs         166 non-null    object                        \n",
      " 7   primary_job_type          166 non-null    object                        \n",
      " 8   primary_job_description   166 non-null    object                        \n",
      " 9   primary_job_commute_mode  166 non-null    object                        \n",
      " 10  primary_job_commute_time  166 non-null    float64                       \n",
      " 11  income_category           166 non-null    int64                         \n",
      " 12  n_residence_members       166 non-null    int64                         \n",
      " 13  n_residents_u18           166 non-null    int64                         \n",
      " 14  n_residents_with_license  166 non-null    int64                         \n",
      " 15  n_motor_vehicles          166 non-null    int64                         \n",
      " 16  available_modes           166 non-null    object                        \n",
      " 17  age                       166 non-null    int64                         \n",
      "dtypes: datetime64[ns, America/Denver](1), float64(1), int64(7), object(9)\n",
      "memory usage: 24.6+ KB\n"
     ]
    },
    {
     "data": {
      "text/plain": [
       "None"
      ]
     },
     "metadata": {},
     "output_type": "display_data"
    }
   ],
   "source": [
    "display(f_survey.info())"
   ]
  },
  {
   "cell_type": "code",
   "execution_count": 32,
   "metadata": {},
   "outputs": [],
   "source": [
    "from sklearn.preprocessing import OneHotEncoder\n",
    "\n",
    "def generate_ohe_features(df, feature_name):\n",
    "    ohe = OneHotEncoder()\n",
    "    ohe.fit(df[[feature_name]])\n",
    "    return pd.DataFrame(\n",
    "        ohe.transform(df[[feature_name]]).todense(), \n",
    "        columns=ohe.get_feature_names_out(),\n",
    "        index=df.index\n",
    "    ), ohe"
   ]
  },
  {
   "cell_type": "code",
   "execution_count": 33,
   "metadata": {},
   "outputs": [],
   "source": [
    "ohe_features = [\n",
    "    'gender', 'has_drivers_license', 'has_multiple_jobs', 'highest_education', \n",
    "    'primary_job_type', 'primary_job_description', 'primary_job_commute_mode'\n",
    "]\n",
    "\n",
    "for feature in ohe_features:\n",
    "    df, _ = generate_ohe_features(f_survey, feature)\n",
    "    f_survey = f_survey.merge(right=df, left_index=True, right_index=True)\n",
    "\n",
    "f_survey.drop(columns=ohe_features, inplace=True)"
   ]
  },
  {
   "cell_type": "code",
   "execution_count": 34,
   "metadata": {},
   "outputs": [
    {
     "name": "stdout",
     "output_type": "stream",
     "text": [
      "<class 'pandas.core.frame.DataFrame'>\n",
      "Int64Index: 166 entries, 0 to 169\n",
      "Data columns (total 49 columns):\n",
      " #   Column                                                                        Non-Null Count  Dtype                         \n",
      "---  ------                                                                        --------------  -----                         \n",
      " 0   Timestamp                                                                     166 non-null    datetime64[ns, America/Denver]\n",
      " 1   user_id                                                                       166 non-null    object                        \n",
      " 2   birth_year                                                                    166 non-null    int64                         \n",
      " 3   primary_job_commute_time                                                      166 non-null    float64                       \n",
      " 4   income_category                                                               166 non-null    int64                         \n",
      " 5   n_residence_members                                                           166 non-null    int64                         \n",
      " 6   n_residents_u18                                                               166 non-null    int64                         \n",
      " 7   n_residents_with_license                                                      166 non-null    int64                         \n",
      " 8   n_motor_vehicles                                                              166 non-null    int64                         \n",
      " 9   available_modes                                                               166 non-null    object                        \n",
      " 10  age                                                                           166 non-null    int64                         \n",
      " 11  gender_Man                                                                    166 non-null    float64                       \n",
      " 12  gender_Man;Nonbinary/genderqueer/genderfluid                                  166 non-null    float64                       \n",
      " 13  gender_Nonbinary/genderqueer/genderfluid                                      166 non-null    float64                       \n",
      " 14  gender_Prefer not to say                                                      166 non-null    float64                       \n",
      " 15  gender_Woman                                                                  166 non-null    float64                       \n",
      " 16  gender_Woman;Nonbinary/genderqueer/genderfluid                                166 non-null    float64                       \n",
      " 17  has_drivers_license_No                                                        166 non-null    float64                       \n",
      " 18  has_drivers_license_Prefer not to say                                         166 non-null    float64                       \n",
      " 19  has_drivers_license_Yes                                                       166 non-null    float64                       \n",
      " 20  has_multiple_jobs_No                                                          166 non-null    float64                       \n",
      " 21  has_multiple_jobs_Prefer not to say                                           166 non-null    float64                       \n",
      " 22  has_multiple_jobs_Yes                                                         166 non-null    float64                       \n",
      " 23  highest_education_Bachelor's degree                                           166 non-null    float64                       \n",
      " 24  highest_education_Graduate degree or professional degree                      166 non-null    float64                       \n",
      " 25  highest_education_High school graduate or GED                                 166 non-null    float64                       \n",
      " 26  highest_education_Less than a high school graduate                            166 non-null    float64                       \n",
      " 27  highest_education_Prefer not to say                                           166 non-null    float64                       \n",
      " 28  highest_education_Some college or associates degree                           166 non-null    float64                       \n",
      " 29  primary_job_type_Full-time                                                    166 non-null    float64                       \n",
      " 30  primary_job_type_Part-time                                                    166 non-null    float64                       \n",
      " 31  primary_job_type_Prefer not to say                                            166 non-null    float64                       \n",
      " 32  primary_job_description_Clerical                                              166 non-null    float64                       \n",
      " 33  primary_job_description_Clerical or administrative support                    166 non-null    float64                       \n",
      " 34  primary_job_description_Custodial                                             166 non-null    float64                       \n",
      " 35  primary_job_description_Education                                             166 non-null    float64                       \n",
      " 36  primary_job_description_Food service                                          166 non-null    float64                       \n",
      " 37  primary_job_description_Maintenance                                           166 non-null    float64                       \n",
      " 38  primary_job_description_Manufacturing, construction, maintenance, or farming  166 non-null    float64                       \n",
      " 39  primary_job_description_Medical/healthcare                                    166 non-null    float64                       \n",
      " 40  primary_job_description_Other                                                 166 non-null    float64                       \n",
      " 41  primary_job_description_Professional, managerial, or technical                166 non-null    float64                       \n",
      " 42  primary_job_description_Sales or service                                      166 non-null    float64                       \n",
      " 43  primary_job_commute_mode_Active transport                                     166 non-null    float64                       \n",
      " 44  primary_job_commute_mode_Car transport                                        166 non-null    float64                       \n",
      " 45  primary_job_commute_mode_Hybrid                                               166 non-null    float64                       \n",
      " 46  primary_job_commute_mode_Public transport                                     166 non-null    float64                       \n",
      " 47  primary_job_commute_mode_Unknown                                              166 non-null    float64                       \n",
      " 48  primary_job_commute_mode_WFH                                                  166 non-null    float64                       \n",
      "dtypes: datetime64[ns, America/Denver](1), float64(39), int64(7), object(2)\n",
      "memory usage: 68.9+ KB\n"
     ]
    },
    {
     "data": {
      "text/plain": [
       "None"
      ]
     },
     "metadata": {},
     "output_type": "display_data"
    }
   ],
   "source": [
    "display(f_survey.info())"
   ]
  },
  {
   "cell_type": "code",
   "execution_count": 35,
   "metadata": {},
   "outputs": [],
   "source": [
    "from typing import List\n",
    "\n",
    "def plot_survey_distribution(df: pd.DataFrame, feature_names: List[str]):\n",
    "    \n",
    "    n = len(feature_names)\n",
    "    \n",
    "    # No more than 4 plots in on subplot.\n",
    "    assert n <= 4, \"Only 4 features can be visualized at a time.\"\n",
    "    \n",
    "    ncols = 2\n",
    "    nrows = n//ncols if n%ncols == 0 else (n//ncols) + 1\n",
    "    \n",
    "    h_scale = 4*nrows\n",
    "    \n",
    "    fig, axes = plt.subplots(nrows=nrows, ncols=ncols, figsize=(8, h_scale))\n",
    "    for ix, ax in enumerate(axes.flatten()):\n",
    "        if ix < n:\n",
    "            sns.histplot(data=df, y=feature_names[ix], ax=ax)\n",
    "        else:\n",
    "            ax.set_axis_off()\n",
    "    plt.tight_layout()\n",
    "    plt.show()"
   ]
  },
  {
   "cell_type": "code",
   "execution_count": 36,
   "metadata": {},
   "outputs": [
    {
     "ename": "ValueError",
     "evalue": "Could not interpret value `primary_job_commute_mode` for parameter `y`",
     "output_type": "error",
     "traceback": [
      "\u001b[0;31m---------------------------------------------------------------------------\u001b[0m",
      "\u001b[0;31mValueError\u001b[0m                                Traceback (most recent call last)",
      "Cell \u001b[0;32mIn[36], line 1\u001b[0m\n\u001b[0;32m----> 1\u001b[0m \u001b[43mplot_survey_distribution\u001b[49m\u001b[43m(\u001b[49m\n\u001b[1;32m      2\u001b[0m \u001b[43m    \u001b[49m\u001b[43mf_survey\u001b[49m\u001b[43m,\u001b[49m\u001b[43m \u001b[49m\u001b[43m[\u001b[49m\u001b[38;5;124;43m'\u001b[39;49m\u001b[38;5;124;43mincome_category\u001b[39;49m\u001b[38;5;124;43m'\u001b[39;49m\u001b[43m,\u001b[49m\u001b[43m \u001b[49m\u001b[38;5;124;43m'\u001b[39;49m\u001b[38;5;124;43mn_motor_vehicles\u001b[39;49m\u001b[38;5;124;43m'\u001b[39;49m\u001b[43m,\u001b[49m\u001b[43m \u001b[49m\u001b[38;5;124;43m'\u001b[39;49m\u001b[38;5;124;43mprimary_job_commute_mode\u001b[39;49m\u001b[38;5;124;43m'\u001b[39;49m\u001b[43m]\u001b[49m\n\u001b[1;32m      3\u001b[0m \u001b[43m)\u001b[49m\n",
      "Cell \u001b[0;32mIn[35], line 18\u001b[0m, in \u001b[0;36mplot_survey_distribution\u001b[0;34m(df, feature_names)\u001b[0m\n\u001b[1;32m     16\u001b[0m \u001b[38;5;28;01mfor\u001b[39;00m ix, ax \u001b[38;5;129;01min\u001b[39;00m \u001b[38;5;28menumerate\u001b[39m(axes\u001b[38;5;241m.\u001b[39mflatten()):\n\u001b[1;32m     17\u001b[0m     \u001b[38;5;28;01mif\u001b[39;00m ix \u001b[38;5;241m<\u001b[39m n:\n\u001b[0;32m---> 18\u001b[0m         \u001b[43msns\u001b[49m\u001b[38;5;241;43m.\u001b[39;49m\u001b[43mhistplot\u001b[49m\u001b[43m(\u001b[49m\u001b[43mdata\u001b[49m\u001b[38;5;241;43m=\u001b[39;49m\u001b[43mdf\u001b[49m\u001b[43m,\u001b[49m\u001b[43m \u001b[49m\u001b[43my\u001b[49m\u001b[38;5;241;43m=\u001b[39;49m\u001b[43mfeature_names\u001b[49m\u001b[43m[\u001b[49m\u001b[43mix\u001b[49m\u001b[43m]\u001b[49m\u001b[43m,\u001b[49m\u001b[43m \u001b[49m\u001b[43max\u001b[49m\u001b[38;5;241;43m=\u001b[39;49m\u001b[43max\u001b[49m\u001b[43m)\u001b[49m\n\u001b[1;32m     19\u001b[0m     \u001b[38;5;28;01melse\u001b[39;00m:\n\u001b[1;32m     20\u001b[0m         ax\u001b[38;5;241m.\u001b[39mset_axis_off()\n",
      "File \u001b[0;32m~/miniconda3/envs/emission/lib/python3.9/site-packages/seaborn/distributions.py:1395\u001b[0m, in \u001b[0;36mhistplot\u001b[0;34m(data, x, y, hue, weights, stat, bins, binwidth, binrange, discrete, cumulative, common_bins, common_norm, multiple, element, fill, shrink, kde, kde_kws, line_kws, thresh, pthresh, pmax, cbar, cbar_ax, cbar_kws, palette, hue_order, hue_norm, color, log_scale, legend, ax, **kwargs)\u001b[0m\n\u001b[1;32m   1374\u001b[0m \u001b[38;5;28;01mdef\u001b[39;00m \u001b[38;5;21mhistplot\u001b[39m(\n\u001b[1;32m   1375\u001b[0m     data\u001b[38;5;241m=\u001b[39m\u001b[38;5;28;01mNone\u001b[39;00m, \u001b[38;5;241m*\u001b[39m,\n\u001b[1;32m   1376\u001b[0m     \u001b[38;5;66;03m# Vector variables\u001b[39;00m\n\u001b[0;32m   (...)\u001b[0m\n\u001b[1;32m   1392\u001b[0m     \u001b[38;5;241m*\u001b[39m\u001b[38;5;241m*\u001b[39mkwargs,\n\u001b[1;32m   1393\u001b[0m ):\n\u001b[0;32m-> 1395\u001b[0m     p \u001b[38;5;241m=\u001b[39m \u001b[43m_DistributionPlotter\u001b[49m\u001b[43m(\u001b[49m\n\u001b[1;32m   1396\u001b[0m \u001b[43m        \u001b[49m\u001b[43mdata\u001b[49m\u001b[38;5;241;43m=\u001b[39;49m\u001b[43mdata\u001b[49m\u001b[43m,\u001b[49m\n\u001b[1;32m   1397\u001b[0m \u001b[43m        \u001b[49m\u001b[43mvariables\u001b[49m\u001b[38;5;241;43m=\u001b[39;49m\u001b[43m_DistributionPlotter\u001b[49m\u001b[38;5;241;43m.\u001b[39;49m\u001b[43mget_semantics\u001b[49m\u001b[43m(\u001b[49m\u001b[38;5;28;43mlocals\u001b[39;49m\u001b[43m(\u001b[49m\u001b[43m)\u001b[49m\u001b[43m)\u001b[49m\n\u001b[1;32m   1398\u001b[0m \u001b[43m    \u001b[49m\u001b[43m)\u001b[49m\n\u001b[1;32m   1400\u001b[0m     p\u001b[38;5;241m.\u001b[39mmap_hue(palette\u001b[38;5;241m=\u001b[39mpalette, order\u001b[38;5;241m=\u001b[39mhue_order, norm\u001b[38;5;241m=\u001b[39mhue_norm)\n\u001b[1;32m   1402\u001b[0m     \u001b[38;5;28;01mif\u001b[39;00m ax \u001b[38;5;129;01mis\u001b[39;00m \u001b[38;5;28;01mNone\u001b[39;00m:\n",
      "File \u001b[0;32m~/miniconda3/envs/emission/lib/python3.9/site-packages/seaborn/distributions.py:113\u001b[0m, in \u001b[0;36m_DistributionPlotter.__init__\u001b[0;34m(self, data, variables)\u001b[0m\n\u001b[1;32m    107\u001b[0m \u001b[38;5;28;01mdef\u001b[39;00m \u001b[38;5;21m__init__\u001b[39m(\n\u001b[1;32m    108\u001b[0m     \u001b[38;5;28mself\u001b[39m,\n\u001b[1;32m    109\u001b[0m     data\u001b[38;5;241m=\u001b[39m\u001b[38;5;28;01mNone\u001b[39;00m,\n\u001b[1;32m    110\u001b[0m     variables\u001b[38;5;241m=\u001b[39m{},\n\u001b[1;32m    111\u001b[0m ):\n\u001b[0;32m--> 113\u001b[0m     \u001b[38;5;28;43msuper\u001b[39;49m\u001b[43m(\u001b[49m\u001b[43m)\u001b[49m\u001b[38;5;241;43m.\u001b[39;49m\u001b[38;5;21;43m__init__\u001b[39;49m\u001b[43m(\u001b[49m\u001b[43mdata\u001b[49m\u001b[38;5;241;43m=\u001b[39;49m\u001b[43mdata\u001b[49m\u001b[43m,\u001b[49m\u001b[43m \u001b[49m\u001b[43mvariables\u001b[49m\u001b[38;5;241;43m=\u001b[39;49m\u001b[43mvariables\u001b[49m\u001b[43m)\u001b[49m\n",
      "File \u001b[0;32m~/miniconda3/envs/emission/lib/python3.9/site-packages/seaborn/_oldcore.py:640\u001b[0m, in \u001b[0;36mVectorPlotter.__init__\u001b[0;34m(self, data, variables)\u001b[0m\n\u001b[1;32m    635\u001b[0m \u001b[38;5;66;03m# var_ordered is relevant only for categorical axis variables, and may\u001b[39;00m\n\u001b[1;32m    636\u001b[0m \u001b[38;5;66;03m# be better handled by an internal axis information object that tracks\u001b[39;00m\n\u001b[1;32m    637\u001b[0m \u001b[38;5;66;03m# such information and is set up by the scale_* methods. The analogous\u001b[39;00m\n\u001b[1;32m    638\u001b[0m \u001b[38;5;66;03m# information for numeric axes would be information about log scales.\u001b[39;00m\n\u001b[1;32m    639\u001b[0m \u001b[38;5;28mself\u001b[39m\u001b[38;5;241m.\u001b[39m_var_ordered \u001b[38;5;241m=\u001b[39m {\u001b[38;5;124m\"\u001b[39m\u001b[38;5;124mx\u001b[39m\u001b[38;5;124m\"\u001b[39m: \u001b[38;5;28;01mFalse\u001b[39;00m, \u001b[38;5;124m\"\u001b[39m\u001b[38;5;124my\u001b[39m\u001b[38;5;124m\"\u001b[39m: \u001b[38;5;28;01mFalse\u001b[39;00m}  \u001b[38;5;66;03m# alt., used DefaultDict\u001b[39;00m\n\u001b[0;32m--> 640\u001b[0m \u001b[38;5;28;43mself\u001b[39;49m\u001b[38;5;241;43m.\u001b[39;49m\u001b[43massign_variables\u001b[49m\u001b[43m(\u001b[49m\u001b[43mdata\u001b[49m\u001b[43m,\u001b[49m\u001b[43m \u001b[49m\u001b[43mvariables\u001b[49m\u001b[43m)\u001b[49m\n\u001b[1;32m    642\u001b[0m \u001b[38;5;28;01mfor\u001b[39;00m var, \u001b[38;5;28mcls\u001b[39m \u001b[38;5;129;01min\u001b[39;00m \u001b[38;5;28mself\u001b[39m\u001b[38;5;241m.\u001b[39m_semantic_mappings\u001b[38;5;241m.\u001b[39mitems():\n\u001b[1;32m    643\u001b[0m \n\u001b[1;32m    644\u001b[0m     \u001b[38;5;66;03m# Create the mapping function\u001b[39;00m\n\u001b[1;32m    645\u001b[0m     map_func \u001b[38;5;241m=\u001b[39m partial(\u001b[38;5;28mcls\u001b[39m\u001b[38;5;241m.\u001b[39mmap, plotter\u001b[38;5;241m=\u001b[39m\u001b[38;5;28mself\u001b[39m)\n",
      "File \u001b[0;32m~/miniconda3/envs/emission/lib/python3.9/site-packages/seaborn/_oldcore.py:701\u001b[0m, in \u001b[0;36mVectorPlotter.assign_variables\u001b[0;34m(self, data, variables)\u001b[0m\n\u001b[1;32m    699\u001b[0m \u001b[38;5;28;01melse\u001b[39;00m:\n\u001b[1;32m    700\u001b[0m     \u001b[38;5;28mself\u001b[39m\u001b[38;5;241m.\u001b[39minput_format \u001b[38;5;241m=\u001b[39m \u001b[38;5;124m\"\u001b[39m\u001b[38;5;124mlong\u001b[39m\u001b[38;5;124m\"\u001b[39m\n\u001b[0;32m--> 701\u001b[0m     plot_data, variables \u001b[38;5;241m=\u001b[39m \u001b[38;5;28;43mself\u001b[39;49m\u001b[38;5;241;43m.\u001b[39;49m\u001b[43m_assign_variables_longform\u001b[49m\u001b[43m(\u001b[49m\n\u001b[1;32m    702\u001b[0m \u001b[43m        \u001b[49m\u001b[43mdata\u001b[49m\u001b[43m,\u001b[49m\u001b[43m \u001b[49m\u001b[38;5;241;43m*\u001b[39;49m\u001b[38;5;241;43m*\u001b[39;49m\u001b[43mvariables\u001b[49m\u001b[43m,\u001b[49m\n\u001b[1;32m    703\u001b[0m \u001b[43m    \u001b[49m\u001b[43m)\u001b[49m\n\u001b[1;32m    705\u001b[0m \u001b[38;5;28mself\u001b[39m\u001b[38;5;241m.\u001b[39mplot_data \u001b[38;5;241m=\u001b[39m plot_data\n\u001b[1;32m    706\u001b[0m \u001b[38;5;28mself\u001b[39m\u001b[38;5;241m.\u001b[39mvariables \u001b[38;5;241m=\u001b[39m variables\n",
      "File \u001b[0;32m~/miniconda3/envs/emission/lib/python3.9/site-packages/seaborn/_oldcore.py:938\u001b[0m, in \u001b[0;36mVectorPlotter._assign_variables_longform\u001b[0;34m(self, data, **kwargs)\u001b[0m\n\u001b[1;32m    933\u001b[0m \u001b[38;5;28;01melif\u001b[39;00m \u001b[38;5;28misinstance\u001b[39m(val, (\u001b[38;5;28mstr\u001b[39m, \u001b[38;5;28mbytes\u001b[39m)):\n\u001b[1;32m    934\u001b[0m \n\u001b[1;32m    935\u001b[0m     \u001b[38;5;66;03m# This looks like a column name but we don't know what it means!\u001b[39;00m\n\u001b[1;32m    937\u001b[0m     err \u001b[38;5;241m=\u001b[39m \u001b[38;5;124mf\u001b[39m\u001b[38;5;124m\"\u001b[39m\u001b[38;5;124mCould not interpret value `\u001b[39m\u001b[38;5;132;01m{\u001b[39;00mval\u001b[38;5;132;01m}\u001b[39;00m\u001b[38;5;124m` for parameter `\u001b[39m\u001b[38;5;132;01m{\u001b[39;00mkey\u001b[38;5;132;01m}\u001b[39;00m\u001b[38;5;124m`\u001b[39m\u001b[38;5;124m\"\u001b[39m\n\u001b[0;32m--> 938\u001b[0m     \u001b[38;5;28;01mraise\u001b[39;00m \u001b[38;5;167;01mValueError\u001b[39;00m(err)\n\u001b[1;32m    940\u001b[0m \u001b[38;5;28;01melse\u001b[39;00m:\n\u001b[1;32m    941\u001b[0m \n\u001b[1;32m    942\u001b[0m     \u001b[38;5;66;03m# Otherwise, assume the value is itself data\u001b[39;00m\n\u001b[1;32m    943\u001b[0m \n\u001b[1;32m    944\u001b[0m     \u001b[38;5;66;03m# Raise when data object is present and a vector can't matched\u001b[39;00m\n\u001b[1;32m    945\u001b[0m     \u001b[38;5;28;01mif\u001b[39;00m \u001b[38;5;28misinstance\u001b[39m(data, pd\u001b[38;5;241m.\u001b[39mDataFrame) \u001b[38;5;129;01mand\u001b[39;00m \u001b[38;5;129;01mnot\u001b[39;00m \u001b[38;5;28misinstance\u001b[39m(val, pd\u001b[38;5;241m.\u001b[39mSeries):\n",
      "\u001b[0;31mValueError\u001b[0m: Could not interpret value `primary_job_commute_mode` for parameter `y`"
     ]
    },
    {
     "data": {
      "image/png": "[encoded data removed]",
      "text/plain": [
       "<Figure size 800x800 with 4 Axes>"
      ]
     },
     "metadata": {},
     "output_type": "display_data"
    }
   ],
   "source": [
    "plot_survey_distribution(\n",
    "    f_survey, ['income_category', 'n_motor_vehicles', 'primary_job_commute_mode']\n",
    ")"
   ]
  },
  {
   "cell_type": "code",
   "execution_count": null,
   "metadata": {},
   "outputs": [],
   "source": [
    "print(len(f_survey.user_id.unique()))"
   ]
  },
  {
   "cell_type": "markdown",
   "metadata": {},
   "source": [
    "## GPS Data Preprocessing"
   ]
  },
  {
   "cell_type": "code",
   "execution_count": 37,
   "metadata": {},
   "outputs": [],
   "source": [
    "# We only wish to focus on Denver data for now.\n",
    "# denver_data = r(expanded_ct.loc[\n",
    "#     (expanded_ct.start_local_dt_timezone == \"America/Denver\") & (expanded_ct.end_local_dt_timezone == \"America/Denver\"), \n",
    "#     :])\n",
    "\n",
    "denver_data = expanded_ct.copy()"
   ]
  },
  {
   "cell_type": "code",
   "execution_count": 38,
   "metadata": {},
   "outputs": [],
   "source": [
    "denver_data['start_fmt_time'] = pd.to_datetime(\n",
    "    denver_data['start_fmt_time'], utc=True\n",
    ").dt.tz_convert('America/Denver')"
   ]
  },
  {
   "cell_type": "code",
   "execution_count": 39,
   "metadata": {},
   "outputs": [
    {
     "name": "stdout",
     "output_type": "stream",
     "text": [
      "2016-08-15 07:59:32.418000-06:00 2022-12-30 23:33:27.147785-07:00\n"
     ]
    }
   ],
   "source": [
    "print(denver_data.start_fmt_time.min(), denver_data.start_fmt_time.max())"
   ]
  },
  {
   "cell_type": "code",
   "execution_count": 40,
   "metadata": {},
   "outputs": [],
   "source": [
    "# Parse the datetime to Denver time.\n",
    "denver_data['start_fmt_time'] = pd.to_datetime(\n",
    "    denver_data['start_fmt_time'], utc=True\n",
    ").dt.tz_convert('America/Denver')\n",
    "\n",
    "# Re-compute all the start variables.\n",
    "# denver_data['start_local_dt_year'] = denver_data['start_fmt_time'].dt.year\n",
    "# denver_data['start_local_dt_month'] = denver_data['start_fmt_time'].dt.month\n",
    "# denver_data['start_local_dt_day'] = denver_data['start_fmt_time'].dt.day\n",
    "# denver_data['start_local_dt_hour'] = denver_data['start_fmt_time'].dt.hour\n",
    "# denver_data['start_local_dt_weekday'] = denver_data['start_fmt_time'].dt.weekday\n",
    "\n",
    "# ## Do the same with the end time.\n",
    "denver_data['end_fmt_time'] = pd.to_datetime(\n",
    "    denver_data['end_fmt_time'], utc=True\n",
    ").dt.tz_convert('America/Denver')\n",
    "\n",
    "# # Re-compute all the end variables.\n",
    "# denver_data['end_local_dt_year'] = denver_data['end_fmt_time'].dt.year\n",
    "# denver_data['end_local_dt_month'] = denver_data['end_fmt_time'].dt.month\n",
    "# denver_data['end_local_dt_day'] = denver_data['end_fmt_time'].dt.day\n",
    "# denver_data['end_local_dt_hour'] = denver_data['end_fmt_time'].dt.hour\n",
    "# denver_data['end_local_dt_weekday'] = denver_data['end_fmt_time'].dt.weekday"
   ]
  },
  {
   "cell_type": "code",
   "execution_count": 41,
   "metadata": {},
   "outputs": [],
   "source": [
    "# Merge the trip data with the survey data.\n",
    "\n",
    "# inner join.\n",
    "merged_data = denver_data.merge(\n",
    "    f_survey, left_on='user_id', right_on='user_id'\n",
    ")"
   ]
  },
  {
   "cell_type": "code",
   "execution_count": 42,
   "metadata": {},
   "outputs": [
    {
     "name": "stdout",
     "output_type": "stream",
     "text": [
      "166\n"
     ]
    }
   ],
   "source": [
    "print(len(merged_data.user_id.unique()))"
   ]
  },
  {
   "cell_type": "code",
   "execution_count": 43,
   "metadata": {},
   "outputs": [],
   "source": [
    "# Let's start choosing features for modeling.\n",
    "\n",
    "# base_time_features = ['fmt_time', 'local_dt_year', 'local_dt_month', 'local_dt_day', 'local_dt_hour', 'local_dt_weekday']\n",
    "# time_features = ['start_' + x for x in base_time_features] + ['end_' + x for x in base_time_features]\n",
    "\n",
    "# demographic_features = ['available_modes',\n",
    "#     'birth_year', 'income_category', 'n_motor_vehicles', 'n_residence_members', 'n_residents_u18', 'gender', \n",
    "#     'is_student', 'n_residents_with_license']\n",
    "\n",
    "# sensed_features = ['duration', 'distance_miles', 'cleaned_trip', 'start_loc', 'end_loc', 'section_modes', 'section_distances']\n",
    "\n",
    "# modeling_data = merged_data[['user_id', '_id', 'original_user_id', 'cleaned_trip', 'Replaced_mode', 'Mode_confirm'] + time_features + demographic_features + sensed_features].copy()\n",
    "modeling_data = merged_data.copy()\n",
    "\n",
    "# Rename columns in-place.\n",
    "modeling_data.rename(columns={\n",
    "    'start_local_dt_year': 'start:year', 'start_local_dt_month': 'start:month', 'start_local_dt_day': 'start:day', 'start_local_dt_hour': 'start:hour',\n",
    "    'end_local_dt_year': 'end:year', 'end_local_dt_month': 'end:month', 'end_local_dt_day': 'end:day', 'end_local_dt_hour': 'end:hour'\n",
    "    }, inplace=True)"
   ]
  },
  {
   "cell_type": "code",
   "execution_count": 44,
   "metadata": {},
   "outputs": [],
   "source": [
    "def is_overnight_trip(start_date, end_date):\n",
    "    return int((end_date - start_date).days > 0)\n",
    "\n",
    "# overnight trips may be more likely taken by car.\n",
    "modeling_data['is_overnight_trip'] = modeling_data.apply(\n",
    "    lambda x: is_overnight_trip(x.start_fmt_time, x.end_fmt_time), axis=1\n",
    ")\n",
    "\n",
    "# Number of working individuals in the household = number of individuals in the house - number of children.\n",
    "modeling_data['n_working_residents'] = (modeling_data['n_residence_members'] - modeling_data['n_residents_u18']).astype(int)\n",
    "\n",
    "# Convert the total duration of the trip into minutes.\n",
    "modeling_data[['duration']] = modeling_data[['duration']]/60\n",
    "\n",
    "# Extract start and end latitudes and longitudes.\n",
    "modeling_data['start_lat'] = modeling_data['start_loc'].apply(lambda x: x['coordinates'][1])\n",
    "modeling_data['start_lng'] = modeling_data['start_loc'].apply(lambda x: x['coordinates'][0])\n",
    "\n",
    "modeling_data['end_lat'] = modeling_data['end_loc'].apply(lambda x: x['coordinates'][1])\n",
    "modeling_data['end_lng'] = modeling_data['end_loc'].apply(lambda x: x['coordinates'][0])"
   ]
  },
  {
   "cell_type": "code",
   "execution_count": 45,
   "metadata": {},
   "outputs": [],
   "source": [
    "# from calendar import monthrange\n",
    "\n",
    "# # Find day of month: use monthrange with (mm, yyyy) args and find how many days that month had (leap years are supported).\n",
    "# def get_num_days_in_month(yyyy, mm):\n",
    "#     return monthrange(yyyy, mm)[1]\n",
    "\n",
    "# def is_overnight_trip(start_date, end_date):\n",
    "#     return int((end_date - start_date).days > 0)\n",
    "\n",
    "# # get the number of days for the start and end times.\n",
    "# modeling_data['start:n_days_in_month'] = modeling_data.apply(lambda x: get_num_days_in_month(x['start:year'], x['start:month']), axis=1)\n",
    "# modeling_data['end:n_days_in_month'] = modeling_data.apply(lambda x: get_num_days_in_month(x['end:year'], x['end:month']), axis=1)\n",
    "\n",
    "# # age = current year - year of birth\n",
    "# modeling_data['age'] = 2023 - modeling_data['birth_year']\n",
    "\n",
    "# # overnight trips may be more likely taken by car.\n",
    "# modeling_data['is_overnight_trip'] = modeling_data.apply(lambda x: is_overnight_trip(x.start_fmt_time, x.end_fmt_time), axis=1)\n",
    "\n",
    "# # Number of working individuals in the household = number of individuals in the house - number of children.\n",
    "# modeling_data['n_working_residents'] = (modeling_data['n_residence_members'] - modeling_data['n_residents_u18']).astype(int)\n",
    "\n",
    "# # Create a binary indicator.\n",
    "# modeling_data['is_male'] = modeling_data.gender.apply(lambda x: 1 if x==\"Male\" else 0)\n",
    "\n",
    "# # Bin the number of vehicles owned.\n",
    "# # Drop the observations with (Prefer not to say)\n",
    "# modeling_data = modeling_data.loc[~modeling_data['n_motor_vehicles'].isin(['Prefer not to say / Prefiero no decir.']), :]\n",
    "# modeling_data.loc[modeling_data['n_motor_vehicles'].isin(['4+']), 'n_motor_vehicles'] = 4\n",
    "# modeling_data['n_motor_vehicles'] = modeling_data['n_motor_vehicles'].astype(int)\n",
    "\n",
    "# # Convert the total duration of the trip into minutes.\n",
    "# modeling_data[['duration']] = modeling_data[['duration']]/60\n",
    "\n",
    "# # Extract start and end latitudes and longitudes.\n",
    "# modeling_data['start_lat'] = modeling_data['start_loc'].apply(lambda x: x['coordinates'][1])\n",
    "# modeling_data['start_lng'] = modeling_data['start_loc'].apply(lambda x: x['coordinates'][0])\n",
    "\n",
    "# modeling_data['end_lat'] = modeling_data['end_loc'].apply(lambda x: x['coordinates'][1])\n",
    "# modeling_data['end_lng'] = modeling_data['end_loc'].apply(lambda x: x['coordinates'][0])"
   ]
  },
  {
   "cell_type": "code",
   "execution_count": 46,
   "metadata": {},
   "outputs": [],
   "source": [
    "# # Time-related feature engineeering:\n",
    "# '''\n",
    "# HOD: hour of day\n",
    "# DOM: day of month\n",
    "# MOY: month of year\n",
    "# '''\n",
    "\n",
    "# def get_HOD(hour, how='sin'):\n",
    "#     if how == 'sin':\n",
    "#         return np.sin(2 * np.pi * (hour/24))\n",
    "#     return np.cos(2 * np.pi * (hour/24))\n",
    "\n",
    "# def get_DOM(day, n_days, how='sin'):\n",
    "#     if how == 'sin':\n",
    "#         return np.sin(2 * np.pi * (day/n_days))\n",
    "#     return np.cos(2 * np.pi * (day/n_days))\n",
    "\n",
    "# def get_MOY(month, how='sin'):\n",
    "#     if how == 'sin':\n",
    "#         return np.sin(2 * np.pi * (month/12))\n",
    "#     return np.cos(2 * np.pi * (month/12))\n",
    "\n",
    "# # Start - sin\n",
    "# modeling_data['start:sin_HOD'] = modeling_data.apply(lambda x: get_HOD(x['start:hour']), axis=1)\n",
    "# modeling_data['start:sin_DOM'] = modeling_data.apply(lambda x: get_DOM(x['start:day'], x['start:n_days_in_month']), axis=1)\n",
    "# modeling_data['start:sin_MOY'] = modeling_data.apply(lambda x: get_MOY(x['start:year']), axis=1)\n",
    "\n",
    "# # Start - cos\n",
    "# modeling_data['start:cos_HOD'] = modeling_data.apply(lambda x: get_HOD(x['start:hour'], how='cos'), axis=1)\n",
    "# modeling_data['start:cos_DOM'] = modeling_data.apply(lambda x: get_DOM(x['start:day'], x['start:n_days_in_month'], how='cos'), axis=1)\n",
    "# modeling_data['start:cos_MOY'] = modeling_data.apply(lambda x: get_MOY(x['start:year'], how='cos'), axis=1)\n",
    "\n",
    "# # End - sin\n",
    "# modeling_data['end:sin_HOD'] = modeling_data.apply(lambda x: get_HOD(x['end:hour']), axis=1)\n",
    "# modeling_data['end:sin_DOM'] = modeling_data.apply(lambda x: get_DOM(x['end:day'], x['end:n_days_in_month']), axis=1)\n",
    "# modeling_data['end:sin_MOY'] = modeling_data.apply(lambda x: get_MOY(x['end:year']), axis=1)\n",
    "\n",
    "# # End - cos\n",
    "# modeling_data['end:cos_HOD'] = modeling_data.apply(lambda x: get_HOD(x['end:hour'], how='cos'), axis=1)\n",
    "# modeling_data['end:cos_DOM'] = modeling_data.apply(lambda x: get_DOM(x['end:day'], x['end:n_days_in_month'], how='cos'), axis=1)\n",
    "# modeling_data['end:cos_MOY'] = modeling_data.apply(lambda x: get_MOY(x['end:year'], how='cos'), axis=1)"
   ]
  },
  {
   "cell_type": "code",
   "execution_count": 47,
   "metadata": {},
   "outputs": [
    {
     "data": {
      "text/html": [
       "<div>\n",
       "<style scoped>\n",
       "    .dataframe tbody tr th:only-of-type {\n",
       "        vertical-align: middle;\n",
       "    }\n",
       "\n",
       "    .dataframe tbody tr th {\n",
       "        vertical-align: top;\n",
       "    }\n",
       "\n",
       "    .dataframe thead th {\n",
       "        text-align: right;\n",
       "    }\n",
       "</style>\n",
       "<table border=\"1\" class=\"dataframe\">\n",
       "  <thead>\n",
       "    <tr style=\"text-align: right;\">\n",
       "      <th></th>\n",
       "      <th>source</th>\n",
       "      <th>end_ts</th>\n",
       "      <th>end_fmt_time</th>\n",
       "      <th>end_loc</th>\n",
       "      <th>raw_trip</th>\n",
       "      <th>start_ts</th>\n",
       "      <th>start_fmt_time</th>\n",
       "      <th>start_loc</th>\n",
       "      <th>duration</th>\n",
       "      <th>distance</th>\n",
       "      <th>...</th>\n",
       "      <th>primary_job_commute_mode_Hybrid</th>\n",
       "      <th>primary_job_commute_mode_Public transport</th>\n",
       "      <th>primary_job_commute_mode_Unknown</th>\n",
       "      <th>primary_job_commute_mode_WFH</th>\n",
       "      <th>is_overnight_trip</th>\n",
       "      <th>n_working_residents</th>\n",
       "      <th>start_lat</th>\n",
       "      <th>start_lng</th>\n",
       "      <th>end_lat</th>\n",
       "      <th>end_lng</th>\n",
       "    </tr>\n",
       "  </thead>\n",
       "  <tbody>\n",
       "    <tr>\n",
       "      <th>0</th>\n",
       "      <td>DwellSegmentationDistFilter</td>\n",
       "      <td>1.629238e+09</td>\n",
       "      <td>2021-08-17 16:02:26.493017-06:00</td>\n",
       "      <td>{'type': 'Point', 'coordinates': [-71.08788681...</td>\n",
       "      <td>611c350df3bfdd5663c34e52</td>\n",
       "      <td>1.629237e+09</td>\n",
       "      <td>2021-08-17 15:51:32.998732-06:00</td>\n",
       "      <td>{'type': 'Point', 'coordinates': [-71.11831245...</td>\n",
       "      <td>10.891571</td>\n",
       "      <td>2700.231495</td>\n",
       "      <td>...</td>\n",
       "      <td>0.0</td>\n",
       "      <td>0.0</td>\n",
       "      <td>1.0</td>\n",
       "      <td>0.0</td>\n",
       "      <td>0</td>\n",
       "      <td>3</td>\n",
       "      <td>42.351336</td>\n",
       "      <td>-71.118312</td>\n",
       "      <td>42.347875</td>\n",
       "      <td>-71.087887</td>\n",
       "    </tr>\n",
       "    <tr>\n",
       "      <th>1</th>\n",
       "      <td>DwellSegmentationDistFilter</td>\n",
       "      <td>1.645386e+09</td>\n",
       "      <td>2022-02-20 12:32:43.451677-07:00</td>\n",
       "      <td>{'type': 'Point', 'coordinates': [-111.9450490...</td>\n",
       "      <td>6212ce379106a670c421b888</td>\n",
       "      <td>1.645383e+09</td>\n",
       "      <td>2022-02-20 11:58:02.051102-07:00</td>\n",
       "      <td>{'type': 'Point', 'coordinates': [-111.9167906...</td>\n",
       "      <td>34.690010</td>\n",
       "      <td>18093.352854</td>\n",
       "      <td>...</td>\n",
       "      <td>0.0</td>\n",
       "      <td>0.0</td>\n",
       "      <td>1.0</td>\n",
       "      <td>0.0</td>\n",
       "      <td>0</td>\n",
       "      <td>3</td>\n",
       "      <td>33.595163</td>\n",
       "      <td>-111.916791</td>\n",
       "      <td>33.461827</td>\n",
       "      <td>-111.945049</td>\n",
       "    </tr>\n",
       "    <tr>\n",
       "      <th>2</th>\n",
       "      <td>DwellSegmentationDistFilter</td>\n",
       "      <td>1.645391e+09</td>\n",
       "      <td>2022-02-20 14:07:17.998778-07:00</td>\n",
       "      <td>{'type': 'Point', 'coordinates': [-111.9440840...</td>\n",
       "      <td>6212ce459106a670c421b88c</td>\n",
       "      <td>1.645388e+09</td>\n",
       "      <td>2022-02-20 13:20:30.462982-07:00</td>\n",
       "      <td>{'type': 'Point', 'coordinates': [-111.9437005...</td>\n",
       "      <td>46.792263</td>\n",
       "      <td>984.681194</td>\n",
       "      <td>...</td>\n",
       "      <td>0.0</td>\n",
       "      <td>0.0</td>\n",
       "      <td>1.0</td>\n",
       "      <td>0.0</td>\n",
       "      <td>0</td>\n",
       "      <td>3</td>\n",
       "      <td>33.461366</td>\n",
       "      <td>-111.943701</td>\n",
       "      <td>33.460592</td>\n",
       "      <td>-111.944084</td>\n",
       "    </tr>\n",
       "    <tr>\n",
       "      <th>3</th>\n",
       "      <td>DwellSegmentationDistFilter</td>\n",
       "      <td>1.645397e+09</td>\n",
       "      <td>2022-02-20 15:35:51.018136-07:00</td>\n",
       "      <td>{'type': 'Point', 'coordinates': [-111.9448744...</td>\n",
       "      <td>6212ce459106a670c421b88e</td>\n",
       "      <td>1.645397e+09</td>\n",
       "      <td>2022-02-20 15:35:16.506669-07:00</td>\n",
       "      <td>{'type': 'Point', 'coordinates': [-111.9440840...</td>\n",
       "      <td>0.575191</td>\n",
       "      <td>183.932256</td>\n",
       "      <td>...</td>\n",
       "      <td>0.0</td>\n",
       "      <td>0.0</td>\n",
       "      <td>1.0</td>\n",
       "      <td>0.0</td>\n",
       "      <td>0</td>\n",
       "      <td>3</td>\n",
       "      <td>33.460592</td>\n",
       "      <td>-111.944084</td>\n",
       "      <td>33.462015</td>\n",
       "      <td>-111.944874</td>\n",
       "    </tr>\n",
       "    <tr>\n",
       "      <th>4</th>\n",
       "      <td>DwellSegmentationDistFilter</td>\n",
       "      <td>1.645405e+09</td>\n",
       "      <td>2022-02-20 17:52:13.000176-07:00</td>\n",
       "      <td>{'type': 'Point', 'coordinates': [-110.8175686...</td>\n",
       "      <td>6214032d39cfe183d0343a07</td>\n",
       "      <td>1.645397e+09</td>\n",
       "      <td>2022-02-20 15:43:38.468902-07:00</td>\n",
       "      <td>{'type': 'Point', 'coordinates': [-111.9448744...</td>\n",
       "      <td>128.575521</td>\n",
       "      <td>192258.374492</td>\n",
       "      <td>...</td>\n",
       "      <td>0.0</td>\n",
       "      <td>0.0</td>\n",
       "      <td>1.0</td>\n",
       "      <td>0.0</td>\n",
       "      <td>0</td>\n",
       "      <td>3</td>\n",
       "      <td>33.462015</td>\n",
       "      <td>-111.944874</td>\n",
       "      <td>32.276548</td>\n",
       "      <td>-110.817569</td>\n",
       "    </tr>\n",
       "  </tbody>\n",
       "</table>\n",
       "<p>5 rows × 104 columns</p>\n",
       "</div>"
      ],
      "text/plain": [
       "                        source        end_ts                     end_fmt_time  \\\n",
       "0  DwellSegmentationDistFilter  1.629238e+09 2021-08-17 16:02:26.493017-06:00   \n",
       "1  DwellSegmentationDistFilter  1.645386e+09 2022-02-20 12:32:43.451677-07:00   \n",
       "2  DwellSegmentationDistFilter  1.645391e+09 2022-02-20 14:07:17.998778-07:00   \n",
       "3  DwellSegmentationDistFilter  1.645397e+09 2022-02-20 15:35:51.018136-07:00   \n",
       "4  DwellSegmentationDistFilter  1.645405e+09 2022-02-20 17:52:13.000176-07:00   \n",
       "\n",
       "                                             end_loc  \\\n",
       "0  {'type': 'Point', 'coordinates': [-71.08788681...   \n",
       "1  {'type': 'Point', 'coordinates': [-111.9450490...   \n",
       "2  {'type': 'Point', 'coordinates': [-111.9440840...   \n",
       "3  {'type': 'Point', 'coordinates': [-111.9448744...   \n",
       "4  {'type': 'Point', 'coordinates': [-110.8175686...   \n",
       "\n",
       "                   raw_trip      start_ts                   start_fmt_time  \\\n",
       "0  611c350df3bfdd5663c34e52  1.629237e+09 2021-08-17 15:51:32.998732-06:00   \n",
       "1  6212ce379106a670c421b888  1.645383e+09 2022-02-20 11:58:02.051102-07:00   \n",
       "2  6212ce459106a670c421b88c  1.645388e+09 2022-02-20 13:20:30.462982-07:00   \n",
       "3  6212ce459106a670c421b88e  1.645397e+09 2022-02-20 15:35:16.506669-07:00   \n",
       "4  6214032d39cfe183d0343a07  1.645397e+09 2022-02-20 15:43:38.468902-07:00   \n",
       "\n",
       "                                           start_loc    duration  \\\n",
       "0  {'type': 'Point', 'coordinates': [-71.11831245...   10.891571   \n",
       "1  {'type': 'Point', 'coordinates': [-111.9167906...   34.690010   \n",
       "2  {'type': 'Point', 'coordinates': [-111.9437005...   46.792263   \n",
       "3  {'type': 'Point', 'coordinates': [-111.9440840...    0.575191   \n",
       "4  {'type': 'Point', 'coordinates': [-111.9448744...  128.575521   \n",
       "\n",
       "        distance  ... primary_job_commute_mode_Hybrid  \\\n",
       "0    2700.231495  ...                             0.0   \n",
       "1   18093.352854  ...                             0.0   \n",
       "2     984.681194  ...                             0.0   \n",
       "3     183.932256  ...                             0.0   \n",
       "4  192258.374492  ...                             0.0   \n",
       "\n",
       "  primary_job_commute_mode_Public transport primary_job_commute_mode_Unknown  \\\n",
       "0                                       0.0                              1.0   \n",
       "1                                       0.0                              1.0   \n",
       "2                                       0.0                              1.0   \n",
       "3                                       0.0                              1.0   \n",
       "4                                       0.0                              1.0   \n",
       "\n",
       "  primary_job_commute_mode_WFH is_overnight_trip n_working_residents  \\\n",
       "0                          0.0                 0                   3   \n",
       "1                          0.0                 0                   3   \n",
       "2                          0.0                 0                   3   \n",
       "3                          0.0                 0                   3   \n",
       "4                          0.0                 0                   3   \n",
       "\n",
       "   start_lat   start_lng    end_lat     end_lng  \n",
       "0  42.351336  -71.118312  42.347875  -71.087887  \n",
       "1  33.595163 -111.916791  33.461827 -111.945049  \n",
       "2  33.461366 -111.943701  33.460592 -111.944084  \n",
       "3  33.460592 -111.944084  33.462015 -111.944874  \n",
       "4  33.462015 -111.944874  32.276548 -110.817569  \n",
       "\n",
       "[5 rows x 104 columns]"
      ]
     },
     "execution_count": 47,
     "metadata": {},
     "output_type": "execute_result"
    }
   ],
   "source": [
    "modeling_data.head()"
   ]
  },
  {
   "cell_type": "markdown",
   "metadata": {},
   "source": [
    "Now, for every trip, we have the corresponding section mode that covered the longest distance for the trip.\n",
    "\n",
    "Using this as well as the `available_modes` column:\n",
    "\n",
    "```language=python\n",
    "\n",
    "    # unique available modes:\n",
    "    {'Bicycle',\n",
    "    'Do not have vehicle ',\n",
    "    'Get a ride from a friend or family member',\n",
    "    'None',\n",
    "    'Public transportation (bus, subway, light rail, etc.)',\n",
    "    'Rental car (including Zipcar/ Car2Go)',\n",
    "    'Shared bicycle or scooter',\n",
    "    'Skateboard',\n",
    "    'Taxi (regular taxi, Uber, Lyft, etc)',\n",
    "    'Walk/roll'}\n",
    "\n",
    "    # unique section modes:\n",
    "    {'bicycling', 'bus', 'car', 'no_sensed', 'train', 'walking'}\n",
    "\n",
    "    \n",
    "```\n",
    "\n",
    "What mapping can we establish here? "
   ]
  },
  {
   "cell_type": "code",
   "execution_count": 48,
   "metadata": {},
   "outputs": [],
   "source": [
    "def remove_air_or_hsr(df):\n",
    "\n",
    "    df['mark'] = 0\n",
    "\n",
    "    for ix, row in df.iterrows():\n",
    "        sections = row['section_modes']\n",
    "        if 'air_or_hsr' in sections:\n",
    "            df.loc[ix, 'mark'] = 1\n",
    "    \n",
    "    df = r(df.loc[df.mark == 0, :])\n",
    "    df.drop(columns=['mark'], inplace=True)\n",
    "\n",
    "    return df"
   ]
  },
  {
   "cell_type": "code",
   "execution_count": 49,
   "metadata": {},
   "outputs": [],
   "source": [
    "modeling_data = remove_air_or_hsr(modeling_data)"
   ]
  },
  {
   "cell_type": "code",
   "execution_count": 50,
   "metadata": {},
   "outputs": [
    {
     "data": {
      "text/plain": [
       "<module 'scaffolding' from '/Users/rkulhall/em-public-dashboard/rm_src/../viz_scripts/scaffolding.py'>"
      ]
     },
     "execution_count": 50,
     "metadata": {},
     "output_type": "execute_result"
    }
   ],
   "source": [
    "importlib.reload(scaffolding)"
   ]
  },
  {
   "cell_type": "code",
   "execution_count": 51,
   "metadata": {},
   "outputs": [],
   "source": [
    "results = list()"
   ]
  },
  {
   "cell_type": "code",
   "execution_count": 52,
   "metadata": {},
   "outputs": [],
   "source": [
    "modeling_data = r(modeling_data.loc[:,~modeling_data.columns.duplicated()].copy())\n",
    "subset = modeling_data[['original_user_id', 'cleaned_trip']]"
   ]
  },
  {
   "cell_type": "code",
   "execution_count": 53,
   "metadata": {},
   "outputs": [],
   "source": [
    "num_splits = 10\n",
    "samples_per_split = modeling_data.shape[0]//num_splits"
   ]
  },
  {
   "cell_type": "code",
   "execution_count": 54,
   "metadata": {},
   "outputs": [
    {
     "name": "stdout",
     "output_type": "stream",
     "text": [
      "Split 0 size: 8069\n",
      "INFO: Pandarallel will run on 4 workers.\n",
      "INFO: Pandarallel will use standard multiprocessing data transfer (pipe) to transfer data between the main process and workers.\n",
      "Falling back to confirmed trips...\n",
      "Falling back to confirmed trips...\n",
      "Falling back to confirmed trips...\n",
      "Falling back to confirmed trips...\n",
      "Falling back to confirmed trips...\n",
      "Falling back to confirmed trips...\n",
      "Falling back to confirmed trips...\n",
      "Falling back to confirmed trips...\n",
      "Falling back to confirmed trips...\n",
      "Falling back to confirmed trips...\n",
      "Falling back to confirmed trips...\n",
      "Falling back to confirmed trips...\n",
      "Falling back to confirmed trips...\n",
      "Falling back to confirmed trips...\n",
      "Falling back to confirmed trips...\n",
      "Falling back to confirmed trips...\n",
      "Falling back to confirmed trips...\n",
      "Falling back to confirmed trips...\n",
      "Falling back to confirmed trips...\n",
      "Falling back to confirmed trips...\n",
      "Falling back to confirmed trips...\n",
      "Falling back to confirmed trips...\n",
      "Falling back to confirmed trips...\n",
      "Falling back to confirmed trips...\n",
      "Falling back to confirmed trips...\n",
      "Falling back to confirmed trips...\n",
      "Falling back to confirmed trips...\n",
      "Falling back to confirmed trips...\n",
      "Falling back to confirmed trips...\n",
      "Falling back to confirmed trips...\n",
      "Falling back to confirmed trips...\n",
      "Falling back to confirmed trips...\n",
      "Falling back to confirmed trips...\n",
      "Falling back to confirmed trips...\n",
      "Falling back to confirmed trips...\n",
      "Falling back to confirmed trips...\n",
      "Falling back to confirmed trips...\n",
      "Falling back to confirmed trips...\n",
      "Falling back to confirmed trips...\n",
      "Falling back to confirmed trips...\n",
      "Falling back to confirmed trips...\n",
      "Falling back to confirmed trips...\n",
      "Falling back to confirmed trips...\n",
      "Falling back to confirmed trips...\n",
      "Falling back to confirmed trips...\n",
      "Falling back to confirmed trips...\n",
      "Falling back to confirmed trips...\n",
      "Falling back to confirmed trips...\n",
      "Falling back to confirmed trips...\n",
      "Falling back to confirmed trips...\n",
      "Falling back to confirmed trips...\n",
      "Falling back to confirmed trips...\n",
      "Falling back to confirmed trips...\n",
      "Falling back to confirmed trips...\n",
      "Falling back to confirmed trips...\n",
      "Falling back to confirmed trips...\n",
      "Falling back to confirmed trips...\n",
      "Falling back to confirmed trips...\n",
      "Falling back to confirmed trips...\n",
      "Falling back to confirmed trips...\n",
      "Falling back to confirmed trips...\n",
      "Falling back to confirmed trips...\n",
      "Falling back to confirmed trips...\n",
      "Falling back to confirmed trips...\n",
      "Falling back to confirmed trips...\n",
      "Falling back to confirmed trips...\n",
      "Falling back to confirmed trips...\n",
      "Falling back to confirmed trips...\n",
      "Falling back to confirmed trips...\n",
      "Falling back to confirmed trips...\n",
      "Falling back to confirmed trips...\n",
      "Falling back to confirmed trips...\n",
      "Falling back to confirmed trips...\n",
      "Falling back to confirmed trips...\n",
      "Falling back to confirmed trips...\n",
      "Falling back to confirmed trips...\n",
      "Falling back to confirmed trips...\n",
      "Falling back to confirmed trips...\n",
      "Falling back to confirmed trips...\n",
      "Falling back to confirmed trips...\n",
      "Falling back to confirmed trips...\n",
      "Falling back to confirmed trips...\n",
      "Falling back to confirmed trips...\n",
      "Falling back to confirmed trips...\n",
      "Falling back to confirmed trips...\n",
      "Falling back to confirmed trips...\n",
      "Falling back to confirmed trips...\n",
      "Falling back to confirmed trips...\n",
      "Falling back to confirmed trips...\n",
      "Falling back to confirmed trips...\n",
      "Falling back to confirmed trips...\n",
      "Falling back to confirmed trips...\n",
      "Falling back to confirmed trips...\n",
      "Took 13.07597050956667 minutes to complete\n",
      "Split 1 size: 8069\n",
      "INFO: Pandarallel will run on 4 workers.\n",
      "INFO: Pandarallel will use standard multiprocessing data transfer (pipe) to transfer data between the main process and workers.\n"
     ]
    },
    {
     "name": "stderr",
     "output_type": "stream",
     "text": [
      "/Users/rkulhall/em-public-dashboard/rm_src/../viz_scripts/scaffolding.py:147: SettingWithCopyWarning: \n",
      "A value is trying to be set on a copy of a slice from a DataFrame.\n",
      "Try using .loc[row_indexer,col_indexer] = value instead\n",
      "\n",
      "See the caveats in the documentation: https://pandas.pydata.org/pandas-docs/stable/user_guide/indexing.html#returning-a-view-versus-a-copy\n",
      "  confirmed_trips['section_durations'] = confirmed_trips.parallel_apply(\n"
     ]
    },
    {
     "name": "stdout",
     "output_type": "stream",
     "text": [
      "Took 20.352822523033332 minutes to complete\n",
      "Split 2 size: 8069\n",
      "INFO: Pandarallel will run on 4 workers.\n",
      "INFO: Pandarallel will use standard multiprocessing data transfer (pipe) to transfer data between the main process and workers.\n"
     ]
    },
    {
     "name": "stderr",
     "output_type": "stream",
     "text": [
      "/Users/rkulhall/em-public-dashboard/rm_src/../viz_scripts/scaffolding.py:147: SettingWithCopyWarning: \n",
      "A value is trying to be set on a copy of a slice from a DataFrame.\n",
      "Try using .loc[row_indexer,col_indexer] = value instead\n",
      "\n",
      "See the caveats in the documentation: https://pandas.pydata.org/pandas-docs/stable/user_guide/indexing.html#returning-a-view-versus-a-copy\n",
      "  confirmed_trips['section_durations'] = confirmed_trips.parallel_apply(\n"
     ]
    },
    {
     "name": "stdout",
     "output_type": "stream",
     "text": [
      "Took 19.824597845733333 minutes to complete\n",
      "Split 3 size: 8069\n",
      "INFO: Pandarallel will run on 4 workers.\n",
      "INFO: Pandarallel will use standard multiprocessing data transfer (pipe) to transfer data between the main process and workers.\n"
     ]
    },
    {
     "name": "stderr",
     "output_type": "stream",
     "text": [
      "/Users/rkulhall/em-public-dashboard/rm_src/../viz_scripts/scaffolding.py:147: SettingWithCopyWarning: \n",
      "A value is trying to be set on a copy of a slice from a DataFrame.\n",
      "Try using .loc[row_indexer,col_indexer] = value instead\n",
      "\n",
      "See the caveats in the documentation: https://pandas.pydata.org/pandas-docs/stable/user_guide/indexing.html#returning-a-view-versus-a-copy\n",
      "  confirmed_trips['section_durations'] = confirmed_trips.parallel_apply(\n"
     ]
    },
    {
     "name": "stdout",
     "output_type": "stream",
     "text": [
      "Took 20.249677114833336 minutes to complete\n",
      "Split 4 size: 8069\n",
      "INFO: Pandarallel will run on 4 workers.\n",
      "INFO: Pandarallel will use standard multiprocessing data transfer (pipe) to transfer data between the main process and workers.\n"
     ]
    },
    {
     "name": "stderr",
     "output_type": "stream",
     "text": [
      "/Users/rkulhall/em-public-dashboard/rm_src/../viz_scripts/scaffolding.py:147: SettingWithCopyWarning: \n",
      "A value is trying to be set on a copy of a slice from a DataFrame.\n",
      "Try using .loc[row_indexer,col_indexer] = value instead\n",
      "\n",
      "See the caveats in the documentation: https://pandas.pydata.org/pandas-docs/stable/user_guide/indexing.html#returning-a-view-versus-a-copy\n",
      "  confirmed_trips['section_durations'] = confirmed_trips.parallel_apply(\n"
     ]
    },
    {
     "name": "stdout",
     "output_type": "stream",
     "text": [
      "Took 18.196551645316656 minutes to complete\n",
      "Split 5 size: 8069\n",
      "INFO: Pandarallel will run on 4 workers.\n",
      "INFO: Pandarallel will use standard multiprocessing data transfer (pipe) to transfer data between the main process and workers.\n"
     ]
    },
    {
     "name": "stderr",
     "output_type": "stream",
     "text": [
      "/Users/rkulhall/em-public-dashboard/rm_src/../viz_scripts/scaffolding.py:147: SettingWithCopyWarning: \n",
      "A value is trying to be set on a copy of a slice from a DataFrame.\n",
      "Try using .loc[row_indexer,col_indexer] = value instead\n",
      "\n",
      "See the caveats in the documentation: https://pandas.pydata.org/pandas-docs/stable/user_guide/indexing.html#returning-a-view-versus-a-copy\n",
      "  confirmed_trips['section_durations'] = confirmed_trips.parallel_apply(\n"
     ]
    },
    {
     "name": "stdout",
     "output_type": "stream",
     "text": [
      "Took 14.953972044866669 minutes to complete\n",
      "Split 6 size: 8069\n",
      "INFO: Pandarallel will run on 4 workers.\n",
      "INFO: Pandarallel will use standard multiprocessing data transfer (pipe) to transfer data between the main process and workers.\n"
     ]
    },
    {
     "name": "stderr",
     "output_type": "stream",
     "text": [
      "/Users/rkulhall/em-public-dashboard/rm_src/../viz_scripts/scaffolding.py:147: SettingWithCopyWarning: \n",
      "A value is trying to be set on a copy of a slice from a DataFrame.\n",
      "Try using .loc[row_indexer,col_indexer] = value instead\n",
      "\n",
      "See the caveats in the documentation: https://pandas.pydata.org/pandas-docs/stable/user_guide/indexing.html#returning-a-view-versus-a-copy\n",
      "  confirmed_trips['section_durations'] = confirmed_trips.parallel_apply(\n"
     ]
    },
    {
     "name": "stdout",
     "output_type": "stream",
     "text": [
      "Took 13.908668193450012 minutes to complete\n",
      "Split 7 size: 8069\n",
      "INFO: Pandarallel will run on 4 workers.\n",
      "INFO: Pandarallel will use standard multiprocessing data transfer (pipe) to transfer data between the main process and workers.\n"
     ]
    },
    {
     "name": "stderr",
     "output_type": "stream",
     "text": [
      "/Users/rkulhall/em-public-dashboard/rm_src/../viz_scripts/scaffolding.py:147: SettingWithCopyWarning: \n",
      "A value is trying to be set on a copy of a slice from a DataFrame.\n",
      "Try using .loc[row_indexer,col_indexer] = value instead\n",
      "\n",
      "See the caveats in the documentation: https://pandas.pydata.org/pandas-docs/stable/user_guide/indexing.html#returning-a-view-versus-a-copy\n",
      "  confirmed_trips['section_durations'] = confirmed_trips.parallel_apply(\n"
     ]
    },
    {
     "name": "stdout",
     "output_type": "stream",
     "text": [
      "Took 15.91554533118333 minutes to complete\n",
      "Split 8 size: 8069\n",
      "INFO: Pandarallel will run on 4 workers.\n",
      "INFO: Pandarallel will use standard multiprocessing data transfer (pipe) to transfer data between the main process and workers.\n"
     ]
    },
    {
     "name": "stderr",
     "output_type": "stream",
     "text": [
      "/Users/rkulhall/em-public-dashboard/rm_src/../viz_scripts/scaffolding.py:147: SettingWithCopyWarning: \n",
      "A value is trying to be set on a copy of a slice from a DataFrame.\n",
      "Try using .loc[row_indexer,col_indexer] = value instead\n",
      "\n",
      "See the caveats in the documentation: https://pandas.pydata.org/pandas-docs/stable/user_guide/indexing.html#returning-a-view-versus-a-copy\n",
      "  confirmed_trips['section_durations'] = confirmed_trips.parallel_apply(\n"
     ]
    },
    {
     "name": "stdout",
     "output_type": "stream",
     "text": [
      "Took 14.596019812649986 minutes to complete\n",
      "Split 9 size: 8069\n",
      "INFO: Pandarallel will run on 4 workers.\n",
      "INFO: Pandarallel will use standard multiprocessing data transfer (pipe) to transfer data between the main process and workers.\n"
     ]
    },
    {
     "name": "stderr",
     "output_type": "stream",
     "text": [
      "/Users/rkulhall/em-public-dashboard/rm_src/../viz_scripts/scaffolding.py:147: SettingWithCopyWarning: \n",
      "A value is trying to be set on a copy of a slice from a DataFrame.\n",
      "Try using .loc[row_indexer,col_indexer] = value instead\n",
      "\n",
      "See the caveats in the documentation: https://pandas.pydata.org/pandas-docs/stable/user_guide/indexing.html#returning-a-view-versus-a-copy\n",
      "  confirmed_trips['section_durations'] = confirmed_trips.parallel_apply(\n"
     ]
    },
    {
     "name": "stdout",
     "output_type": "stream",
     "text": [
      "Took 12.495607870950002 minutes to complete\n"
     ]
    },
    {
     "name": "stderr",
     "output_type": "stream",
     "text": [
      "/Users/rkulhall/em-public-dashboard/rm_src/../viz_scripts/scaffolding.py:147: SettingWithCopyWarning: \n",
      "A value is trying to be set on a copy of a slice from a DataFrame.\n",
      "Try using .loc[row_indexer,col_indexer] = value instead\n",
      "\n",
      "See the caveats in the documentation: https://pandas.pydata.org/pandas-docs/stable/user_guide/indexing.html#returning-a-view-versus-a-copy\n",
      "  confirmed_trips['section_durations'] = confirmed_trips.parallel_apply(\n"
     ]
    }
   ],
   "source": [
    "from time import perf_counter\n",
    "\n",
    "for split_ix in range(num_splits):\n",
    "    low = samples_per_split * split_ix\n",
    "    high = samples_per_split * (split_ix + 1) - 1\n",
    "    split = subset.loc[low:high, :]\n",
    "    \n",
    "    print(f\"Split {split_ix} size: {split.shape[0]}\")\n",
    "    \n",
    "    now = perf_counter()\n",
    "    result = scaffolding.get_section_durations(split)\n",
    "    end = perf_counter() - now\n",
    "\n",
    "    print(f\"Took {end/60} minutes to complete\")\n",
    "    results.append(result)"
   ]
  },
  {
   "cell_type": "code",
   "execution_count": 55,
   "metadata": {},
   "outputs": [
    {
     "name": "stdout",
     "output_type": "stream",
     "text": [
      "10\n"
     ]
    }
   ],
   "source": [
    "print(len(results))"
   ]
  },
  {
   "cell_type": "code",
   "execution_count": 56,
   "metadata": {},
   "outputs": [],
   "source": [
    "cat = pd.concat(results, axis=0)"
   ]
  },
  {
   "cell_type": "code",
   "execution_count": 57,
   "metadata": {},
   "outputs": [
    {
     "name": "stdout",
     "output_type": "stream",
     "text": [
      "80691 80690\n"
     ]
    }
   ],
   "source": [
    "print(modeling_data.shape[0], cat.shape[0])"
   ]
  },
  {
   "cell_type": "code",
   "execution_count": 60,
   "metadata": {},
   "outputs": [
    {
     "name": "stdout",
     "output_type": "stream",
     "text": [
      "80690\n"
     ]
    }
   ],
   "source": [
    "modeling_data = modeling_data.loc[:cat.shape[0]-1, :]\n",
    "print(modeling_data.shape[0])"
   ]
  },
  {
   "cell_type": "code",
   "execution_count": 61,
   "metadata": {},
   "outputs": [
    {
     "data": {
      "text/plain": [
       "True"
      ]
     },
     "execution_count": 61,
     "metadata": {},
     "output_type": "execute_result"
    }
   ],
   "source": [
    "(modeling_data.original_user_id == cat.original_user_id).all()"
   ]
  },
  {
   "cell_type": "code",
   "execution_count": 62,
   "metadata": {},
   "outputs": [
    {
     "data": {
      "text/html": [
       "<div>\n",
       "<style scoped>\n",
       "    .dataframe tbody tr th:only-of-type {\n",
       "        vertical-align: middle;\n",
       "    }\n",
       "\n",
       "    .dataframe tbody tr th {\n",
       "        vertical-align: top;\n",
       "    }\n",
       "\n",
       "    .dataframe thead th {\n",
       "        text-align: right;\n",
       "    }\n",
       "</style>\n",
       "<table border=\"1\" class=\"dataframe\">\n",
       "  <thead>\n",
       "    <tr style=\"text-align: right;\">\n",
       "      <th></th>\n",
       "      <th>original_user_id</th>\n",
       "      <th>cleaned_trip</th>\n",
       "      <th>section_durations</th>\n",
       "    </tr>\n",
       "  </thead>\n",
       "  <tbody>\n",
       "    <tr>\n",
       "      <th>0</th>\n",
       "      <td>8a0473ca-e53d-4720-a99c-0696cc1fb407</td>\n",
       "      <td>611c350ef3bfdd5663c34e5b</td>\n",
       "      <td>[393.00192403793335, 258.49230194091797]</td>\n",
       "    </tr>\n",
       "    <tr>\n",
       "      <th>1</th>\n",
       "      <td>8a0473ca-e53d-4720-a99c-0696cc1fb407</td>\n",
       "      <td>6212ce4c9106a670c421b89b</td>\n",
       "      <td>[2081.4005744457245]</td>\n",
       "    </tr>\n",
       "    <tr>\n",
       "      <th>2</th>\n",
       "      <td>8a0473ca-e53d-4720-a99c-0696cc1fb407</td>\n",
       "      <td>6212ce4e9106a670c421b903</td>\n",
       "      <td>[2807.5357959270477]</td>\n",
       "    </tr>\n",
       "    <tr>\n",
       "      <th>3</th>\n",
       "      <td>8a0473ca-e53d-4720-a99c-0696cc1fb407</td>\n",
       "      <td>6212ce4f9106a670c421b965</td>\n",
       "      <td>[34.51146650314331]</td>\n",
       "    </tr>\n",
       "    <tr>\n",
       "      <th>4</th>\n",
       "      <td>8a0473ca-e53d-4720-a99c-0696cc1fb407</td>\n",
       "      <td>6214033c39cfe183d0343a2f</td>\n",
       "      <td>[7714.531273841858]</td>\n",
       "    </tr>\n",
       "  </tbody>\n",
       "</table>\n",
       "</div>"
      ],
      "text/plain": [
       "                       original_user_id              cleaned_trip  \\\n",
       "0  8a0473ca-e53d-4720-a99c-0696cc1fb407  611c350ef3bfdd5663c34e5b   \n",
       "1  8a0473ca-e53d-4720-a99c-0696cc1fb407  6212ce4c9106a670c421b89b   \n",
       "2  8a0473ca-e53d-4720-a99c-0696cc1fb407  6212ce4e9106a670c421b903   \n",
       "3  8a0473ca-e53d-4720-a99c-0696cc1fb407  6212ce4f9106a670c421b965   \n",
       "4  8a0473ca-e53d-4720-a99c-0696cc1fb407  6214033c39cfe183d0343a2f   \n",
       "\n",
       "                          section_durations  \n",
       "0  [393.00192403793335, 258.49230194091797]  \n",
       "1                      [2081.4005744457245]  \n",
       "2                      [2807.5357959270477]  \n",
       "3                       [34.51146650314331]  \n",
       "4                       [7714.531273841858]  "
      ]
     },
     "metadata": {},
     "output_type": "display_data"
    }
   ],
   "source": [
    "display(cat.head())"
   ]
  },
  {
   "cell_type": "code",
   "execution_count": 64,
   "metadata": {},
   "outputs": [],
   "source": [
    "modeling_data = pd.concat([modeling_data, cat[['section_durations']]], axis=1)"
   ]
  },
  {
   "cell_type": "code",
   "execution_count": 66,
   "metadata": {},
   "outputs": [],
   "source": [
    "modeling_data.to_csv('../data/final_modeling_data_02142024.csv', index=False)"
   ]
  }
 ],
 "metadata": {
  "interpreter": {
   "hash": "ab0c6e94c9422d07d42069ec9e3bb23090f5e156fc0e23cc25ca45a62375bf53"
  },
  "kernelspec": {
   "display_name": "emission",
   "language": "python",
   "name": "emission"
  },
  "language_info": {
   "codemirror_mode": {
    "name": "ipython",
    "version": 3
   },
   "file_extension": ".py",
   "mimetype": "text/x-python",
   "name": "python",
   "nbconvert_exporter": "python",
   "pygments_lexer": "ipython3",
   "version": "3.9.16"
  }
 },
 "nbformat": 4,
 "nbformat_minor": 2
}
