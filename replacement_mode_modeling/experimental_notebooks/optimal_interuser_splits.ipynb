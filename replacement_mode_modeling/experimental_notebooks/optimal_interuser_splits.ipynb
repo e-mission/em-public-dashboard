{
 "cells": [
  {
   "cell_type": "code",
   "execution_count": 1,
   "metadata": {},
   "outputs": [],
   "source": [
    "import pandas as pd"
   ]
  },
  {
   "cell_type": "code",
   "execution_count": 7,
   "metadata": {},
   "outputs": [],
   "source": [
    "df = pd.read_csv('../data/filtered_data/preprocessed_data_openpath_prod_uprm_nicr.csv')"
   ]
  },
  {
   "cell_type": "code",
   "execution_count": 8,
   "metadata": {},
   "outputs": [
    {
     "data": {
      "text/plain": [
       "(1001, 52)"
      ]
     },
     "execution_count": 8,
     "metadata": {},
     "output_type": "execute_result"
    }
   ],
   "source": [
    "df.shape"
   ]
  },
  {
   "cell_type": "code",
   "execution_count": 11,
   "metadata": {},
   "outputs": [
    {
     "data": {
      "text/plain": [
       "True"
      ]
     },
     "execution_count": 11,
     "metadata": {},
     "output_type": "execute_result"
    }
   ],
   "source": [
    "(df.section_mode_argmax.value_counts() < 2).any()"
   ]
  },
  {
   "cell_type": "code",
   "execution_count": 1,
   "metadata": {},
   "outputs": [],
   "source": [
    "import pandas as pd\n",
    "import numpy as np\n",
    "import matplotlib.pyplot as plt\n",
    "import seaborn as sns\n",
    "import random\n",
    "from scipy.special import kl_div\n",
    "from sklearn.model_selection import train_test_split\n",
    "\n",
    "%matplotlib inline"
   ]
  },
  {
   "cell_type": "code",
   "execution_count": 2,
   "metadata": {},
   "outputs": [
    {
     "name": "stderr",
     "output_type": "stream",
     "text": [
      "/var/folders/4x/l9lw50rn7qvf79m01f21x70mlpd6gh/T/ipykernel_85321/3793645385.py:1: DtypeWarning: Columns (38) have mixed types. Specify dtype option on import or set low_memory=False.\n",
      "  data = pd.read_csv('../data/ReplacedMode_Fix_02142024.csv')\n"
     ]
    }
   ],
   "source": [
    "data = pd.read_csv('../data/ReplacedMode_Fix_02142024.csv')\n",
    "data.drop_duplicates(inplace=True)\n",
    "\n",
    "# data.sample(data.shape[0], random_state=SEED).reset_index(drop=True, inplace=True)"
   ]
  },
  {
   "cell_type": "code",
   "execution_count": 3,
   "metadata": {},
   "outputs": [],
   "source": [
    "ideal_tr, ideal_te = train_test_split(data, test_size=0.2, stratify=data.target, shuffle=True)"
   ]
  },
  {
   "cell_type": "code",
   "execution_count": 4,
   "metadata": {},
   "outputs": [
    {
     "name": "stdout",
     "output_type": "stream",
     "text": [
      "Ideal KL: 3.704099704742548e-08\n"
     ]
    }
   ],
   "source": [
    "print(f\"Ideal KL: {kl_div(ideal_tr.target.value_counts(normalize=True), ideal_te.target.value_counts(normalize=True)).mean()}\")"
   ]
  },
  {
   "cell_type": "code",
   "execution_count": 5,
   "metadata": {},
   "outputs": [
    {
     "data": {
      "text/plain": [
       "0.0025"
      ]
     },
     "execution_count": 5,
     "metadata": {},
     "output_type": "execute_result"
    }
   ],
   "source": [
    "2.5e-3"
   ]
  },
  {
   "cell_type": "code",
   "execution_count": 6,
   "metadata": {},
   "outputs": [],
   "source": [
    "def get_optimal_interuser_splits(data: pd.DataFrame, threshold=2.5e-3, maxiters=5000):\n",
    "    \n",
    "    ids = data.user_id.unique().tolist()\n",
    "\n",
    "    best_kl = np.inf\n",
    "    ix = 0\n",
    "    best_train_ids = None\n",
    "\n",
    "    try:\n",
    "        while True:\n",
    "\n",
    "            if ix == maxiters:\n",
    "                break\n",
    "\n",
    "            train_id, test_id = train_test_split(ids, test_size=0.2, shuffle=True)\n",
    "            train = data.loc[data.user_id.isin(train_id), :]\n",
    "            test = data.loc[data.user_id.isin(test_id), :]\n",
    "\n",
    "            kl1 = kl_div(\n",
    "                train.section_mode_argmax.value_counts(normalize=True), \n",
    "                test.section_mode_argmax.value_counts(normalize=True)\n",
    "            ).mean()\n",
    "            \n",
    "            kl2 = kl_div(\n",
    "                train.target.value_counts(normalize=True), \n",
    "                test.target.value_counts(normalize=True)\n",
    "            ).mean()\n",
    "                \n",
    "            kl = kl1 + kl2    \n",
    "            \n",
    "            if kl < best_kl:\n",
    "                best_kl = kl\n",
    "                # No need to save test because test will be a complement of train.\n",
    "                best_train_ids = train_id\n",
    "                print(f'\\t\\t-> Best KL: {best_kl}')\n",
    "\n",
    "            ix += 1\n",
    "\n",
    "            if kl < threshold:\n",
    "                break\n",
    "\n",
    "    except KeyboardInterrupt:\n",
    "        print(\"Stopped iterations. Best KL till now: \", best_kl)\n",
    "   \n",
    "    finally:\n",
    "        return best_train_ids"
   ]
  },
  {
   "cell_type": "code",
   "execution_count": 7,
   "metadata": {},
   "outputs": [
    {
     "name": "stdout",
     "output_type": "stream",
     "text": [
      "\t\t-> Best KL: 0.019654163171699848\n",
      "\t\t-> Best KL: 0.00698817617574597\n",
      "\t\t-> Best KL: 0.005533063761614154\n",
      "\t\t-> Best KL: 0.003655132674484631\n",
      "\t\t-> Best KL: 0.002547459671179468\n",
      "\t\t-> Best KL: 0.0022263571393444375\n"
     ]
    }
   ],
   "source": [
    "best_train = get_optimal_interuser_splits(data)"
   ]
  },
  {
   "cell_type": "code",
   "execution_count": 8,
   "metadata": {},
   "outputs": [
    {
     "data": {
      "image/png": "[encoded data removed]",
      "text/plain": [
       "<Figure size 900x600 with 4 Axes>"
      ]
     },
     "metadata": {},
     "output_type": "display_data"
    }
   ],
   "source": [
    "test_data = data.loc[data.user_id.isin(best_train), :]\n",
    "train_data = data.loc[~data.user_id.isin(best_train), :]\n",
    "\n",
    "fig, ax = plt.subplots(nrows=2, ncols=2, figsize=(9, 6))\n",
    "sns.histplot(train_data.section_mode_argmax, ax=ax[0][0], discrete=True).set_yscale('log')\n",
    "sns.histplot(test_data.section_mode_argmax, ax=ax[0][1], discrete=True).set_yscale('log')\n",
    "sns.histplot(train_data.target, ax=ax[1][0], discrete=True).set_yscale('log')\n",
    "sns.histplot(test_data.target, ax=ax[1][1], discrete=True).set_yscale('log')\n",
    "fig.tight_layout()\n",
    "plt.show()"
   ]
  },
  {
   "cell_type": "code",
   "execution_count": 9,
   "metadata": {},
   "outputs": [
    {
     "name": "stdout",
     "output_type": "stream",
     "text": [
      "['7559c3f880f341e898a402eba96a855d', '1635c003b1f94a399ebebe21640ffced', '6656c04c6cba4c189fed805eaa529741', '4baf8c8af7b7445e9067854065e3e612', '42b3ee0bc02a481ab1a94644a8cd7a0d', 'f3a33641ffb6478f901350c55b6385f8', '14103cda12c94642974129989d39e50d', 'd7a732f4a8644bcbb8dedfc8be242fb2', '509b909390934e988eb120b58ed9bd8c', '3701bb586bf24d0caee8dd1d1421bb15', '802667b6371f45b29c7abb051244836a', 'd3dff742d07942ca805c2f72e49e12c5', 'feb6a3a8a2ef4f4a8754bd79f7154495', 'feb1d940cd3647d1a101580c2a3b3f8c', '90480ac60a3d475a88fbdab0a003dd5d', '3d981e617b304afab0f21ce8aa6c9786', 'c6e4db31c18b4355b02a7dd97deca70b', '8fdc9b926a674a9ea07d91df2c5e06f2', 'b41dd7d7c6d94fe6afe2fd26fa4ac0bd', 'e049a7b2a6cb44259f907abbb44c5abc', '3f7f2e536ba9481e92f8379b796ad1d0', '41c1182a404540a3820dff7de1c3d0e7', 'add706b73839413da13344c355dde0bb', 'fc51d1258e4649ecbfb0e6ecdaeca454', 'f446bf3102ff4bd99ea1c98f7d2f7af0', '840297ae39484e26bfebe83ee30c5b3e', 'dc1ed4d71e3645d0993885398d5628ca', 'ece8b0a509534e98a0d369f25de4a206', '43932257834649c29c5b9ccdc2416ebb', 'baa4ff1573ae411183e10aeb17c71c53', '53e78583db87421f8decb529ba859ca4', '8461560f8b4a4ca6af2cb569962dae32', 'feabfccddd6c4e8e85179d7177042483', '7abe572148864412a33979592fa985fb', 'b346b83b9f7c4536b809d5f92074fdae', '0eb313ab00e6469da78cc2d2e94660fb', '8d0bfee173d9428bae97f609e50d5570', 'eec6936e1ac347ef9365881845ec74df', '8b0876430c2641bcaea954ea00520e64', 'e4cfb2a8f600426897569985e234636e', '8c7d261fe8284a42a777ffa6f380ba3b', '234f4f2366244fe682dccded2fa7cc4e', 'cde34edb8e3a4278a18e0adb062999e5', 'a0c3a7b410b24e18995f63369a31d123', '8a8332a53a1b4cdd9f3680434e91a6ef', 'a1954793b1454b2f8cf95917d7547169', 'd3735ba212dd4c768e1675dca7bdcb6f', '4b89612d7f1f4b368635c2bc48bd7993', 'fc68a5bb0a7b4b6386b3f08a69ead36f', 'd68a36934a2649278fb6d084e1d992de', '313d003df34b4bd9823b3474fc93f9f9', '85ddd3c34c58407392953c47a32f5428', '8c3c63abb3ec4fc3a61e7bf316ee4efd', '92bde0d0662f45ac864629f486cffe77', '39db1e03b46c43129aa8dbe3bbe16687', '0b3e78fa91d84aa6a3203440143c8c16', '14fe8002bbdc4f97acbd1a00de241bf6', '1b7d6dfea8464bcab9321018b10ec9c9', '2455a5992b174239a1c926a7de96d623', 'f0db3b1999c2410ba5933103eca9212f', '93c6e0f156a44e07b920ded664419dc6', '5ad862e79a6341f69f28c0096fe884da', '703a9cee8315441faff7eb63f2bfa93f', '405b221abe9e43bc86a57ca7fccf2227', '3f067105255e4b0ca1bab377fee7ef16', '44c10f66dec244d6b8644231d4a8fecb', 'a231added8674bef95092b32bc254ac8', 'e66e63b206784a559d977d4cb5f1ec34', '9910245fee4e4ccaab4cdd2312eb0d5d', '3dddfb70e7cd40f18a63478654182e9a', '91f3ca1c278247f79a806e49e9cc236f', '6373dfb8cb9b47e88e8f76adcfadde20', '26767f9f3da54e93b692f8be6acdac43', '3b25446778824941a4c70ae5774f4c68', 'bd9cffc8dbf1402da479f9f148ec9e60', '6d96909e5ca442ccb5679d9cdf3c8f5b', '15eb78dd6e104966ba6112589c29dc41', '5a93c47d6bf34a77a2f8267ef6898943', 'e88a8f520dde445484c0a9395e1a0599', '487e20ab774742378198f94f5b5b0b43', 'c7ce889c796f4e2a8859fa2d7d5068fe', 'e35e65107a34496db49fa5a0b41a1e9e', '6a0f3653b80a4c949e127d6504debb55', 'd5137ebd4f034dc193d216128bb7fc9a', '2fc212b9508e4dc7b5a20bc79e2e9e31', 'b2bbe715b6a14fd19f751cae8adf6b4e', '8a98e383a2d143e798fc23869694934a', '2f3b66a5f98546d4b7691fba57fa640f', '0154d71439284c34b865e5a417cd48af', '88041eddad7542ea8c92b30e5c64e198', '0d0ae3a556414d138c52a6040a203d24', '903742c353ce42c3ad9ab039fc418816', '1b9883393ab344a69bc1a0fab192a94c', '2cd5668ac9054e2eb2c88bb4ed94bc6d', '97953af1b97d4e268c52e1e54dcf421a', 'c9a686318e1448cc81c715fd7e0a5811', 'e06cf95717f448ecb81c440b1b2fe1ab', 'a60a64d82d1c439a901b683b73a74d73', '60e6a6f6ed2e4e838f2bbed6a427028d', '112ab4cb44b84e73815378b997575362', 'e192b8a00b6c422296851c93785deaf7', 'bf774cbe6c3040b0a022278d36a23f19', '531732fee3c24366a286d76eb534aebc', 'd929e7f8b7624d76bdb0ec9ada6cc650', 'f50537eb104e4213908f1862c8160a3e', 'c11da556596342e79a2c62d3b116ea42', '47b5d57bd4354276bb6d2dcd1438901d', 'ac604b44fdca482fb753034cb55d1351', '742fbefae7d745a9bdf644659d21e0fa', 'fc8f71a38c82458dbf9718c3ee11a0f3', 'f2799dc202bc4249b42a4fda8770d1b6', '2931e0a34319495bbb5898201a54feb5', '00db212bc8d044cd839241ab4065e603', '810be63d084746e3b7da9d943dd88e8c', '737ef8494f26407b8b2a6b1b1dc631a4', 'cba570ae38f341faa6257342727377b7', '7381a74ba4f34f40b332ebace7ee9527', '102ff4f7be044cf2bdef164ae3a78262', '950f4287bab5444aa0527cc23fb082b2', 'fbff5e08b7f24a94ab4b2d7371999ef7', '487ad897ba93404a8cbe5de7d1922691', 'b1aed24c863949bfbfa3a844ecf60593', 'd200a61757d84b1dab8fbac35ff52c28', '355e25bdfc244c5e85d358e39432bd44', '19a4c2cf718d40588eb96ac25a566353', 'f289f7001bd94db0b33a7d2e1cd28b19', '4e8b1b7f026c4384827f157225da13fa', '3aeb5494088542fdaf798532951aebb0', 'dfe5ca1bb0854b67a6ffccad9565d669', '15aa4ba144a34b8b8079ed7e049d84df', '8a0473cae53d4720a99c0696cc1fb407', '30e9b141d7894fbfaacecd2fa18929f9']\n"
     ]
    }
   ],
   "source": [
    "print(best_train)"
   ]
  },
  {
   "cell_type": "code",
   "execution_count": 27,
   "metadata": {},
   "outputs": [],
   "source": [
    "counts = data.groupby('user_id').size()\n",
    "filtered = counts[counts >= 5]"
   ]
  },
  {
   "cell_type": "code",
   "execution_count": 3,
   "metadata": {},
   "outputs": [],
   "source": [
    "from sklearn.ensemble import RandomForestClassifier\n",
    "\n",
    "params = {\n",
    "    'ccp_alpha': 0.0031503743500287396,\n",
    "    'max_depth': int(5.879792418246912 * 10), \n",
    "    'max_features': 0.16332372250446126, \n",
    "    'min_samples_leaf': int(1.7742589153489061 * 10), \n",
    "    'min_samples_split': int(2.391021401374942 * 10), \n",
    "    'n_estimators': int(100 * 0.5038646539940661)\n",
    "}\n",
    "\n",
    "clf = RandomForestClassifier(**params)"
   ]
  },
  {
   "cell_type": "code",
   "execution_count": 7,
   "metadata": {},
   "outputs": [
    {
     "data": {
      "text/plain": [
       "['source',\n",
       " 'end_ts',\n",
       " 'end_fmt_time',\n",
       " 'end_loc',\n",
       " 'raw_trip',\n",
       " 'start_ts',\n",
       " 'start_fmt_time',\n",
       " 'start_loc',\n",
       " 'duration',\n",
       " 'distance',\n",
       " 'start_place',\n",
       " 'end_place',\n",
       " 'cleaned_trip',\n",
       " 'inferred_labels',\n",
       " 'inferred_trip',\n",
       " 'expectation',\n",
       " 'confidence_threshold',\n",
       " 'expected_trip',\n",
       " 'user_input',\n",
       " 'start:year',\n",
       " 'start:month',\n",
       " 'start:day',\n",
       " 'start:hour',\n",
       " 'start_local_dt_minute',\n",
       " 'start_local_dt_second',\n",
       " 'start_local_dt_weekday',\n",
       " 'start_local_dt_timezone',\n",
       " 'end:year',\n",
       " 'end:month',\n",
       " 'end:day',\n",
       " 'end:hour',\n",
       " 'end_local_dt_minute',\n",
       " 'end_local_dt_second',\n",
       " 'end_local_dt_weekday',\n",
       " 'end_local_dt_timezone',\n",
       " '_id',\n",
       " 'user_id',\n",
       " 'metadata_write_ts',\n",
       " 'additions',\n",
       " 'mode_confirm',\n",
       " 'purpose_confirm',\n",
       " 'distance_miles',\n",
       " 'Mode_confirm',\n",
       " 'Trip_purpose',\n",
       " 'original_user_id',\n",
       " 'program',\n",
       " 'opcode',\n",
       " 'Timestamp',\n",
       " 'birth_year',\n",
       " 'primary_job_commute_time',\n",
       " 'income_category',\n",
       " 'n_residence_members',\n",
       " 'n_residents_u18',\n",
       " 'n_residents_with_license',\n",
       " 'n_motor_vehicles',\n",
       " 'available_modes',\n",
       " 'age',\n",
       " 'gender_Man',\n",
       " 'gender_Man;Nonbinary/genderqueer/genderfluid',\n",
       " 'gender_Nonbinary/genderqueer/genderfluid',\n",
       " 'gender_Prefer not to say',\n",
       " 'gender_Woman',\n",
       " 'gender_Woman;Nonbinary/genderqueer/genderfluid',\n",
       " 'has_drivers_license_No',\n",
       " 'has_drivers_license_Prefer not to say',\n",
       " 'has_drivers_license_Yes',\n",
       " 'has_multiple_jobs_No',\n",
       " 'has_multiple_jobs_Prefer not to say',\n",
       " 'has_multiple_jobs_Yes',\n",
       " \"highest_education_Bachelor's degree\",\n",
       " 'highest_education_Graduate degree or professional degree',\n",
       " 'highest_education_High school graduate or GED',\n",
       " 'highest_education_Less than a high school graduate',\n",
       " 'highest_education_Prefer not to say',\n",
       " 'highest_education_Some college or associates degree',\n",
       " 'primary_job_type_Full-time',\n",
       " 'primary_job_type_Part-time',\n",
       " 'primary_job_type_Prefer not to say',\n",
       " 'primary_job_description_Clerical or administrative support',\n",
       " 'primary_job_description_Custodial',\n",
       " 'primary_job_description_Education',\n",
       " 'primary_job_description_Food service',\n",
       " 'primary_job_description_Manufacturing, construction, maintenance, or farming',\n",
       " 'primary_job_description_Medical/healthcare',\n",
       " 'primary_job_description_Other',\n",
       " 'primary_job_description_Professional, managerial, or technical',\n",
       " 'primary_job_description_Sales or service',\n",
       " 'primary_job_commute_mode_Active transport',\n",
       " 'primary_job_commute_mode_Car transport',\n",
       " 'primary_job_commute_mode_Hybrid',\n",
       " 'primary_job_commute_mode_Public transport',\n",
       " 'primary_job_commute_mode_Unknown',\n",
       " 'primary_job_commute_mode_WFH',\n",
       " 'is_overnight_trip',\n",
       " 'n_working_residents',\n",
       " 'start_lat',\n",
       " 'start_lng',\n",
       " 'end_lat',\n",
       " 'end_lng',\n",
       " 'temperature_2m (°F)',\n",
       " 'relative_humidity_2m (%)',\n",
       " 'dew_point_2m (°F)',\n",
       " 'rain (inch)',\n",
       " 'snowfall (inch)',\n",
       " 'wind_speed_10m (mp/h)',\n",
       " 'wind_gusts_10m (mp/h)',\n",
       " 'section_distance_argmax',\n",
       " 'section_duration_argmax',\n",
       " 'section_mode_argmax',\n",
       " 'section_coordinates_argmax',\n",
       " 'mph',\n",
       " 'target',\n",
       " 'av_s_micro',\n",
       " 'av_ridehail',\n",
       " 'av_unknown',\n",
       " 'av_car',\n",
       " 'av_transit',\n",
       " 'av_walk',\n",
       " 'av_s_car',\n",
       " 'av_no_trip',\n",
       " 'av_p_micro',\n",
       " 'cost_p_micro',\n",
       " 'cost_no_trip',\n",
       " 'cost_s_car',\n",
       " 'cost_transit',\n",
       " 'cost_car',\n",
       " 'cost_s_micro',\n",
       " 'cost_ridehail',\n",
       " 'cost_walk',\n",
       " 'cost_unknown']"
      ]
     },
     "execution_count": 7,
     "metadata": {},
     "output_type": "execute_result"
    }
   ],
   "source": [
    "data.drop(columns=[\n",
    "    'source',\n",
    "     'end_ts',\n",
    "     'end_fmt_time',\n",
    "     'end_loc',\n",
    "     'raw_trip',\n",
    "     'start_ts',\n",
    "     'start_fmt_time',\n",
    "     'start_loc',\n",
    "     'duration',\n",
    "     'distance',\n",
    "     'start_place',\n",
    "     'end_place',\n",
    "     'cleaned_trip',\n",
    "     'inferred_labels',\n",
    "     'inferred_trip',\n",
    "     'expectation',\n",
    "     'confidence_threshold',\n",
    "     'expected_trip',\n",
    "     'user_input',\n",
    "     'start:year',\n",
    "     'start:month',\n",
    "     'start:day',\n",
    "     'start:hour',\n",
    "     'start_local_dt_minute',\n",
    "     'start_local_dt_second',\n",
    "     'start_local_dt_weekday',\n",
    "     'start_local_dt_timezone',\n",
    "     'end:year',\n",
    "     'end:month',\n",
    "     'end:day',\n",
    "     'end:hour',\n",
    "     'end_local_dt_minute',\n",
    "     'end_local_dt_second',\n",
    "     'end_local_dt_weekday',\n",
    "     'end_local_dt_timezone',\n",
    "     '_id',\n",
    "     'user_id',\n",
    "     'metadata_write_ts',\n",
    "     'additions',\n",
    "     'mode_confirm',\n",
    "     'purpose_confirm',\n",
    "     'distance_miles',\n",
    "     'Mode_confirm',\n",
    "     'Trip_purpose',\n",
    "     'original_user_id',\n",
    "     'program',\n",
    "     'opcode',\n",
    "     'Timestamp',\n",
    "     'birth_year',\n",
    "     'primary_job_commute_time',\n",
    "     'income_category',\n",
    "     'n_residence_members',\n",
    "     'n_residents_u18',\n",
    "     'n_residents_with_license',\n",
    "     'n_motor_vehicles',\n",
    "     'available_modes',\n",
    "     'age',\n",
    "     'gender_Man',\n",
    "     'gender_Man;Nonbinary/genderqueer/genderfluid',\n",
    "     'gender_Nonbinary/genderqueer/genderfluid',\n",
    "     'gender_Prefer not to say',\n",
    "     'gender_Woman',\n",
    "     'gender_Woman;Nonbinary/genderqueer/genderfluid',\n",
    "     'has_drivers_license_No',\n",
    "     'has_drivers_license_Prefer not to say',\n",
    "     'has_drivers_license_Yes',\n",
    "     'has_multiple_jobs_No',\n",
    "     'has_multiple_jobs_Prefer not to say',\n",
    "     'has_multiple_jobs_Yes',\n",
    "     \"highest_education_Bachelor's degree\",\n",
    "     'highest_education_Graduate degree or professional degree',\n",
    "     'highest_education_High school graduate or GED',\n",
    "     'highest_education_Less than a high school graduate',\n",
    "     'highest_education_Prefer not to say',\n",
    "     'highest_education_Some college or associates degree',\n",
    "     'primary_job_type_Full-time',\n",
    "     'primary_job_type_Part-time',\n",
    "     'primary_job_type_Prefer not to say',\n",
    "     'primary_job_description_Clerical or administrative support',\n",
    "     'primary_job_description_Custodial',\n",
    "     'primary_job_description_Education',\n",
    "     'primary_job_description_Food service',\n",
    "     'primary_job_description_Manufacturing, construction, maintenance, or farming',\n",
    "     'primary_job_description_Medical/healthcare',\n",
    "     'primary_job_description_Other',\n",
    "     'primary_job_description_Professional, managerial, or technical',\n",
    "     'primary_job_description_Sales or service',\n",
    "     'primary_job_commute_mode_Active transport',\n",
    "     'primary_job_commute_mode_Car transport',\n",
    "     'primary_job_commute_mode_Hybrid',\n",
    "     'primary_job_commute_mode_Public transport',\n",
    "     'primary_job_commute_mode_Unknown',\n",
    "     'primary_job_commute_mode_WFH',\n",
    "     'is_overnight_trip',\n",
    "     'n_working_residents',\n",
    "     'start_lat',\n",
    "     'start_lng',\n",
    "     'end_lat',\n",
    "     'end_lng',\n",
    "     'temperature_2m (°F)',\n",
    "     'relative_humidity_2m (%)',\n",
    "     'dew_point_2m (°F)',\n",
    "     'rain (inch)',\n",
    "     'snowfall (inch)',\n",
    "     'wind_speed_10m (mp/h)',\n",
    "     'wind_gusts_10m (mp/h)',\n",
    "     'section_distance_argmax',\n",
    "     'section_duration_argmax',\n",
    "     'section_mode_argmax',\n",
    "     'section_coordinates_argmax',\n",
    "     'mph',\n",
    "     'target',\n",
    "     'av_s_micro',\n",
    "     'av_ridehail',\n",
    "     'av_unknown',\n",
    "     'av_car',\n",
    "     'av_transit',\n",
    "     'av_walk',\n",
    "     'av_s_car',\n",
    "     'av_no_trip',\n",
    "     'av_p_micro',\n",
    "     'cost_p_micro',\n",
    "     'cost_no_trip',\n",
    "     'cost_s_car',\n",
    "     'cost_transit',\n",
    "     'cost_car',\n",
    "     'cost_s_micro',\n",
    "     'cost_ridehail',\n",
    "     'cost_walk',\n",
    "     'cost_unknown'\n",
    "])"
   ]
  },
  {
   "cell_type": "code",
   "execution_count": null,
   "metadata": {},
   "outputs": [],
   "source": [
    "from sklearn.model_selection import StratifiedGroupKFold\n",
    "\n",
    "cv = StratifiedGroupKFold(n_splits=2)\n",
    "\n",
    "for tr_ix, te_ix in cv.split(data)\n",
    "\n",
    "clf.fit()"
   ]
  }
 ],
 "metadata": {
  "interpreter": {
   "hash": "ab0c6e94c9422d07d42069ec9e3bb23090f5e156fc0e23cc25ca45a62375bf53"
  },
  "kernelspec": {
   "display_name": "emission",
   "language": "python",
   "name": "emission"
  },
  "language_info": {
   "codemirror_mode": {
    "name": "ipython",
    "version": 3
   },
   "file_extension": ".py",
   "mimetype": "text/x-python",
   "name": "python",
   "nbconvert_exporter": "python",
   "pygments_lexer": "ipython3",
   "version": "3.9.16"
  }
 },
 "nbformat": 4,
 "nbformat_minor": 2
}
