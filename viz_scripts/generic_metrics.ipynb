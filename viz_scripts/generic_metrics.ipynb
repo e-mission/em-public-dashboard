{
 "cells": [
  {
   "cell_type": "markdown",
   "id": "academic-context",
   "metadata": {},
   "source": [
    "## Generate Static Graphs"
   ]
  },
  {
   "cell_type": "markdown",
   "id": "medium-siemens",
   "metadata": {},
   "source": [
    "These are the input parameters for the notebook. They will be automatically changed when the scripts to generate monthly statistics are run. You can modify them manually to generate multiple plots locally as well.\n",
    "\n",
    "Pass in `None` to remove the filters and plot all data. This is not recommended for production settings, but might be useful for reports based on data snapshots."
   ]
  },
  {
   "cell_type": "code",
   "execution_count": null,
   "id": "narrative-hunter",
   "metadata": {},
   "outputs": [],
   "source": [
    "year = 2020\n",
    "month = 11\n",
    "program = \"default\"\n",
    "study_type = \"program\"\n",
    "mode_of_interest = \"e-bike\"\n",
    "include_test_users = False\n",
    "dynamic_labels = {}\n",
    "use_imperial = False\n",
    "sensed_algo_prefix = \"cleaned\""
   ]
  },
  {
   "cell_type": "code",
   "execution_count": null,
   "id": "activated-portugal",
   "metadata": {},
   "outputs": [],
   "source": [
    "from collections import defaultdict\n",
    "\n",
    "import numpy as np\n",
    "import pandas as pd\n",
    "\n",
    "from plots import *\n",
    "import scaffolding\n",
    "\n",
    "sns.set_style(\"whitegrid\")\n",
    "sns.set()\n",
    "%matplotlib inline"
   ]
  },
  {
   "cell_type": "code",
   "execution_count": null,
   "id": "alternative-voltage",
   "metadata": {},
   "outputs": [],
   "source": [
    "# Loading mapping dictionaries from mapping_dictionaries notebook\n",
    "%store -r dic_re\n",
    "%store -r dic_pur\n",
    "\n",
    "# convert a dictionary to a defaultdict\n",
    "dic_re = defaultdict(lambda: 'Other',dic_re)\n",
    "dic_pur = defaultdict(lambda: 'Other',dic_pur)\n",
    "\n",
    "# get metric vs imperial vars\n",
    "label_units, short_label, label_units_lower, distance_col, weight_unit = scaffolding.get_units(use_imperial)"
   ]
  },
  {
   "cell_type": "markdown",
   "id": "intellectual-columbus",
   "metadata": {},
   "source": [
    "## Collect Data From Database for Generic Metrics"
   ]
  },
  {
   "cell_type": "code",
   "execution_count": null,
   "id": "organic-pitch",
   "metadata": {},
   "outputs": [],
   "source": [
    "expanded_ct, expanded_ct_inferred, file_suffix, quality_text, debug_df, values_dict = scaffolding.load_viz_notebook_data(year,\n",
    "                                                                            month,\n",
    "                                                                            program,\n",
    "                                                                            study_type,\n",
    "                                                                            dynamic_labels,\n",
    "                                                                            dic_re,\n",
    "                                                                            dic_pur=dic_pur,\n",
    "                                                                            include_test_users=include_test_users)\n",
    "\n",
    "if (include_test_users == True):\n",
    "    users = \"testers and participants\"\n",
    "else:\n",
    "    users = \"participants\""
   ]
  },
  {
   "cell_type": "markdown",
   "id": "6d44c87e",
   "metadata": {},
   "source": [
    "## Collect Data from Database for Sensed Metrics"
   ]
  },
  {
   "cell_type": "code",
   "execution_count": null,
   "id": "55ec383b",
   "metadata": {},
   "outputs": [],
   "source": [
    "expanded_ct_sensed, file_suffix_sensed, quality_text_sensed, debug_df_sensed = scaffolding.load_viz_notebook_sensor_inference_data(year,\n",
    "                                                                            month,\n",
    "                                                                            program,\n",
    "                                                                            include_test_users,\n",
    "                                                                            sensed_algo_prefix)\n",
    "\n",
    "# Create a combined debug df from Generic and Sensed Metrics\n",
    "merged_debug_df = debug_df.combine_first(debug_df_sensed)"
   ]
  },
  {
   "cell_type": "markdown",
   "id": "7f42f272",
   "metadata": {},
   "source": [
    "## Metrics for Specific Mode"
   ]
  },
  {
   "cell_type": "code",
   "execution_count": null,
   "id": "657d7e18",
   "metadata": {},
   "outputs": [],
   "source": [
    "data_eb = expanded_ct.query(f\"mode_confirm == '{mode_of_interest}'\") if \"mode_confirm\" in expanded_ct.columns else expanded_ct\n",
    "data_eb_inferred = expanded_ct_inferred.query(f\"mode_confirm == '{mode_of_interest}'\") if \"mode_confirm\" in expanded_ct_inferred.columns else expanded_ct_inferred\n",
    "mode_dict = scaffolding.get_quality_data_inferred(expanded_ct_inferred, expanded_ct, data_eb_inferred, data_eb)\n",
    "\n",
    "confirmed_trip_str = f\"Labeled by user\\n ({values_dict['confirmed_trip']} confirmed trips, {values_dict['unique_users_confirmed']} users\\n {values_dict['pct_confirmed']:.2f}% of total trips)\"\n",
    "inferred_trip_str = f\"Inferred from history\\n ({values_dict['inferred_trip']} inferred trips, {values_dict['unique_users_inferred']} users \\n {values_dict['pct_inferred']:.2f}% of total trips)\"\n",
    "sensed_trip_str = f\"Sensed by OpenPATH\\n ({values_dict['total_trip']} total trips, {values_dict['unique_users_total']} users)\"\n",
    "\n",
    "replaced_confirmed_trip_str = f\"Labeled `{mode_of_interest}` by user \\n ({mode_dict['mode_confirmed_trip']} confirmed trips, {mode_dict['unique_users_confirmed_mode']} users \\n {mode_dict['after_pct_confirmed']:.2f}% of confirmed trips)\"\n",
    "replaced_inferred_trip_str = f\"Inferred `{mode_of_interest}` from history \\n ({mode_dict['mode_inferred_trip']} inferred trips, {mode_dict['unique_users_inferred_mode']} users \\n {mode_dict['after_pct_inferred']:.2f}% of inferred trips)\"\n"
   ]
  },
  {
   "cell_type": "markdown",
   "id": "1af1f02b",
   "metadata": {},
   "source": [
    "## 100% Stacked Bar Charts"
   ]
  },
  {
   "cell_type": "markdown",
   "id": "e50959c1",
   "metadata": {},
   "source": [
    "### 1. Represents Number of Trips"
   ]
  },
  {
   "cell_type": "code",
   "execution_count": null,
   "id": "aef741fe",
   "metadata": {},
   "outputs": [],
   "source": [
    "def process_data_frame(df, df_col, trip_type):\n",
    "    labels = df[df_col].value_counts(dropna=True).keys().tolist()\n",
    "    values = df[df_col].value_counts(dropna=True).tolist()\n",
    "    return process_trip_data(labels, values, trip_type)\n",
    "\n",
    "plot_title_no_quality= \"Number of trips for each mode (selected by users)\"\n",
    "file_name = f'ntrips_total{file_suffix}'\n",
    "\n",
    "try:\n",
    "    bar_count = 0\n",
    "    all_data_frames = []\n",
    "    plot_title = plot_title_no_quality + \"\\n\" + \"For Labeled and Sensed: \" + quality_text\n",
    "\n",
    "    if not expanded_ct.empty:\n",
    "        df_confirmed_tc = process_data_frame(expanded_ct, 'Mode_confirm', \"Labeled by user\\n (Confirmed trips)\")\n",
    "        if not df_confirmed_tc.empty:\n",
    "            bar_count += 1\n",
    "            all_data_frames.append(df_confirmed_tc)\n",
    "        else:\n",
    "            print(\"df_confirmed_tc is empty.\")\n",
    "    else:\n",
    "        print(\"expanded_ct is empty.\")\n",
    "\n",
    "    if not expanded_ct_sensed.empty:\n",
    "        df_sensed_tc = process_data_frame(expanded_ct_sensed, 'primary_mode', \"Sensed by OpenPATH\\n (Total trips)\")\n",
    "        if not df_sensed_tc.empty:\n",
    "            bar_count += 1\n",
    "            all_data_frames.append(df_sensed_tc)\n",
    "        else:\n",
    "            print(\"df_sensed_tc is empty.\")\n",
    "    else:\n",
    "        print(\"expanded_ct_sensed is empty\")\n",
    "\n",
    "    result_df = merge_dataframes(all_data_frames)\n",
    "    stacked_bar_chart_generic(plot_title, result_df, file_name, bar_count)\n",
    "    alt_text, alt_html = store_alt_text_stacked_bar_chart(result_df[result_df['Count'] > 0], file_name, plot_title)  \n",
    "except:\n",
    "    generate_missing_plot(plot_title_no_quality,merged_debug_df,file_name)\n",
    "    alt_text = store_alt_text_missing(merged_debug_df, file_name, plot_title_no_quality)"
   ]
  },
  {
   "cell_type": "markdown",
   "id": "52711e01",
   "metadata": {},
   "source": [
    "### 2. Represents Number of Trips for Replaced mode "
   ]
  },
  {
   "cell_type": "code",
   "execution_count": null,
   "id": "e6226112",
   "metadata": {},
   "outputs": [],
   "source": [
    "# Only applicable for program\n",
    "if study_type == \"program\":\n",
    "    plot_title_no_quality= \"Number of trips for replaced mode\"\n",
    "    file_name = f'ntrips_total_replaced_mode{file_suffix}'\n",
    "\n",
    "    try:\n",
    "        bar_count = 0\n",
    "        all_data_frames = []\n",
    "        plot_title = plot_title_no_quality\n",
    "\n",
    "        if not data_eb.empty:\n",
    "            df_replaced_tc = process_data_frame(data_eb, 'Replaced_mode', f\"Labeled `{mode_of_interest}` by user\" )\n",
    "            all_data_frames.append(df_replaced_tc)\n",
    "            if not df_replaced_tc.empty:\n",
    "                bar_count += 1\n",
    "                plot_title += \"\\n\" + f\"For {mode_of_interest}: \" + quality_text_specific\n",
    "            else:\n",
    "                print(\"df_replaced_tc is empty.\")\n",
    "        else:\n",
    "            print(\"data_eb is empty.\")\n",
    "\n",
    "        result_df = merge_dataframes(all_data_frames)\n",
    "        stacked_bar_chart_generic(plot_title, result_df, file_name, bar_count)\n",
    "        alt_text, alt_html = store_alt_text_stacked_bar_chart(result_df[result_df['Count'] > 0], file_name, plot_title)  \n",
    "    except:\n",
    "        generate_missing_plot(plot_title_no_quality,merged_debug_df,file_name)\n",
    "        alt_text = store_alt_text_missing(merged_debug_df, file_name, plot_title_no_quality)"
   ]
  },
  {
   "cell_type": "markdown",
   "id": "8fc63a45",
   "metadata": {},
   "source": [
    "### 3. Represents 80th percentile of the Number of Trips"
   ]
  },
  {
   "cell_type": "code",
   "execution_count": null,
   "id": "77ece8ee",
   "metadata": {},
   "outputs": [],
   "source": [
    "def process_data_for_cutoff(df, df_col, trip_type):\n",
    "\n",
    "    cutoff = df.distance.quantile(0.8)\n",
    "    if pd.isna(cutoff):\n",
    "        cutoff = 0\n",
    "\n",
    "    dist_threshold = df[distance_col].quantile(0.8).round(1)\n",
    "    dist_threshold = str(dist_threshold)\n",
    "\n",
    "    labels = df.loc[(df['distance'] <= cutoff)][df_col].value_counts(dropna=True).keys().tolist()\n",
    "    values = df.loc[(df['distance'] <= cutoff)][df_col].value_counts(dropna=True).tolist()\n",
    "    processed_data = process_trip_data(labels, values, trip_type)    \n",
    "\n",
    "    return processed_data,cutoff, dist_threshold\n",
    "\n",
    "plot_title_no_quality= \"Number of trips for 80th percentile for each mode (selected by users):\"\n",
    "file_name = f'ntrips_under80{file_suffix}'\n",
    "\n",
    "try:\n",
    "    bar_count = 0\n",
    "    all_data_frames_u80 = []\n",
    "    plot_title = plot_title_no_quality\n",
    "\n",
    "    if not expanded_ct.empty:\n",
    "        df_confirmed_tc_u80,cutoff, dist_threshold  = process_data_for_cutoff(expanded_ct, 'Mode_confirm', \"Labeled by user\\n (Confirmed trips)\")\n",
    "        u80_quality_text = scaffolding.get_quality_text(expanded_ct, expanded_ct[expanded_ct['distance'] <= cutoff], \"<= \" + dist_threshold + \" \" + short_label, include_test_users)\n",
    "        if not df_confirmed_tc_u80.empty:\n",
    "            plot_title +=  \"\\n\" + \"For Labeled: \" + u80_quality_text\n",
    "            bar_count += 1\n",
    "            all_data_frames_u80.append(df_confirmed_tc_u80)\n",
    "        else:\n",
    "            print(\"df_confirmed_tc_u80 is empty.\")\n",
    "    else:\n",
    "        print(\"expanded_ct is empty.\")\n",
    "\n",
    "    if not expanded_ct_sensed.empty:\n",
    "        df_sensed_tc_u80, cutoff_sensed, dist_threshold_sensed = process_data_for_cutoff(expanded_ct_sensed, 'primary_mode', \"Sensed by OpenPATH\\n (Total trips)\")\n",
    "        u80_quality_text_sensed = scaffolding.get_quality_text_sensed(expanded_ct_sensed[expanded_ct_sensed['distance'] <= cutoff_sensed], \"<= \" + dist_threshold_sensed + \" \" + short_label , include_test_users)\n",
    "        if not df_sensed_tc_u80.empty:\n",
    "            plot_title +=  \"\\n\" + \"For Sensed: \" + u80_quality_text_sensed\n",
    "            bar_count += 1\n",
    "            all_data_frames_u80.append(df_sensed_tc_u80)\n",
    "        else:\n",
    "            print(\"df_sensed_tc_u80 is empty.\")\n",
    "    else:\n",
    "        print(\"expanded_ct_sensed is empty.\")\n",
    "\n",
    "    result_df_u80 = merge_dataframes(all_data_frames_u80)\n",
    "    stacked_bar_chart_generic(plot_title, result_df_u80, file_name, bar_count)\n",
    "    alt_text, alt_html = store_alt_text_stacked_bar_chart(result_df_u80[result_df_u80['Count'] > 0], file_name, plot_title)\n",
    "except:\n",
    "    generate_missing_plot(plot_title_no_quality, merged_debug_df, file_name)\n",
    "    alt_text = store_alt_text_missing(merged_debug_df, file_name, plot_title_no_quality)"
   ]
  },
  {
   "cell_type": "markdown",
   "id": "7fa4f3da",
   "metadata": {},
   "source": [
    "### 4. Represents Commute Trips"
   ]
  },
  {
   "cell_type": "code",
   "execution_count": null,
   "id": "5c6cd4cf",
   "metadata": {},
   "outputs": [],
   "source": [
    "plot_title_no_quality= \"Number of commute trips for each mode (selected by users)\"\n",
    "file_name = f\"ntrips_commute_mode_confirm{file_suffix}\"\n",
    "\n",
    "try:\n",
    "    bar_count = 0\n",
    "    plot_title = plot_title_no_quality\n",
    "    if (len(dynamic_labels)):\n",
    "        purpose_map_label =  scaffolding.mapping_labels(dynamic_labels, \"PURPOSE\")\n",
    "        translation_work = purpose_map_label['work']\n",
    "        trip_purpose_query = f\"Trip_purpose == '{translation_work}'\"\n",
    "    else:\n",
    "        trip_purpose_query = \"Trip_purpose == 'Work'\"\n",
    "    commute_quality_text = scaffolding.get_quality_text(expanded_ct, expanded_ct.query(trip_purpose_query), \"commute\", include_test_users)\n",
    "\n",
    "    if not expanded_ct.empty:\n",
    "        bar_count += 1\n",
    "        plot_title += \"\\n\" + \"For Labeled: \" + commute_quality_text\n",
    "\n",
    "    labels_mc_commute = expanded_ct.query(trip_purpose_query).Mode_confirm.value_counts(dropna=True).keys().tolist()\n",
    "    values_mc_commute = expanded_ct.query(trip_purpose_query).Mode_confirm.value_counts(dropna=True).tolist()\n",
    "\n",
    "    df_total_trip_commute = process_trip_data(labels_mc_commute, values_mc_commute, \"Labeled by user\\n (Confirmed trips)\")\n",
    "\n",
    "    stacked_bar_chart_generic(plot_title, df_total_trip_commute, file_name, bar_count)\n",
    "    alt_text, alt_html = store_alt_text_stacked_bar_chart(df_total_trip_commute, file_name, plot_title)\n",
    "except:\n",
    "    generate_missing_plot(plot_title_no_quality, debug_df, file_name)\n",
    "    alt_text = store_alt_text_missing(debug_df, file_name, plot_title_no_quality)"
   ]
  },
  {
   "cell_type": "markdown",
   "id": "b560cb32",
   "metadata": {},
   "source": [
    "### 5. Represents Total Trip Length covered by each mode"
   ]
  },
  {
   "cell_type": "code",
   "execution_count": null,
   "id": "ffccb96f",
   "metadata": {},
   "outputs": [],
   "source": [
    "def process_distance_data(df, df_col, trip_type):\n",
    "    dist = df.groupby(df_col).agg({distance_col: ['sum', 'count', 'mean']})\n",
    "    dist.columns = ['Total (' + label_units_lower + ')', 'Count', 'Average (' + label_units_lower + ')']\n",
    "    dist = dist.reset_index()\n",
    "    dist = dist.sort_values(by=['Total (' + label_units_lower + ')'], ascending=False)\n",
    "\n",
    "    dist_dict = dict(zip(dist[df_col], dist['Total (' + label_units_lower + ')']))\n",
    "    labels_dist = []\n",
    "    values_dist = []\n",
    "\n",
    "    for x, y in dist_dict.items():\n",
    "        labels_dist.append(x)\n",
    "        values_dist.append(y)\n",
    "\n",
    "    return process_trip_data(labels_dist, values_dist, trip_type)\n",
    "\n",
    "plot_title_no_quality = \"Total trip length (\" + label_units_lower + \") covered by each mode\"\n",
    "file_name = f\"total_trip_length{file_suffix}\"\n",
    "\n",
    "try:\n",
    "    bar_count = 0\n",
    "    all_data_frames = []\n",
    "    plot_title = plot_title_no_quality + \"\\n\" + \"For Labeled and Sensed: \" + quality_text\n",
    "\n",
    "    if not expanded_ct.empty:\n",
    "        df_confirm_dist = process_distance_data(expanded_ct, 'Mode_confirm', \"Labeled by user\\n (Trip distance)\")\n",
    "        if not df_confirm_dist.empty:\n",
    "            bar_count += 1\n",
    "            all_data_frames.append(df_confirm_dist)\n",
    "        else:\n",
    "            print(\"df_confirm_dist is empty.\")\n",
    "    else:\n",
    "        print(\"expanded_ct is empty.\")\n",
    "\n",
    "    if not expanded_ct_sensed.empty:\n",
    "        df_sensed_dist = process_distance_data(expanded_ct_sensed, 'primary_mode', \"Sensed by OpenPATH\\n (Trip distance - Overall)\")\n",
    "        if not df_sensed_dist.empty:\n",
    "            bar_count += 1\n",
    "            all_data_frames.append(df_sensed_dist)\n",
    "        else:\n",
    "            print(\"df_sensed_dist is empty.\")\n",
    "    else:\n",
    "        print(\"expanded_ct_sensed is empty.\")\n",
    "\n",
    "    result_df = merge_dataframes(all_data_frames)\n",
    "    stacked_bar_chart_generic(plot_title, result_df, file_name, bar_count)\n",
    "    alt_text, alt_html = store_alt_text_stacked_bar_chart(result_df[result_df['Count'] > 0], file_name, plot_title)\n",
    "except:\n",
    "    generate_missing_plot(plot_title_no_quality, merged_debug_df, file_name)\n",
    "    alt_text = store_alt_text_missing(merged_debug_df, file_name, plot_title_no_quality)"
   ]
  },
  {
   "cell_type": "markdown",
   "id": "bc9be240",
   "metadata": {},
   "source": [
    "### 6. Represents Total Trip Length covered by each mode in Land"
   ]
  },
  {
   "cell_type": "code",
   "execution_count": null,
   "id": "b1338268",
   "metadata": {},
   "outputs": [],
   "source": [
    "plot_title_no_quality = \"Total trip length (\" + label_units_lower + \") covered by each mode by land\"\n",
    "file_name = f\"total_trip_length_land{file_suffix}\"\n",
    "\n",
    "try:\n",
    "    bar_count = 0\n",
    "    all_data_frames = []\n",
    "    plot_title = plot_title_no_quality + \"\\n\" + \"For Labeled and Sensed: \" + quality_text\n",
    "\n",
    "    if not expanded_ct_sensed.empty:\n",
    "        df_confirm_dist_land = process_distance_data(expanded_ct[expanded_ct['Mode_confirm'] != \"Airplane\"], 'Mode_confirm', \"Labeled by user\\n (Trip distance - Land)\")\n",
    "        if not df_confirm_dist_land.empty:\n",
    "            bar_count += 1\n",
    "            all_data_frames.append(df_confirm_dist_land)\n",
    "        else:\n",
    "            print(\"df_confirm_dist_land is empty.\")\n",
    "    else:\n",
    "        print(\"expanded_ct is empty.\")\n",
    "\n",
    "    if not expanded_ct_sensed.empty:\n",
    "        df_sensed_dist_land = process_distance_data(expanded_ct_sensed[expanded_ct_sensed['primary_mode'] != \"AIR_OR_HSR\"], 'primary_mode', \"Sensed by OpenPATH\\n (Trip distance - Land)\")\n",
    "        if not df_sensed_dist_land.empty:\n",
    "            bar_count += 1\n",
    "            all_data_frames.append(df_sensed_dist_land)\n",
    "        else:\n",
    "            print(\"df_sensed_dist_land is empty.\")\n",
    "    else:\n",
    "        print(\"expanded_ct_sensed is empty.\")\n",
    "\n",
    "    result_df = merge_dataframes(all_data_frames)\n",
    "    stacked_bar_chart_generic(plot_title, result_df, file_name, bar_count)\n",
    "    alt_text, alt_html = store_alt_text_stacked_bar_chart(result_df[result_df['Count'] > 0], file_name, plot_title)\n",
    "except:\n",
    "    generate_missing_plot(plot_title_no_quality, merged_debug_df, file_name)\n",
    "    alt_text = store_alt_text_missing(merged_debug_df, file_name, plot_title_no_quality)"
   ]
  },
  {
   "cell_type": "markdown",
   "id": "7aa03722",
   "metadata": {},
   "source": [
    "### 7. Represents Total Trip Length covered by Replaced Mode"
   ]
  },
  {
   "cell_type": "code",
   "execution_count": null,
   "id": "a872545c",
   "metadata": {},
   "outputs": [],
   "source": [
    "# Applicable only for program\n",
    "if study_type == \"program\":\n",
    "    plot_title_no_quality = \"Total trip length (\" + label_units_lower + \") covered by replaced mode\"\n",
    "    file_name = f\"total_trip_length_replaced_mode{file_suffix}\"\n",
    "\n",
    "    try:\n",
    "        bar_count = 0\n",
    "        all_data_frames = []\n",
    "\n",
    "        plot_title = plot_title_no_quality\n",
    "\n",
    "        if not data_eb.empty:\n",
    "            df_replaced_dist = process_distance_data(data_eb, 'Replaced_mode', f\"Labeled `{mode_of_interest}` by user\\n (Replaced distance)\")\n",
    "            if not df_replaced_dist.empty:\n",
    "                bar_count += 1\n",
    "                all_data_frames.append(df_replaced_dist)\n",
    "                plot_title += \"\\n\" + f\"For {mode_of_interest}: \" + quality_text_specific\n",
    "            else:\n",
    "                print(\"df_replaced_dist is empty.\")\n",
    "        else:\n",
    "            print(\"data_eb is empty.\")\n",
    "\n",
    "        result_df = merge_dataframes(all_data_frames)\n",
    "        stacked_bar_chart_generic(plot_title, result_df, file_name, bar_count)\n",
    "        alt_text, alt_html = store_alt_text_stacked_bar_chart(result_df[result_df['Count'] > 0], file_name, plot_title)\n",
    "    except:\n",
    "        generate_missing_plot(plot_title_no_quality, merged_debug_df, file_name)\n",
    "        alt_text = store_alt_text_missing(merged_debug_df, file_name, plot_title_no_quality)"
   ]
  },
  {
   "cell_type": "markdown",
   "id": "ffb2df0b",
   "metadata": {},
   "source": [
    "### 8. Represents number of trips for each purpose"
   ]
  },
  {
   "cell_type": "code",
   "execution_count": null,
   "id": "46474ada",
   "metadata": {},
   "outputs": [],
   "source": [
    "plot_title_no_quality = \"Number of trips for each purpose (selected by users)\"\n",
    "file_name = f\"ntrips_purpose{file_suffix}\"\n",
    "\n",
    "try:\n",
    "    bar_count = 0\n",
    "    all_tp_data_frames = []\n",
    "    plot_title = plot_title_no_quality\n",
    "\n",
    "    if not expanded_ct.empty:\n",
    "        df_purpose_trip = process_data_frame(expanded_ct, 'Trip_purpose', \"Labeled by user\\n (Confirmed trips)\")\n",
    "        if not df_purpose_trip.empty:\n",
    "            plot_title += \"\\n\" + \"For Labeled: \" + quality_text\n",
    "            bar_count += 1\n",
    "            all_tp_data_frames.append(df_purpose_trip)\n",
    "        else:\n",
    "            print(\"df_purpose_trip is empty.\")\n",
    "    else:\n",
    "        print(\"expanded_ct is empty.\")\n",
    "\n",
    "    if not data_eb.empty:\n",
    "        df_purpose_trip_eb = process_data_frame(data_eb, 'Trip_purpose', f\"Labeled `{mode_of_interest}` by user\")\n",
    "        if not df_purpose_trip_eb.empty:\n",
    "            plot_title += \"\\n\" + f\"For {mode_of_interest}: \" + quality_text_specific\n",
    "            bar_count += 1\n",
    "            all_tp_data_frames.append(df_purpose_trip_eb)\n",
    "        else:\n",
    "            print(\"df_purpose_trip_eb is empty.\")\n",
    "    else:\n",
    "        print(\"data_eb is empty.\")\n",
    "\n",
    "    result_tp_df = merge_dataframes(all_tp_data_frames)\n",
    "    stacked_bar_chart_generic(plot_title, result_tp_df, file_name, bar_count)\n",
    "    alt_text, alt_html = store_alt_text_stacked_bar_chart(result_tp_df[result_tp_df['Count'] > 0], file_name, plot_title)\n",
    "except:\n",
    "    generate_missing_plot(plot_title_no_quality, merged_debug_df, file_name)\n",
    "    alt_text = store_alt_text_missing(merged_debug_df, file_name, plot_title_no_quality)"
   ]
  },
  {
   "cell_type": "markdown",
   "id": "bcef1f6a",
   "metadata": {},
   "source": [
    "## Generic Metrics (Bar Charts)"
   ]
  },
  {
   "cell_type": "markdown",
   "id": "demanding-franklin",
   "metadata": {},
   "source": [
    "### Average miles per transport mode selected (Mode_confirm)"
   ]
  },
  {
   "cell_type": "code",
   "execution_count": null,
   "id": "patent-cliff",
   "metadata": {},
   "outputs": [],
   "source": [
    "file_name ='average_miles_mode_confirm%s' % file_suffix\n",
    "plot_title_no_quality=\"Average \"+ label_units+\" for each mode with > 3 entries\"\n",
    "\n",
    "try:\n",
    "    dist = expanded_ct.groupby('Mode_confirm').agg({distance_col: ['sum', 'count' , 'mean']})\n",
    "    dist.columns = ['Total ('+label_units_lower+')', 'Count', 'Average ('+label_units_lower+')']\n",
    "    dist = dist.reset_index()\n",
    "    dist =dist.sort_values(by=['Total ('+label_units_lower+')'], ascending=False)\n",
    "\n",
    "    x='Mode_confirm'\n",
    "    y='Average ('+label_units_lower+')'\n",
    "    plot_title= plot_title_no_quality+\"\\n\"+quality_text\n",
    "\n",
    "    data = dist.drop((dist.query(\"Count < 3\").index)).sort_values(by=['Average ('+label_units_lower+')'], ascending=False)\n",
    "\n",
    "    barplot_mode(data,x,y,plot_title, expanded_ct['Mode_confirm'].dropna().unique().tolist(), file_name)\n",
    "    alt_text = store_alt_text_bar(pd.DataFrame(data['Average ('+label_units_lower+')'].values, data['Mode_confirm']), file_name, plot_title)\n",
    "except:\n",
    "    generate_missing_plot(plot_title_no_quality,debug_df,file_name)\n",
    "    alt_text = store_alt_text_missing(debug_df, file_name, plot_title_no_quality)    "
   ]
  },
  {
   "cell_type": "markdown",
   "id": "sound-bradley",
   "metadata": {},
   "source": [
    "### Number of trips by day¶"
   ]
  },
  {
   "cell_type": "code",
   "execution_count": null,
   "id": "alleged-subsection",
   "metadata": {},
   "outputs": [],
   "source": [
    "plot_title_no_quality=\"Number of trips by day\"\n",
    "file_name ='ntrips_per_day%s' % file_suffix\n",
    "\n",
    "try:\n",
    "    fq_days = expanded_ct.groupby(['start_local_dt_day']).agg({'start_local_dt_day': ['sum', 'count']})\n",
    "    fq_days = fq_days.reset_index()\n",
    "    fq_days.columns = ['Day of the Month', 'Total', 'Number of Trips']\n",
    "\n",
    "    data = fq_days\n",
    "    x = 'Day of the Month'\n",
    "    y = 'Number of Trips'\n",
    "\n",
    "    plot_title= plot_title_no_quality+\"\\n\"+quality_text\n",
    "\n",
    "    barplot_day(data,x,y,plot_title,file_name)\n",
    "    alt_text = store_alt_text_bar(pd.DataFrame(data['Number of Trips'].values, data['Day of the Month']), file_name, plot_title)\n",
    "except:\n",
    "    generate_missing_plot(plot_title_no_quality,debug_df,file_name)\n",
    "    alt_text = store_alt_text_missing(debug_df, file_name, plot_title_no_quality)    "
   ]
  },
  {
   "cell_type": "markdown",
   "id": "challenging-julian",
   "metadata": {},
   "source": [
    "### Number of trips by day of week¶"
   ]
  },
  {
   "cell_type": "code",
   "execution_count": null,
   "id": "hollywood-optimization",
   "metadata": {},
   "outputs": [],
   "source": [
    "plot_title_no_quality=\"Number of trips by weekday\"\n",
    "file_name ='ntrips_per_weekday%s' % file_suffix\n",
    "try:\n",
    "    fq_weekdays = expanded_ct.groupby(['start_local_dt_weekday']).agg({'start_local_dt_weekday': ['sum', 'count']})\n",
    "    fq_weekdays = fq_weekdays.reset_index()\n",
    "    fq_weekdays.columns = ['Weekday', 'Total', 'Number of Trips']\n",
    "    weekday_labels = [\"Mon\", \"Tue\", \"Wed\", \"Thu\", \"Fri\", \"Sat\", \"Sun\"]\n",
    "    fq_weekdays[\"Weekday\"] = fq_weekdays.Weekday.apply(lambda x: weekday_labels[x])\n",
    "\n",
    "    data = fq_weekdays\n",
    "    x = 'Weekday'\n",
    "    y = 'Number of Trips'\n",
    "\n",
    "    plot_title= plot_title_no_quality+\"\\n\"+quality_text\n",
    "\n",
    "    barplot_day(data,x,y,plot_title,file_name)\n",
    "    alt_text = store_alt_text_bar(pd.DataFrame(data['Number of Trips'].values, data['Weekday']), file_name, plot_title)\n",
    "except:\n",
    "    generate_missing_plot(plot_title_no_quality,debug_df,file_name)\n",
    "    alt_text = store_alt_text_missing(debug_df, file_name, plot_title_no_quality)    "
   ]
  },
  {
   "cell_type": "markdown",
   "id": "94454e8f",
   "metadata": {},
   "source": [
    "## Sensed Metrics (Bar Charts)"
   ]
  },
  {
   "cell_type": "markdown",
   "id": "1ae3bf80",
   "metadata": {},
   "source": [
    "### Average miles per transport mode selected (primary_mode)"
   ]
  },
  {
   "cell_type": "code",
   "execution_count": null,
   "id": "882c0891",
   "metadata": {},
   "outputs": [],
   "source": [
    "plot_title_no_quality=\" Average Miles for each mode with > 3 entries\\n(inferred by OpenPATH from phone sensors)\"\n",
    "file_name ='average_miles_sensed_mode%s' % file_suffix\n",
    "\n",
    "try:\n",
    "    dist = expanded_ct_sensed.groupby('primary_mode').agg({distance_col: ['sum', 'count' , 'mean']})\n",
    "    dist.columns = ['Total ('+label_units_lower+')', 'Count', 'Average ('+label_units_lower+')']\n",
    "    dist = dist.reset_index()\n",
    "    dist =dist.sort_values(by=['Total ('+label_units_lower+')'], ascending=False)\n",
    "\n",
    "    data = dist.drop((dist.query(\"Count < 3\").index)).sort_values(by=['Average ('+label_units_lower+')'], ascending=False)\n",
    "    x='primary_mode'\n",
    "    y='Average ('+label_units_lower+')'\n",
    "\n",
    "    plot_title= plot_title_no_quality+\"\\n\"+quality_text\n",
    "\n",
    "    barplot_mode(data,x,y,plot_title, expanded_ct_sensed['primary_mode'].dropna().unique().tolist(), file_name)\n",
    "    alt_text = store_alt_text_bar(pd.DataFrame(data['Average ('+label_units_lower+')'].values, data['primary_mode']), file_name, plot_title)\n",
    "except:\n",
    "    generate_missing_plot(plot_title_no_quality,debug_df_sensed,file_name)\n",
    "    alt_text = store_alt_text_missing(debug_df_sensed, file_name, plot_title_no_quality) "
   ]
  },
  {
   "cell_type": "markdown",
   "id": "782926ff",
   "metadata": {},
   "source": [
    "### Number of trips by day¶"
   ]
  },
  {
   "cell_type": "code",
   "execution_count": null,
   "id": "b6b51c4e",
   "metadata": {},
   "outputs": [],
   "source": [
    "plot_title_no_quality=\"Number of trips by day\\n(inferred by OpenPATH from phone sensors)\"\n",
    "file_name ='ntrips_sensed_per_day%s' % file_suffix\n",
    "\n",
    "try:\n",
    "    fq_days = expanded_ct_sensed.groupby(['start_local_dt_day']).agg({'start_local_dt_day': ['sum', 'count']})\n",
    "    fq_days = fq_days.reset_index()\n",
    "    fq_days.columns = ['Day of the Month', 'Total', 'Number of Trips']\n",
    "\n",
    "    data = fq_days\n",
    "    x = 'Day of the Month'\n",
    "    y = 'Number of Trips'\n",
    "\n",
    "    plot_title= plot_title_no_quality+\"\\n\"+quality_text\n",
    "\n",
    "    barplot_day(data,x,y,plot_title,file_name)\n",
    "    alt_text = store_alt_text_bar(pd.DataFrame(data['Number of Trips'].values, data['Day of the Month']), file_name, plot_title)\n",
    "except:\n",
    "    generate_missing_plot(plot_title_no_quality,debug_df_sensed,file_name)\n",
    "    alt_text = store_alt_text_missing(debug_df_sensed, file_name, plot_title_no_quality)"
   ]
  },
  {
   "cell_type": "markdown",
   "id": "5d403785",
   "metadata": {},
   "source": [
    "### Number of trips by day of week¶"
   ]
  },
  {
   "cell_type": "code",
   "execution_count": null,
   "id": "9b9789a8",
   "metadata": {},
   "outputs": [],
   "source": [
    "plot_title_no_quality=\"Number of trips by weekday\\n(inferred by OpenPATH from phone sensors)\"\n",
    "file_name ='ntrips_sensed_per_weekday%s' % file_suffix\n",
    "try:\n",
    "    fq_weekdays = expanded_ct_sensed.groupby(['start_local_dt_weekday']).agg({'start_local_dt_weekday': ['sum', 'count']})\n",
    "    fq_weekdays = fq_weekdays.reset_index()\n",
    "    fq_weekdays.columns = ['Weekday', 'Total', 'Number of Trips']\n",
    "    weekday_labels = [\"Mon\", \"Tue\", \"Wed\", \"Thu\", \"Fri\", \"Sat\", \"Sun\"]\n",
    "    fq_weekdays[\"Weekday\"] = fq_weekdays.Weekday.apply(lambda x: weekday_labels[x])\n",
    "\n",
    "    data = fq_weekdays\n",
    "    x = 'Weekday'\n",
    "    y = 'Number of Trips'\n",
    "\n",
    "    plot_title= plot_title_no_quality+\"\\n\"+quality_text\n",
    "\n",
    "    barplot_day(data,x,y,plot_title,file_name)\n",
    "    alt_text = store_alt_text_bar(pd.DataFrame(data['Number of Trips'].values, data['Weekday']), file_name, plot_title)\n",
    "except:\n",
    "    generate_missing_plot(plot_title_no_quality,debug_df_sensed,file_name)\n",
    "    alt_text = store_alt_text_missing(debug_df_sensed, file_name, plot_title_no_quality)"
   ]
  },
  {
   "cell_type": "markdown",
   "id": "881f2170",
   "metadata": {},
   "source": [
    "## Mode Specific (Bar Charts)"
   ]
  },
  {
   "cell_type": "markdown",
   "id": "601057fe",
   "metadata": {},
   "source": [
    "### Average miles per trip for specified mode"
   ]
  },
  {
   "cell_type": "code",
   "execution_count": null,
   "id": "24dccf66",
   "metadata": {},
   "outputs": [],
   "source": [
    "if study_type == \"program\":\n",
    "    plot_title_no_quality=\"Average \" + label_units + \" for each replaced mode with > 3 entries\\n'Other' represents trips with a non-standard or missing replacement\"\n",
    "    file_name ='average_miles_replaced_mode%s' % file_suffix\n",
    "\n",
    "    try:\n",
    "        dg=data_eb.groupby('Replaced_mode').agg({distance_col: ['sum', 'count' , 'mean']},)\n",
    "        dg.columns = ['Total ('+label_units_lower+')', 'Count' ,'Average ('+label_units_lower+')']\n",
    "        dg = dg.reset_index()\n",
    "        dg = dg.sort_values(by=['Total ('+label_units_lower+')'], ascending=False)\n",
    "        data = dg.drop((dg.query(\"Count < 3\").index)).sort_values(by=['Average ('+label_units_lower+')'], ascending=False) \n",
    "\n",
    "        x='Replaced_mode'\n",
    "        y='Average ('+label_units_lower+')'\n",
    "        y2 = \"Count\"\n",
    "\n",
    "        plot_title= plot_title_no_quality+\"\\n\"+quality_text\n",
    "        barplot_mode(data,x,y,plot_title, expanded_ct['Replaced_mode'].dropna().unique().tolist(), file_name)\n",
    "        alt_text = store_alt_text_bar(pd.DataFrame(data['Average ('+label_units_lower+')'].values, data.Replaced_mode), file_name, plot_title)\n",
    "\n",
    "    except:\n",
    "        generate_missing_plot(plot_title_no_quality,debug_df,file_name)\n",
    "        alt_text = store_alt_text_missing(debug_df, file_name, plot_title_no_quality)"
   ]
  },
  {
   "cell_type": "markdown",
   "id": "14650196",
   "metadata": {},
   "source": [
    "### Number of trips by day for specified mode"
   ]
  },
  {
   "cell_type": "code",
   "execution_count": null,
   "id": "0ef2fe77",
   "metadata": {},
   "outputs": [],
   "source": [
    "if study_type == \"program\":\n",
    "    plot_title_no_quality=f\"Number of {mode_of_interest} trips by day\"\n",
    "    file_name =f'ntrips_{mode_of_interest}_per_day%s' % file_suffix\n",
    "\n",
    "    try:\n",
    "        fq_days = data_eb.groupby(['start_local_dt_day']).agg({'start_local_dt_day': ['sum', 'count']})\n",
    "        fq_days = fq_days.reset_index()\n",
    "        fq_days.columns = ['Day of the Month', 'Total', 'Number of Trips']\n",
    "\n",
    "        data = fq_days\n",
    "        x = 'Day of the Month'\n",
    "        y = 'Number of Trips'\n",
    "\n",
    "        plot_title= plot_title_no_quality+\"\\n\"+quality_text\n",
    "        barplot_day(data,x,y,plot_title,file_name)\n",
    "        alt_text = store_alt_text_bar(pd.DataFrame(data['Number of Trips'].values, data['Day of the Month'].values), file_name, plot_title)\n",
    "    except:\n",
    "        generate_missing_plot(plot_title_no_quality,debug_df,file_name)\n",
    "        alt_text = store_alt_text_missing(debug_df, file_name, plot_title_no_quality)"
   ]
  },
  {
   "cell_type": "markdown",
   "id": "e807c0f1",
   "metadata": {},
   "source": [
    "### Number of trips by day of week¶"
   ]
  },
  {
   "cell_type": "code",
   "execution_count": null,
   "id": "8085e9a1",
   "metadata": {},
   "outputs": [],
   "source": [
    "if study_type == \"program\":\n",
    "    plot_title_no_quality=f\"Number of {mode_of_interest} trips by weekday\"\n",
    "    file_name =f'ntrips_{mode_of_interest}_per_weekday%s' % file_suffix\n",
    "\n",
    "    try:\n",
    "        fq_weekdays = data_eb.groupby(['start_local_dt_weekday']).agg({'start_local_dt_weekday': ['sum', 'count']})\n",
    "        fq_weekdays = fq_weekdays.reset_index()\n",
    "        fq_weekdays.columns = ['Weekday', 'Total', 'Number of Trips']\n",
    "        weekday_labels = [\"Mon\", \"Tue\", \"Wed\", \"Thu\", \"Fri\", \"Sat\", \"Sun\"]\n",
    "        fq_weekdays[\"Weekday\"] = fq_weekdays.Weekday.apply(lambda x: weekday_labels[x])\n",
    "\n",
    "        data = fq_weekdays\n",
    "        x = 'Weekday'\n",
    "        y = 'Number of Trips'\n",
    "\n",
    "        plot_title= plot_title_no_quality+\"\\n\"+quality_text\n",
    "        barplot_day(data,x,y,plot_title,file_name)\n",
    "        alt_text = store_alt_text_bar(pd.DataFrame(data['Number of Trips'].values, data['Weekday'].values), file_name, plot_title)\n",
    "    except:\n",
    "        generate_missing_plot(plot_title_no_quality,debug_df,file_name)\n",
    "        alt_text = store_alt_text_missing(debug_df, file_name, plot_title_no_quality)"
   ]
  }
 ],
 "metadata": {
  "kernelspec": {
   "display_name": "Python 3 (ipykernel)",
   "language": "python",
   "name": "python3"
  },
  "language_info": {
   "codemirror_mode": {
    "name": "ipython",
    "version": 3
   },
   "file_extension": ".py",
   "mimetype": "text/x-python",
   "name": "python",
   "nbconvert_exporter": "python",
   "pygments_lexer": "ipython3",
   "version": "3.7.12"
  }
 },
 "nbformat": 4,
 "nbformat_minor": 5
}
