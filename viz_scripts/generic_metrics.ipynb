{
 "cells": [
  {
   "cell_type": "markdown",
   "id": "academic-context",
   "metadata": {},
   "source": [
    "## Generate Static Graphs"
   ]
  },
  {
   "cell_type": "markdown",
   "id": "medium-siemens",
   "metadata": {},
   "source": [
    "These are the input parameters for the notebook. They will be automatically changed when the scripts to generate monthly statistics are run. You can modify them manually to generate multiple plots locally as well.\n",
    "\n",
    "Pass in `None` to remove the filters and plot all data. This is not recommended for production settings, but might be useful for reports based on data snapshots."
   ]
  },
  {
   "cell_type": "code",
   "execution_count": null,
   "id": "narrative-hunter",
   "metadata": {},
   "outputs": [],
   "source": [
    "year = 2020\n",
    "month = 11\n",
    "program = \"default\"\n",
    "study_type = \"study\"\n",
    "include_test_users = False\n",
    "labels = {}\n",
    "use_imperial = True\n",
    "sensed_algo_prefix = \"cleaned\"\n",
    "survey_info = {}"
   ]
  },
  {
   "cell_type": "code",
   "execution_count": null,
   "id": "activated-portugal",
   "metadata": {},
   "outputs": [],
   "source": [
    "from collections import defaultdict\n",
    "\n",
    "import numpy as np\n",
    "import pandas as pd\n",
    "import matplotlib.pyplot as plt\n",
    "\n",
    "from plots import *\n",
    "import scaffolding\n",
    "\n",
    "sns.set_style(\"whitegrid\")\n",
    "sns.set()\n",
    "%matplotlib inline"
   ]
  },
  {
   "cell_type": "code",
   "execution_count": null,
   "id": "eaf90438",
   "metadata": {},
   "outputs": [],
   "source": [
    "# Do not run this notebook if it has trip-labels as ENKETO nbclient will run up through this cell\n",
    "if survey_info.get('trip-labels', None) == 'ENKETO':\n",
    "    ipython = get_ipython()\n",
    "    ipython._showtraceback = scaffolding.no_traceback_handler\n",
    "    raise Exception(\"The plots in this notebook are not relevant for ENKETO trip-labels\")"
   ]
  },
  {
   "cell_type": "code",
   "execution_count": null,
   "id": "alternative-voltage",
   "metadata": {},
   "outputs": [],
   "source": [
    "# get metric vs imperial vars\n",
    "label_units, short_label, label_units_lower, distance_col, weight_unit = scaffolding.get_units(use_imperial)"
   ]
  },
  {
   "cell_type": "markdown",
   "id": "796f59c7",
   "metadata": {},
   "source": [
    "### Color Dictionary"
   ]
  },
  {
   "cell_type": "code",
   "execution_count": null,
   "id": "14e7260c",
   "metadata": {},
   "outputs": [],
   "source": [
    "colors_mode, colors_replaced, colors_purpose, colors_sensed, colors_ble = scaffolding.mapping_color_labels(labels)\n",
    "values_to_translations, value_to_translations_purpose, values_to_translations_replaced = scaffolding.translate_values_to_labels(labels)"
   ]
  },
  {
   "cell_type": "markdown",
   "id": "intellectual-columbus",
   "metadata": {},
   "source": [
    "## Collect Data From Database for Generic Metrics"
   ]
  },
  {
   "cell_type": "code",
   "execution_count": null,
   "id": "organic-pitch",
   "metadata": {},
   "outputs": [],
   "source": [
    "expanded_ct, file_suffix, quality_text, debug_df = await scaffolding.load_viz_notebook_data(year,\n",
    "                                                                            month,\n",
    "                                                                            program,\n",
    "                                                                            study_type,\n",
    "                                                                            labels,\n",
    "                                                                            include_test_users=include_test_users,\n",
    "                                                                            add_footprint=True)"
   ]
  },
  {
   "cell_type": "markdown",
   "id": "6d44c87e",
   "metadata": {},
   "source": [
    "## Collect Data from Database for Sensed Metrics"
   ]
  },
  {
   "cell_type": "code",
   "execution_count": null,
   "id": "55ec383b",
   "metadata": {},
   "outputs": [],
   "source": [
    "expanded_ct_sensed, file_suffix_sensed, quality_text_sensed, debug_df_sensed = await scaffolding.load_viz_notebook_sensor_inference_data(year,\n",
    "                                                                            month,\n",
    "                                                                            program,\n",
    "                                                                            labels,\n",
    "                                                                            include_test_users,\n",
    "                                                                            sensed_algo_prefix)"
   ]
  },
  {
   "cell_type": "markdown",
   "id": "325e5eda",
   "metadata": {},
   "source": [
    "## Collect Data from Database for Inferred Metrics"
   ]
  },
  {
   "cell_type": "code",
   "execution_count": null,
   "id": "c26ff5f5",
   "metadata": {},
   "outputs": [],
   "source": [
    "expanded_ct_inferred, file_suffix_inferred, quality_text_inferred, debug_df_inferred = await scaffolding.load_viz_notebook_inferred_data(year,\n",
    "                                                                            month,\n",
    "                                                                            program,\n",
    "                                                                            study_type,\n",
    "                                                                            labels,\n",
    "                                                                            include_test_users=include_test_users,\n",
    "                                                                            add_footprint=True)"
   ]
  },
  {
   "cell_type": "code",
   "execution_count": null,
   "id": "a1bd14bc",
   "metadata": {},
   "outputs": [],
   "source": [
    "merged_debug_df = debug_df.combine_first(debug_df_sensed)"
   ]
  },
  {
   "cell_type": "code",
   "execution_count": null,
   "id": "3a0ec842",
   "metadata": {},
   "outputs": [],
   "source": [
    "quality_text, quality_text_sensed"
   ]
  },
  {
   "cell_type": "code",
   "execution_count": null,
   "id": "cacc71f3",
   "metadata": {},
   "outputs": [],
   "source": [
    "import re\n",
    "labeled_match = re.match(r'Based on ([0-9]+) confirmed trips from ([0-9]+) (users|testers and participants)\\nof ([0-9]+) total  trips from ([0-9]+) (users|testers and participants) (\\(([0-9.]+|nan)%\\))', quality_text)\n",
    "# labeled_match\n",
    "stacked_bar_quality_text_labeled = f\"{labeled_match.group(1)} trips {labeled_match.group(7)}\\n from {labeled_match.group(2)} {labeled_match.group(3)}\"\n",
    "\n",
    "sensed_match = re.match(r'Based on ([0-9]+) trips from ([0-9]+) (users|testers and participants)', quality_text_sensed)\n",
    "stacked_bar_quality_text_sensed = f\"{sensed_match.group(1)} trips (100%)\\n from {sensed_match.group(2)} {sensed_match.group(3)}\"\n",
    "\n",
    "inferred_match = re.match(r'Based on ([0-9]+) confirmed trips from ([0-9]+) (users|testers and participants)\\nof ([0-9]+) total  trips from ([0-9]+) (users|testers and participants) (\\(([0-9.]+|nan)%\\))', quality_text_inferred)\n",
    "stacked_bar_quality_text_inferred = f\"{inferred_match.group(1)} trips {inferred_match.group(7)}\\n from {inferred_match.group(2)} {inferred_match.group(3)}\"\n",
    "\n",
    "stacked_bar_quality_text_labeled, stacked_bar_quality_text_sensed, stacked_bar_quality_text_inferred"
   ]
  },
  {
   "cell_type": "markdown",
   "id": "1af1f02b",
   "metadata": {},
   "source": [
    "## 100% Stacked Bar Charts"
   ]
  },
  {
   "cell_type": "markdown",
   "id": "e50959c1",
   "metadata": {},
   "source": [
    "### Distribution of modes"
   ]
  },
  {
   "cell_type": "code",
   "execution_count": null,
   "id": "aef741fe",
   "metadata": {},
   "outputs": [],
   "source": [
    "file_name = f'ntrips_total{file_suffix}'\n",
    "plot_title_no_quality= \"Number of trips for each mode\"\n",
    "\n",
    "try:\n",
    "    fig, ax = plt.subplots(nrows=3, ncols=1, figsize=(15,3*2), sharex=True)\n",
    "    # We will have text results corresponding to the axes for simplicity and consistency\n",
    "    text_results = [[\"Unmodified Alt Text\", \"Unmodified HTML\"], [\"Unmodified Alt Text\", \"Unmodified HTML\"], [\"Unmodified Alt Text\", \"Unmodified HTML\"]]\n",
    "    \n",
    "    plot_and_text_stacked_bar_chart(expanded_ct, lambda df: (df.groupby(\"mode_confirm_w_other\").agg({distance_col: 'count'}).sort_values(by=distance_col, ascending=False)), \n",
    "                                    \"Labeled by user\\n\"+stacked_bar_quality_text_labeled, ax[0], text_results[0], colors_mode, debug_df, values_to_translations)\n",
    "    plot_and_text_stacked_bar_chart(expanded_ct_inferred, lambda df: (df.groupby(\"mode_confirm_w_other\").agg({distance_col: 'count'}).sort_values(by=distance_col, ascending=False)), \n",
    "                                    \"Inferred from prior labels\\n\"+stacked_bar_quality_text_inferred, ax[1], text_results[1], colors_mode, debug_df_inferred, values_to_translations)\n",
    "    plot_and_text_stacked_bar_chart(expanded_ct_sensed, lambda df: (df.groupby(\"primary_mode\").agg({distance_col: 'count'}).sort_values(by=distance_col, ascending=False)), \n",
    "                                    \"Sensed by OpenPATH\\n\"+stacked_bar_quality_text_sensed, ax[2], text_results[2], colors_sensed, debug_df_sensed)\n",
    "    set_title_and_save(fig, text_results, plot_title_no_quality, file_name)\n",
    "except (AttributeError, KeyError, pd.errors.UndefinedVariableError) as e:\n",
    "    plt.clf()\n",
    "    generate_missing_plot(plot_title_no_quality, merged_debug_df, file_name)\n",
    "    alt_text = store_alt_text_missing(merged_debug_df, file_name, plot_title_no_quality)        \n",
    "    alt_html = store_alt_html_missing(merged_debug_df, file_name, plot_title_no_quality)\n",
    "except Exception as e:\n",
    "    # TODO: Future cleanup can pass in just the figure and have the function choose the last axis\n",
    "    fig, ax = plt.subplots()\n",
    "    plot_and_text_error(e, ax, file_name)"
   ]
  },
  {
   "cell_type": "markdown",
   "id": "7fa4f3da",
   "metadata": {},
   "source": [
    "### Distribution of modes in commute trips"
   ]
  },
  {
   "cell_type": "code",
   "execution_count": null,
   "id": "5c6cd4cf",
   "metadata": {},
   "outputs": [],
   "source": [
    "plot_title_no_quality= \"Number of commute trips for each mode\"\n",
    "file_name = f\"ntrips_commute_mode_confirm{file_suffix}\"\n",
    "\n",
    "try:\n",
    "    trip_purpose_query = \"purpose_confirm == 'work'\"\n",
    "    expanded_ct_commute = expanded_ct.query(trip_purpose_query)\n",
    "    commute_quality_text = scaffolding.get_quality_text(expanded_ct, expanded_ct_commute, \"commute\", include_test_users) if not expanded_ct.empty else \"\"\n",
    "    expanded_ct_inferred_commute = expanded_ct_inferred.query(trip_purpose_query)\n",
    "    commute_quality_text_inferred = scaffolding.get_quality_text(expanded_ct_inferred, expanded_ct_inferred_commute, \"commute\", include_test_users) if not expanded_ct_inferred.empty else \"\"\n",
    "    plot_title = plot_title_no_quality\n",
    "\n",
    "    commute_labeled_match = re.match(r'Based on ([0-9]+) confirmed commute trips from ([0-9]+) (users|testers and participants)\\nof ([0-9]+) total confirmed trips from ([0-9]+) (users|testers and participants) (\\(([0-9.]+|nan)%\\))', commute_quality_text)\n",
    "    stacked_bar_quality_text_commute_labeled = f\"{commute_labeled_match.group(1)} trips {commute_labeled_match.group(7)}\\n from {commute_labeled_match.group(2)} {commute_labeled_match.group(3)}\"\n",
    "\n",
    "    commute_inferred_match = re.match(r'Based on ([0-9]+) confirmed commute trips from ([0-9]+) (users|testers and participants)\\nof ([0-9]+) total confirmed trips from ([0-9]+) (users|testers and participants) (\\(([0-9.]+|nan)%\\))', commute_quality_text_inferred)\n",
    "    stacked_bar_quality_text_commute_inferred = f\"{commute_inferred_match.group(1)} trips {commute_inferred_match.group(7)}\\n from {commute_inferred_match.group(2)} {commute_inferred_match.group(3)}\"\n",
    "\n",
    "    # Plot entries\n",
    "    fig, ax = plt.subplots(nrows=2, ncols=1, figsize=(15,2*2), sharex=True)    \n",
    "    text_results = [[\"Unmodified Alt Text\", \"Unmodified HTML\"], [\"Unmodified Alt Text\", \"Unmodified HTML\"]]\n",
    "    plot_and_text_stacked_bar_chart(expanded_ct_commute, lambda df: df.groupby(\"mode_confirm_w_other\").agg({distance_col: 'count'}).sort_values(by=distance_col, ascending=False), \n",
    "                                    \"Labeled by user\\n\"+stacked_bar_quality_text_commute_labeled, ax[0], text_results[0], colors_mode, debug_df, values_to_translations)\n",
    "    plot_and_text_stacked_bar_chart(expanded_ct_inferred_commute, lambda df: df.groupby(\"mode_confirm_w_other\").agg({distance_col: 'count'}).sort_values(by=distance_col, ascending=False), \n",
    "                                    \"Inferred from prior labels\\n\"+stacked_bar_quality_text_commute_inferred, ax[1], text_results[1], colors_mode, debug_df_inferred, values_to_translations)\n",
    "    set_title_and_save(fig, text_results, plot_title, file_name)\n",
    "except (AttributeError, KeyError, pd.errors.UndefinedVariableError) as e:\n",
    "    plt.clf()\n",
    "    generate_missing_plot(plot_title_no_quality, debug_df, file_name)\n",
    "    alt_text = store_alt_text_missing(debug_df, file_name, plot_title_no_quality)    \n",
    "    alt_html = store_alt_html_missing(debug_df, file_name, plot_title_no_quality)\n",
    "except Exception as e:\n",
    "    fig, ax = plt.subplots()\n",
    "    plot_and_text_error(e, ax, file_name)"
   ]
  },
  {
   "cell_type": "markdown",
   "id": "ffb2df0b",
   "metadata": {},
   "source": [
    "### Distribution of Trip_purpose attribute"
   ]
  },
  {
   "cell_type": "code",
   "execution_count": null,
   "id": "46474ada",
   "metadata": {},
   "outputs": [],
   "source": [
    "plot_title_no_quality=\"Number of trips for each purpose\"\n",
    "file_name= f\"ntrips_purpose{file_suffix}\"\n",
    "try:\n",
    "    fig, ax = plt.subplots(nrows=2, ncols=1, figsize=(15,2*2), sharex=True)\n",
    "    text_results = [[\"Unmodified Alt Text\", \"Unmodified HTML\"], [\"Unmodified Alt Text\", \"Unmodified HTML\"]]\n",
    "    plot_and_text_stacked_bar_chart(expanded_ct, lambda df: df.groupby(\"purpose_confirm_w_other\").agg({distance_col: 'count'}).sort_values(by=distance_col, ascending=False), \n",
    "                                    \"Labeled by user\\n\"+stacked_bar_quality_text_labeled, ax[0], text_results[0], colors_purpose, debug_df, value_to_translations_purpose)\n",
    "    plot_and_text_stacked_bar_chart(expanded_ct_inferred, lambda df: df.groupby(\"purpose_confirm_w_other\").agg({distance_col: 'count'}).sort_values(by=distance_col, ascending=False), \n",
    "                                    \"Inferred from prior labels\\n\"+stacked_bar_quality_text_inferred, ax[1], text_results[1], colors_purpose, debug_df_inferred)\n",
    "    set_title_and_save(fig, text_results, plot_title_no_quality, file_name)\n",
    "except (AttributeError, KeyError, pd.errors.UndefinedVariableError) as e:\n",
    "    plt.clf()\n",
    "    generate_missing_plot(plot_title_no_quality, debug_df, file_name)\n",
    "    alt_text = store_alt_text_missing(debug_df, file_name, plot_title_no_quality)\n",
    "    alt_html = store_alt_html_missing(debug_df, file_name, plot_title_no_quality)\n",
    "except Exception as e:\n",
    "    fig, ax = plt.subplots()\n",
    "    plot_and_text_error(e, ax, file_name)"
   ]
  },
  {
   "cell_type": "markdown",
   "id": "8fc63a45",
   "metadata": {},
   "source": [
    "### Mode choice for trips under 80% mark"
   ]
  },
  {
   "cell_type": "code",
   "execution_count": null,
   "id": "77ece8ee",
   "metadata": {},
   "outputs": [],
   "source": [
    "file_name = f'ntrips_under80{file_suffix}'\n",
    "\n",
    "try:\n",
    "    # Preprocess to find cutoff and filter below cutoff\n",
    "    # For simplicity, and to aid in comparison, we have a single cutoff based on the total number of trips\n",
    "    cutoff = expanded_ct_sensed.distance.quantile(0.8)\n",
    "    if pd.isna(cutoff):\n",
    "        cutoff = 0\n",
    "    dist_threshold = expanded_ct_sensed[distance_col].quantile(0.8).round(1)\n",
    "    dist_threshold = str(dist_threshold) \n",
    "\n",
    "    plot_title_no_quality=\"Number of trips per travel model under \" + dist_threshold + \" \" + label_units_lower\n",
    "    plot_title_no_quality=plot_title_no_quality+\"\\n[\"+dist_threshold + \" \" + label_units_lower+\" represents 80th percentile of trip length]\"\n",
    "\n",
    "    ## We do an existence check for the labeled df because we want to display the sensed value even if we don't have the labeled value\n",
    "    ## but we don't need to have an existence check for sensed because in that case we will have no data to display\n",
    "    expanded_ct_u80 = expanded_ct.loc[(expanded_ct['distance'] <= cutoff)] if \"mode_confirm_w_other\" in expanded_ct.columns else None\n",
    "    expanded_ct_inferred_u80 = expanded_ct_inferred.loc[(expanded_ct_inferred['distance'] <= cutoff)] if \"mode_confirm_w_other\" in expanded_ct_inferred.columns else None\n",
    "    expanded_ct_sensed_u80 = expanded_ct_sensed.loc[(expanded_ct_sensed['distance'] <= cutoff)]\n",
    "\n",
    "    sensed_u80_quality_text = f\"{len(expanded_ct_sensed_u80)} trips ({round(len(expanded_ct_sensed_u80)/len(expanded_ct_sensed)*100)}% of all trips)\\nfrom {scaffolding.unique_users(expanded_ct_sensed_u80)} {sensed_match.group(3)}\"\n",
    "    labeled_u80_quality_text = f\"{len(expanded_ct_u80)} trips ({round(len(expanded_ct_u80)/len(expanded_ct)*100)}% of all labeled,\\n{round(len(expanded_ct_u80)/len(expanded_ct_sensed)*100)}% of all trips)\\nfrom {scaffolding.unique_users(expanded_ct_u80)} {sensed_match.group(3)}\" if \"mode_confirm_w_other\" in expanded_ct.columns else \"0 labeled trips\"\n",
    "    inferred_u80_quality_text = f\"{len(expanded_ct_inferred_u80)} trips ({round(len(expanded_ct_inferred_u80)/len(expanded_ct_inferred)*100)}% of all inferred,\\n{round(len(expanded_ct_inferred_u80)/len(expanded_ct_sensed)*100)}% of all trips)\\nfrom {scaffolding.unique_users(expanded_ct_inferred_u80)} {sensed_match.group(3)}\" if \"mode_confirm_w_other\" in expanded_ct_inferred.columns else \"0 inferred trips\"\n",
    "\n",
    "    # Plot entries\n",
    "    fig, ax = plt.subplots(nrows=3, ncols=1, figsize=(15,3*2), sharex=True)\n",
    "    text_results = [[\"Unmodified Alt Text\", \"Unmodified HTML\"], [\"Unmodified Alt Text\", \"Unmodified HTML\"], [\"Unmodified Alt Text\", \"Unmodified HTML\"]]\n",
    "    plot_and_text_stacked_bar_chart(expanded_ct_u80, lambda df: df.groupby(\"mode_confirm_w_other\").agg({distance_col: 'count'}).sort_values(by=distance_col, ascending=False), \n",
    "                                    \"Labeled by user\\n\"+labeled_u80_quality_text, ax[0], text_results[0], colors_mode, debug_df, values_to_translations)\n",
    "    plot_and_text_stacked_bar_chart(expanded_ct_inferred_u80, lambda df: df.groupby(\"mode_confirm_w_other\").agg({distance_col: 'count'}).sort_values(by=distance_col, ascending=False), \n",
    "                                    \"Labeled and Inferred by OpenPATH\\n\"+inferred_u80_quality_text, ax[1], text_results[1], colors_mode, debug_df_inferred, values_to_translations)\n",
    "    plot_and_text_stacked_bar_chart(expanded_ct_sensed_u80, lambda df: df.groupby(\"primary_mode\").agg({distance_col: 'count'}).sort_values(by=distance_col, ascending=False), \n",
    "                                    \"Sensed by OpenPATH\\n\"+sensed_u80_quality_text, ax[2], text_results[2], colors_sensed, debug_df_sensed)\n",
    "    set_title_and_save(fig, text_results, plot_title_no_quality, file_name)\n",
    "except (AttributeError, KeyError, pd.errors.UndefinedVariableError) as e:\n",
    "    # we can have an missing attribute error during the pre-procssing, in which case we should show the missing plot\n",
    "    # here, our pre-processing only relies on sensed data, so we use the debug_df_sensed\n",
    "    plt.clf()\n",
    "    plot_title_default = \"Number of trips below 80th percentile in each mode\"\n",
    "    generate_missing_plot(plot_title_default, merged_debug_df, file_name)\n",
    "    alt_text = store_alt_text_missing(merged_debug_df, file_name, plot_title_default)\n",
    "    alt_html = store_alt_html_missing(merged_debug_df, file_name, plot_title_no_quality)\n",
    "except Exception as e:\n",
    "    fig, ax = plt.subplots()\n",
    "    plot_and_text_error(e, ax, file_name)"
   ]
  },
  {
   "cell_type": "markdown",
   "id": "b560cb32",
   "metadata": {},
   "source": [
    "### Total Trip Length covered by each mode"
   ]
  },
  {
   "cell_type": "code",
   "execution_count": null,
   "id": "ffccb96f",
   "metadata": {},
   "outputs": [],
   "source": [
    "plot_title_no_quality= label_units + \" for each mode\"\n",
    "file_name =f\"total_trip_length{file_suffix}\"\n",
    "\n",
    "try:\n",
    "    fig, ax = plt.subplots(nrows=3, ncols=1, figsize=(15,3*2), sharex=True)\n",
    "    \n",
    "    text_results = [[\"Unmodified Alt Text\", \"Unmodified HTML\"], [\"Unmodified Alt Text\", \"Unmodified HTML\"], [\"Unmodified Alt Text\", \"Unmodified HTML\"]]\n",
    "    plot_and_text_stacked_bar_chart(expanded_ct, lambda df: df.groupby(\"mode_confirm_w_other\").agg({distance_col: 'sum'}).sort_values(by=distance_col, ascending=False), \n",
    "                                    \"Labeled by user\\n\"+stacked_bar_quality_text_labeled, ax[0], text_results[0], colors_mode, debug_df, values_to_translations)\n",
    "    plot_and_text_stacked_bar_chart(expanded_ct_inferred, lambda df: df.groupby(\"mode_confirm_w_other\").agg({distance_col: 'sum'}).sort_values(by=distance_col, ascending=False), \n",
    "                                    \"Inferred from prior labels\\n\"+stacked_bar_quality_text_inferred, ax[1], text_results[1], colors_mode, debug_df_inferred, values_to_translations)\n",
    "    plot_and_text_stacked_bar_chart(expanded_ct_sensed, lambda df: df.groupby(\"primary_mode\").agg({distance_col: 'sum'}).sort_values(by=distance_col, ascending=False), \n",
    "                                    \"Sensed by OpenPATH\\n\"+stacked_bar_quality_text_sensed, ax[2], text_results[2], colors_sensed, debug_df_sensed)\n",
    "    set_title_and_save(fig, text_results, plot_title_no_quality, file_name)    \n",
    "except (AttributeError, KeyError, pd.errors.UndefinedVariableError) as e:\n",
    "    plt.clf()\n",
    "    generate_missing_plot(plot_title_no_quality, merged_debug_df, file_name)\n",
    "    alt_text = store_alt_text_missing(merged_debug_df, file_name, plot_title_no_quality)  \n",
    "    alt_html = store_alt_html_missing(merged_debug_df, file_name, plot_title_no_quality)\n",
    "except Exception as e:\n",
    "    fig, ax = plt.subplots()\n",
    "    plot_and_text_error(e, ax, file_name)"
   ]
  },
  {
   "cell_type": "markdown",
   "id": "bc9be240",
   "metadata": {},
   "source": [
    "### Total Trip Length covered by each land transport mode"
   ]
  },
  {
   "cell_type": "code",
   "execution_count": null,
   "id": "b1338268",
   "metadata": {},
   "outputs": [],
   "source": [
    "plot_title_no_quality= \"Total trip length (\" + label_units_lower + \") covered by each mode on land\"\n",
    "file_name =f\"total_trip_length_land{file_suffix}\"\n",
    "\n",
    "try:\n",
    "    ## We do an existence check for the labeled df because we want to display the sensed value even if we don't have the labeled value\n",
    "    ## but we don't need to have an existence check for sensed because in that case we will have no data to display\n",
    "    labeled_land_trips_df = expanded_ct[expanded_ct['base_mode'] != \"AIR\"] if \"base_mode\" in expanded_ct.columns else None\n",
    "    inferred_land_trips_df = expanded_ct_inferred[expanded_ct_inferred['base_mode'] != \"AIR\"] if \"base_mode\" in expanded_ct_inferred.columns else None\n",
    "    sensed_land_trips_df = expanded_ct_sensed[expanded_ct_sensed['primary_mode'] != \"AIR_OR_HSR\"]\n",
    "    \n",
    "    sensed_land_quality_text = f\"{len(sensed_land_trips_df)} trips ({round(len(sensed_land_trips_df)/len(expanded_ct_sensed)*100)}% of all trips)\\nfrom {scaffolding.unique_users(sensed_land_trips_df)} {sensed_match.group(3)}\"\n",
    "    labeled_land_quality_text = f\"{len(labeled_land_trips_df)} trips ({round(len(labeled_land_trips_df)/len(expanded_ct_sensed)*100)}% of all trips)\\nfrom {scaffolding.unique_users(labeled_land_trips_df)} {sensed_match.group(3)}\" if \"Mode_confirm\" in expanded_ct.columns else \"0 labeled trips\"\n",
    "    inferred_land_quality_text = f\"{len(inferred_land_trips_df)} trips ({round(len(inferred_land_trips_df)/len(expanded_ct_inferred)*100)}% of all inferred,\\n{round(len(inferred_land_trips_df)/len(expanded_ct_sensed)*100)}% of all trips)\\nfrom {scaffolding.unique_users(inferred_land_trips_df)} {sensed_match.group(3)}\" if \"Mode_confirm\" in expanded_ct_inferred.columns else \"0 inferred trips\"\n",
    "    \n",
    "    fig, ax = plt.subplots(nrows=3, ncols=1, figsize=(15,3*2), sharex=True)\n",
    "    plot_and_text_stacked_bar_chart(labeled_land_trips_df, lambda df: df.groupby(\"mode_confirm_w_other\").agg({distance_col: 'sum'}).sort_values(by=distance_col, ascending=False), \n",
    "                                    \"Labeled by user\\n\"+labeled_land_quality_text,  ax[0], text_results[0], colors_mode, debug_df, values_to_translations)\n",
    "    plot_and_text_stacked_bar_chart(inferred_land_trips_df, lambda df: df.groupby(\"mode_confirm_w_other\").agg({distance_col: 'sum'}).sort_values(by=distance_col, ascending=False), \n",
    "                                    \"Inferred from prior labels\\n\"+inferred_land_quality_text, ax[1], text_results[1], colors_mode, debug_df_inferred, values_to_translations)\n",
    "    plot_and_text_stacked_bar_chart(sensed_land_trips_df, lambda df: df.groupby(\"primary_mode\").agg({distance_col: 'sum'}).sort_values(by=distance_col, ascending=False), \n",
    "                                    \"Sensed by OpenPATH\\n\"+sensed_land_quality_text, ax[2], text_results[2], colors_sensed, debug_df_sensed)\n",
    "    set_title_and_save(fig, text_results, plot_title_no_quality, file_name)    \n",
    "except (AttributeError, KeyError, pd.errors.UndefinedVariableError) as e:\n",
    "    plt.clf()\n",
    "    generate_missing_plot(plot_title_no_quality, merged_debug_df, file_name)\n",
    "    alt_text = store_alt_text_missing(merged_debug_df, file_name, plot_title_no_quality)        \n",
    "    alt_html = store_alt_html_missing(merged_debug_df, file_name, plot_title_no_quality)\n",
    "except Exception as e:\n",
    "    fig, ax = plt.subplots()\n",
    "    plot_and_text_error(e, ax, file_name)"
   ]
  },
  {
   "cell_type": "markdown",
   "id": "bcef1f6a",
   "metadata": {},
   "source": [
    "## Generic Metrics (Bar Charts)"
   ]
  },
  {
   "cell_type": "markdown",
   "id": "demanding-franklin",
   "metadata": {},
   "source": [
    "### Average miles per transport mode selected (Mode_confirm)"
   ]
  },
  {
   "cell_type": "code",
   "execution_count": null,
   "id": "patent-cliff",
   "metadata": {},
   "outputs": [],
   "source": [
    "plot_title_no_quality=\"Average \"+ label_units+\" for each mode with > 3 entries\"\n",
    "file_name ='average_miles_mode_confirm%s' % file_suffix\n",
    "\n",
    "try:\n",
    "    dist = expanded_ct.groupby('Mode_confirm').agg({distance_col: ['sum', 'count' , 'mean']})\n",
    "    dist.columns = ['Total ('+label_units_lower+')', 'Count', 'Average ('+label_units_lower+')']\n",
    "    dist = dist.reset_index()\n",
    "    dist =dist.sort_values(by=['Total ('+label_units_lower+')'], ascending=False)\n",
    "\n",
    "    x='Mode_confirm'\n",
    "    y='Average ('+label_units_lower+')'\n",
    "    plot_title= plot_title_no_quality+\"\\n\"+quality_text\n",
    "    \n",
    "    data = dist.drop((dist.query(\"Count < 3\").index)).sort_values(by=['Average ('+label_units_lower+')'], ascending=False)\n",
    "\n",
    "    barplot_mode(data,x,y,plot_title, expanded_ct['Mode_confirm'].dropna().unique().tolist(), file_name)\n",
    "    alt_text = store_alt_text_bar(pd.DataFrame(data['Average ('+label_units_lower+')'].values, data['Mode_confirm']), file_name, plot_title)\n",
    "except:\n",
    "    generate_missing_plot(plot_title_no_quality,debug_df,file_name)\n",
    "    alt_text = store_alt_text_missing(debug_df, file_name, plot_title_no_quality)    "
   ]
  },
  {
   "cell_type": "markdown",
   "id": "sound-bradley",
   "metadata": {},
   "source": [
    "### Number of trips by day¶"
   ]
  },
  {
   "cell_type": "code",
   "execution_count": null,
   "id": "alleged-subsection",
   "metadata": {},
   "outputs": [],
   "source": [
    "plot_title_no_quality=\"Number of trips by day\"\n",
    "file_name ='ntrips_per_day%s' % file_suffix\n",
    "\n",
    "try:\n",
    "    fq_days = expanded_ct.groupby(['start_local_dt_day']).agg({'start_local_dt_day': ['sum', 'count']})\n",
    "    fq_days = fq_days.reset_index()\n",
    "    fq_days.columns = ['Day of the Month', 'Total', 'Number of Trips']\n",
    "\n",
    "    data = fq_days\n",
    "    x = 'Day of the Month'\n",
    "    y = 'Number of Trips'\n",
    "    \n",
    "    plot_title= plot_title_no_quality+\"\\n\"+quality_text\n",
    "\n",
    "    barplot_day(data,x,y,plot_title,file_name)\n",
    "    alt_text = store_alt_text_bar(pd.DataFrame(data['Number of Trips'].values, data['Day of the Month']), file_name, plot_title)\n",
    "except:\n",
    "    generate_missing_plot(plot_title_no_quality,debug_df,file_name)\n",
    "    alt_text = store_alt_text_missing(debug_df, file_name, plot_title_no_quality)    "
   ]
  },
  {
   "cell_type": "markdown",
   "id": "challenging-julian",
   "metadata": {},
   "source": [
    "### Number of trips by day of week¶"
   ]
  },
  {
   "cell_type": "code",
   "execution_count": null,
   "id": "hollywood-optimization",
   "metadata": {},
   "outputs": [],
   "source": [
    "plot_title_no_quality=\"Number of trips by weekday\"\n",
    "file_name ='ntrips_per_weekday%s' % file_suffix\n",
    "try:\n",
    "    fq_weekdays = expanded_ct.groupby(['start_local_dt_weekday']).agg({'start_local_dt_weekday': ['sum', 'count']})\n",
    "    fq_weekdays = fq_weekdays.reset_index()\n",
    "    fq_weekdays.columns = ['Weekday', 'Total', 'Number of Trips']\n",
    "    weekday_labels = [\"Mon\", \"Tue\", \"Wed\", \"Thu\", \"Fri\", \"Sat\", \"Sun\"]\n",
    "    fq_weekdays[\"Weekday\"] = fq_weekdays.Weekday.apply(lambda x: weekday_labels[x])\n",
    "\n",
    "    data = fq_weekdays\n",
    "    x = 'Weekday'\n",
    "    y = 'Number of Trips'\n",
    "\n",
    "    plot_title= plot_title_no_quality+\"\\n\"+quality_text\n",
    "    \n",
    "    barplot_day(data,x,y,plot_title,file_name)\n",
    "    alt_text = store_alt_text_bar(pd.DataFrame(data['Number of Trips'].values, data['Weekday']), file_name, plot_title)\n",
    "except:\n",
    "    generate_missing_plot(plot_title_no_quality,debug_df,file_name)\n",
    "    alt_text = store_alt_text_missing(debug_df, file_name, plot_title_no_quality)    "
   ]
  }
 ],
 "metadata": {
  "kernelspec": {
   "display_name": "Python 3 (ipykernel)",
   "language": "python",
   "name": "python3"
  },
  "language_info": {
   "codemirror_mode": {
    "name": "ipython",
    "version": 3
   },
   "file_extension": ".py",
   "mimetype": "text/x-python",
   "name": "python",
   "nbconvert_exporter": "python",
   "pygments_lexer": "ipython3",
   "version": "3.9.18"
  }
 },
 "nbformat": 4,
 "nbformat_minor": 5
}
