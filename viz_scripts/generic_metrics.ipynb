{
 "cells": [
  {
   "cell_type": "markdown",
   "id": "academic-context",
   "metadata": {},
   "source": [
    "## Generate Static Graphs"
   ]
  },
  {
   "cell_type": "markdown",
   "id": "medium-siemens",
   "metadata": {},
   "source": [
    "These are the input parameters for the notebook. They will be automatically changed when the scripts to generate monthly statistics are run. You can modify them manually to generate multiple plots locally as well.\n",
    "\n",
    "Pass in `None` to remove the filters and plot all data. This is not recommended for production settings, but might be useful for reports based on data snapshots."
   ]
  },
  {
   "cell_type": "code",
   "execution_count": null,
   "id": "narrative-hunter",
   "metadata": {},
   "outputs": [],
   "source": [
    "year = 2020\n",
    "month = 11\n",
    "program = \"default\"\n",
    "study_type = \"study\"\n",
    "mode_of_interest = None"
   ]
  },
  {
   "cell_type": "code",
   "execution_count": null,
   "id": "activated-portugal",
   "metadata": {},
   "outputs": [],
   "source": [
    "from collections import defaultdict\n",
    "\n",
    "import numpy as np\n",
    "import pandas as pd\n",
    "\n",
    "from plots import *\n",
    "import scaffolding\n",
    "\n",
    "sns.set_style(\"whitegrid\")\n",
    "sns.set()\n",
    "%matplotlib inline"
   ]
  },
  {
   "cell_type": "code",
   "execution_count": null,
   "id": "alternative-voltage",
   "metadata": {},
   "outputs": [],
   "source": [
    "# Loading mapping dictionaries from mapping_dictionaries notebook\n",
    "%store -r dic_re\n",
    "%store -r dic_pur\n",
    "\n",
    "# convert a dictionary to a defaultdict\n",
    "dic_re = defaultdict(lambda: 'Other',dic_re)\n",
    "dic_pur = defaultdict(lambda: 'Other',dic_pur)"
   ]
  },
  {
   "cell_type": "markdown",
   "id": "intellectual-columbus",
   "metadata": {},
   "source": [
    "## Collect Data From Database"
   ]
  },
  {
   "cell_type": "code",
   "execution_count": null,
   "id": "organic-pitch",
   "metadata": {},
   "outputs": [],
   "source": [
    "expanded_ct, file_suffix, quality_text = scaffolding.load_viz_notebook_data(year,\n",
    "                                                                            month,\n",
    "                                                                            program,\n",
    "                                                                            study_type,\n",
    "                                                                            dic_re,\n",
    "                                                                            dic_pur=dic_pur)"
   ]
  },
  {
   "cell_type": "markdown",
   "id": "modified-skiing",
   "metadata": {},
   "source": [
    "## Generic Metrics"
   ]
  },
  {
   "cell_type": "markdown",
   "id": "distributed-peace",
   "metadata": {},
   "source": [
    "### Distribution of Mode_confirm attribute"
   ]
  },
  {
   "cell_type": "code",
   "execution_count": null,
   "id": "tracked-serbia",
   "metadata": {
    "scrolled": false
   },
   "outputs": [],
   "source": [
    "labels_mc = expanded_ct['Mode_confirm'].value_counts(dropna=True).keys().tolist()\n",
    "values_mc = expanded_ct['Mode_confirm'].value_counts(dropna=True).tolist()\n",
    "plot_title= \"Number of trips for each mode (selected by users)\\n%s\" % quality_text\n",
    "file_name= 'ntrips_mode_confirm%s' % file_suffix\n",
    "pie_chart_mode(plot_title,labels_mc,values_mc,file_name)\n",
    "alt_text = store_alt_text_pie(pd.DataFrame(values_mc, labels_mc), file_name, plot_title)\n",
    "print(expanded_ct['Mode_confirm'].value_counts(dropna=True))"
   ]
  },
  {
   "cell_type": "code",
   "execution_count": null,
   "id": "about-seafood",
   "metadata": {
    "scrolled": false
   },
   "outputs": [],
   "source": [
    "labels_mc = expanded_ct.query(\"Trip_purpose == 'Work'\").Mode_confirm.value_counts(dropna=True).keys().tolist()\n",
    "values_mc = expanded_ct.query(\"Trip_purpose == 'Work'\").Mode_confirm.value_counts(dropna=True).tolist()\n",
    "plot_title= \"Number of commute trips for each mode (selected by users)\\n%s\" % quality_text\n",
    "file_name= 'ntrips_commute_mode_confirm%s' % file_suffix\n",
    "pie_chart_mode(plot_title,labels_mc,values_mc,file_name)\n",
    "alt_text = store_alt_text_pie(pd.DataFrame(values_mc, labels_mc), file_name, plot_title)\n",
    "print(expanded_ct.query(\"Trip_purpose == 'Work'\").Mode_confirm.value_counts(dropna=True))"
   ]
  },
  {
   "cell_type": "markdown",
   "id": "careful-spencer",
   "metadata": {},
   "source": [
    "### Distribution of Trip_purpose attribute"
   ]
  },
  {
   "cell_type": "code",
   "execution_count": null,
   "id": "conservative-september",
   "metadata": {
    "scrolled": false
   },
   "outputs": [],
   "source": [
    "labels_tp = expanded_ct['Trip_purpose'].value_counts(dropna=True).keys().tolist()\n",
    "values_tp = expanded_ct['Trip_purpose'].value_counts(dropna=True).tolist()\n",
    "plot_title=\"Number of trips for each purposes (selected by users)\\n%s\" % quality_text\n",
    "file_name= 'ntrips_purpose%s' % file_suffix\n",
    "pie_chart_purpose(plot_title,labels_tp,values_tp,file_name)\n",
    "alt_text = store_alt_text_pie(pd.DataFrame(values_tp, labels_tp), file_name, plot_title)\n",
    "print(expanded_ct['Trip_purpose'].value_counts(dropna=True))"
   ]
  },
  {
   "cell_type": "markdown",
   "id": "crucial-keyboard",
   "metadata": {},
   "source": [
    "### Mode choice for trips under 10 miles"
   ]
  },
  {
   "cell_type": "code",
   "execution_count": null,
   "id": "identified-replica",
   "metadata": {
    "scrolled": false
   },
   "outputs": [],
   "source": [
    "labels_d10 = expanded_ct.loc[(expanded_ct['distance_miles'] <= 10)].Mode_confirm.value_counts(dropna=True).keys().tolist()\n",
    "values_d10 = expanded_ct.loc[(expanded_ct['distance_miles'] <= 10)].Mode_confirm.value_counts(dropna=True).tolist()\n",
    "plot_title=\"Mode confirmations for trips under 10 Miles\\n%s\" % quality_text\n",
    "file_name ='ntrips_under10miles_mode_confirm%s' % file_suffix\n",
    "pie_chart_mode(plot_title,labels_d10,values_d10,file_name)\n",
    "alt_text = store_alt_text_pie(pd.DataFrame(values_d10, labels_d10), file_name, plot_title)\n",
    "print(expanded_ct.loc[(expanded_ct['distance_miles'] <= 10)].Mode_confirm.value_counts(dropna=True))"
   ]
  },
  {
   "cell_type": "markdown",
   "id": "dominant-company",
   "metadata": {},
   "source": [
    "### Miles per chosen transport mode"
   ]
  },
  {
   "cell_type": "code",
   "execution_count": null,
   "id": "satisfied-sharing",
   "metadata": {
    "scrolled": false
   },
   "outputs": [],
   "source": [
    "miles = expanded_ct.groupby('Mode_confirm').agg({'distance_miles': ['sum', 'count' , 'mean']})\n",
    "miles.columns = ['Total (miles)', 'Count', 'Average (miles)']\n",
    "miles = miles.reset_index()\n",
    "miles =miles.sort_values(by=['Total (miles)'], ascending=False)\n",
    "\n",
    "#data\n",
    "miles_dict = dict(zip(miles['Mode_confirm'], miles['Total (miles)']))\n",
    "\n",
    "labels_m = []\n",
    "values_m = []\n",
    "\n",
    "for x, y in miles_dict.items():\n",
    "    labels_m.append(x)\n",
    "    values_m.append(y)\n",
    "\n",
    "plot_title=\"Miles for each mode (selected by users)\\n%s\" % quality_text\n",
    "file_name ='miles_mode_confirm%s' % file_suffix\n",
    "pie_chart_mode(plot_title,labels_m,values_m,file_name)\n",
    "alt_text = store_alt_text_pie(pd.DataFrame(values_m, labels_m), file_name, plot_title)\n",
    "print(miles)"
   ]
  },
  {
   "cell_type": "markdown",
   "id": "demanding-franklin",
   "metadata": {},
   "source": [
    "### Average miles per transport mode selected (Mode_confirm)"
   ]
  },
  {
   "cell_type": "code",
   "execution_count": null,
   "id": "patent-cliff",
   "metadata": {},
   "outputs": [],
   "source": [
    "data = miles.drop((miles.query(\"Count < 3\").index)).sort_values(by=['Average (miles)'], ascending=False)\n",
    "x='Mode_confirm'\n",
    "y='Average (miles)'\n",
    "\n",
    "plot_title=\" Average Miles for each mode with > 3 entries\\n%s\" % quality_text\n",
    "file_name ='average_miles_mode_confirm%s' % file_suffix\n",
    "\n",
    "barplot_mode(data,x,y,plot_title,file_name)\n",
    "alt_text = store_alt_text_bar(pd.DataFrame(data['Average (miles)'].values, data['Mode_confirm']), file_name, plot_title)"
   ]
  },
  {
   "cell_type": "markdown",
   "id": "sound-bradley",
   "metadata": {},
   "source": [
    "### Number of trips by day¶"
   ]
  },
  {
   "cell_type": "code",
   "execution_count": null,
   "id": "alleged-subsection",
   "metadata": {},
   "outputs": [],
   "source": [
    "fq_days = expanded_ct.groupby(['start_local_dt_day']).agg({'start_local_dt_day': ['sum', 'count']})\n",
    "fq_days = fq_days.reset_index()\n",
    "fq_days.columns = ['Day of the Month', 'Total', 'Number of Trips']\n",
    "\n",
    "data = fq_days\n",
    "x = 'Day of the Month'\n",
    "y = 'Number of Trips'\n",
    "\n",
    "plot_title=\"Number of trips by day\\n%s\" % quality_text\n",
    "file_name ='ntrips_per_day%s' % file_suffix\n",
    "\n",
    "barplot_day(data,x,y,plot_title,file_name)\n",
    "alt_text = store_alt_text_bar(pd.DataFrame(data['Number of Trips'].values, data['Day of the Month']), file_name, plot_title)"
   ]
  },
  {
   "cell_type": "markdown",
   "id": "challenging-julian",
   "metadata": {},
   "source": [
    "### Number of trips by day of week¶"
   ]
  },
  {
   "cell_type": "code",
   "execution_count": null,
   "id": "hollywood-optimization",
   "metadata": {},
   "outputs": [],
   "source": [
    "fq_weekdays = expanded_ct.groupby(['start_local_dt_weekday']).agg({'start_local_dt_weekday': ['sum', 'count']})\n",
    "fq_weekdays = fq_weekdays.reset_index()\n",
    "fq_weekdays.columns = ['Weekday', 'Total', 'Number of Trips']\n",
    "weekday_labels = [\"Mon\", \"Tue\", \"Wed\", \"Thu\", \"Fri\", \"Sat\", \"Sun\"]\n",
    "fq_weekdays[\"Weekday\"] = fq_weekdays.Weekday.apply(lambda x: weekday_labels[x])\n",
    "\n",
    "data = fq_weekdays\n",
    "x = 'Weekday'\n",
    "y = 'Number of Trips'\n",
    "\n",
    "plot_title=\"Number of trips by weekday\\n%s\" % quality_text\n",
    "file_name ='ntrips_per_weekday%s' % file_suffix\n",
    "\n",
    "barplot_day(data,x,y,plot_title,file_name)\n",
    "alt_text = store_alt_text_bar(pd.DataFrame(data['Number of Trips'].values, data['Weekday']), file_name, plot_title)"
   ]
  }
 ],
 "metadata": {
  "kernelspec": {
   "display_name": "Python 3",
   "language": "python",
   "name": "python3"
  },
  "language_info": {
   "codemirror_mode": {
    "name": "ipython",
    "version": 3
   },
   "file_extension": ".py",
   "mimetype": "text/x-python",
   "name": "python",
   "nbconvert_exporter": "python",
   "pygments_lexer": "ipython3",
   "version": "3.7.9"
  }
 },
 "nbformat": 4,
 "nbformat_minor": 5
}
