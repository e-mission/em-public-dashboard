{
 "cells": [
  {
   "cell_type": "code",
   "execution_count": null,
   "id": "ba43fd6f",
   "metadata": {},
   "outputs": [],
   "source": [
    "import pandas as pd"
   ]
  },
  {
   "cell_type": "code",
   "execution_count": null,
   "id": "d5fb4fae",
   "metadata": {},
   "outputs": [],
   "source": [
    "data_1 = pd.read_csv(\"./Data/laos_demo_1.csv\")\n",
    "data_2 = pd.read_csv(\"./Data/laos_demo_2.csv\")\n",
    "data_3 = pd.read_csv(\"./Data/laos_demo_3.csv\")\n",
    "data_4 = pd.read_csv(\"./Data/laos_demo_4.csv\")"
   ]
  },
  {
   "cell_type": "code",
   "execution_count": null,
   "id": "97e34c18",
   "metadata": {},
   "outputs": [],
   "source": [
    "merged_data = pd.concat([data_1, data_2, data_4, data_3]).reset_index()\n",
    "merged_data.head()"
   ]
  },
  {
   "cell_type": "code",
   "execution_count": null,
   "id": "24aeae37",
   "metadata": {},
   "outputs": [],
   "source": [
    "merged_data.to_csv(\"usaid_laos_ev_demographics.csv\")"
   ]
  }
 ],
 "metadata": {
  "kernelspec": {
   "display_name": "Python 3 (ipykernel)",
   "language": "python",
   "name": "python3"
  },
  "language_info": {
   "codemirror_mode": {
    "name": "ipython",
    "version": 3
   },
   "file_extension": ".py",
   "mimetype": "text/x-python",
   "name": "python",
   "nbconvert_exporter": "python",
   "pygments_lexer": "ipython3",
   "version": "3.9.20"
  }
 },
 "nbformat": 4,
 "nbformat_minor": 5
}
