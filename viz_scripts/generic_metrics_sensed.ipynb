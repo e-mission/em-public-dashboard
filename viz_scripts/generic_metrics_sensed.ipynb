{
 "cells": [
  {
   "cell_type": "markdown",
   "id": "academic-context",
   "metadata": {},
   "source": [
    "## Generate Static Graphs"
   ]
  },
  {
   "cell_type": "markdown",
   "id": "medium-siemens",
   "metadata": {},
   "source": [
    "These are the input parameters for the notebook. They will be automatically changed when the scripts to generate monthly statistics are run. You can modify them manually to generate multiple plots locally as well.\n",
    "\n",
    "Pass in `None` to remove the filters and plot all data. This is not recommended for production settings, but might be useful for reports based on data snapshots."
   ]
  },
  {
   "cell_type": "code",
   "execution_count": null,
   "id": "narrative-hunter",
   "metadata": {},
   "outputs": [],
   "source": [
    "year = 2020\n",
    "month = 11\n",
    "program = \"default\"\n",
    "study_type = \"study\"\n",
    "mode_of_interest = None\n",
    "labels = {}\n",
    "include_test_users = False\n",
    "use_imperial = False\n",
    "sensed_algo_prefix = \"cleaned\"\n",
    "bluetooth_only = False"
   ]
  },
  {
   "cell_type": "code",
   "execution_count": null,
   "id": "activated-portugal",
   "metadata": {},
   "outputs": [],
   "source": [
    "from collections import defaultdict\n",
    "\n",
    "import numpy as np\n",
    "import pandas as pd\n",
    "\n",
    "from plots import *\n",
    "import scaffolding\n",
    "\n",
    "sns.set_style(\"whitegrid\")\n",
    "sns.set()\n",
    "%matplotlib inline\n",
    "\n",
    "# get metric vs imperial vars\n",
    "label_units, short_label, label_units_lower, distance_col, weight_unit = scaffolding.get_units(use_imperial)"
   ]
  },
  {
   "cell_type": "markdown",
   "id": "intellectual-columbus",
   "metadata": {},
   "source": [
    "## Collect Data From Database"
   ]
  },
  {
   "cell_type": "code",
   "execution_count": null,
   "id": "organic-pitch",
   "metadata": {},
   "outputs": [],
   "source": [
    "expanded_ct, file_suffix, quality_text, debug_df = await scaffolding.load_viz_notebook_sensor_inference_data(year,\n",
    "                                                                            month,\n",
    "                                                                            program,\n",
    "                                                                            labels,\n",
    "                                                                            include_test_users,\n",
    "                                                                            sensed_algo_prefix)"
   ]
  },
  {
   "cell_type": "code",
   "execution_count": null,
   "id": "cf5fd94b",
   "metadata": {},
   "outputs": [],
   "source": [
    "#if fleet, replace primary_mode with primary_ble_sensed mode\n",
    "try:\n",
    "    if bluetooth_only and 'ble_sensed_summary' in expanded_ct.columns:\n",
    "        expanded_ct = expanded_ct[expanded_ct['ble_sensed_summary'].notna()]\n",
    "        print(expanded_ct.ble_sensed_summary.head())\n",
    "        expanded_ct[\"primary_mode\"] = expanded_ct.ble_sensed_summary.apply(lambda md: max(md[\"distance\"], key=md[\"distance\"].get))\n",
    "        unique_keys = expanded_ct.groupby(\"primary_mode\").agg({distance_col: \"count\"}).index\n",
    "        print(unique_keys)\n",
    "        colors_mode, colors_replaced, colors_purpose, colors_sensed, colors_ble = scaffolding.mapping_color_labels(unique_keys) #Extract ble color mapping\n",
    "        colors_sensed = colors_ble\n",
    "except ValueError as e:\n",
    "    print(\"Got ValueError \", e)"
   ]
  },
  {
   "cell_type": "markdown",
   "id": "modified-skiing",
   "metadata": {},
   "source": [
    "## Generic Metrics"
   ]
  },
  {
   "cell_type": "markdown",
   "id": "43ecc5d7",
   "metadata": {},
   "source": [
    "### Average miles per transport mode selected (primary_mode)"
   ]
  },
  {
   "cell_type": "code",
   "execution_count": null,
   "id": "5189eaee",
   "metadata": {},
   "outputs": [],
   "source": [
    "plot_title_no_quality= \"Average \" + label_units + \" for each mode with > 3 entries\\n(inferred by OpenPATH from phone sensors)\"\n",
    "file_name ='average_miles_sensed_mode%s' % file_suffix\n",
    "\n",
    "try:\n",
    "    dist = expanded_ct.groupby('primary_mode').agg({distance_col: ['sum', 'count' , 'mean']})\n",
    "    dist.columns = ['Total ('+label_units_lower+')', 'Count', 'Average ('+label_units_lower+')']\n",
    "    dist = dist.reset_index()\n",
    "    dist =dist.sort_values(by=['Total ('+label_units_lower+')'], ascending=False)\n",
    "    \n",
    "    data = dist.drop((dist.query(\"Count < 3\").index)).sort_values(by=['Average ('+label_units_lower+')'], ascending=False)\n",
    "    x='primary_mode'\n",
    "    y='Average ('+label_units_lower+')'\n",
    "    \n",
    "    plot_title= plot_title_no_quality+\"\\n\"+quality_text\n",
    "    \n",
    "    barplot_mode(data,x,y,plot_title, expanded_ct['primary_mode'].dropna().unique().tolist(), file_name)\n",
    "    alt_text = store_alt_text_bar(pd.DataFrame(data['Average ('+label_units_lower+')'].values, data['primary_mode']), file_name, plot_title)\n",
    "except:\n",
    "    generate_missing_plot(plot_title_no_quality,debug_df,file_name)\n",
    "    alt_text = store_alt_text_missing(debug_df, file_name, plot_title_no_quality) "
   ]
  },
  {
   "cell_type": "markdown",
   "id": "130100ee",
   "metadata": {},
   "source": [
    "### Number of trips by day¶"
   ]
  },
  {
   "cell_type": "code",
   "execution_count": null,
   "id": "9933d138",
   "metadata": {},
   "outputs": [],
   "source": [
    "plot_title_no_quality=\"Number of trips by day\\n(inferred by OpenPATH from phone sensors)\"\n",
    "file_name ='ntrips_sensed_per_day%s' % file_suffix\n",
    "\n",
    "try:\n",
    "    fq_days = expanded_ct.groupby(['start_local_dt_day']).agg({'start_local_dt_day': ['sum', 'count']})\n",
    "    fq_days = fq_days.reset_index()\n",
    "    fq_days.columns = ['Day of the Month', 'Total', 'Number of Trips']\n",
    "\n",
    "    data = fq_days\n",
    "    x = 'Day of the Month'\n",
    "    y = 'Number of Trips'\n",
    "    \n",
    "    plot_title= plot_title_no_quality+\"\\n\"+quality_text\n",
    "\n",
    "    barplot_day(data,x,y,plot_title,file_name)\n",
    "    alt_text = store_alt_text_bar(pd.DataFrame(data['Number of Trips'].values, data['Day of the Month']), file_name, plot_title)\n",
    "except:\n",
    "    generate_missing_plot(plot_title_no_quality,debug_df,file_name)\n",
    "    alt_text = store_alt_text_missing(debug_df, file_name, plot_title_no_quality)    "
   ]
  },
  {
   "cell_type": "markdown",
   "id": "be9479ad",
   "metadata": {},
   "source": [
    "### Number of trips by day of week¶"
   ]
  },
  {
   "cell_type": "code",
   "execution_count": null,
   "id": "9878ceaf",
   "metadata": {},
   "outputs": [],
   "source": [
    "plot_title_no_quality=\"Number of trips by weekday\\n(inferred by OpenPATH from phone sensors)\"\n",
    "file_name ='ntrips_sensed_per_weekday%s' % file_suffix\n",
    "try:\n",
    "    fq_weekdays = expanded_ct.groupby(['start_local_dt_weekday']).agg({'start_local_dt_weekday': ['sum', 'count']})\n",
    "    fq_weekdays = fq_weekdays.reset_index()\n",
    "    fq_weekdays.columns = ['Weekday', 'Total', 'Number of Trips']\n",
    "    weekday_labels = [\"Mon\", \"Tue\", \"Wed\", \"Thu\", \"Fri\", \"Sat\", \"Sun\"]\n",
    "    fq_weekdays[\"Weekday\"] = fq_weekdays.Weekday.apply(lambda x: weekday_labels[x])\n",
    "\n",
    "    data = fq_weekdays\n",
    "    x = 'Weekday'\n",
    "    y = 'Number of Trips'\n",
    "\n",
    "    plot_title= plot_title_no_quality+\"\\n\"+quality_text\n",
    "    \n",
    "    barplot_day(data,x,y,plot_title,file_name)\n",
    "    alt_text = store_alt_text_bar(pd.DataFrame(data['Number of Trips'].values, data['Weekday']), file_name, plot_title)\n",
    "except:\n",
    "    generate_missing_plot(plot_title_no_quality,debug_df,file_name)\n",
    "    alt_text = store_alt_text_missing(debug_df, file_name, plot_title_no_quality)    "
   ]
  }
 ],
 "metadata": {
  "kernelspec": {
   "display_name": "Python 3 (ipykernel)",
   "language": "python",
   "name": "python3"
  },
  "language_info": {
   "codemirror_mode": {
    "name": "ipython",
    "version": 3
   },
   "file_extension": ".py",
   "mimetype": "text/x-python",
   "name": "python",
   "nbconvert_exporter": "python",
   "pygments_lexer": "ipython3",
   "version": "3.9.18"
  }
 },
 "nbformat": 4,
 "nbformat_minor": 5
}
