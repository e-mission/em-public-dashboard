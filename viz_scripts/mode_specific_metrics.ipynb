{
 "cells": [
  {
   "cell_type": "markdown",
   "id": "worldwide-portuguese",
   "metadata": {},
   "source": [
    "## Generate Static Graphs"
   ]
  },
  {
   "cell_type": "markdown",
   "id": "alive-integration",
   "metadata": {},
   "source": [
    "These are the input parameters for the notebook. They will be automatically changed when the scripts to generate monthly statistics are run. You can modify them manually to generate multiple plots locally as well.\n",
    "\n",
    "Pass in `None` to remove the filters and plot all data. This is not recommended for production settings, but might be useful for reports based on data snapshots."
   ]
  },
  {
   "cell_type": "code",
   "execution_count": null,
   "id": "former-luther",
   "metadata": {},
   "outputs": [],
   "source": [
    "year = 2020\n",
    "month = 11\n",
    "program = \"default\"\n",
    "study_type = \"program\"\n",
    "mode_of_interest = \"e-bike\"\n",
    "include_test_users = False\n",
    "labels = { }\n",
    "use_imperial = True"
   ]
  },
  {
   "cell_type": "code",
   "execution_count": null,
   "id": "dated-compromise",
   "metadata": {},
   "outputs": [],
   "source": [
    "from collections import defaultdict\n",
    "\n",
    "import numpy as np\n",
    "import pandas as pd\n",
    "\n",
    "from plots import *\n",
    "import scaffolding\n",
    "\n",
    "sns.set_style(\"whitegrid\")\n",
    "sns.set()\n",
    "%matplotlib inline"
   ]
  },
  {
   "cell_type": "code",
   "execution_count": null,
   "id": "assisted-mathematics",
   "metadata": {},
   "outputs": [],
   "source": [
    "# Do not run this notebook at all unless it is for a program; nbclient will run up through this cell\n",
    "if study_type != \"program\":\n",
    "    ipython = get_ipython()\n",
    "    ipython._showtraceback = scaffolding.no_traceback_handler\n",
    "    raise Exception(\"The plots in this notebook are only relevant to programs\")"
   ]
  },
  {
   "cell_type": "code",
   "execution_count": null,
   "id": "cathedral-scanning",
   "metadata": {},
   "outputs": [],
   "source": [
    "# get metric vs imperial vars\n",
    "label_units, short_label, label_units_lower, distance_col, weight_unit = scaffolding.get_units(use_imperial)"
   ]
  },
  {
   "cell_type": "markdown",
   "id": "397709c8",
   "metadata": {},
   "source": [
    "### Color Dictionary"
   ]
  },
  {
   "cell_type": "code",
   "execution_count": null,
   "id": "3caccda7",
   "metadata": {},
   "outputs": [],
   "source": [
    "colors_mode, colors_replaced, colors_purpose, colors_sensed, colors_ble  = scaffolding.mapping_color_labels(labels)\n",
    "values_to_translations, value_to_translations_purpose, value_to_translations_replaced = scaffolding.translate_values_to_labels(labels)"
   ]
  },
  {
   "cell_type": "markdown",
   "id": "built-occupation",
   "metadata": {},
   "source": [
    "## Collect Data From Database"
   ]
  },
  {
   "cell_type": "code",
   "execution_count": null,
   "id": "empty-intensity",
   "metadata": {},
   "outputs": [],
   "source": [
    "expanded_ct, file_suffix, quality_text, debug_df = await scaffolding.load_viz_notebook_data(year,\n",
    "                                                                            month,\n",
    "                                                                            program,\n",
    "                                                                            study_type,\n",
    "                                                                            labels,\n",
    "                                                                            include_test_users=include_test_users)"
   ]
  },
  {
   "cell_type": "markdown",
   "id": "dbc2bb22",
   "metadata": {},
   "source": [
    "## Collect Data From Database for Inferred Metrics"
   ]
  },
  {
   "cell_type": "code",
   "execution_count": null,
   "id": "b8bd1755",
   "metadata": {},
   "outputs": [],
   "source": [
    "expanded_ct_inferred, file_suffix_inferred, quality_text_inferred, debug_df_inferred = await scaffolding.load_viz_notebook_inferred_data(year,\n",
    "                                                                            month,\n",
    "                                                                            program,\n",
    "                                                                            study_type,\n",
    "                                                                            labels,\n",
    "                                                                            include_test_users=include_test_users)"
   ]
  },
  {
   "cell_type": "code",
   "execution_count": null,
   "id": "77eedae6",
   "metadata": {},
   "outputs": [],
   "source": [
    "if 'mode_confirm' in expanded_ct.columns:\n",
    "    mode_of_interest_df = expanded_ct.query(f\"mode_confirm == '{mode_of_interest}'\")\n",
    "    debug_df.loc[f\"{mode_of_interest}_trips\"] = len(mode_of_interest_df)\n",
    "    debug_df.loc[f\"{mode_of_interest}_trips_with_replaced_mode\"] = scaffolding.trip_label_count(\"Replaced_mode\", mode_of_interest_df)"
   ]
  },
  {
   "cell_type": "markdown",
   "id": "surgical-continuity",
   "metadata": {},
   "source": [
    "## Metrics for Specific Mode"
   ]
  },
  {
   "cell_type": "code",
   "execution_count": null,
   "id": "romance-green",
   "metadata": {},
   "outputs": [],
   "source": [
    "data_eb = expanded_ct.query(f\"mode_confirm == '{mode_of_interest}'\") if \"mode_confirm\" in expanded_ct.columns else expanded_ct"
   ]
  },
  {
   "cell_type": "code",
   "execution_count": null,
   "id": "seeing-court",
   "metadata": {},
   "outputs": [],
   "source": [
    "quality_text = scaffolding.get_quality_text(expanded_ct, data_eb, mode_of_interest, include_test_users)"
   ]
  },
  {
   "cell_type": "markdown",
   "id": "832337a6",
   "metadata": {},
   "source": [
    "## Metrics for Specific Inferred Mode\n"
   ]
  },
  {
   "cell_type": "code",
   "execution_count": null,
   "id": "bed648bc",
   "metadata": {},
   "outputs": [],
   "source": [
    "data_eb_inferred = expanded_ct_inferred.query(f\"mode_confirm == '{mode_of_interest}'\") if \"mode_confirm\" in expanded_ct_inferred.columns else expanded_ct_inferred"
   ]
  },
  {
   "cell_type": "code",
   "execution_count": null,
   "id": "54fcaff2",
   "metadata": {},
   "outputs": [],
   "source": [
    "quality_text_inferred = scaffolding.get_quality_text(expanded_ct_inferred, data_eb_inferred, mode_of_interest, include_test_users)"
   ]
  },
  {
   "cell_type": "code",
   "execution_count": null,
   "id": "044773bc",
   "metadata": {},
   "outputs": [],
   "source": [
    "quality_text, quality_text_inferred"
   ]
  },
  {
   "cell_type": "code",
   "execution_count": null,
   "id": "139b4060",
   "metadata": {},
   "outputs": [],
   "source": [
    "import re\n",
    "labeled_match = re.match(r'Based on ([0-9]+) confirmed {} trips from ([0-9]+) (users|testers and participants)\\nof ([0-9]+) total confirmed trips from ([0-9]+) (users|testers and participants) (\\(([0-9.]+|nan)%\\))'.format(mode_of_interest), quality_text)\n",
    "stacked_bar_quality_text = f\"{labeled_match.group(1)} trips {labeled_match.group(7)}\\n from {labeled_match.group(2)} {labeled_match.group(3)}\"\n",
    "inferred_match =re.match(r'Based on ([0-9]+) confirmed {} trips from ([0-9]+) (users|testers and participants)\\nof ([0-9]+) total confirmed trips from ([0-9]+) (users|testers and participants) (\\(([0-9.]+|nan)%\\))'.format(mode_of_interest), quality_text_inferred)\n",
    "stacked_bar_quality_text_inferred = f\"{inferred_match.group(1)} trips {inferred_match.group(7)}\\n from {inferred_match.group(2)} {inferred_match.group(3)}\"\n",
    "\n",
    "stacked_bar_quality_text, stacked_bar_quality_text_inferred"
   ]
  },
  {
   "cell_type": "markdown",
   "id": "loaded-expert",
   "metadata": {},
   "source": [
    "### Trips by purpose for specified mode"
   ]
  },
  {
   "cell_type": "code",
   "execution_count": null,
   "id": "006ba3de",
   "metadata": {},
   "outputs": [],
   "source": [
    "plot_title_no_quality = f\"Number of trips for each purpose for {mode_of_interest}\"\n",
    "file_name= f\"ntrips_{mode_of_interest}_purpose{file_suffix}\"\n",
    "\n",
    "try:\n",
    "    fig, ax = plt.subplots(nrows=2, ncols=1, figsize=(15,2*2), sharex=True)\n",
    "    text_results = [[\"Unmodified Alt Text\", \"Unmodified HTML\"], [\"Unmodified Alt Text\", \"Unmodified HTML\"]]\n",
    "    plot_and_text_stacked_bar_chart(data_eb, lambda df: df.groupby(\"purpose_confirm_w_other\").agg({distance_col: 'count'}).sort_values(by=distance_col, ascending=False),\n",
    "                                    f\"Labeled `{mode_of_interest}` by user\\n\"+stacked_bar_quality_text, ax[0], text_results[0], colors_purpose, debug_df, value_to_translations_purpose)\n",
    "    plot_and_text_stacked_bar_chart(data_eb_inferred, lambda df: df.groupby(\"purpose_confirm_w_other\").agg({distance_col: 'count'}).sort_values(by=distance_col, ascending=False),\n",
    "                                    f\"Inferred `{mode_of_interest}` from prior labels\\n\"+stacked_bar_quality_text_inferred, ax[1], text_results[1], colors_purpose, debug_df_inferred, value_to_translations_purpose)\n",
    "    set_title_and_save(fig, text_results, plot_title_no_quality, file_name)\n",
    "except (AttributeError, KeyError, pd.errors.UndefinedVariableError) as e:\n",
    "    plt.clf()\n",
    "    generate_missing_plot(plot_title_no_quality, debug_df, file_name)\n",
    "    alt_text = store_alt_text_missing(debug_df, file_name, plot_title_no_quality)    \n",
    "    alt_html = store_alt_html_missing(debug_df, file_name, plot_title_no_quality)\n",
    "except Exception as e:\n",
    "    fig, ax = plt.subplots()\n",
    "    plot_and_text_error(e, ax, file_name)"
   ]
  },
  {
   "cell_type": "markdown",
   "id": "dependent-reservoir",
   "metadata": {},
   "source": [
    "### Total Trip Length for each mode replaced by the specified mode"
   ]
  },
  {
   "cell_type": "code",
   "execution_count": null,
   "id": "2b415510",
   "metadata": {},
   "outputs": [],
   "source": [
    "plot_title_no_quality = \"Total trip length (\" + label_units_lower + \") covered by replaced mode\"\n",
    "file_name = f\"total_trip_length_{mode_of_interest}_replaced_mode{file_suffix}\"\n",
    "\n",
    "try:\n",
    "    fig, ax = plt.subplots(nrows=2, ncols=1, figsize=(15,2*2), sharex=True)\n",
    "    text_results = [[\"Unmodified Alt Text\", \"Unmodified HTML\"], [\"Unmodified Alt Text\", \"Unmodified HTML\"]]\n",
    "    plot_and_text_stacked_bar_chart(data_eb, lambda df: df.groupby(\"replaced_mode_w_other\").agg({distance_col: 'sum'}).sort_values(by=distance_col, ascending=False), \n",
    "                                    \"Labeled by user\\n (Trip distance)\\n\"+stacked_bar_quality_text, ax[0], text_results[0], colors_replaced, debug_df, value_to_translations_replaced)\n",
    "    plot_and_text_stacked_bar_chart(data_eb_inferred, lambda df: df.groupby(\"replaced_mode_w_other\").agg({distance_col: 'sum'}).sort_values(by=distance_col, ascending=False), \n",
    "                                    \"Inferred from prior labels\\n (Trip distance)\\n\"+stacked_bar_quality_text_inferred, ax[1], text_results[1], colors_replaced, debug_df_inferred, value_to_translations_replaced)\n",
    "    set_title_and_save(fig, text_results, plot_title_no_quality, file_name)\n",
    "except (AttributeError, KeyError, pd.errors.UndefinedVariableError) as e:\n",
    "    plt.clf()\n",
    "    generate_missing_plot(plot_title_no_quality, debug_df, file_name)\n",
    "    alt_text = store_alt_text_missing(debug_df, file_name, plot_title_no_quality)    \n",
    "    alt_html = store_alt_html_missing(debug_df, file_name, plot_title_no_quality)\n",
    "except Exception as e:\n",
    "    fig, ax = plt.subplots()\n",
    "    plot_and_text_error(e, ax, file_name)"
   ]
  },
  {
   "cell_type": "markdown",
   "id": "be6bb4be",
   "metadata": {},
   "source": [
    "### Number of Trips for each mode replaced by specified mode"
   ]
  },
  {
   "cell_type": "code",
   "execution_count": null,
   "id": "3947a5f2",
   "metadata": {},
   "outputs": [],
   "source": [
    "plot_title_no_quality= \"Number of trips for replaced mode\"\n",
    "file_name = f'ntrips_{mode_of_interest}_total{file_suffix}'\n",
    "\n",
    "try:\n",
    "    fig, ax = plt.subplots(nrows=2, ncols=1, figsize=(15,2*2), sharex=True)\n",
    "    text_results = [[\"Unmodified Alt Text\", \"Unmodified HTML\"], [\"Unmodified Alt Text\", \"Unmodified HTML\"]]\n",
    "    plot_and_text_stacked_bar_chart(data_eb, lambda df: df.groupby(\"replaced_mode_w_other\").agg({distance_col: 'count'}).sort_values(by=distance_col, ascending=False), \n",
    "                                    f\"Labeled `{mode_of_interest}` by user\\n\"+stacked_bar_quality_text, ax[0], text_results[0], colors_replaced, debug_df, value_to_translations_replaced)\n",
    "    plot_and_text_stacked_bar_chart(data_eb_inferred, lambda df: df.groupby(\"replaced_mode_w_other\").agg({distance_col: 'count'}).sort_values(by=distance_col, ascending=False), \n",
    "                                    f\"Inferred `{mode_of_interest}` from prior labels\\n\"+stacked_bar_quality_text_inferred, ax[1], text_results[1], colors_replaced, debug_df_inferred, value_to_translations_replaced)\n",
    "    set_title_and_save(fig, text_results, plot_title_no_quality, file_name)\n",
    "except (AttributeError, KeyError, pd.errors.UndefinedVariableError) as e:\n",
    "    plt.clf()\n",
    "    generate_missing_plot(plot_title_no_quality, debug_df, file_name)\n",
    "    alt_text = store_alt_text_missing(debug_df, file_name, plot_title_no_quality)    \n",
    "    alt_html = store_alt_html_missing(debug_df, file_name, plot_title_no_quality)    \n",
    "except Exception as e:\n",
    "    fig, ax = plt.subplots()\n",
    "    plot_and_text_error(e, ax, file_name)"
   ]
  },
  {
   "cell_type": "markdown",
   "id": "honest-dylan",
   "metadata": {},
   "source": [
    "### Average miles per trip for specified mode"
   ]
  },
  {
   "cell_type": "code",
   "execution_count": null,
   "id": "binary-program",
   "metadata": {},
   "outputs": [],
   "source": [
    "plot_title_no_quality=\"Average \" + label_units + \" for each replaced mode with > 3 entries\\n'Other' represents trips with a non-standard or missing replacement\"\n",
    "file_name ='average_miles_replaced_mode%s' % file_suffix\n",
    "\n",
    "try:\n",
    "    dg=data_eb.groupby('Replaced_mode').agg({distance_col: ['sum', 'count' , 'mean']},)\n",
    "    dg.columns = ['Total ('+label_units_lower+')', 'Count' ,'Average ('+label_units_lower+')']\n",
    "    dg = dg.reset_index()\n",
    "    dg = dg.sort_values(by=['Total ('+label_units_lower+')'], ascending=False)\n",
    "    data = dg.drop((dg.query(\"Count < 3\").index)).sort_values(by=['Average ('+label_units_lower+')'], ascending=False) \n",
    "        \n",
    "    x='Replaced_mode'\n",
    "    y='Average ('+label_units_lower+')'\n",
    "    y2 = \"Count\"\n",
    "\n",
    "    plot_title= plot_title_no_quality+\"\\n\"+quality_text\n",
    "    barplot_mode(data,x,y,plot_title, expanded_ct['Replaced_mode'].dropna().unique().tolist(), file_name)\n",
    "    alt_text = store_alt_text_bar(pd.DataFrame(data['Average ('+label_units_lower+')'].values, data.Replaced_mode), file_name, plot_title)\n",
    "\n",
    "except:\n",
    "    generate_missing_plot(plot_title_no_quality,debug_df,file_name)\n",
    "    alt_text = store_alt_text_missing(debug_df, file_name, plot_title_no_quality)"
   ]
  },
  {
   "cell_type": "markdown",
   "id": "committed-favorite",
   "metadata": {},
   "source": [
    "### Number of trips by day for specified mode"
   ]
  },
  {
   "cell_type": "code",
   "execution_count": null,
   "id": "limiting-handling",
   "metadata": {},
   "outputs": [],
   "source": [
    "plot_title_no_quality=f\"Number of {mode_of_interest} trips by day\"\n",
    "file_name =f'ntrips_{mode_of_interest}_per_day%s' % file_suffix\n",
    "\n",
    "\n",
    "try:\n",
    "    fq_days = data_eb.groupby(['start_local_dt_day']).agg({'start_local_dt_day': ['sum', 'count']})\n",
    "    fq_days = fq_days.reset_index()\n",
    "    fq_days.columns = ['Day of the Month', 'Total', 'Number of Trips']\n",
    "\n",
    "    data = fq_days\n",
    "    x = 'Day of the Month'\n",
    "    y = 'Number of Trips'\n",
    "\n",
    "    plot_title= plot_title_no_quality+\"\\n\"+quality_text\n",
    "    barplot_day(data,x,y,plot_title,file_name)\n",
    "    alt_text = store_alt_text_bar(pd.DataFrame(data['Number of Trips'].values, data['Day of the Month'].values), file_name, plot_title)\n",
    "except:\n",
    "    generate_missing_plot(plot_title_no_quality,debug_df,file_name)\n",
    "    alt_text = store_alt_text_missing(debug_df, file_name, plot_title_no_quality)"
   ]
  },
  {
   "cell_type": "markdown",
   "id": "pediatric-cowboy",
   "metadata": {},
   "source": [
    "### Number of trips by day of week¶"
   ]
  },
  {
   "cell_type": "code",
   "execution_count": null,
   "id": "metropolitan-musical",
   "metadata": {
    "scrolled": true
   },
   "outputs": [],
   "source": [
    "plot_title_no_quality=f\"Number of {mode_of_interest} trips by weekday\"\n",
    "file_name =f'ntrips_{mode_of_interest}_per_weekday%s' % file_suffix\n",
    "\n",
    "try:\n",
    "    fq_weekdays = data_eb.groupby(['start_local_dt_weekday']).agg({'start_local_dt_weekday': ['sum', 'count']})\n",
    "    fq_weekdays = fq_weekdays.reset_index()\n",
    "    fq_weekdays.columns = ['Weekday', 'Total', 'Number of Trips']\n",
    "    weekday_labels = [\"Mon\", \"Tue\", \"Wed\", \"Thu\", \"Fri\", \"Sat\", \"Sun\"]\n",
    "    fq_weekdays[\"Weekday\"] = fq_weekdays.Weekday.apply(lambda x: weekday_labels[x])\n",
    "\n",
    "    data = fq_weekdays\n",
    "    x = 'Weekday'\n",
    "    y = 'Number of Trips'\n",
    "\n",
    "    plot_title= plot_title_no_quality+\"\\n\"+quality_text\n",
    "    barplot_day(data,x,y,plot_title,file_name)\n",
    "    alt_text = store_alt_text_bar(pd.DataFrame(data['Number of Trips'].values, data['Weekday'].values), file_name, plot_title)\n",
    "except:\n",
    "    generate_missing_plot(plot_title_no_quality,debug_df,file_name)\n",
    "    alt_text = store_alt_text_missing(debug_df, file_name, plot_title_no_quality)"
   ]
  }
 ],
 "metadata": {
  "kernelspec": {
   "display_name": "Python 3 (ipykernel)",
   "language": "python",
   "name": "python3"
  },
  "language_info": {
   "codemirror_mode": {
    "name": "ipython",
    "version": 3
   },
   "file_extension": ".py",
   "mimetype": "text/x-python",
   "name": "python",
   "nbconvert_exporter": "python",
   "pygments_lexer": "ipython3",
   "version": "3.9.18"
  }
 },
 "nbformat": 4,
 "nbformat_minor": 5
}
