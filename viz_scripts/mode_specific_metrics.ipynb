{
 "cells": [
  {
   "cell_type": "markdown",
   "id": "worldwide-portuguese",
   "metadata": {},
   "source": [
    "## Generate Static Graphs"
   ]
  },
  {
   "cell_type": "markdown",
   "id": "alive-integration",
   "metadata": {},
   "source": [
    "These are the input parameters for the notebook. They will be automatically changed when the scripts to generate monthly statistics are run. You can modify them manually to generate multiple plots locally as well.\n",
    "\n",
    "Pass in `None` to remove the filters and plot all data. This is not recommended for production settings, but might be useful for reports based on data snapshots."
   ]
  },
  {
   "cell_type": "code",
   "execution_count": null,
   "id": "former-luther",
   "metadata": {},
   "outputs": [],
   "source": [
    "year = 2020\n",
    "month = 11\n",
    "program = \"default\"\n",
    "study_type = \"program\"\n",
    "mode_of_interest = \"e-bike\""
   ]
  },
  {
   "cell_type": "code",
   "execution_count": null,
   "id": "dated-compromise",
   "metadata": {},
   "outputs": [],
   "source": [
    "from collections import defaultdict\n",
    "\n",
    "import numpy as np\n",
    "import pandas as pd\n",
    "\n",
    "from plots import *\n",
    "import scaffolding\n",
    "\n",
    "sns.set_style(\"whitegrid\")\n",
    "sns.set()\n",
    "%matplotlib inline"
   ]
  },
  {
   "cell_type": "code",
   "execution_count": null,
   "id": "assisted-mathematics",
   "metadata": {},
   "outputs": [],
   "source": [
    "# Do not run this notebook at all unless it is for a program; nbclient will run up through this cell\n",
    "if study_type != \"program\":\n",
    "    raise Exception(\"The plots in this notebook are only relevant to programs\")"
   ]
  },
  {
   "cell_type": "code",
   "execution_count": null,
   "id": "cathedral-scanning",
   "metadata": {},
   "outputs": [],
   "source": [
    "# Loading mapping dictionaries from mapping_dictionaries notebook\n",
    "%store -r dic_re\n",
    "%store -r dic_pur\n",
    "\n",
    "# convert a dictionary to a defaultdict\n",
    "dic_re = defaultdict(lambda: 'Other',dic_re)\n",
    "dic_pur = defaultdict(lambda: 'Other',dic_pur)"
   ]
  },
  {
   "cell_type": "markdown",
   "id": "built-occupation",
   "metadata": {},
   "source": [
    "## Collect Data From Database"
   ]
  },
  {
   "cell_type": "code",
   "execution_count": null,
   "id": "empty-intensity",
   "metadata": {},
   "outputs": [],
   "source": [
    "expanded_ct, file_suffix, quality_text = scaffolding.load_viz_notebook_data(year,\n",
    "                                                                            month,\n",
    "                                                                            program,\n",
    "                                                                            study_type,\n",
    "                                                                            dic_re,\n",
    "                                                                            dic_pur=dic_pur)"
   ]
  },
  {
   "cell_type": "markdown",
   "id": "surgical-continuity",
   "metadata": {},
   "source": [
    "## Metrics for Specific Mode"
   ]
  },
  {
   "cell_type": "code",
   "execution_count": null,
   "id": "romance-green",
   "metadata": {},
   "outputs": [],
   "source": [
    "data_eb = expanded_ct.query(f\"mode_confirm == '{mode_of_interest}'\")"
   ]
  },
  {
   "cell_type": "code",
   "execution_count": null,
   "id": "seeing-court",
   "metadata": {},
   "outputs": [],
   "source": [
    "quality_text = scaffolding.get_quality_text(expanded_ct, data_eb, mode_of_interest)"
   ]
  },
  {
   "cell_type": "markdown",
   "id": "noble-joint",
   "metadata": {},
   "source": [
    "### Distribution of Replaced_mode attribute"
   ]
  },
  {
   "cell_type": "code",
   "execution_count": null,
   "id": "liked-shade",
   "metadata": {
    "scrolled": false
   },
   "outputs": [],
   "source": [
    "# Note: The portion of pilot ebikes in the pie chart below is only when the mode_confirm is different that ebike. Example: mode_confirm was Walk, replaced_mode ebike.\n",
    "# mode_confrim was Car, drove alone, replaced_mode ebike.\n",
    "labels_rm = expanded_ct['Replaced_mode'].value_counts(dropna=True).keys().tolist()\n",
    "values_rm = expanded_ct['Replaced_mode'].value_counts(dropna=True).tolist()\n",
    "plot_title=\"Number of trips for each replaced mode (selected by users)\\n%s\" % quality_text\n",
    "file_name= 'ntrips_replaced_mode%s' % file_suffix\n",
    "pie_chart_mode(plot_title,labels_rm,values_rm,file_name)\n",
    "alt_text = store_alt_text_pie(pd.DataFrame(values_rm, labels_rm), file_name, plot_title)"
   ]
  },
  {
   "cell_type": "markdown",
   "id": "loaded-expert",
   "metadata": {},
   "source": [
    "### Trips by purpose for specified mode"
   ]
  },
  {
   "cell_type": "code",
   "execution_count": null,
   "id": "respiratory-breach",
   "metadata": {
    "scrolled": false
   },
   "outputs": [],
   "source": [
    "labels_tp = data_eb['Trip_purpose'].value_counts(dropna=True).keys().tolist()\n",
    "values_tp = data_eb['Trip_purpose'].value_counts(dropna=True).tolist()\n",
    "plot_title=f\"Number of trips for each purpose for {mode_of_interest} only\\n{quality_text}\"\n",
    "file_name= f'ntrips_{mode_of_interest}_purpose%s' % file_suffix\n",
    "pie_chart_purpose(plot_title,labels_tp,values_tp,file_name)\n",
    "alt_text = store_alt_text_pie(pd.DataFrame(values_tp, labels_tp), file_name, plot_title)"
   ]
  },
  {
   "cell_type": "code",
   "execution_count": null,
   "id": "thermal-midnight",
   "metadata": {},
   "outputs": [],
   "source": [
    "labels_eb = data_eb.Replaced_mode.value_counts(dropna=True).keys().tolist()\n",
    "values_eb = data_eb.Replaced_mode.value_counts(dropna=True).tolist()\n",
    "plot_title=f\"Number of trips for each replaced transport mode for {mode_of_interest} only\\n{quality_text}\"\n",
    "file_name =f'ntrips_{mode_of_interest}_replaced_mode%s' % file_suffix\n",
    "pie_chart_mode(plot_title,labels_eb,values_eb,file_name)\n",
    "alt_text = store_alt_text_pie(pd.DataFrame(values_eb, labels_eb), file_name, plot_title)"
   ]
  },
  {
   "cell_type": "markdown",
   "id": "dependent-reservoir",
   "metadata": {},
   "source": [
    "### Miles for each mode replaced by the specified mode"
   ]
  },
  {
   "cell_type": "code",
   "execution_count": null,
   "id": "pointed-velvet",
   "metadata": {},
   "outputs": [],
   "source": [
    "dg=data_eb.groupby('Replaced_mode').agg({'distance_miles': ['sum', 'count' , 'mean']},)\n",
    "dg.columns = ['Total (miles)', 'Count' ,'Average (miles)']\n",
    "dg = dg.reset_index()\n",
    "dg = dg.sort_values(by=['Total (miles)'], ascending=False)\n",
    "\n",
    "dg_dict = dict(zip(dg['Replaced_mode'], dg['Total (miles)']))\n",
    "labels_m = []\n",
    "values_m = []\n",
    "\n",
    "for x, y in dg_dict.items():\n",
    "    labels_m.append(x)\n",
    "    values_m.append(y)\n",
    "\n",
    "plot_title=f\"Distribution of Miles Replaced by {mode_of_interest} \\n{quality_text}\"\n",
    "file_name =f'miles_{mode_of_interest}_replaced_mode%s' % file_suffix\n",
    "pie_chart_mode(plot_title,labels_m,values_m,file_name)\n",
    "alt_text = store_alt_text_pie(pd.DataFrame(values_m, labels_m), file_name, plot_title)\n",
    "print(dg)"
   ]
  },
  {
   "cell_type": "markdown",
   "id": "honest-dylan",
   "metadata": {},
   "source": [
    "### Average miles per trip for specified mode"
   ]
  },
  {
   "cell_type": "code",
   "execution_count": null,
   "id": "binary-program",
   "metadata": {},
   "outputs": [],
   "source": [
    "data = dg.drop((dg.query(\"Count < 3\").index)).sort_values(by=['Average (miles)'], ascending=False)\n",
    "x='Replaced_mode'\n",
    "y='Average (miles)'\n",
    "y2 = \"Count\"\n",
    "\n",
    "plot_title=\"Average Miles for each replaced mode with > 3 entries\\n'Other' represents trips with a non-standard or missing replacement\\n%s\" % quality_text\n",
    "file_name ='average_miles_replaced_mode%s' % file_suffix\n",
    "barplot_mode(data,x,y,plot_title,file_name)\n",
    "alt_text = store_alt_text_bar(pd.DataFrame(data['Average (miles)'].values, data.Replaced_mode), file_name, plot_title)"
   ]
  },
  {
   "cell_type": "markdown",
   "id": "committed-favorite",
   "metadata": {},
   "source": [
    "### Number of trips by day for specified mode"
   ]
  },
  {
   "cell_type": "code",
   "execution_count": null,
   "id": "limiting-handling",
   "metadata": {},
   "outputs": [],
   "source": [
    "fq_days = data_eb.groupby(['start_local_dt_day']).agg({'start_local_dt_day': ['sum', 'count']})\n",
    "fq_days = fq_days.reset_index()\n",
    "fq_days.columns = ['Day of the Month', 'Total', 'Number of Trips']\n",
    "\n",
    "data = fq_days\n",
    "x = 'Day of the Month'\n",
    "y = 'Number of Trips'\n",
    "\n",
    "plot_title=f\"Number of {mode_of_interest} trips by day\\n%s\" % quality_text\n",
    "file_name =f'ntrips_{mode_of_interest}_per_day%s' % file_suffix\n",
    "\n",
    "barplot_day(data,x,y,plot_title,file_name)\n",
    "alt_text = store_alt_text_bar(pd.DataFrame(data['Number of Trips'].values, data['Day of the Month'].values), file_name, plot_title)"
   ]
  },
  {
   "cell_type": "markdown",
   "id": "pediatric-cowboy",
   "metadata": {},
   "source": [
    "### Number of trips by day of week¶"
   ]
  },
  {
   "cell_type": "code",
   "execution_count": null,
   "id": "metropolitan-musical",
   "metadata": {
    "scrolled": true
   },
   "outputs": [],
   "source": [
    "fq_weekdays = data_eb.groupby(['start_local_dt_weekday']).agg({'start_local_dt_weekday': ['sum', 'count']})\n",
    "fq_weekdays = fq_weekdays.reset_index()\n",
    "fq_weekdays.columns = ['Weekday', 'Total', 'Number of Trips']\n",
    "weekday_labels = [\"Mon\", \"Tue\", \"Wed\", \"Thu\", \"Fri\", \"Sat\", \"Sun\"]\n",
    "fq_weekdays[\"Weekday\"] = fq_weekdays.Weekday.apply(lambda x: weekday_labels[x])\n",
    "\n",
    "data = fq_weekdays\n",
    "x = 'Weekday'\n",
    "y = 'Number of Trips'\n",
    "\n",
    "plot_title=f\"Number of {mode_of_interest} trips by weekday\\n%s\" % quality_text\n",
    "file_name =f'ntrips_{mode_of_interest}_per_weekday%s' % file_suffix\n",
    "\n",
    "barplot_day(data,x,y,plot_title,file_name)\n",
    "alt_text = store_alt_text_bar(pd.DataFrame(data['Number of Trips'].values, data['Weekday'].values), file_name, plot_title)"
   ]
  }
 ],
 "metadata": {
  "kernelspec": {
   "display_name": "Python 3",
   "language": "python",
   "name": "python3"
  },
  "language_info": {
   "codemirror_mode": {
    "name": "ipython",
    "version": 3
   },
   "file_extension": ".py",
   "mimetype": "text/x-python",
   "name": "python",
   "nbconvert_exporter": "python",
   "pygments_lexer": "ipython3",
   "version": "3.7.9"
  }
 },
 "nbformat": 4,
 "nbformat_minor": 5
}
