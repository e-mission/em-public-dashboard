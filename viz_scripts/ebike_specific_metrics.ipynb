{
 "cells": [
  {
   "cell_type": "markdown",
   "id": "worldwide-portuguese",
   "metadata": {},
   "source": [
    "## Generate static graphs"
   ]
  },
  {
   "cell_type": "markdown",
   "id": "alive-integration",
   "metadata": {},
   "source": [
    "These are the input parameters for the notebook. They will be automatically changed when the scripts to generate monthly statistics are run. You can modify them manually to generate multiple plots locally as well.\n",
    "\n",
    "Pass in `None` to remove the filters and plot all data. This is not recommended for production settings, but might be useful for reports based on data snapshots."
   ]
  },
  {
   "cell_type": "code",
   "execution_count": null,
   "id": "former-luther",
   "metadata": {},
   "outputs": [],
   "source": [
    "year = None\n",
    "month = None\n",
    "program = None"
   ]
  },
  {
   "cell_type": "code",
   "execution_count": null,
   "id": "dated-compromise",
   "metadata": {},
   "outputs": [],
   "source": [
    "import pandas as pd\n",
    "import numpy as np\n",
    "import matplotlib.pyplot as plt\n",
    "import seaborn as sns\n",
    "from collections import defaultdict\n",
    "\n",
    "sns.set_style(\"whitegrid\")\n",
    "sns.set()\n",
    "%matplotlib inline"
   ]
  },
  {
   "cell_type": "code",
   "execution_count": null,
   "id": "certain-cookie",
   "metadata": {},
   "outputs": [],
   "source": [
    "import scaffolding \n",
    "from plots import *"
   ]
  },
  {
   "cell_type": "code",
   "execution_count": null,
   "id": "pacific-voice",
   "metadata": {},
   "outputs": [],
   "source": [
    "# Loading mapping dictionaries from mapping_dictionaries notebook\n",
    "%store -r dic_ei\n",
    "%store -r dic_re\n",
    "%store -r dic_pur\n",
    "\n",
    "# convert a dictionary to a defaultdict\n",
    "dic_pur = defaultdict(lambda: 'Other',dic_pur)\n",
    "dic_re = defaultdict(lambda: 'Other',dic_re)"
   ]
  },
  {
   "cell_type": "code",
   "execution_count": null,
   "id": "derived-scale",
   "metadata": {},
   "outputs": [],
   "source": [
    "tq = scaffolding.get_time_query(year, month)"
   ]
  },
  {
   "cell_type": "code",
   "execution_count": null,
   "id": "critical-balance",
   "metadata": {},
   "outputs": [],
   "source": [
    "participant_ct_df = scaffolding.load_all_participant_trips(program, tq)"
   ]
  },
  {
   "cell_type": "code",
   "execution_count": null,
   "id": "violent-theta",
   "metadata": {},
   "outputs": [],
   "source": [
    "labeled_ct = scaffolding.filter_labeled_trips(participant_ct_df)"
   ]
  },
  {
   "cell_type": "code",
   "execution_count": null,
   "id": "toxic-running",
   "metadata": {},
   "outputs": [],
   "source": [
    "expanded_ct = scaffolding.expand_userinputs(labeled_ct)"
   ]
  },
  {
   "cell_type": "code",
   "execution_count": null,
   "id": "lovely-somerset",
   "metadata": {},
   "outputs": [],
   "source": [
    "expanded_ct.shape"
   ]
  },
  {
   "cell_type": "code",
   "execution_count": null,
   "id": "hairy-alcohol",
   "metadata": {},
   "outputs": [],
   "source": [
    "expanded_ct = scaffolding.data_quality_check(expanded_ct)\n",
    "expanded_ct.shape"
   ]
  },
  {
   "cell_type": "code",
   "execution_count": null,
   "id": "collected-restriction",
   "metadata": {},
   "outputs": [],
   "source": [
    "## Mapping new labels with dictionaries\n",
    "expanded_ct['Trip_purpose']= expanded_ct['purpose_confirm'].map(dic_pur)\n",
    "expanded_ct['Mode_confirm']= expanded_ct['mode_confirm'].map(dic_re)\n",
    "expanded_ct['Replaced_mode']= expanded_ct['replaced_mode'].map(dic_re)"
   ]
  },
  {
   "cell_type": "code",
   "execution_count": null,
   "id": "coral-bicycle",
   "metadata": {},
   "outputs": [],
   "source": [
    "dic_pur"
   ]
  },
  {
   "cell_type": "code",
   "execution_count": null,
   "id": "every-stanley",
   "metadata": {},
   "outputs": [],
   "source": [
    "# Energy Impact Calculation\n",
    "expanded_ct = scaffolding.energy_cal(expanded_ct,dic_ei)"
   ]
  },
  {
   "cell_type": "code",
   "execution_count": null,
   "id": "empty-intensity",
   "metadata": {},
   "outputs": [],
   "source": [
    "file_suffix = scaffolding.get_file_suffix(year, month, program)"
   ]
  },
  {
   "cell_type": "markdown",
   "id": "demanding-picking",
   "metadata": {},
   "source": [
    "# Ebike Data Only"
   ]
  },
  {
   "cell_type": "code",
   "execution_count": null,
   "id": "romance-green",
   "metadata": {},
   "outputs": [],
   "source": [
    "data_eb = expanded_ct.query(\"Mode_confirm == 'Pilot ebike'\")"
   ]
  },
  {
   "cell_type": "code",
   "execution_count": null,
   "id": "seeing-court",
   "metadata": {},
   "outputs": [],
   "source": [
    "quality_text = scaffolding.get_quality_text_ebike(expanded_ct, data_eb)"
   ]
  },
  {
   "cell_type": "code",
   "execution_count": null,
   "id": "respiratory-breach",
   "metadata": {},
   "outputs": [],
   "source": [
    "labels_tp = data_eb['Trip_purpose'].value_counts(dropna=True)[:10].keys().tolist()\n",
    "values_tp = data_eb['Trip_purpose'].value_counts(dropna=True)[:10].tolist()\n",
    "plot_title=\"Number of trips for each purpose for eBike only\\n%s\" % quality_text\n",
    "file_name= 'ntrips_ebike_purpose_%s.png' % file_suffix\n",
    "pie_chart_purpose(plot_title,labels_tp,values_tp,file_name)"
   ]
  },
  {
   "cell_type": "code",
   "execution_count": null,
   "id": "thermal-midnight",
   "metadata": {},
   "outputs": [],
   "source": [
    "labels_eb = data_eb.Replaced_mode.value_counts(dropna=True)[:7].keys().tolist()\n",
    "values_eb = data_eb.Replaced_mode.value_counts(dropna=True)[:7].tolist()\n",
    "plot_title=\"Number of trips for each replaced transport mode for eBike only\\n%s\" % quality_text\n",
    "file_name ='ntrips_ebike_replaced_mode_%s.png' % file_suffix\n",
    "pie_chart_mode(plot_title,labels_eb,values_eb,file_name)"
   ]
  },
  {
   "cell_type": "markdown",
   "id": "dependent-reservoir",
   "metadata": {},
   "source": [
    "# Miles replaced_mode by E-bike data only "
   ]
  },
  {
   "cell_type": "code",
   "execution_count": null,
   "id": "pointed-velvet",
   "metadata": {},
   "outputs": [],
   "source": [
    "dg=data_eb.groupby('Replaced_mode').agg({'distance_miles': ['sum', 'count' , 'mean']},)\n",
    "dg.columns = ['Total (miles)', 'Count' ,'Average (miles)']\n",
    "dg = dg.reset_index()\n",
    "dg = dg.sort_values(by=['Total (miles)'], ascending=False)\n",
    "\n",
    "dg_dict = dict(zip(dg['Replaced_mode'], dg['Total (miles)']))\n",
    "labels_m = []\n",
    "values_m = []\n",
    "\n",
    "for x, y in dg_dict.items():\n",
    "    labels_m.append(x)\n",
    "    values_m.append(y)\n",
    "\n",
    "labels = labels_m[:7]\n",
    "values = values_m[:7]\n",
    "plot_title=\"Distribution of Miles Replaced by Ebike \\n%s\" % quality_text\n",
    "file_name ='miles_ebike_replaced_mode_%s.png' % file_suffix\n",
    "pie_chart_mode(plot_title,labels,values,file_name)\n",
    "print(dg)"
   ]
  },
  {
   "cell_type": "markdown",
   "id": "honest-dylan",
   "metadata": {},
   "source": [
    "# Average Miles per ebike trip"
   ]
  },
  {
   "cell_type": "code",
   "execution_count": null,
   "id": "growing-portsmouth",
   "metadata": {},
   "outputs": [],
   "source": [
    "data = dg.sort_values(by=['Average (miles)'], ascending=False)\n",
    "x='Replaced_mode'\n",
    "y='Average (miles)'\n",
    "y2 = \"Count\"\n",
    "\n",
    "plot_title=\" Average Miles for each replaced mode (selected by users)\\n%s\" % quality_text\n",
    "file_name ='average_miles_replaced_mode_%s.png' % file_suffix\n",
    "\n",
    "barplot_mode2(data,x,y,y2,plot_title,file_name)"
   ]
  },
  {
   "cell_type": "markdown",
   "id": "committed-favorite",
   "metadata": {},
   "source": [
    "# Number of Trips by Day"
   ]
  },
  {
   "cell_type": "code",
   "execution_count": null,
   "id": "patent-performance",
   "metadata": {},
   "outputs": [],
   "source": [
    "fq_days = data_eb.groupby(['start_local_dt_day']).agg({'start_local_dt_day': ['sum', 'count']})\n",
    "fq_days = fq_days.reset_index()\n",
    "fq_days.columns = ['Day of the Month', 'Total', 'Number of Trips']"
   ]
  },
  {
   "cell_type": "code",
   "execution_count": null,
   "id": "limiting-handling",
   "metadata": {},
   "outputs": [],
   "source": [
    "data = fq_days\n",
    "x = 'Day of the Month'\n",
    "y = 'Number of Trips'\n",
    "\n",
    "plot_title=\"Number of ebike trips by day\\n%s\" % quality_text\n",
    "file_name ='number_of_ebike_trips_per_day_%s.png' % file_suffix\n",
    "\n",
    "barplot_day(data,x,y,plot_title,file_name)"
   ]
  }
 ],
 "metadata": {
  "kernelspec": {
   "display_name": "Python 3",
   "language": "python",
   "name": "python3"
  },
  "language_info": {
   "codemirror_mode": {
    "name": "ipython",
    "version": 3
   },
   "file_extension": ".py",
   "mimetype": "text/x-python",
   "name": "python",
   "nbconvert_exporter": "python",
   "pygments_lexer": "ipython3",
   "version": "3.7.9"
  }
 },
 "nbformat": 4,
 "nbformat_minor": 5
}
