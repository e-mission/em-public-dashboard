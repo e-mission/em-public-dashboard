{
 "cells": [
  {
   "cell_type": "code",
   "execution_count": null,
   "id": "dbd4ef88",
   "metadata": {},
   "outputs": [],
   "source": [
    "import numpy as np\n",
    "import pandas as pd\n",
    "from collections import defaultdict\n",
    "\n",
    "import matplotlib.pyplot as plt\n",
    "import seaborn as sns\n",
    "from sklearn import linear_model\n",
    "\n",
    "sns.set_style(\"whitegrid\")\n",
    "sns.set()\n",
    "%matplotlib inline\n",
    "\n",
    "params = {'legend.fontsize': 'small',\n",
    "          'figure.figsize': (10, 8),\n",
    "         'axes.labelsize': 'small',\n",
    "         'axes.titlesize':'small',\n",
    "         'xtick.labelsize':'small',\n",
    "         'ytick.labelsize':'small'}\n",
    "plt.rcParams.update(params)\n",
    "\n",
    "\n",
    "import importlib"
   ]
  },
  {
   "cell_type": "code",
   "execution_count": null,
   "id": "5cc1f216",
   "metadata": {},
   "outputs": [],
   "source": [
    "dem_survey_recent = pd.read_csv(\"DemographicData.csv\")\n",
    "len(dem_survey_recent)"
   ]
  },
  {
   "cell_type": "code",
   "execution_count": null,
   "id": "78ae9dbe",
   "metadata": {},
   "outputs": [],
   "source": [
    "gender_counts = dem_survey_recent[['What_is_your_gender', 'user_id']]\n",
    "gender_counts = gender_counts.groupby('What_is_your_gender').count()\n",
    "gender_counts"
   ]
  },
  {
   "cell_type": "code",
   "execution_count": null,
   "id": "64808266",
   "metadata": {},
   "outputs": [],
   "source": [
    "gender_challenge = dem_survey_recent[['What_is_your_gender', 'Challenges_to_travel']]\n",
    "gender_challenge = gender_challenge.dropna(subset=['Challenges_to_travel','What_is_your_gender'])\n",
    "\n",
    "challenge_counts = {'man':{}, 'woman':{}}\n",
    "def count_instances(row):\n",
    "    if len(row['Challenges_to_travel']) > 0:\n",
    "        vals = row['Challenges_to_travel'].split(' ')\n",
    "        for item in vals:\n",
    "            if item in challenge_counts[row['What_is_your_gender']].keys():\n",
    "                challenge_counts[row['What_is_your_gender']][item] = challenge_counts[row['What_is_your_gender']][item] + 1\n",
    "            else:\n",
    "                challenge_counts[row['What_is_your_gender']][item] = 1\n",
    "\n",
    "gender_challenge.apply(lambda x: count_instances(x), axis=1)"
   ]
  },
  {
   "cell_type": "code",
   "execution_count": null,
   "id": "27629303",
   "metadata": {},
   "outputs": [],
   "source": [
    "man_challenge_df = pd.DataFrame.from_dict(challenge_counts['man'], orient='index', columns=['man'])\n",
    "man_challenge_df.index.names = ['Challenge']\n",
    "man_challenge_df = man_challenge_df.reset_index()\n",
    "man_challenge_df['Gender'] = 'Man'\n",
    "man_challenge_df['proportion'] = man_challenge_df['man'] / np.sum(man_challenge_df['man'])\n",
    "man_challenge_df = man_challenge_df.rename(columns={\"Challenge\": \"Challenge\", \"man\": \"Count\", \"proportion\":\"Proportion\"})\n",
    "\n",
    "woman_challenge_df = pd.DataFrame.from_dict(challenge_counts['woman'], orient='index', columns=['woman'])\n",
    "woman_challenge_df.index.names = ['Challenge']\n",
    "woman_challenge_df = woman_challenge_df.reset_index()\n",
    "woman_challenge_df['Gender'] = 'Woman'\n",
    "woman_challenge_df['proportion'] = woman_challenge_df['woman'] / np.sum(woman_challenge_df['woman'])\n",
    "woman_challenge_df = woman_challenge_df.rename(columns={\"Challenge\": \"Challenge\", \"woman\": \"Count\", \"proportion\":\"Proportion\"})\n",
    "\n",
    "challenge_df = pd.concat([woman_challenge_df, man_challenge_df])\n",
    "challenge_df = challenge_df.reset_index()\n",
    "challenge_df = challenge_df.replace({'Challenge': {\n",
    "    'high_cost_of_tickets_or_fuel': 'High Cost', \n",
    "    'lack_of_reliability___timing_or_scheduli': 'Lack of reliability',\n",
    "    'convenience___lack_of_connectivity_acros': 'Convenience',\n",
    "    'risk_of_road_accidents___the_roads_are_d': 'Risk of road accidents',\n",
    "    'personal_safety___often_feel_unsafe_whil': 'Personal safety',\n",
    "    'none_of_the_above': 'None of the above',\n",
    "    'access___difficulty_connecting_between_t': 'Access'\n",
    "    }})\n",
    "challenge_df"
   ]
  },
  {
   "cell_type": "code",
   "execution_count": null,
   "id": "58e6f478",
   "metadata": {
    "scrolled": true
   },
   "outputs": [],
   "source": [
    "width = 0.8\n",
    "fig, ax = plt.subplots(figsize=(10, 6))\n",
    "running_total = [0,0]\n",
    "fig_data = challenge_df.copy()\n",
    "\n",
    "for challenge in pd.unique(fig_data.Challenge):\n",
    "    band_data = fig_data[fig_data['Challenge']==challenge]\n",
    "    \n",
    "    labels = band_data['Gender']\n",
    "    vals = band_data['Proportion']*100\n",
    "    bar_labels = band_data['Count']\n",
    "    \n",
    "    vals_str = [f'{y:.1f} %\\n({x:,})' if y>7 else '' for x, y in zip(bar_labels, vals)]\n",
    "    bar = ax.barh(labels, vals, width, left=running_total, label=challenge)\n",
    "    ax.bar_label(bar, label_type='center', labels=vals_str, rotation=90, fontsize=12)\n",
    "    running_total[0] = running_total[0]+vals.iloc[0]\n",
    "    running_total[1] = running_total[1]+vals.iloc[1]\n",
    "\n",
    "ax.set_title('Challenges for Travel', fontsize=25)\n",
    "ax.legend(bbox_to_anchor=(1,1), fancybox=True, shadow=True, fontsize=12)\n",
    "plt.subplots_adjust(bottom=0.20)\n",
    "fig.tight_layout()\n",
    "plt.show()"
   ]
  },
  {
   "cell_type": "code",
   "execution_count": null,
   "id": "d697a2bc",
   "metadata": {},
   "outputs": [],
   "source": [
    "challenge_df.groupby('Gender').sum()"
   ]
  }
 ],
 "metadata": {
  "kernelspec": {
   "display_name": "Python 3 (ipykernel)",
   "language": "python",
   "name": "python3"
  },
  "language_info": {
   "codemirror_mode": {
    "name": "ipython",
    "version": 3
   },
   "file_extension": ".py",
   "mimetype": "text/x-python",
   "name": "python",
   "nbconvert_exporter": "python",
   "pygments_lexer": "ipython3",
   "version": "3.9.20"
  }
 },
 "nbformat": 4,
 "nbformat_minor": 5
}
