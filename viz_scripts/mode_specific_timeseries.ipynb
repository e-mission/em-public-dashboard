{
 "cells": [
  {
   "cell_type": "markdown",
   "metadata": {},
   "source": [
    "## Generate Static Graphs"
   ]
  },
  {
   "cell_type": "markdown",
   "metadata": {},
   "source": [
    "These are the input parameters for the notebook. They will be automatically changed when the scripts to generate monthly statistics are run. You can modify them manually to generate multiple plots locally as well.\n",
    "\n",
    "Pass in `None` to remove the filters and plot all data. This is not recommended for production settings, but might be useful for reports based on data snapshots."
   ]
  },
  {
   "cell_type": "code",
   "execution_count": null,
   "metadata": {},
   "outputs": [],
   "source": [
    "year = 2020\n",
    "month = 11\n",
    "program = \"default\"\n",
    "study_type = \"program\"\n",
    "mode_of_interest = \"e-bike\"\n",
    "include_test_users = False"
   ]
  },
  {
   "cell_type": "code",
   "execution_count": null,
   "metadata": {},
   "outputs": [],
   "source": [
    "from collections import defaultdict\n",
    "import datetime\n",
    "\n",
    "import numpy as np\n",
    "import pandas as pd\n",
    "\n",
    "from plots import *\n",
    "import scaffolding\n",
    "\n",
    "sns.set_style(\"whitegrid\")\n",
    "sns.set()\n",
    "%matplotlib inline"
   ]
  },
  {
   "cell_type": "code",
   "execution_count": null,
   "metadata": {},
   "outputs": [],
   "source": [
    "# Do not run this notebook at all unless it is for a program; nbclient will run up through this cell\n",
    "if study_type != \"program\":\n",
    "    ipython = get_ipython()\n",
    "    ipython._showtraceback = scaffolding.no_traceback_handler\n",
    "    raise Exception(\"The plots in this notebook are only relevant to programs\")"
   ]
  },
  {
   "cell_type": "code",
   "execution_count": null,
   "metadata": {},
   "outputs": [],
   "source": [
    "# Loading mapping dictionaries from mapping_dictionaries notebook\n",
    "%store -r dic_re\n",
    "%store -r dic_pur\n",
    "\n",
    "# convert a dictionary to a defaultdict\n",
    "dic_re = defaultdict(lambda: 'Other',dic_re)\n",
    "dic_pur = defaultdict(lambda: 'Other',dic_pur)"
   ]
  },
  {
   "cell_type": "markdown",
   "metadata": {},
   "source": [
    "## Collect Data From Database"
   ]
  },
  {
   "cell_type": "code",
   "execution_count": null,
   "metadata": {},
   "outputs": [],
   "source": [
    "expanded_ct, file_suffix, quality_text, debug_df = scaffolding.load_viz_notebook_data(year,\n",
    "                                                                            month,\n",
    "                                                                            program,\n",
    "                                                                            study_type,\n",
    "                                                                            dic_re,\n",
    "                                                                            dic_pur=dic_pur,\n",
    "                                                                            include_test_users=include_test_users)"
   ]
  },
  {
   "cell_type": "code",
   "execution_count": null,
   "metadata": {},
   "outputs": [],
   "source": [
    "if 'mode_confirm' in expanded_ct.columns:\n",
    "    mode_of_interest_df = expanded_ct.query(f\"mode_confirm == '{mode_of_interest}'\")\n",
    "    debug_df.loc[f\"{mode_of_interest}_trips\"] = len(mode_of_interest_df)\n",
    "    debug_df.loc[f\"{mode_of_interest}_trips_with_replaced_mode\"] = scaffolding.trip_label_count(\"Replaced_mode\", mode_of_interest_df)"
   ]
  },
  {
   "cell_type": "markdown",
   "metadata": {},
   "source": [
    "## Data Preprocessing"
   ]
  },
  {
   "cell_type": "code",
   "execution_count": null,
   "metadata": {},
   "outputs": [],
   "source": [
    "# Get timestamp from known year/month/day aggregated to days\n",
    "sel_cols_no_label_dep = ['user_id','start_local_dt_year','start_local_dt_month','start_local_dt_day','distance_miles']\n",
    "sel_cols_with_label_dep = sel_cols_no_label_dep + ['mode_confirm']\n",
    "if len(expanded_ct) == 0:\n",
    "    data = expanded_ct.copy()\n",
    "elif \"mode_confirm\" not in expanded_ct.columns:\n",
    "    data = expanded_ct[sel_cols_no_label_dep].copy()\n",
    "else:\n",
    "    data = expanded_ct[sel_cols_with_label_dep].copy()\n",
    "    \n",
    "if len(expanded_ct) > 0:\n",
    "    data.rename(columns={'start_local_dt_year':'year','start_local_dt_month':'month','start_local_dt_day':'day'}, inplace=True)\n",
    "    data['date_time'] = pd.to_datetime(data[['year','month','day']])\n",
    "    data = data.drop(columns=['year','month','day'])\n",
    "\n",
    "    # Categorical type will include all days/modes in groupby even if there is no data for a particular tabulation\n",
    "    data.user_id = pd.Categorical(data.user_id)\n",
    "    data.date_time = pd.Categorical(data.date_time)\n",
    "    \n",
    "data.head()"
   ]
  },
  {
   "cell_type": "code",
   "execution_count": null,
   "metadata": {
    "scrolled": false
   },
   "outputs": [],
   "source": [
    "if len(expanded_ct) > 0:\n",
    "    # Get the count of unique users that were active on each given date\n",
    "    active_users = pd.DataFrame(data.groupby(['date_time'], as_index=False)['user_id'].nunique())\n",
    "    active_users.rename(columns={'user_id':'active_users'}, inplace=True)\n",
    "\n",
    "    if \"mode_confirm\" in expanded_ct.columns:\n",
    "        # Count the number of trips for each confirmed mode\n",
    "        mode_counts = data.groupby(['user_id','date_time','mode_confirm'], as_index=False).size()\n",
    "        mode_counts.rename(columns={'size':'trip_count'}, inplace=True)\n",
    "\n",
    "        # Sum daily distance traveled for each mode\n",
    "        mode_distance = data.groupby(['user_id','date_time','mode_confirm'], as_index=False)[['distance_miles']].sum()\n",
    "        mode_distance.rename(columns={'sum':'distance_miles'}, inplace=True)\n",
    "        mode_distance['distance_miles'] = mode_distance['distance_miles'].fillna(0)\n",
    "\n",
    "        # Add 7-day rolling avg smoothing to better see trends\n",
    "        mode_counts['trip_count_smooth'] = mode_counts.groupby(['user_id','mode_confirm'])['trip_count'].apply(lambda x: x.rolling(7,1).mean())\n",
    "        mode_distance['distance_miles_smooth'] = mode_distance.groupby(['user_id','mode_confirm'])['distance_miles'].apply(lambda x: x.rolling(7,1).mean())\n",
    "        \n",
    "        # This is the mode specific part\n",
    "        mode_counts_interest = mode_counts[mode_counts['mode_confirm']==mode_of_interest].copy()\n",
    "        mode_distance_interest = mode_distance[mode_distance['mode_confirm']==mode_of_interest].copy()\n",
    "        \n",
    "        # Mapping new mode labels with dictionaries\n",
    "        mode_counts['Mode_confirm'] = mode_counts['mode_confirm'].map(dic_re)\n",
    "        mode_counts_interest['Mode_confirm'] = mode_counts_interest['mode_confirm'].map(dic_re)\n",
    "        mode_distance_interest['Mode_confirm'] = mode_distance_interest['mode_confirm'].map(dic_re)"
   ]
  },
  {
   "cell_type": "code",
   "execution_count": null,
   "metadata": {},
   "outputs": [],
   "source": [
    "quality_text = scaffolding.get_quality_text(expanded_ct, mode_counts_interest, mode_of_interest, include_test_users)"
   ]
  },
  {
   "cell_type": "markdown",
   "metadata": {},
   "source": [
    "## Generate Timeseries Plots"
   ]
  },
  {
   "cell_type": "markdown",
   "metadata": {},
   "source": [
    "### Daily trips for mode of interest"
   ]
  },
  {
   "cell_type": "code",
   "execution_count": null,
   "metadata": {},
   "outputs": [],
   "source": [
    "# Plot of total ebikeshare trips across all users\n",
    "plot_title_no_quality = f'Daily {mode_of_interest} Trips'\n",
    "file_name = f\"ts_{mode_of_interest}_share%s\"%file_suffix\n",
    "\n",
    "try:\n",
    "    if len(mode_counts_interest) == 0:\n",
    "        # force error generation so that we will go into the \"missing\" data code path\n",
    "        raise RuntimeError(f\"No {mode_of_interest} trips found\")\n",
    "    plot_data = mode_counts_interest.groupby(['date_time'])['trip_count_smooth'].agg(['sum']).reset_index()\n",
    "    \n",
    "    plot_title= plot_title_no_quality+\"\\n\"+quality_text\n",
    "    ylab = 'Trip Count'\n",
    "\n",
    "    timeseries_plot(plot_data['date_time'], plot_data['sum'], plot_title, ylab, file_name)\n",
    "    alt_text = store_alt_text_timeseries(plot_data, file_name, plot_title)\n",
    "except:\n",
    "    generate_missing_plot(plot_title_no_quality,debug_df,file_name)\n",
    "    alt_text = store_alt_text_missing(debug_df, file_name, plot_title_no_quality)"
   ]
  },
  {
   "cell_type": "markdown",
   "metadata": {},
   "source": [
    "### Daily mileage for mode of interest"
   ]
  },
  {
   "cell_type": "code",
   "execution_count": null,
   "metadata": {},
   "outputs": [],
   "source": [
    "# Plot of total ebikeshare mileage across all users\n",
    "plot_title_no_quality = f'Daily {mode_of_interest} Mileage'\n",
    "file_name = f\"ts_{mode_of_interest}_miles%s\"%file_suffix\n",
    "\n",
    "try:\n",
    "    if len(mode_counts_interest) == 0:\n",
    "        # force error generation so that we will go into the \"missing\" data code path\n",
    "        raise RuntimeError(f\"No {mode_of_interest} trips found\")\n",
    "\n",
    "    plot_data = mode_distance_interest.groupby(['date_time'])['distance_miles'].agg(['sum']).reset_index()\n",
    "\n",
    "    plot_title= plot_title_no_quality+\"\\n\"+quality_text\n",
    "    ylab = 'Miles'\n",
    "\n",
    "    timeseries_plot(plot_data['date_time'], plot_data['sum'], plot_title, ylab, file_name)\n",
    "    alt_text = store_alt_text_timeseries(plot_data, file_name, plot_title)\n",
    "except:\n",
    "    generate_missing_plot(plot_title_no_quality,debug_df,file_name)\n",
    "    alt_text = store_alt_text_missing(debug_df, file_name, plot_title_no_quality)"
   ]
  },
  {
   "cell_type": "markdown",
   "metadata": {},
   "source": [
    "### Daily mileage per user for mode of interest"
   ]
  },
  {
   "cell_type": "code",
   "execution_count": null,
   "metadata": {},
   "outputs": [],
   "source": [
    "# Plot of total ebikeshare mileage normalized by number of users\n",
    "plot_title_no_quality = f'Daily {mode_of_interest} Mileage per Active User'\n",
    "file_name = f\"ts_{mode_of_interest}_miles_user%s\"%file_suffix\n",
    "\n",
    "try:\n",
    "    if len(mode_counts_interest) == 0:\n",
    "        # force error generation so that we will go into the \"missing\" data code path\n",
    "        raise RuntimeError(f\"No {mode_of_interest} trips found\")\n",
    "\n",
    "    plot_data = mode_distance_interest.groupby(['date_time'])['distance_miles'].agg(['sum']).reset_index()\n",
    "    plot_data = plot_data.merge(active_users, on='date_time')\n",
    "    plot_data['mileage_per_user'] = plot_data['sum'] / plot_data['active_users']\n",
    "\n",
    "    plot_title= plot_title_no_quality+\"\\n\"+quality_text\n",
    "    ylab = 'miles/user'\n",
    "\n",
    "    timeseries_plot(plot_data['date_time'], plot_data['mileage_per_user'], plot_title, ylab, file_name)\n",
    "    alt_text = store_alt_text_timeseries(plot_data, file_name, plot_title)\n",
    "except:\n",
    "    generate_missing_plot(plot_title_no_quality,debug_df,file_name)\n",
    "    alt_text = store_alt_text_missing(debug_df, file_name, plot_title_no_quality)"
   ]
  },
  {
   "cell_type": "markdown",
   "metadata": {},
   "source": [
    "### Proportion of total daily mileage for mode of interest"
   ]
  },
  {
   "cell_type": "code",
   "execution_count": null,
   "metadata": {},
   "outputs": [],
   "source": [
    "# Plot of ebike mileage share proportion across all users\n",
    "plot_title_no_quality = f'Daily {mode_of_interest} Mileage Proportion (All Users, excluding air)'\n",
    "file_name = f\"ts_{mode_of_interest}_miles_proportion%s\"%file_suffix\n",
    "\n",
    "try:\n",
    "    if len(mode_counts_interest) == 0:\n",
    "        # force error generation so that we will go into the \"missing\" data code path\n",
    "        raise RuntimeError(f\"No {mode_of_interest} trips found\")\n",
    "\n",
    "    plot_data = mode_distance_interest.groupby(['date_time'], as_index=False)['distance_miles_smooth'].sum()\n",
    "    total_miles = mode_distance.groupby(['date_time'], as_index=False)['distance_miles_smooth'].sum()\n",
    "    plot_data = plot_data.merge(total_miles, on=['date_time'])\n",
    "    plot_data['miles_proportion'] = plot_data['distance_miles_smooth_x'] / plot_data['distance_miles_smooth_y']\n",
    "\n",
    "    plot_title= plot_title_no_quality+\"\\n\"+quality_text\n",
    "    ylab = 'Proportion of Daily Miles'\n",
    "\n",
    "    timeseries_plot(plot_data['date_time'], plot_data['miles_proportion'], plot_title, ylab, file_name)\n",
    "    alt_text = store_alt_text_timeseries(plot_data, file_name, plot_title)\n",
    "except:\n",
    "    generate_missing_plot(plot_title_no_quality,debug_df,file_name)\n",
    "    alt_text = store_alt_text_missing(debug_df, file_name, plot_title_no_quality)"
   ]
  },
  {
   "cell_type": "markdown",
   "metadata": {},
   "source": [
    "### Proportion of total daily trips for mode of interest"
   ]
  },
  {
   "cell_type": "code",
   "execution_count": null,
   "metadata": {},
   "outputs": [],
   "source": [
    "# Plot of ebike trip share proportion across all users\n",
    "plot_title_no_quality = f'Daily {mode_of_interest} Trip Proportion (All Users, excluding air)'\n",
    "file_name = f\"ts_{mode_of_interest}_trips_proportion%s\"%file_suffix\n",
    "\n",
    "try:\n",
    "    if len(mode_counts_interest) == 0:\n",
    "        # force error generation so that we will go into the \"missing\" data code path\n",
    "        raise RuntimeError(f\"No {mode_of_interest} trips found\")\n",
    "\n",
    "    plot_data = mode_counts.groupby(['date_time','mode_confirm'], as_index=False)['trip_count_smooth'].sum()\n",
    "    total_trips = plot_data.groupby(['date_time'], as_index=False).sum()\n",
    "    plot_data = plot_data.merge(total_trips, on='date_time')\n",
    "    plot_data['trip_proportion'] = plot_data['trip_count_smooth_x'] / plot_data['trip_count_smooth_y']\n",
    "    plot_data = plot_data[plot_data['mode_confirm']==mode_of_interest]\n",
    "\n",
    "    plot_title= plot_title_no_quality+\"\\n\"+quality_text\n",
    "    ylab = 'Proportion of Daily Trips'\n",
    "\n",
    "    timeseries_plot(plot_data['date_time'], plot_data['trip_proportion'], plot_title, ylab, file_name)\n",
    "    alt_text = store_alt_text_timeseries(plot_data.drop(columns=['mode_confirm','trip_count_smooth_x','trip_count_smooth_y']), file_name, plot_title)\n",
    "except:\n",
    "    generate_missing_plot(plot_title_no_quality,debug_df,file_name)\n",
    "    alt_text = store_alt_text_missing(debug_df, file_name, plot_title_no_quality)"
   ]
  },
  {
   "cell_type": "markdown",
   "metadata": {},
   "source": [
    "### Daily trip proportion for mode of interest with error bounds"
   ]
  },
  {
   "cell_type": "code",
   "execution_count": null,
   "metadata": {},
   "outputs": [],
   "source": [
    "# Plots the number of trips per user with error bars\n",
    "# from the seaborn documentation:\n",
    "# By default, the plot aggregates over multiple y values at each value of x and \n",
    "# shows an estimate of the central tendency and a confidence interval for that estimate.\n",
    "# In our case, we have multiple trip proportions (one per user) for each day\n",
    "# so the band represents the variation of the number of trips and the thick line represents the mean/median (unsure which)\n",
    "# but this still doesn't tell us which users have dropped their ridership\n",
    "\n",
    "plot_title_no_quality = f'Daily {mode_of_interest} Trip Proportion for Individual users (Running average and variation)'\n",
    "file_name = f\"ts_{mode_of_interest}_trip_individual_variation%s\"%file_suffix\n",
    "\n",
    "try:\n",
    "    if len(mode_counts_interest) == 0:\n",
    "        # force error generation so that we will go into the \"missing\" data code path\n",
    "        raise RuntimeError(f\"No {mode_of_interest} trips found\")\n",
    "\n",
    "    plot_data_mode = mode_counts_interest.groupby(['date_time', 'user_id'], as_index=False)[\"trip_count_smooth\"].sum()\n",
    "    plot_data = mode_counts.groupby(['date_time','user_id'], as_index=False)['trip_count_smooth'].sum()\n",
    "    plot_data = plot_data.merge(plot_data_mode, on=['date_time', 'user_id'])\n",
    "    plot_data['mode_trip_proportion'] = plot_data['trip_count_smooth_y'] / plot_data['trip_count_smooth_x']\n",
    "\n",
    "    plot_title= plot_title_no_quality+\"\\n\"+quality_text\n",
    "    ylab = 'Proportion of Daily Trips'\n",
    "\n",
    "    timeseries_plot(plot_data['date_time'], plot_data['mode_trip_proportion'], plot_title, ylab, file_name)\n",
    "    alt_text = store_alt_text_timeseries(plot_data.drop(columns=['user_id','trip_count_smooth_x','trip_count_smooth_y']), file_name, plot_title)\n",
    "except:\n",
    "    generate_missing_plot(plot_title_no_quality,debug_df,file_name)\n",
    "    alt_text = store_alt_text_missing(debug_df, file_name, plot_title_no_quality)"
   ]
  },
  {
   "cell_type": "markdown",
   "metadata": {},
   "source": [
    "### Daily mileage proportion for mode of interest with error bounds"
   ]
  },
  {
   "cell_type": "code",
   "execution_count": null,
   "metadata": {},
   "outputs": [],
   "source": [
    "# Plots the number of trips per user with error bars\n",
    "# from the seaborn documentation:\n",
    "# By default, the plot aggregates over multiple y values at each value of x and \n",
    "# shows an estimate of the central tendency and a confidence interval for that estimate.\n",
    "# In our case, we have multiple trip proportions (one per user) for each day\n",
    "# so the band represents the variation of the number of trips and the thick line represents the mean/median (unsure which)\n",
    "# but this still doesn't tell us which users have dropped their ridership\n",
    "\n",
    "plot_title = f'Daily {mode_of_interest} Mileage Proportion for Individual users (Running average and variation)'\n",
    "file_name = f\"ts_{mode_of_interest}_mile_individual_variation%s\"%file_suffix\n",
    "\n",
    "try:\n",
    "    if len(mode_distance_interest) == 0:\n",
    "        # force error generation so that we will go into the \"missing\" data code path\n",
    "        raise RuntimeError(f\"No {mode_of_interest} trips found\")\n",
    "\n",
    "    plot_data_mode = mode_distance_interest.groupby(['date_time', 'user_id'], as_index=False)[\"distance_miles_smooth\"].sum()\n",
    "    plot_data = mode_distance.groupby(['date_time','user_id'], as_index=False)['distance_miles_smooth'].sum()\n",
    "    plot_data = plot_data.merge(plot_data_mode, on=['date_time', 'user_id'])\n",
    "    plot_data['mode_miles_proportion'] = plot_data['distance_miles_smooth_y'] / plot_data['distance_miles_smooth_x']\n",
    "\n",
    "    plot_title= plot_title_no_quality+\"\\n\"+quality_text\n",
    "    ylab = 'Proportion of Daily Miles'\n",
    "\n",
    "    timeseries_plot(plot_data['date_time'], plot_data['mode_miles_proportion'], plot_title, ylab, file_name)\n",
    "    alt_text = store_alt_text_timeseries(plot_data.drop(columns=['user_id','distance_miles_smooth_x','distance_miles_smooth_y']), file_name, plot_title)\n",
    "except:\n",
    "    generate_missing_plot(plot_title_no_quality,debug_df,file_name)\n",
    "    alt_text = store_alt_text_missing(debug_df, file_name, plot_title_no_quality)"
   ]
  }
 ],
 "metadata": {
  "kernelspec": {
   "display_name": "Python 3 (ipykernel)",
   "language": "python",
   "name": "python3"
  },
  "language_info": {
   "codemirror_mode": {
    "name": "ipython",
    "version": 3
   },
   "file_extension": ".py",
   "mimetype": "text/x-python",
   "name": "python",
   "nbconvert_exporter": "python",
   "pygments_lexer": "ipython3",
   "version": "3.7.12"
  }
 },
 "nbformat": 4,
 "nbformat_minor": 1
}
