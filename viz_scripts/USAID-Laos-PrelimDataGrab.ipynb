{
 "cells": [
  {
   "cell_type": "code",
   "execution_count": null,
   "id": "f9ac0fd5",
   "metadata": {
    "scrolled": true
   },
   "outputs": [],
   "source": [
    "#laos data viz!"
   ]
  },
  {
   "cell_type": "code",
   "execution_count": null,
   "id": "5860eea2",
   "metadata": {
    "scrolled": true
   },
   "outputs": [],
   "source": [
    "#path configuration\n",
    "to_data_parent = \"\" #path to the parent folder, should contain program subfolders\n",
    "to_data_folder = \"\" #data folder, where composite data files will be written/read\n",
    "\n",
    "program = \"usaid_laos_ev\"\n",
    "\n",
    "dynamic_labels = {\n",
    "    \"MODE\": [\n",
    "      {\"value\":\"walk\", \"baseMode\":\"WALKING\", \"met_equivalent\":\"WALKING\", \"kgCo2PerKm\": 0},\n",
    "      {\"value\":\"e-auto_rickshaw\", \"baseMode\":\"MOPED\", \"met_equivalent\":\"IN_VEHICLE\", \"kgCo2PerKm\": 0.085416859},\n",
    "      {\"value\":\"auto_rickshaw\", \"baseMode\":\"MOPED\", \"met_equivalent\":\"IN_VEHICLE\", \"kgCo2PerKm\": 0.231943784},\n",
    "      {\"value\":\"motorcycle\", \"baseMode\":\"MOPED\", \"met_equivalent\":\"IN_VEHICLE\", \"kgCo2PerKm\": 0.113143309},\n",
    "      {\"value\":\"e-bike\", \"baseMode\":\"E_BIKE\", \"met\": {\"ALL\": {\"range\": [0, -1], \"mets\": 4.9}}, \"kgCo2PerKm\": 0.00728},\n",
    "      {\"value\":\"bike\", \"baseMode\":\"BICYCLING\", \"met_equivalent\":\"BICYCLING\", \"kgCo2PerKm\": 0},\n",
    "      {\"value\":\"drove_alone\", \"baseMode\":\"CAR\", \"met_equivalent\":\"IN_VEHICLE\", \"kgCo2PerKm\": 0.22031},\n",
    "      {\"value\":\"shared_ride\", \"baseMode\":\"CAR\", \"met_equivalent\":\"IN_VEHICLE\", \"kgCo2PerKm\": 0.11015},\n",
    "      {\"value\":\"e_car_drove_alone\", \"baseMode\":\"E_CAR\", \"met_equivalent\":\"IN_VEHICLE\", \"kgCo2PerKm\": 0.08216},\n",
    "      {\"value\":\"e_car_shared_ride\", \"baseMode\":\"E_CAR\", \"met_equivalent\":\"IN_VEHICLE\", \"kgCo2PerKm\": 0.04108},\n",
    "      {\"value\":\"taxi\", \"baseMode\":\"TAXI\", \"met_equivalent\":\"IN_VEHICLE\", \"kgCo2PerKm\": 0.30741},\n",
    "      {\"value\":\"bus\", \"baseMode\":\"BUS\", \"met_equivalent\":\"IN_VEHICLE\", \"kgCo2PerKm\": 0.20727},\n",
    "      {\"value\":\"train\", \"baseMode\":\"TRAIN\", \"met_equivalent\":\"IN_VEHICLE\", \"kgCo2PerKm\": 0.12256},\n",
    "      {\"value\":\"free_shuttle\", \"baseMode\":\"BUS\", \"met_equivalent\":\"IN_VEHICLE\", \"kgCo2PerKm\": 0.20727},\n",
    "      {\"value\":\"air\", \"baseMode\":\"AIR\", \"met_equivalent\":\"IN_VEHICLE\", \"kgCo2PerKm\": 0.09975},\n",
    "      {\"value\":\"not_a_trip\", \"baseMode\":\"UNKNOWN\", \"met_equivalent\":\"UNKNOWN\", \"kgCo2PerKm\": 0},\n",
    "      {\"value\":\"other\", \"baseMode\":\"OTHER\", \"met_equivalent\":\"UNKNOWN\", \"kgCo2PerKm\": 0}\n",
    "    ],\n",
    "    \"PURPOSE\": [\n",
    "      {\"value\":\"home\"},\n",
    "      {\"value\":\"work\"},\n",
    "      {\"value\":\"at_work\"},\n",
    "      {\"value\":\"school\"},\n",
    "      {\"value\":\"transit_transfer\"},\n",
    "      {\"value\":\"shopping\"},\n",
    "      {\"value\":\"meal\"},\n",
    "      {\"value\":\"pick_drop_person\"},\n",
    "      {\"value\":\"pick_drop_item\"},\n",
    "      {\"value\":\"personal_med\"},\n",
    "      {\"value\":\"access_recreation\"},\n",
    "      {\"value\":\"exercise\"},\n",
    "      {\"value\":\"entertainment\"},\n",
    "      {\"value\":\"religious\"},\n",
    "      {\"value\":\"other\"}\n",
    "    ],\n",
    "    \"translations\": {\n",
    "      \"en\": {\n",
    "        \"walk\": \"Walk\",\n",
    "        \"e-auto_rickshaw\":\"E-tuk tuk\",\n",
    "        \"auto_rickshaw\":\"Tuk Tuk\",\n",
    "        \"motorcycle\":\"Motorcycle\",\n",
    "        \"e-bike\": \"E-bike\",\n",
    "        \"bike\": \"Bicycle\",\n",
    "        \"drove_alone\": \"Car Drove Alone\",\n",
    "        \"shared_ride\": \"Car Shared Ride\",\n",
    "        \"e_car_drove_alone\": \"E-Car Drove Alone\",\n",
    "        \"e_car_shared_ride\": \"E-Car Shared Ride\",\n",
    "        \"taxi\": \"Taxi/Loca/inDrive\",\n",
    "        \"bus\": \"Bus\",\n",
    "        \"train\": \"Train\",\n",
    "        \"free_shuttle\": \"Free Shuttle\",\n",
    "        \"air\": \"Airplane\",\n",
    "        \"not_a_trip\": \"Not a trip\",\n",
    "        \"home\": \"Home\",\n",
    "        \"work\": \"To Work\",\n",
    "        \"at_work\": \"At Work\",\n",
    "        \"school\": \"School\",\n",
    "        \"transit_transfer\": \"Transit transfer\",\n",
    "        \"shopping\": \"Shopping\",\n",
    "        \"meal\": \"Meal\",\n",
    "        \"pick_drop_person\": \"Pick-up/ Drop off Person\",\n",
    "        \"pick_drop_item\": \"Pick-up/ Drop off Item\",\n",
    "        \"personal_med\": \"Personal/ Medical\",\n",
    "        \"access_recreation\": \"Access Recreation\",\n",
    "        \"exercise\": \"Recreation/ Exercise\",\n",
    "        \"entertainment\": \"Entertainment/ Social\",\n",
    "        \"religious\": \"Religious\",\n",
    "        \"other\": \"Other\"\n",
    "      },\n",
    "      \"lo\": {\n",
    "        \"walk\": \"ດ້ວຍການຍ່າງ\",\n",
    "        \"e-auto_rickshaw\":\"ລົດ 3 ລໍ້ໄຟຟ້າ ຫລື ຕຸກຕຸກໄຟຟ້າ\",\n",
    "        \"auto_rickshaw\":\"ເດີນທາດ້ວຍ ລົດຕຸກຕຸກ ຫລື ລົດສາມລໍ້\",\n",
    "        \"motorcycle\":\"ລົດຈັກ\",\n",
    "        \"e-bike\": \"ວຍລົດຈັກໄຟຟ້າ\",\n",
    "        \"bike\": \"ລົດຖີບ\",\n",
    "        \"drove_alone\": \"ເດີນທາງ ດ້ວຍລົດໃຫ່ຍ ເຊີ່ງເປັນລົດທີ່ຂັບເອງ\",\n",
    "        \"shared_ride\": \"ເດີນທາງດ້ວຍລົດໃຫ່ຍ ຮ່ວມກັບລົດຄົນອຶ່ນ\",\n",
    "        \"e_car_drove_alone\": \"ດ້ວຍການຂັບລົດໄຟຟ້າໄປເອງ\",\n",
    "        \"e_car_shared_ride\": \"ດ້ວຍການຈ້າງລົດໄຟຟ້າໄປ\",\n",
    "        \"taxi\": \"ແທັກຊີ\",\n",
    "        \"bus\": \"ລົດເມ\",\n",
    "        \"train\": \"ລົດໄຟ\",\n",
    "        \"free_shuttle\": \"ລົດຮັບສົ່ງຟຣີ\",\n",
    "        \"air\": \"ຍົນ\",\n",
    "        \"not_a_trip\": \"ບໍ່ແມ່ນການເດີນທາງ\",\n",
    "        \"home\": \"ບ້ານ\",\n",
    "        \"work\": \"ໄປເຮັດວຽກ\",\n",
    "        \"at_work\": \"ຢູ່ບ່ອນເຮັດວຽກ\",\n",
    "        \"school\": \"ໄປໂຮງຮຽນ\",\n",
    "        \"transit_transfer\": \"ການຖ່າຍໂອນການເດີນທາງ\",\n",
    "        \"shopping\": \"ຊອບປິ້ງ\",\n",
    "        \"meal\": \"ອາຫານ\",\n",
    "        \"pick_drop_person\": \"ໄປຮັບ ຫລື ສົນ ຄົນ\",\n",
    "        \"pick_drop_item\": \"ໄປຮັບ ຫລື ສົ່ງສິນຄ້າ\",\n",
    "        \"personal_med\": \"ໄປຫາໝໍ\",\n",
    "        \"access_recreation\": \"ເຂົ້າເຖິງການພັກຜ່ອນ\",\n",
    "        \"exercise\": \"ພັກຜ່ອນ/ອອກກຳລັງກາຍ\",\n",
    "        \"entertainment\": \"ບັນເທີງ/ສັງຄົມ\",\n",
    "        \"religious\": \"ຈຸດປະສົງທາງສາດສະໜາ\",\n",
    "        \"other\": \"ອື່ນໆ\"\n",
    "      }\n",
    "    }\n",
    "  }"
   ]
  },
  {
   "cell_type": "code",
   "execution_count": null,
   "id": "b8a619c6",
   "metadata": {
    "scrolled": true
   },
   "outputs": [],
   "source": [
    "import numpy as np\n",
    "import pandas as pd\n",
    "from collections import defaultdict"
   ]
  },
  {
   "cell_type": "code",
   "execution_count": null,
   "id": "697af150",
   "metadata": {
    "scrolled": true
   },
   "outputs": [],
   "source": [
    "import matplotlib.pyplot as plt\n",
    "import seaborn as sns\n",
    "from sklearn import linear_model\n",
    "\n",
    "sns.set_style(\"whitegrid\")\n",
    "sns.set()\n",
    "%matplotlib inline\n",
    "\n",
    "params = {'legend.fontsize': 'small',\n",
    "          'figure.figsize': (10, 8),\n",
    "         'axes.labelsize': 'small',\n",
    "         'axes.titlesize':'small',\n",
    "         'xtick.labelsize':'small',\n",
    "         'ytick.labelsize':'small'}\n",
    "plt.rcParams.update(params)\n",
    "\n",
    "\n",
    "import importlib"
   ]
  },
  {
   "cell_type": "code",
   "execution_count": null,
   "id": "65a30b12",
   "metadata": {
    "scrolled": true
   },
   "outputs": [],
   "source": [
    "print('starting with ', program)\n",
    "\n",
    "#create dataset with surveys and trips\n",
    "# print(to_data_parent + '/' + program + '_trips.csv')\n",
    "# trips = pd.read_csv(to_data_parent + '/' + program + '_trips.csv')\n",
    "# print(len(trips), 'trips')\n",
    "# print(trips.user_id.nunique(), 'people')\n",
    "\n",
    "surveys = pd.read_csv(to_data_parent + program + '_demographics.csv')\n",
    "print(len(surveys), 'surveys')\n",
    "\n",
    "#drop any null ids\n",
    "socio_data = surveys[~surveys['user_id'].isnull()]\n",
    "print(len(socio_data), 'surveys after dropping null ids')\n",
    "\n",
    "#drop duplicates\n",
    "socio_data = socio_data.sort_values(by=['user_id', 'data.ts'])\n",
    "socio_data.drop_duplicates(subset=['user_id'], keep='last', inplace=True)\n",
    "print(len(socio_data),'surveys', socio_data['user_id'].nunique(), 'users after dropping duplicates')\n",
    "\n",
    "#prepare survey ids for merging\n",
    "socio_data['user_id_socio'] = socio_data['user_id'].astype(str)\n",
    "socio_data['user_id_socio'] = socio_data['user_id_socio'].str.strip() #remove leading or trailing whitespace!!\n",
    "socio_data['user_id_socio'] = [i.replace('-','') for i in socio_data.user_id_socio]\n",
    "socio_data['user_id_socio'] = socio_data['user_id_socio']\n",
    "socio_data = socio_data.drop(labels='user_id', axis=1)\n",
    "\n",
    "\n",
    "# #prepare trip ids for merging\n",
    "# trips['user_id_socio'] = trips.user_id.astype(str)\n",
    "# trips['user_id_socio'] = trips['user_id_socio'].str.strip() #remove leading or trailing whitespace!!\n",
    "# trips.user_id_socio = [i.replace('-','') for i in trips.user_id_socio] # remove all dashes from strings\n",
    "\n",
    "# #merge the data\n",
    "# data = trips.merge(socio_data, on='user_id_socio')\n",
    "# print(len(data), 'trips after merging')\n",
    "# print(data.user_id_socio.nunique(), 'people after merging')\n",
    "\n",
    "data = socio_data.copy()\n",
    "data['program'] = program"
   ]
  },
  {
   "cell_type": "code",
   "execution_count": null,
   "id": "4b03ec30",
   "metadata": {
    "scrolled": true
   },
   "outputs": [],
   "source": [
    "full_data.columns"
   ]
  },
  {
   "cell_type": "code",
   "execution_count": null,
   "id": "8958888f",
   "metadata": {
    "scrolled": true
   },
   "outputs": [],
   "source": [
    "#merge them all together\n",
    "full_data = data.copy()\n",
    "print(len(full_data), 'trips')\n",
    "# print(full_data.user_id.nunique(), 'users')"
   ]
  },
  {
   "cell_type": "code",
   "execution_count": null,
   "id": "e89bf71f",
   "metadata": {
    "scrolled": true
   },
   "outputs": [],
   "source": [
    "print(\"DROPPING DATA BEFORE NOVEMBER\")\n",
    "\n",
    "full_data.drop(full_data[full_data['data.local_dt.month'] == 8].index)\n",
    "full_data.drop(full_data[full_data['data.local_dt.month'] == 9].index)\n",
    "full_data.drop(full_data[full_data['data.local_dt.month'] == 10].index)\n",
    "\n",
    "print(len(full_data), 'trips')\n",
    "# print(full_data.user_id.nunique(), 'users')"
   ]
  },
  {
   "cell_type": "code",
   "execution_count": null,
   "id": "c53fa960",
   "metadata": {
    "scrolled": true
   },
   "outputs": [],
   "source": [
    "def mapping_labels(dynamic_labels, label_type):\n",
    "    if \"translations\" in dynamic_labels and \"en\" in dynamic_labels[\"translations\"]:\n",
    "        translations = dynamic_labels[\"translations\"][\"en\"]\n",
    "        dic_mapping = dict()\n",
    "\n",
    "        def translate_labels(labels):\n",
    "            translation_mapping = {}\n",
    "            for label in labels:\n",
    "                value = label[\"value\"]\n",
    "                translation = translations.get(value)\n",
    "                translation_mapping[value] = translation\n",
    "            return defaultdict(lambda: 'Other', translation_mapping)\n",
    "        dic_mapping = translate_labels(dynamic_labels[label_type])\n",
    "        return dic_mapping"
   ]
  },
  {
   "cell_type": "code",
   "execution_count": null,
   "id": "112bc5d9",
   "metadata": {
    "scrolled": true
   },
   "outputs": [],
   "source": [
    "#readable labels!!\n",
    "mode_map = mapping_labels(dynamic_labels, \"MODE\")\n",
    "purpose_map = mapping_labels(dynamic_labels, \"PURPOSE\")\n",
    "\n",
    "full_data['Mode_confirm'] = full_data['mode_confirm'].map(mode_map)\n",
    "full_data['Trip_purpose'] = full_data['purpose_confirm'].map(purpose_map)"
   ]
  },
  {
   "cell_type": "code",
   "execution_count": null,
   "id": "27eed3e7",
   "metadata": {
    "scrolled": true
   },
   "outputs": [],
   "source": [
    "full_data.to_csv(to_data_folder + \"/expanded_ct.csv\")"
   ]
  },
  {
   "cell_type": "code",
   "execution_count": null,
   "id": "1ef34a81",
   "metadata": {
    "scrolled": true
   },
   "outputs": [],
   "source": [
    "# loading the data\n",
    "data = pd.read_csv(to_data_folder + \"/expanded_ct.csv\")\n",
    "data.columns"
   ]
  },
  {
   "cell_type": "code",
   "execution_count": null,
   "id": "b2c08ea5",
   "metadata": {
    "scrolled": true
   },
   "outputs": [],
   "source": [
    "# Summary statistics table\n",
    "print(len(pd.unique(data.user_id)))\n",
    "stat_data = data[['data.distance','data.duration']]\n",
    "stat_data.describe()"
   ]
  },
  {
   "cell_type": "code",
   "execution_count": null,
   "id": "33568be5",
   "metadata": {
    "scrolled": true
   },
   "outputs": [],
   "source": [
    "#START HERE FOR JUST DEMOGRAPHICS\n",
    "data = pd.read_csv(\"DemographicData.csv\")"
   ]
  },
  {
   "cell_type": "code",
   "execution_count": null,
   "id": "6a677b12",
   "metadata": {
    "scrolled": true
   },
   "outputs": [],
   "source": [
    "data.columns"
   ]
  },
  {
   "cell_type": "code",
   "execution_count": null,
   "id": "0bab0d8c",
   "metadata": {
    "scrolled": true
   },
   "outputs": [],
   "source": [
    "#format the age datapoints for the chart\n",
    "data = data.replace(['_16_years_old',\n",
    "              '16___20_years_old',\n",
    "              '21___25_years_old', \n",
    "              '26___30_years_old', \n",
    "              '31___35_years_old',\n",
    "              '36___40_years_old',\n",
    "              '41___45_years_old', \n",
    "              '46___50_years_old',\n",
    "              '51___55_years_old',\n",
    "              '56___60_years_old'], \n",
    "             ['<16',\n",
    "              '16-20',\n",
    "              '21-25',\n",
    "              '26-30',\n",
    "              '31-35',\n",
    "              '36-40',\n",
    "              '41-45',\n",
    "              '45-50',\n",
    "              '51-55',\n",
    "              '56-60'])\n",
    "\n",
    "data['NUM_VEH'] = data['How_many_motor_vehicles_are_ow'].replace(\n",
    "                                                ['prefer_not_to_say', 'more_than_3'], ['Prefer Not to Say', '> 3'])\n",
    "\n",
    "data['NUM_VEH_2'] = data['How_many_motor_vehicles_are_ow_001'].replace(\n",
    "                                                ['prefer_not_to_say', 'more_than_3'], ['Prefer Not to Say', '> 3'])\n",
    "\n",
    "data['STU'] = data['Are_you_a_student'].replace(['prefer_not_to_say', 'not_a_student', 'yes___full_time_college_university', 'yes___k_12th_grade_including_ged', 'yes___part_time_college_university'], \n",
    "                                                                ['Prefer Not to Say', 'Not a Student', 'Full-time\\nUniversity', 'K-12 Student', 'Part-time\\nUniversity'])\n",
    "\n",
    "data['INC'] = data['Please_identify_which_category'].replace(['prefer_not_to_say','less_than__100', '_100_to__150', '_400_or_more'],\n",
    "                                                             ['Prefer Not to Say', '< 50', '50-100', '> 400'])\n",
    "\n",
    "\n",
    "data['STU'] = pd.Categorical(data['STU'], ['Prefer Not to Say', 'Not a Student', 'K-12 Student', 'Part-time\\nUniversity', 'Full-time\\nUniversity'])\n",
    "\n",
    "data['HHSIZE'] = data['Including_yourself_how_many_p'].replace(\n",
    "                                                ['prefer_not_to_say', 'more_than_7'], ['Prefer Not to Say', '> 7'])\n",
    "\n",
    "data['drivers'] = data['Including_yourself_how_many_p_001'].replace(\n",
    "                                                ['prefer_not_to_say', 'more_than_4'], ['Prefer Not to Say', '> 4'])"
   ]
  },
  {
   "cell_type": "code",
   "execution_count": null,
   "id": "98f96d35",
   "metadata": {
    "scrolled": true
   },
   "outputs": [],
   "source": [
    "# Age, Income, Gender\n",
    "plot_data = data.copy()\n",
    "# plot_data = plot_data.groupby(['user_id']).nth(0)[['How_old_are_you','What_is_your_gender','STU', 'INC']].dropna()\n",
    "plot_data = plot_data.groupby(['user_id']).nth(0)[['What_is_your_gender']].dropna()\n",
    "print(len(plot_data))\n",
    "# plot_data = plot_data.groupby(['user_id']).nth(0)[['How_old_are_you']].dropna()\n",
    "# print(len(plot_data))\n",
    "plot_data = plot_data[plot_data['What_is_your_gender'].isin(['man','woman'])]\n",
    "plot_data = plot_data.groupby(['user_id'], as_index=False).nth(0)\n",
    "\n",
    "# print(len(plot_data)) #22 participants\n",
    "\n",
    "#order the values\n",
    "# plot_data['How_old_are_you'] = pd.Categorical(plot_data['How_old_are_you'], [ '<16',\n",
    "#                                                                               '16-20',\n",
    "#                                                                               '21-25',\n",
    "#                                                                               '26-30',\n",
    "#                                                                               '31-35',\n",
    "#                                                                               '36-40',\n",
    "#                                                                               '41-45',\n",
    "#                                                                               '46-50',\n",
    "#                                                                               '51-55',\n",
    "#                                                                               '56-60'])\n",
    "\n",
    "# plot_data['INC'] = pd.Categorical(plot_data['INC'], ['Prefer Not to Say', '< 50', '50-100', '100-150', '150-200', '200-250', '250-300', '300-350', '350-400', '> 400'])"
   ]
  },
  {
   "cell_type": "code",
   "execution_count": null,
   "id": "2fad6a5f",
   "metadata": {
    "scrolled": true
   },
   "outputs": [],
   "source": [
    "data['How_old_are_you'].unique()"
   ]
  },
  {
   "cell_type": "code",
   "execution_count": null,
   "id": "a947fcdc",
   "metadata": {
    "scrolled": true
   },
   "outputs": [],
   "source": [
    "plot_title='Participant Demographics'\n",
    "ylab='Count'\n",
    "file_name='CanBikeCO_report_demog'\n",
    "\n",
    "fig, axs = plt.subplots(2,2,figsize=(15,8))\n",
    "sns.histplot(data=plot_data, x='What_is_your_gender', ax=axs[0,0], color='purple', stat='probability').set(xlabel='Sex',ylabel='proportion')\n",
    "# sns.histplot(data=plot_data, x='How_old_are_you', ax=axs[0,1], color='red', stat='probability').set(xlabel='Age',ylabel='proportion')\n",
    "# sns.histplot(data=plot_data, x='STU', ax=axs[1,0], color='blue', stat='probability').set(xlabel='Are you a student?',ylabel='proportion')\n",
    "# sns.histplot(data=pd.DataFrame(plot_data['INC'].dropna()), x='INC', ax=axs[1,1], color='green', stat='probability').set(xlabel='Household Income (million LAK)',ylabel='proportion')\n",
    "plt.xticks(rotation=35, ha='right')\n",
    "plt.tight_layout()\n",
    "\n",
    "fig.savefig(file_name+\".png\", bbox_inches='tight')"
   ]
  },
  {
   "cell_type": "code",
   "execution_count": null,
   "id": "9fef8555",
   "metadata": {
    "scrolled": true
   },
   "outputs": [],
   "source": [
    "plot_data = data.copy()\n",
    "\n",
    "plot_data['NUM_VEH'] = pd.Categorical(plot_data['NUM_VEH'], ['Prefer Not to Say', '0', '1', '2', '3', '> 3'])\n",
    "plot_data['NUM_VEH_2'] = pd.Categorical(plot_data['NUM_VEH_2'], ['Prefer Not to Say', '0', '1', '2', '3', '> 3'])\n",
    "# plot_data['HHSIZE'] = pd.Categorical(plot_data['HHSIZE'], ['Prefer Not to Say', '1', '2', '3', '4', '5', '6', '7', '> 7'])\n",
    "# plot_data['drivers'] = pd.Categorical(plot_data['drivers'], ['Prefer Not to Say', '0', '1', '2', '3', '4', '> 4'])\n",
    "\n",
    "# plot_data = plot_data.groupby(['user_id']).nth(0)[['NUM_VEH','NUM_VEH_2','HHSIZE', 'drivers']].dropna() #Losing 6 users!??!?\n",
    "plot_data = plot_data.groupby(['user_id']).nth(0)[['NUM_VEH','NUM_VEH_2']].dropna() #Losing 6 users!??!?\n",
    "plot_data = plot_data.groupby(['user_id'], as_index=False).nth(0)\n",
    "\n",
    "print(len(plot_data)) #22 participants"
   ]
  },
  {
   "cell_type": "code",
   "execution_count": null,
   "id": "77e55064",
   "metadata": {
    "scrolled": true
   },
   "outputs": [],
   "source": [
    "plot_title='Participant Demographics'\n",
    "ylab='Count'\n",
    "file_name='CanBikeCO_report_demog'\n",
    "\n",
    "fig, axs = plt.subplots(2,2,figsize=(15,8))\n",
    "sns.histplot(data=plot_data, x='NUM_VEH', ax=axs[0,0], color='purple', stat='probability').set(xlabel='Number of Household Vehicles with 3 or 4 wheels',ylabel='proportion')\n",
    "sns.histplot(data=plot_data, x='NUM_VEH_2', ax=axs[0,1], color='red', stat='probability').set(xlabel='Number of Household Vehicle with 2 wheels',ylabel='proportion')\n",
    "# sns.histplot(data=pd.DataFrame(plot_data['HHSIZE'].dropna()), x='HHSIZE', ax=axs[1,0], color='blue', stat='probability').set(xlabel='Number of People in Household',ylabel='proportion')\n",
    "# sns.histplot(data=pd.DataFrame(plot_data['drivers'].dropna()), x='drivers', ax=axs[1,1], color='green', stat='probability').set(xlabel='Number of Drivers in Household',ylabel='proportion')\n",
    "plt.xticks(rotation=35, ha='right')\n",
    "plt.tight_layout()\n",
    "\n",
    "fig.savefig(file_name+\".png\", bbox_inches='tight')"
   ]
  },
  {
   "cell_type": "code",
   "execution_count": null,
   "id": "652b3cc6",
   "metadata": {
    "scrolled": true
   },
   "outputs": [],
   "source": [
    "labeled_data = data[data.mode_confirm.notna() | \n",
    "                         data.purpose_confirm.notna()]\n",
    "\n",
    "print(len(labeled_data), 'labeled trips')\n",
    "print(labeled_data.user_id_socio.nunique(), 'users who labeled')"
   ]
  },
  {
   "cell_type": "code",
   "execution_count": null,
   "id": "5a2f44b3",
   "metadata": {
    "scrolled": true
   },
   "outputs": [],
   "source": [
    "labeled_data.user_id_socio"
   ]
  },
  {
   "cell_type": "code",
   "execution_count": null,
   "id": "7c33e846",
   "metadata": {
    "scrolled": true
   },
   "outputs": [],
   "source": [
    "#gender - mode correlation\n",
    "mode_gender_data=labeled_data.copy()\n",
    "mode_gender_data = mode_gender_data[['What_is_your_gender', 'Mode_confirm', 'data.distance', 'user_id_socio']]\n",
    "mode_gender_data = mode_gender_data[mode_gender_data.Mode_confirm.notna()]\n",
    "\n",
    "print(len(mode_gender_data))\n",
    "mode_gender_data['What_is_your_gender'] = mode_gender_data['What_is_your_gender'].astype('category')\n",
    "mode_gender_data['Mode_confirm'] = mode_gender_data['Mode_confirm'].astype('category')\n",
    "\n",
    "gender_man = mode_gender_data[mode_gender_data['What_is_your_gender'] == 'man']\n",
    "print(len(gender_man))\n",
    "gender_woman = mode_gender_data[mode_gender_data['What_is_your_gender'] == 'woman']\n",
    "print(len(gender_woman))"
   ]
  },
  {
   "cell_type": "code",
   "execution_count": null,
   "id": "fd07eabe",
   "metadata": {
    "scrolled": true
   },
   "outputs": [],
   "source": [
    "unique_man_mode = gender_man.groupby(['Mode_confirm'], as_index=False).nunique()[['Mode_confirm','user_id_socio']]\n",
    "unique_woman_mode = gender_woman.groupby(['Mode_confirm'], as_index=False).nunique()[['Mode_confirm','user_id_socio']]\n",
    "\n",
    "t1 = gender_man.groupby(['Mode_confirm'], as_index=False).count()[['Mode_confirm','data.distance']]\n",
    "t1['proportion'] = t1['data.distance'] / np.sum(t1['data.distance'])\n",
    "t1['trip_type'] = 'Man'\n",
    "t1.columns = ['Mode','Count','Proportion','Gender']\n",
    "\n",
    "# processing long data\n",
    "t2 = gender_woman.groupby(['Mode_confirm'], as_index=False).count()[['Mode_confirm','data.distance']]\n",
    "t2['proportion'] = t2['data.distance'] / np.sum(t2['data.distance'])\n",
    "t2['trip_type'] = 'Woman'\n",
    "t2.columns = ['Mode','Count','Proportion','Gender']\n",
    "\n",
    "plot_data = pd.concat([t1, t2])\n",
    "plot_data = plot_data.reset_index()\n",
    "plot_data = plot_data.drop('index', axis='columns')\n",
    "\n",
    "plot_data"
   ]
  },
  {
   "cell_type": "code",
   "execution_count": null,
   "id": "802d76e1",
   "metadata": {
    "scrolled": true
   },
   "outputs": [],
   "source": [
    "unique_man_mode['gender'] = 'Man'\n",
    "unique_woman_mode['gender'] = 'Woman'\n",
    "\n",
    "data = pd.concat([unique_man_mode, unique_woman_mode])\n",
    "data = data.reset_index()\n",
    "data = data.drop('index', axis='columns')\n",
    "\n",
    "display_data = data.copy()\n",
    "display_data = display_data.set_index('Mode_confirm')\n",
    "\n",
    "data_man = display_data[display_data['gender']=='Man']\n",
    "data_man = data_man.drop('gender', axis='columns')\n",
    "data_man.columns = ['Men(users)']\n",
    "data_woman = display_data[display_data['gender']=='Woman']\n",
    "data_woman = data_woman.drop('gender', axis='columns')\n",
    "data_woman.columns = ['Women(users)']\n",
    "\n",
    "count = data_man.merge(data_woman, on='Mode_confirm')\n",
    "count['Total(users)'] = count['Men(users)'] + count['Women(users)']\n",
    "count = count.reset_index()\n",
    "count[\"Mode\"] = count[\"Mode_confirm\"]\n",
    "count = count.set_index('Mode')\n",
    "count = count.drop('Mode_confirm', axis='columns')\n",
    "\n",
    "count"
   ]
  },
  {
   "cell_type": "code",
   "execution_count": null,
   "id": "aa7c55dc",
   "metadata": {
    "scrolled": true
   },
   "outputs": [],
   "source": [
    "unique_woman_mode\n",
    "\n",
    "display_data = plot_data.copy()\n",
    "display_data = display_data.drop('Proportion', axis='columns')\n",
    "display_data = display_data.set_index('Mode')\n",
    "\n",
    "data_man = display_data[display_data['Gender']=='Man']\n",
    "data_man = data_man.drop('Gender', axis='columns')\n",
    "data_man.columns = ['Men(count)']\n",
    "data_woman = display_data[display_data['Gender']=='Woman']\n",
    "data_woman = data_woman.drop('Gender', axis='columns')\n",
    "data_woman.columns = ['Women(count)']\n",
    "\n",
    "test_data = data_man.merge(data_woman, on=\"Mode\")\n",
    "test_data = test_data.merge(count, on=\"Mode\")\n",
    "test_data['Total(count)'] = test_data['Men(count)'] + test_data['Women(count)']\n",
    "test_data = test_data.sort_values(by=\"Total(count)\", ascending=False)\n",
    "\n",
    "test_data = test_data[['Men(count)', 'Men(users)', 'Women(count)', 'Women(users)', 'Total(count)', 'Total(users)']]\n",
    "test_data\n",
    "\n",
    "# test_data_filtered = test_data[test_data['index'] == 'Motorcycle' | test_data['index'] == 'Car Drove Alone' | test_data['index'] == 'Walk' | test_data['index'] == 'Other']"
   ]
  },
  {
   "cell_type": "code",
   "execution_count": null,
   "id": "4695d035",
   "metadata": {
    "scrolled": true
   },
   "outputs": [],
   "source": [
    "def mapping_color_labels(dynamic_labels, dic_re, dic_pur):\n",
    "    if len(dynamic_labels) > 0:\n",
    "        mode_values = list(mapping_labels(dynamic_labels, \"MODE\").values()) if \"MODE\" in dynamic_labels else []\n",
    "        replaced_mode_values = list(mapping_labels(dynamic_labels, \"REPLACED_MODE\").values()) if \"REPLACED_MODE\" in dynamic_labels else []\n",
    "        purpose_values = list(mapping_labels(dynamic_labels, \"PURPOSE\").values()) if \"PURPOSE\" in dynamic_labels else []\n",
    "        combined_mode_values = mode_values + replaced_mode_values\n",
    "    else:\n",
    "        # Addition of 'Other' is required to the list since it's missing from auxillary_files/mode_labels.csv and auxillary_files/purpose_labels.csv\n",
    "        combined_mode_values = (list(OrderedDict.fromkeys(dic_re.values())) + ['Other'])\n",
    "        purpose_values = (list(OrderedDict.fromkeys(dic_pur.values())) + ['Other'])\n",
    "\n",
    "    colors_mode = dict(zip(combined_mode_values, plt.cm.tab20.colors[:len(combined_mode_values)]))\n",
    "    colors_purpose = dict(zip(purpose_values, plt.cm.tab20.colors[:len(purpose_values)]))\n",
    "\n",
    "    return colors_mode, colors_purpose"
   ]
  },
  {
   "cell_type": "code",
   "execution_count": null,
   "id": "5039fd0a",
   "metadata": {
    "scrolled": false
   },
   "outputs": [],
   "source": [
    "## code from minipilot vs full pilot regular / commute trip split -- has better labels!!\n",
    "mode_colors, purpose_colors = mapping_color_labels(dynamic_labels, mode_map, purpose_map)\n",
    "\n",
    "\n",
    "width = 0.8\n",
    "fig, ax = plt.subplots(figsize=(10, 6))\n",
    "running_total = [0,0]\n",
    "fig_data = plot_data.copy()\n",
    "\n",
    "# plt.set_cmap('tab20')\n",
    "\n",
    "for mode in pd.unique(fig_data.Mode):\n",
    "    band_data = fig_data[fig_data['Mode']==mode]\n",
    "    \n",
    "    labels = band_data['Gender']\n",
    "    vals = band_data['Proportion']*100\n",
    "    bar_labels = band_data['Count']\n",
    "    \n",
    "    vals_str = [f'{y:.1f} %\\n({x:,})' if y>10 else '' for x, y in zip(bar_labels, vals)]\n",
    "    bar = ax.barh(labels, vals, width, left=running_total, label=mode, color=mode_colors[mode])\n",
    "    ax.bar_label(bar, label_type='center', labels=vals_str, rotation=90, fontsize=18)\n",
    "    running_total[0] = running_total[0]+vals.iloc[0]\n",
    "    running_total[1] = running_total[1]+vals.iloc[1]\n",
    "\n",
    "ax.set_title('Mode Distribution', fontsize=25)\n",
    "ax.legend(bbox_to_anchor=(1,1), fancybox=True, shadow=True, fontsize=12)\n",
    "plt.subplots_adjust(bottom=0.20)\n",
    "# plt.set_cmap('tab20')\n",
    "fig.tight_layout()\n",
    "plt.show()"
   ]
  },
  {
   "cell_type": "code",
   "execution_count": null,
   "id": "fd126d43",
   "metadata": {
    "scrolled": true
   },
   "outputs": [],
   "source": [
    "##vertical chart\n",
    "\n",
    "test_data = plot_data.drop('Count', axis='columns')\n",
    "data_man = test_data[test_data['Gender']=='Man']\n",
    "data_woman = test_data[test_data['Gender']=='Woman']\n",
    "\n",
    "data_man = data_man.drop('Gender', axis='columns')\n",
    "data_man.columns = ['Mode','Man']\n",
    "data_man = data_man.set_index('Mode')\n",
    "data_man = data_man.transpose()\n",
    "\n",
    "data_woman = data_woman.drop('Gender', axis='columns')\n",
    "data_woman.columns = ['Mode','Woman']\n",
    "data_woman = data_woman.set_index('Mode')\n",
    "data_woman = data_woman.transpose()\n",
    "\n",
    "test_data = pd.concat([data_man, data_woman])\n",
    "test_data = test_data.fillna(0)\n",
    "\n",
    "\n",
    "test_data\n",
    "\n",
    "ax = test_data.plot.bar(stacked=True, \n",
    "                        title=\"Mode Share by Gender\", \n",
    "                        ylabel=\"Proportion of Total Trip Count (%)\",\n",
    "                        xlabel = \"Participant Gender\",\n",
    "                        rot = 0)\n",
    "\n",
    "for c in ax.containers:\n",
    "    labels = [f'{round(v.get_height()*100)}%' if v.get_height() > .05 else ''for v in c]\n",
    "    ax.bar_label(c, labels=labels, label_type='center')\n",
    "\n",
    "ax.set_xticklabels(test_data.index, rotation=0, ha='center')\n",
    "ax.legend(bbox_to_anchor=(1,1), fancybox=True, shadow=True, fontsize=18)\n",
    "\n",
    "ax.set_xlabel(\"Participant Gender\", fontsize = 18)\n",
    "ax.set_ylabel(\"Proportion of Total Trip Count (%)\", fontsize = 18)\n",
    "ax.set_title(\"Mode Share by Gender\", fontsize = 22)\n",
    "\n",
    "plt.savefig(\"CanBikeCO_report_age_mode_share.jpeg\", bbox_inches='tight')\n",
    "\n",
    "\n",
    "##this would be better if we also had the counts!!!"
   ]
  },
  {
   "cell_type": "code",
   "execution_count": null,
   "id": "4f009062",
   "metadata": {
    "scrolled": true
   },
   "outputs": [],
   "source": [
    "plot_data = labeled_data.copy()\n",
    "plot_data = plot_data[plot_data['data.distance']<20]\n",
    "\n",
    "plot_title = 'Mode Share by Trip Distance'\n",
    "ylab = 'Total Trips'\n",
    "file_name = \"CanBikeCO_report_mode_share_distance_short\"\n",
    "sns.histplot(plot_data, x=\"data.distance\", hue=\"mode_confirm\", element=\"poly\", multiple=\"stack\")"
   ]
  },
  {
   "cell_type": "code",
   "execution_count": null,
   "id": "2f1a0b78",
   "metadata": {
    "scrolled": true
   },
   "outputs": [],
   "source": [
    "plot_data = data.copy()\n",
    "plot_data = plot_data[plot_data['data.distance']<6]\n",
    "\n",
    "plot_title = 'Mode Share by Trip Distance'\n",
    "ylab = 'Total Trips'\n",
    "file_name = \"CanBikeCO_report_mode_share_distance_short\"\n",
    "sns.histplot(plot_data, x=\"data.distance\", hue=\"mode_confirm\", element=\"poly\", multiple=\"stack\")"
   ]
  },
  {
   "cell_type": "code",
   "execution_count": null,
   "id": "081d22a1",
   "metadata": {
    "scrolled": true
   },
   "outputs": [],
   "source": [
    "## DISTANCE BY MODE -- WANT 1 for Man and 1 for Woman!\n",
    "\n",
    "# Distribution of distances by program\n",
    "plot_data = data.copy()\n",
    "\n",
    "#get rid of planes - outliers!\n",
    "plot_data = plot_data[plot_data['mode_confirm'] != 'air']\n",
    "plot_data = plot_data[plot_data['mode_confirm'] != 'taxi']\n",
    "plot_data = plot_data[plot_data['mode_confirm'] != 'auto_rickshaw']\n",
    "\n",
    "plot_title = 'Distribution of Distances by Mode'\n",
    "ylab = 'Distance (miles)'\n",
    "\n",
    "fig, ax = plt.subplots(figsize=(10,8))\n",
    "sns.boxplot(ax=ax, data=plot_data, x='mode_confirm', y='data.distance', hue='mode_confirm', showfliers=False).set(title=plot_title, xlabel='', ylabel=ylab)\n",
    "plt.subplots_adjust(bottom=0.25)\n",
    "plt.xticks(rotation=35, ha='right')\n",
    "plt.legend([])"
   ]
  },
  {
   "cell_type": "code",
   "execution_count": null,
   "id": "795f4d02",
   "metadata": {
    "scrolled": true
   },
   "outputs": [],
   "source": [
    "#experimenting with the trajectories"
   ]
  },
  {
   "cell_type": "code",
   "execution_count": null,
   "id": "037850bf",
   "metadata": {
    "scrolled": true
   },
   "outputs": [],
   "source": [
    "print('starting with ', program)\n",
    "\n",
    "#create dataset with surveys and trips\n",
    "# print(to_data_parent + '/' + program + '_trips.csv')\n",
    "# trips = pd.read_csv(to_data_parent + '/' + program + '_trips.csv')\n",
    "# print(len(trips), 'trips')\n",
    "# print(trips.user_id.nunique(), 'people')\n",
    "\n",
    "surveys = pd.read_csv(to_data_parent + '/' + program + '_demographics.csv')\n",
    "print(len(surveys), 'surveys')\n",
    "\n",
    "trajs = pd.read_csv(to_data_parent + '/' + program + '_trajectories.csv')\n",
    "print(len(trajs), 'trajectories')\n",
    "\n",
    "#drop any null ids\n",
    "socio_data = surveys[~surveys['user_id'].isnull()]\n",
    "print(len(socio_data), 'surveys after dropping null ids')\n",
    "\n",
    "#drop duplicates\n",
    "socio_data = socio_data.sort_values(by=['user_id', 'data.ts'])\n",
    "socio_data.drop_duplicates(subset=['user_id'], keep='last', inplace=True)\n",
    "print(len(socio_data),'surveys', socio_data['user_id'].nunique(), 'users after dropping duplicates')\n",
    "\n",
    "#prepare survey ids for merging\n",
    "socio_data['user_id_socio'] = socio_data['user_id'].astype(str)\n",
    "socio_data['user_id_socio'] = socio_data['user_id_socio'].str.strip() #remove leading or trailing whitespace!!\n",
    "socio_data['user_id_socio'] = [i.replace('-','') for i in socio_data.user_id_socio]\n",
    "socio_data['user_id_socio'] = socio_data['user_id_socio']\n",
    "socio_data = socio_data.drop(labels='user_id', axis=1)\n",
    "\n",
    "# #prepare trip ids for merging\n",
    "# trips['user_id_socio'] = trips.user_id.astype(str)\n",
    "# trips['user_id_socio'] = trips['user_id_socio'].str.strip() #remove leading or trailing whitespace!!\n",
    "# trips.user_id_socio = [i.replace('-','') for i in trips.user_id_socio] # remove all dashes from strings\n",
    "\n",
    "#prepare traj ids for merging\n",
    "trajs['user_id_socio'] = trajs.user_id.astype(str)\n",
    "trajs['user_id_socio'] = trajs['user_id_socio'].str.strip() #remove leading or trailing whitespace!!\n",
    "trajs.user_id_socio = [i.replace('-','') for i in trajs.user_id_socio] # remove all dashes from strings\n",
    "\n",
    "# #merge the data\n",
    "# data = trips.merge(socio_data, on='user_id_socio')\n",
    "# print(len(data), 'trips after merging')\n",
    "# print(data.user_id_socio.nunique(), 'people after merging')\n",
    "\n",
    "#merge the trajectories\n",
    "traj_data = trajs.merge(socio_data, on='user_id_socio')\n",
    "print(len(traj_data), 'trajs after merging')\n",
    "print(traj_data.user_id_socio.nunique(), 'people after merging')\n",
    "\n",
    "traj_data['program'] = program"
   ]
  },
  {
   "cell_type": "code",
   "execution_count": null,
   "id": "199d24c1",
   "metadata": {
    "scrolled": true
   },
   "outputs": [],
   "source": [
    "traj_data.columns"
   ]
  },
  {
   "cell_type": "code",
   "execution_count": null,
   "id": "98cccb40",
   "metadata": {
    "scrolled": true
   },
   "outputs": [],
   "source": [
    "traj_data['data.distance'].max()"
   ]
  },
  {
   "cell_type": "code",
   "execution_count": null,
   "id": "c199c6c3",
   "metadata": {
    "scrolled": true
   },
   "outputs": [],
   "source": [
    "plot_data = traj_data.copy()\n",
    "plot_data = plot_data[plot_data['data.distance']<200]\n",
    "\n",
    "plot_title = 'Distribution of Distances by Mode'\n",
    "ylab = 'Distance (meters?)'\n",
    "\n",
    "fig, ax = plt.subplots(figsize=(10,8))\n",
    "sns.boxplot(ax=ax, data=plot_data, x='data.mode_str', y='data.distance', hue='data.mode_str', showfliers=False).set(title=plot_title, xlabel='', ylabel=ylab)\n",
    "plt.subplots_adjust(bottom=0.25)\n",
    "plt.xticks(rotation=35, ha='right')\n",
    "plt.legend([])\n",
    "\n",
    "#not really seeming reliable or significant ... outliers? "
   ]
  },
  {
   "cell_type": "code",
   "execution_count": null,
   "id": "a0ba507b",
   "metadata": {
    "scrolled": true
   },
   "outputs": [],
   "source": [
    "plot_data = traj_data.copy()"
   ]
  },
  {
   "cell_type": "code",
   "execution_count": null,
   "id": "76478de9",
   "metadata": {
    "scrolled": true
   },
   "outputs": [],
   "source": [
    "plot_data.columns"
   ]
  },
  {
   "cell_type": "code",
   "execution_count": null,
   "id": "2391a1ba",
   "metadata": {
    "scrolled": true
   },
   "outputs": [],
   "source": [
    "plot_data['date'] = str(plot_data['data.local_dt.year']) + str(plot_data['data.local_dt.month']) + str(plot_data['data.local_dt.day'])"
   ]
  },
  {
   "cell_type": "code",
   "execution_count": null,
   "id": "ddf1de87",
   "metadata": {
    "scrolled": true
   },
   "outputs": [],
   "source": [
    "plot_data['date'].unique()"
   ]
  },
  {
   "cell_type": "code",
   "execution_count": null,
   "id": "df454cbb",
   "metadata": {
    "scrolled": true
   },
   "outputs": [],
   "source": [
    "all_trips = scaffolding.load_all_participant_trips(program, tq, False)"
   ]
  },
  {
   "cell_type": "code",
   "execution_count": null,
   "id": "6637ecca",
   "metadata": {
    "scrolled": true
   },
   "outputs": [],
   "source": [
    "labeled_trips = all_trips[all_trips.data_user_input_mode_confirm.notna() | \n",
    "                          all_trips.data_user_input_purpose_confirm.notna() |\n",
    "                          all_trips.data_user_input_replaced_mode.notna()]"
   ]
  },
  {
   "cell_type": "code",
   "execution_count": null,
   "id": "021d74a4",
   "metadata": {
    "scrolled": true
   },
   "outputs": [],
   "source": [
    "all_user_trips = participant_ct_df.groupby(['user_id_socio'], as_index=False).count()[['user_id_socio','data_distance']]\n",
    "print(len(all_user_trips))\n",
    "# print(labeled_user_trips.program.unique())\n",
    "\n",
    "labeled_user_trips = data.groupby(['user_id_socio'], as_index=False).count()[['user_id_socio','data_distance']]\n",
    "print(len(labeled_user_trips))\n",
    "# print(labeled_user_trips.program.unique())\n",
    "\n",
    "plot_data = all_user_trips.merge(labeled_user_trips, how='right', on='user_id_socio').fillna(0)\n",
    "plot_data.head()"
   ]
  }
 ],
 "metadata": {
  "kernelspec": {
   "display_name": "Python 3 (ipykernel)",
   "language": "python",
   "name": "python3"
  },
  "language_info": {
   "codemirror_mode": {
    "name": "ipython",
    "version": 3
   },
   "file_extension": ".py",
   "mimetype": "text/x-python",
   "name": "python",
   "nbconvert_exporter": "python",
   "pygments_lexer": "ipython3",
   "version": "3.9.20"
  }
 },
 "nbformat": 4,
 "nbformat_minor": 5
}
