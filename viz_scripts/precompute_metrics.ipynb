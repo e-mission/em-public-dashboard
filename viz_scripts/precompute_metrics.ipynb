{
 "cells": [
  {
   "cell_type": "markdown",
   "id": "academic-context",
   "metadata": {},
   "source": [
    "## Precompute metrics for use in other notebooks and for aggregate metrics API"
   ]
  },
  {
   "cell_type": "markdown",
   "id": "medium-siemens",
   "metadata": {},
   "source": [
    "These are the input parameters for the notebook. They will be automatically changed when the scripts to generate monthly statistics are run. You can modify them manually to generate multiple plots locally as well.\n",
    "\n",
    "Pass in `None` to remove the filters and plot all data. This is not recommended for production settings, but might be useful for reports based on data snapshots."
   ]
  },
  {
   "cell_type": "code",
   "execution_count": null,
   "id": "narrative-hunter",
   "metadata": {},
   "outputs": [],
   "source": [
    "year = 2023\n",
    "month = 10\n",
    "program = \"default\"\n",
    "dynamic_config = {}\n",
    "study_type = \"study\"\n",
    "include_test_users = False\n",
    "labels = {}\n",
    "use_imperial = True\n",
    "sensed_algo_prefix = \"cleaned\"\n",
    "survey_info = {}"
   ]
  },
  {
   "cell_type": "code",
   "execution_count": null,
   "id": "activated-portugal",
   "metadata": {},
   "outputs": [],
   "source": [
    "import scaffolding\n",
    "import arrow\n",
    "import pymongo\n",
    "\n",
    "import emission.core.get_database as edb\n",
    "import emission.storage.timeseries.fmt_time_query as estf\n",
    "import emission.storage.decorations.analysis_timeseries_queries as esda\n",
    "import emcommon.metrics.metrics_summaries as emcms"
   ]
  },
  {
   "cell_type": "code",
   "execution_count": null,
   "id": "cc49f51a",
   "metadata": {},
   "outputs": [],
   "source": [
    "if year is None or month is None:\n",
    "    ipython = get_ipython()\n",
    "    ipython._showtraceback = scaffolding.no_traceback_handler\n",
    "    raise Exception(\"This notebook only runs when year and month are defined.\")"
   ]
  },
  {
   "cell_type": "code",
   "execution_count": null,
   "id": "05f48c83",
   "metadata": {},
   "outputs": [],
   "source": [
    "DEFAULT_METRIC_LIST = {\n",
    "    'footprint': ['mode_confirm'],\n",
    "    'distance': ['mode_confirm'],\n",
    "    'duration': ['mode_confirm'],\n",
    "    'count': ['mode_confirm'],\n",
    "}\n",
    "\n",
    "metric_list = dynamic_config.get('metrics', {}).get('phone_dashboard_ui', {}).get('metric_list', DEFAULT_METRIC_LIST)\n",
    "\n",
    "if 'label_options' not in dynamic_config:\n",
    "    DEFAULT_LABEL_OPTIONS = await emcu.read_json_resource(\"label-options.default.json\")\n",
    "    dynamic_config['label_options'] = DEFAULT_LABEL_OPTIONS"
   ]
  },
  {
   "cell_type": "code",
   "execution_count": null,
   "id": "3cf1213d",
   "metadata": {},
   "outputs": [],
   "source": [
    "tq = scaffolding.get_time_query(year, month)\n",
    "ct = esda.get_entries(esda.CONFIRMED_TRIP_KEY, None, tq)\n",
    "\n",
    "metrics = await emcms.generate_summaries(metric_list, ct, dynamic_config)\n",
    "\n",
    "agg_metrics_db = edb.get_agg_metrics_db()\n",
    "op_list = []\n",
    "skipped_count, upserted_count, modified_count = 0, 0, 0\n",
    "\n",
    "for metric_name, days in metrics.items():\n",
    "    for day in days:\n",
    "        date_str = day[\"date\"]\n",
    "        n_users = day[\"nUsers\"]\n",
    "        data_fields = {\n",
    "            k: v\n",
    "            for k, v in day.items()\n",
    "            if k not in (\"date\", \"nUsers\")\n",
    "        }\n",
    "        query = {\"date\": date_str, \"metric\": metric_name}\n",
    "\n",
    "        existing = agg_metrics_db.find_one(query)\n",
    "        needs_update = (\n",
    "            not existing or\n",
    "            existing.get(\"nUsers\") != n_users or\n",
    "            existing.get(\"data\") != data_fields\n",
    "        )\n",
    "\n",
    "        if needs_update:\n",
    "            doc = {\n",
    "                \"date\": date_str,\n",
    "                \"metric\": metric_name,\n",
    "                \"nUsers\": n_users,\n",
    "                \"data\": data_fields,\n",
    "                \"last_updated\": arrow.utcnow().datetime\n",
    "            }\n",
    "            op_list.append(pymongo.ReplaceOne(query, doc, upsert=True))\n",
    "        else:\n",
    "            skipped_count += 1\n",
    "\n",
    "if op_list:\n",
    "    result = agg_metrics_db.bulk_write(op_list)\n",
    "    upserted_count = result.upserted_count\n",
    "    modified_count = result.modified_count\n",
    "\n",
    "print(f\"Upserted {upserted_count}, modified {modified_count}, skipped {skipped_count}\")"
   ]
  }
 ],
 "metadata": {
  "kernelspec": {
   "display_name": "Python 3 (ipykernel)",
   "language": "python",
   "name": "python3"
  },
  "language_info": {
   "codemirror_mode": {
    "name": "ipython",
    "version": 3
   },
   "file_extension": ".py",
   "mimetype": "text/x-python",
   "name": "python",
   "nbconvert_exporter": "python",
   "pygments_lexer": "ipython3",
   "version": "3.9.22"
  }
 },
 "nbformat": 4,
 "nbformat_minor": 5
}
