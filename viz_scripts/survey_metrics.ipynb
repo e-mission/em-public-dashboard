{
 "cells": [
  {
   "cell_type": "markdown",
   "id": "ed6ab331",
   "metadata": {},
   "source": [
    "## Generate Static Graphs -- Metrics for Survey Deployments"
   ]
  },
  {
   "cell_type": "markdown",
   "id": "a3506947",
   "metadata": {},
   "source": [
    "These are the input parameters for the notebook. They will be automatically changed when the scripts to generate monthly statistics are run. You can modify them manually to generate multiple plots locally as well.\n",
    "\n",
    "Pass in `None` to remove the filters and plot all data. This is not recommended for production settings, but might be useful for reports based on data snapshots."
   ]
  },
  {
   "cell_type": "code",
   "execution_count": null,
   "id": "4fb04713",
   "metadata": {},
   "outputs": [],
   "source": [
    "year = 2024\n",
    "month = 11\n",
    "program = \"default\"\n",
    "study_type = \"study\"\n",
    "include_test_users = False\n",
    "labels = {}\n",
    "use_imperial = True\n",
    "sensed_algo_prefix = \"cleaned\"\n",
    "bluetooth_only = True #current proxy for fleet status\n",
    "survey_info = {}"
   ]
  },
  {
   "cell_type": "code",
   "execution_count": null,
   "id": "764463bb",
   "metadata": {},
   "outputs": [],
   "source": [
    "from collections import defaultdict\n",
    "\n",
    "import numpy as np\n",
    "import pandas as pd\n",
    "import matplotlib.pyplot as plt\n",
    "\n",
    "from plots import *\n",
    "import scaffolding\n",
    "\n",
    "sns.set_style(\"whitegrid\")\n",
    "sns.set()\n",
    "%matplotlib inline\n",
    "\n",
    "# get metric vs imperial vars\n",
    "label_units, short_label, label_units_lower, distance_col, weight_unit = scaffolding.get_units(use_imperial)\n",
    "\n",
    "# get color mappings\n",
    "colors_mode, colors_replaced, colors_purpose, colors_sensed, colors_ble  = scaffolding.mapping_color_labels() #just need sensed"
   ]
  },
  {
   "cell_type": "code",
   "execution_count": null,
   "id": "083483be",
   "metadata": {},
   "outputs": [],
   "source": [
    "# Do not run this notebook at all unless it is for a survey configuration; nbclient will run up through this cell\n",
    "if not survey_info.get('trip-labels', None) == 'ENKETO':\n",
    "    ipython = get_ipython()\n",
    "    ipython._showtraceback = scaffolding.no_traceback_handler\n",
    "    raise Exception(\"The plots in this notebook are only relevant to deployments with trip-level surveys\")"
   ]
  },
  {
   "cell_type": "markdown",
   "id": "ed44bc42",
   "metadata": {},
   "source": [
    "## Collect Data From Database"
   ]
  },
  {
   "cell_type": "code",
   "execution_count": null,
   "id": "c6805564",
   "metadata": {},
   "outputs": [],
   "source": [
    "expanded_ct_sensed, file_suffix_sensed, quality_text_sensed, debug_df_sensed = await scaffolding.load_viz_notebook_sensor_inference_data(year,\n",
    "                                                                            month,\n",
    "                                                                            program,\n",
    "                                                                            labels,\n",
    "                                                                            include_test_users,\n",
    "                                                                            sensed_algo_prefix)"
   ]
  },
  {
   "cell_type": "code",
   "execution_count": null,
   "id": "b9b54e16",
   "metadata": {},
   "outputs": [],
   "source": [
    "#if fleet, replace primary_mode with primary_ble_sensed mode\n",
    "try:\n",
    "    if bluetooth_only and 'ble_sensed_summary' in expanded_ct_sensed.columns:\n",
    "        expanded_ct_sensed = expanded_ct_sensed[expanded_ct_sensed['ble_sensed_summary'].notna()]\n",
    "        expanded_ct_sensed[\"primary_mode\"] = expanded_ct_sensed.ble_sensed_summary.apply(lambda md: max(md[\"distance\"], key=md[\"distance\"].get))\n",
    "        unique_keys = expanded_ct_sensed.groupby(\"primary_mode\").agg({distance_col: \"count\"}).index\n",
    "        print(unique_keys)\n",
    "        colors_mode, colors_replaced, colors_purpose, colors_sensed, colors_ble = scaffolding.mapping_color_labels(unique_keys)\n",
    "        colors_sensed = colors_ble\n",
    "except ValueError as e:\n",
    "    print(\"Got ValueError \", e)"
   ]
  },
  {
   "cell_type": "code",
   "execution_count": null,
   "id": "731c35e7",
   "metadata": {},
   "outputs": [],
   "source": [
    "import re\n",
    "sensed_match = re.match(r'Based on ([0-9]+) trips from ([0-9]+) (users|testers and participants)', quality_text_sensed)\n",
    "stacked_bar_quality_text_sensed = f\"{sensed_match.group(1)} trips (100%)\\n from {sensed_match.group(2)} {sensed_match.group(3)}\"\n",
    "stacked_bar_quality_text_sensed"
   ]
  },
  {
   "cell_type": "markdown",
   "id": "aa72afe9",
   "metadata": {},
   "source": [
    "## Trips - count and distance"
   ]
  },
  {
   "cell_type": "code",
   "execution_count": null,
   "id": "e3be240e",
   "metadata": {},
   "outputs": [],
   "source": [
    "file_name = f'ntrips_total_survey{file_suffix_sensed}'\n",
    "plot_title_no_quality= \"Number of trips for each mode (selected by users)\"\n",
    "\n",
    "try:\n",
    "    fig, ax = plt.subplots(nrows=2, ncols=1, figsize=(15,2*2), sharex=True)\n",
    "    # We will have text results corresponding to the axes for simplicity and consistency\n",
    "    text_results = [[\"Unmodified Alt Text\", \"Unmodified HTML\"], [\"Unmodified Alt Text\", \"Unmodified HTML\"]]\n",
    "    plot_and_text_stacked_bar_chart(expanded_ct_sensed, lambda df: df.groupby(\"primary_mode\").agg({distance_col: 'count'}).sort_values(by=distance_col, ascending=False), \n",
    "                                    \"Count of Trips\\n\"+stacked_bar_quality_text_sensed, ax[0], text_results[0], colors_sensed, debug_df_sensed)\n",
    "    plot_and_text_stacked_bar_chart(expanded_ct_sensed, lambda df: df.groupby(\"primary_mode\").agg({distance_col: 'sum'}).sort_values(by=distance_col, ascending=False), \n",
    "                                    \"Distance of Trips\\n\"+stacked_bar_quality_text_sensed, ax[1], text_results[1], colors_sensed, debug_df_sensed)\n",
    "    set_title_and_save(fig, text_results, plot_title_no_quality, file_name)\n",
    "except (AttributeError, KeyError, pd.errors.UndefinedVariableError) as e:\n",
    "    plt.clf()\n",
    "    generate_missing_plot(plot_title_no_quality, debug_df_sensed, file_name)\n",
    "    alt_text = store_alt_text_missing(debug_df_sensed, file_name, plot_title_no_quality)        \n",
    "    alt_html = store_alt_html_missing(debug_df_sensed, file_name, plot_title_no_quality)\n",
    "except Exception as e:\n",
    "    # TODO: Future cleanup can pass in just the figure and have the function choose the last axis\n",
    "    fig, ax = plt.subplots()\n",
    "    plot_and_text_error(e, ax, file_name)"
   ]
  },
  {
   "cell_type": "markdown",
   "id": "a28891cc",
   "metadata": {},
   "source": [
    "## Trips under 80%"
   ]
  },
  {
   "cell_type": "code",
   "execution_count": null,
   "id": "1beae73e",
   "metadata": {},
   "outputs": [],
   "source": [
    "file_name = f'ntrips_under80_survey{file_suffix_sensed}'\n",
    "\n",
    "try:\n",
    "    # Preprocess to find cutoff and filter below cutoff\n",
    "    # For simplicity, and to aid in comparison, we have a single cutoff based on the total number of trips\n",
    "    cutoff = expanded_ct_sensed.distance.quantile(0.8)\n",
    "    if pd.isna(cutoff):\n",
    "        cutoff = 0\n",
    "    dist_threshold = expanded_ct_sensed[distance_col].quantile(0.8).round(1)\n",
    "    dist_threshold = str(dist_threshold) \n",
    "\n",
    "    plot_title_no_quality=\"Number of trips per travel model under \" + dist_threshold + \" \" + label_units_lower\n",
    "    plot_title_no_quality=plot_title_no_quality+\"\\n[\"+dist_threshold + \" \" + label_units_lower+\" represents 80th percentile of trip length]\"\n",
    "\n",
    "    expanded_ct_sensed_u80 = expanded_ct_sensed.loc[(expanded_ct_sensed['distance'] <= cutoff)]\n",
    "    sensed_u80_quality_text = f\"{len(expanded_ct_sensed_u80)} trips ({round(len(expanded_ct_sensed_u80)/len(expanded_ct_sensed)*100)}% of all trips)\\nfrom {scaffolding.unique_users(expanded_ct_sensed_u80)} {sensed_match.group(3)}\"\n",
    "\n",
    "    # Plot entries\n",
    "    fig, ax = plt.subplots(nrows=1, ncols=1, figsize=(15,2*1), sharex=True)\n",
    "    text_results = [\"Unmodified Alt Text\", \"Unmodified HTML\"]\n",
    "    plot_and_text_stacked_bar_chart(expanded_ct_sensed_u80, lambda df: df.groupby(\"primary_mode\").agg({distance_col: 'count'}).sort_values(by=distance_col, ascending=False), \n",
    "                                    \"Sensed by OpenPATH\\n\"+sensed_u80_quality_text, ax, text_results, colors_sensed, debug_df_sensed)\n",
    "    set_title_and_save(fig, text_results, plot_title_no_quality, file_name)\n",
    "except (AttributeError, KeyError, pd.errors.UndefinedVariableError, ZeroDivisionError) as e:\n",
    "    # we can have an missing attribute error during the pre-procssing, in which case we should show the missing plot\n",
    "    # here, our pre-processing only relies on sensed data, so we use the debug_df_sensed\n",
    "    plt.clf()\n",
    "    plot_title_default = \"Number of trips below 80th percentile in each mode\"\n",
    "    generate_missing_plot(plot_title_default, debug_df_sensed, file_name)\n",
    "    alt_text = store_alt_text_missing(debug_df_sensed, file_name, plot_title_default)\n",
    "    alt_html = store_alt_html_missing(debug_df_sensed, file_name, plot_title_no_quality)\n",
    "except Exception as e:\n",
    "    fig, ax = plt.subplots()\n",
    "    plot_and_text_error(e, ax, file_name)"
   ]
  },
  {
   "cell_type": "markdown",
   "id": "b5454e0f",
   "metadata": {},
   "source": [
    "## Land mode distances"
   ]
  },
  {
   "cell_type": "code",
   "execution_count": null,
   "id": "39da6b85",
   "metadata": {},
   "outputs": [],
   "source": [
    "plot_title_no_quality= \"Total trip length (\" + label_units_lower + \") covered by each mode by land\"\n",
    "file_name =f\"total_trip_length_land_survey{file_suffix_sensed}\"\n",
    "\n",
    "try:\n",
    "    ## We do an existence check for the labeled df because we want to display the sensed value even if we don't have the labeled value\n",
    "    ## but we don't need to have an existence check for sensed because in that case we will have no data to display\n",
    "    sensed_land_trips_df = expanded_ct_sensed[expanded_ct_sensed['primary_mode'] != \"AIR_OR_HSR\"]\n",
    "    \n",
    "    sensed_land_quality_text = f\"{len(sensed_land_trips_df)} trips ({round(len(sensed_land_trips_df)/len(expanded_ct_sensed)*100)}% of all trips)\\nfrom {scaffolding.unique_users(sensed_land_trips_df)} {sensed_match.group(3)}\"\n",
    "\n",
    "    fig, ax = plt.subplots(nrows=1, ncols=1, figsize=(15,2*1), sharex=True)\n",
    "    text_results = [\"Unmodified Alt Text\", \"Unmodified HTML\"]\n",
    "    plot_and_text_stacked_bar_chart(sensed_land_trips_df, lambda df: df.groupby(\"primary_mode\").agg({distance_col: 'sum'}).sort_values(by=distance_col, ascending=False), \n",
    "                                    \"Sensed by OpenPATH\\n\"+sensed_land_quality_text, ax, text_results, colors_sensed, debug_df_sensed)\n",
    "    set_title_and_save(fig, text_results, plot_title_no_quality, file_name)    \n",
    "except (AttributeError, KeyError, pd.errors.UndefinedVariableError) as e:\n",
    "    plt.clf()\n",
    "    generate_missing_plot(plot_title_no_quality, debug_df_sensed, file_name)\n",
    "    alt_text = store_alt_text_missing(debug_df_sensed, file_name, plot_title_no_quality)        \n",
    "    alt_html = store_alt_html_missing(debug_df_sensed, file_name, plot_title_no_quality)\n",
    "except Exception as e:\n",
    "    fig, ax = plt.subplots()\n",
    "    plot_and_text_error(e, ax, file_name)"
   ]
  }
 ],
 "metadata": {
  "kernelspec": {
   "display_name": "Python 3 (ipykernel)",
   "language": "python",
   "name": "python3"
  },
  "language_info": {
   "codemirror_mode": {
    "name": "ipython",
    "version": 3
   },
   "file_extension": ".py",
   "mimetype": "text/x-python",
   "name": "python",
   "nbconvert_exporter": "python",
   "pygments_lexer": "ipython3",
   "version": "3.9.19"
  }
 },
 "nbformat": 4,
 "nbformat_minor": 5
}
