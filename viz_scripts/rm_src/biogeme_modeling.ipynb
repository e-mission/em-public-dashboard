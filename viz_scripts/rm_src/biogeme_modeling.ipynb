{
 "cells": [
  {
   "cell_type": "code",
   "execution_count": null,
   "metadata": {},
   "outputs": [],
   "source": [
    "import pandas as pd\n",
    "import biogeme.biogeme as bio\n",
    "import biogeme.database as db\n",
    "from biogeme import models\n",
    "from biogeme.expressions import Beta, DefineVariable\n",
    "from biogeme.expressions import Variable\n",
    "import numpy as np\n",
    "\n",
    "from sklearn.preprocessing import MinMaxScaler"
   ]
  },
  {
   "cell_type": "code",
   "execution_count": null,
   "metadata": {},
   "outputs": [],
   "source": [
    "data = pd.read_csv('../data/preprocessed_data.csv')"
   ]
  },
  {
   "cell_type": "code",
   "execution_count": null,
   "metadata": {},
   "outputs": [],
   "source": [
    "USER_MAP = {\n",
    "    u: i+1 for (i, u) in enumerate(data.user_id.unique())\n",
    "}\n",
    "\n",
    "# Drop section_mode_argmax and available_modes.\n",
    "data.drop(columns=[\n",
    "    'section_mode_argmax', 'available_modes', 'section_duration_argmax', 'section_distance_argmax'\n",
    "    ], inplace=True)\n",
    "\n",
    "data['user_id'] = data['user_id'].apply(lambda x: USER_MAP[x])"
   ]
  },
  {
   "cell_type": "code",
   "execution_count": null,
   "metadata": {},
   "outputs": [],
   "source": [
    "# Convert from min -> hrs\n",
    "data[[c for c in data.columns if 'tt_' in c]] /= 60.\n",
    "\n",
    "# Scale costs using StandardScaler.\n",
    "costs = data[[c for c in data.columns if 'cost_' in c]].copy()\n",
    "\n",
    "scaler = MinMaxScaler()\n",
    "cost_scaled = pd.DataFrame(scaler.fit_transform(costs), columns=['scaled_' + c for c in costs.columns], index=costs.index)\n",
    "data = data.merge(right=cost_scaled, left_index=True, right_index=True)"
   ]
  },
  {
   "cell_type": "code",
   "execution_count": null,
   "metadata": {},
   "outputs": [],
   "source": [
    "data.head()"
   ]
  },
  {
   "cell_type": "code",
   "execution_count": null,
   "metadata": {},
   "outputs": [],
   "source": [
    "# display(data[[c for c in data.columns if 'tt_' in c]].describe())\n",
    "# display(data[[c for c in data.columns if 'cost_' in c]].describe())"
   ]
  },
  {
   "cell_type": "code",
   "execution_count": null,
   "metadata": {},
   "outputs": [],
   "source": [
    "\n",
    "for c in data.columns:\n",
    "    if 'av_' in c:\n",
    "        print(f\"Feature {c} availability: {data.loc[:, c].sum()}/{data.shape[0]}\")"
   ]
  },
  {
   "cell_type": "code",
   "execution_count": null,
   "metadata": {},
   "outputs": [],
   "source": [
    "# data.drop(columns=['tt_unknown','av_unknown'], inplace=True)\n",
    "# data.drop(index=data.loc[(data.chosen == 9)].index, inplace=True)"
   ]
  },
  {
   "cell_type": "code",
   "execution_count": null,
   "metadata": {},
   "outputs": [],
   "source": [
    "database = db.Database('emission', data)"
   ]
  },
  {
   "cell_type": "code",
   "execution_count": null,
   "metadata": {},
   "outputs": [],
   "source": [
    "# Variable definitions.\n",
    "\n",
    "# ID.\n",
    "USER_ID = Variable('user_id')\n",
    "\n",
    "# Availability.\n",
    "AV_P_MICRO = Variable('av_p_micro')\n",
    "AV_NO_TRIP = Variable('av_no_trip')\n",
    "AV_S_CAR = Variable('av_s_car')\n",
    "AV_TRANSIT = Variable('av_transit')\n",
    "AV_CAR = Variable('av_car')\n",
    "AV_S_MICRO = Variable('av_s_micro')\n",
    "AV_RIDEHAIL = Variable('av_ridehail')\n",
    "AV_WALK = Variable('av_walk')\n",
    "AV_UNKNOWN = Variable('av_unknown')\n",
    "\n",
    "# Time.\n",
    "TT_P_MICRO = Variable('tt_p_micro')\n",
    "TT_NO_TRIP = Variable('tt_no_trip')\n",
    "TT_S_CAR = Variable('tt_s_car')\n",
    "TT_TRANSIT = Variable('tt_transit')\n",
    "TT_CAR = Variable('tt_car')\n",
    "TT_S_MICRO = Variable('tt_s_micro')\n",
    "TT_RIDEHAIL = Variable('tt_ridehail')\n",
    "TT_WALK = Variable('tt_walk')\n",
    "TT_UNKNOWN = Variable('tt_unknown')\n",
    "\n",
    "# Cost.\n",
    "CO_P_MICRO = Variable('scaled_cost_p_micro')\n",
    "CO_NO_TRIP = Variable('scaled_cost_no_trip')\n",
    "CO_S_CAR = Variable('scaled_cost_s_car')\n",
    "CO_TRANSIT = Variable('scaled_cost_transit')\n",
    "CO_CAR = Variable('scaled_cost_car')\n",
    "CO_S_MICRO = Variable('scaled_cost_s_micro')\n",
    "CO_RIDEHAIL = Variable('scaled_cost_ridehail')\n",
    "CO_WALK = Variable('scaled_cost_walk')\n",
    "CO_UNKNOWN = Variable('scaled_cost_unknown')\n",
    "\n",
    "# Choice.\n",
    "CHOICE = Variable('chosen')\n",
    "\n",
    "# Exclusion. Choice must not be equal to or either 2 or 9.\n",
    "EXCLUDE = (CHOICE == 2) + (CHOICE == 9) > 0\n",
    "\n",
    "database.remove(EXCLUDE)"
   ]
  },
  {
   "cell_type": "code",
   "execution_count": null,
   "metadata": {},
   "outputs": [],
   "source": [
    "# Parameters\n",
    "\n",
    "# Create a coefficient from time and set the initial value to 0. There is no lower bound for this coefficient,\n",
    "# but we would like to constrain the ceil to 0 since we want these coefficients to denote the utiltiy function.\n",
    "# Finally, we want this parameter to be updated by the optimization algorithm.\n",
    "B_TIME = Beta('B_TIME', 0, None, 0, 0)\n",
    "B_COST = Beta('B_COST', 0, None, None, 0)\n",
    "\n",
    "# Alternative-Specific Constants.\n",
    "ASC_P_MICRO = Beta('ASC_P_MICRO', 0, None, None, 0)\n",
    "ASC_NO_TRIP = Beta('ASC_NO_TRIP', 0, None, None, 0)\n",
    "ASC_S_CAR = Beta('ASC_S_CAR', 0, None, None, 0)\n",
    "ASC_TRANSIT = Beta('ASC_TRANSIT', 0, None, None, 0)\n",
    "ASC_CAR = Beta('ASC_CAR', 0, None, None, 0)\n",
    "ASC_S_MICRO = Beta('ASC_S_MICRO', 0, None, None, 0)\n",
    "ASC_RIDEHAIL = Beta('ASC_RIDEHAIL', 0, None, None, 0)\n",
    "ASC_WALK = Beta('ASC_WALK', 0, None, None, 0)\n",
    "ASC_UNKNOWN = Beta('ASC_UNKNOWN', 0, None, None, 0)"
   ]
  },
  {
   "cell_type": "code",
   "execution_count": null,
   "metadata": {},
   "outputs": [],
   "source": [
    "# Define the utility functions.\n",
    "# number of alternatives = number of UFs.\n",
    "\n",
    "# Not multiplying by cost.\n",
    "V_P_MICRO = (\n",
    "    ASC_P_MICRO +\n",
    "    B_TIME * TT_P_MICRO\n",
    "    + B_COST * CO_P_MICRO\n",
    ")\n",
    "\n",
    "V_NO_TRIP = (\n",
    "    ASC_NO_TRIP +\n",
    "    B_TIME * TT_NO_TRIP +\n",
    "    B_COST * CO_NO_TRIP\n",
    ")\n",
    "\n",
    "V_S_CAR = (\n",
    "    ASC_S_CAR +\n",
    "    B_TIME * TT_S_CAR +\n",
    "    B_COST * CO_S_CAR\n",
    ")\n",
    "\n",
    "V_TRANSIT = (\n",
    "    ASC_TRANSIT +\n",
    "    B_TIME * TT_TRANSIT +\n",
    "    B_COST * CO_TRANSIT\n",
    ")\n",
    "\n",
    "V_CAR = (\n",
    "    ASC_CAR +\n",
    "    B_TIME * TT_CAR +\n",
    "    B_COST * CO_CAR\n",
    ")\n",
    "\n",
    "V_S_MICRO = (\n",
    "    ASC_S_MICRO +\n",
    "    B_TIME * TT_S_MICRO +\n",
    "    B_COST * CO_S_MICRO\n",
    ")\n",
    "\n",
    "V_RIDEHAIL = (\n",
    "    ASC_RIDEHAIL +\n",
    "    B_TIME * TT_RIDEHAIL +\n",
    "    B_COST * CO_RIDEHAIL\n",
    ")\n",
    "\n",
    "# Cost is 0, so no point multiplying.\n",
    "V_WALK = (\n",
    "    ASC_WALK +\n",
    "    B_TIME * TT_WALK\n",
    "    + B_COST * CO_WALK\n",
    ")\n",
    "\n",
    "V_UNKNOWN = (\n",
    "    ASC_UNKNOWN +\n",
    "    B_TIME * TT_UNKNOWN +\n",
    "    B_COST * CO_UNKNOWN\n",
    ")"
   ]
  },
  {
   "cell_type": "code",
   "execution_count": null,
   "metadata": {},
   "outputs": [],
   "source": [
    "# Map alterative to utility functions.\n",
    "V = {\n",
    "    1: V_P_MICRO, \n",
    "    2: V_NO_TRIP,\n",
    "    3: V_S_CAR, \n",
    "    4: V_TRANSIT,\n",
    "    5: V_CAR, \n",
    "    6: V_S_MICRO,\n",
    "    7: V_RIDEHAIL, \n",
    "    8: V_WALK, \n",
    "    9: V_UNKNOWN\n",
    "}"
   ]
  },
  {
   "cell_type": "code",
   "execution_count": null,
   "metadata": {},
   "outputs": [],
   "source": [
    "# Availability.\n",
    "# We have already masked-off costs and times for the instances where a particular mode is not available to the user.\n",
    "# So here, we can specify the availability as 1 for every mode, saying that every other mode should be included when computing\n",
    "# the logprob for a certain mode.\n",
    "\n",
    "av = {\n",
    "    1: AV_P_MICRO,\n",
    "    2: AV_NO_TRIP,\n",
    "    3: AV_S_CAR,\n",
    "    4: AV_TRANSIT,\n",
    "    5: AV_CAR,\n",
    "    6: AV_S_MICRO,\n",
    "    7: AV_RIDEHAIL,\n",
    "    8: AV_WALK,\n",
    "    9: AV_UNKNOWN\n",
    "}"
   ]
  },
  {
   "cell_type": "code",
   "execution_count": null,
   "metadata": {},
   "outputs": [],
   "source": [
    "logprob = models.loglogit(V, av, CHOICE)"
   ]
  },
  {
   "cell_type": "code",
   "execution_count": null,
   "metadata": {},
   "outputs": [],
   "source": [
    "model = bio.BIOGEME(database, logprob)\n",
    "model.modelName = 'linearModelCostsModel'"
   ]
  },
  {
   "cell_type": "code",
   "execution_count": null,
   "metadata": {},
   "outputs": [],
   "source": [
    "results = model.estimate()"
   ]
  },
  {
   "cell_type": "code",
   "execution_count": null,
   "metadata": {},
   "outputs": [],
   "source": [
    "print(results.short_summary())"
   ]
  },
  {
   "cell_type": "code",
   "execution_count": null,
   "metadata": {},
   "outputs": [],
   "source": [
    "results.getEstimatedParameters()"
   ]
  },
  {
   "cell_type": "code",
   "execution_count": null,
   "metadata": {},
   "outputs": [],
   "source": [
    "def generate_metrics(model: bio.BIOGEME, database: db.Database, V: dict):\n",
    "    \"\"\"\n",
    "    Given a test dataframe and the trained model, generate precision, recall, F1.\n",
    "    \"\"\"\n",
    "\n",
    "    predictions = list()\n",
    "\n",
    "    for row_ix in range(data.shape[0]):\n",
    "        preds = dict()\n",
    "        for alt_id, utility in V.items():\n",
    "            preds[alt_id] = utility.getValue_c(database)\n",
    "        \n",
    "        predictions.append(preds)\n",
    "    return pd.DataFrame(predictions)"
   ]
  },
  {
   "cell_type": "code",
   "execution_count": null,
   "metadata": {},
   "outputs": [],
   "source": [
    "results.getBetaValues()"
   ]
  },
  {
   "cell_type": "code",
   "execution_count": null,
   "metadata": {},
   "outputs": [],
   "source": [
    "def get_utility_df(results, data):\n",
    "\n",
    "    '''  \n",
    "    1: V_P_MICRO, \n",
    "    2: V_NO_TRIP,\n",
    "    3: V_S_CAR, \n",
    "    4: V_TRANSIT,\n",
    "    5: V_CAR, \n",
    "    6: V_S_MICRO,\n",
    "    7: V_RIDEHAIL, \n",
    "    8: V_WALK, \n",
    "    # 9: V_UNKNOWN\n",
    "    # '''\n",
    "\n",
    "    def compute_utilities(betas, row: pd.Series):\n",
    "        data = row.to_dict()\n",
    "\n",
    "        utility_p_micro = betas['ASC_P_MICRO'] + (betas['B_TIME'] * data['tt_p_micro'])\n",
    "        utility_no_trip = betas['ASC_NO_TRIP'] + (betas['B_TIME'] * data['tt_no_trip']) + (betas['B_COST'] * data['scaled_cost_no_trip'])\n",
    "        utility_s_car = betas['ASC_S_CAR'] + (betas['B_COST'] * data['scaled_cost_s_car']) + (betas['B_TIME'] * data['tt_s_car'])\n",
    "        utility_transit = betas['ASC_TRANSIT'] + (betas['B_COST'] * data['scaled_cost_transit']) + (betas['B_TIME'] * data['tt_transit'])\n",
    "        utility_car = betas['ASC_CAR'] + (betas['B_COST'] * data['scaled_cost_car'] + (betas['B_TIME'] * data['tt_car']))\n",
    "        utility_s_micro = betas['ASC_S_MICRO'] + (betas['B_COST'] * data['scaled_cost_s_micro']) + (betas['B_TIME'] * data['tt_s_micro'])\n",
    "        utility_ridehail = betas['ASC_RIDEHAIL'] + (betas['B_COST'] * data['scaled_cost_ridehail']) + (betas['B_TIME'] * data['tt_ridehail'])\n",
    "        utility_walk = betas['ASC_WALK'] + (betas['B_TIME'] * data['tt_walk'])\n",
    "        utility_unknown = betas['ASC_UNKNOWN'] + (betas['B_TIME'] * data['tt_unknown']) + (betas['B_COST'] * data['scaled_cost_unknown'])\n",
    "\n",
    "        return {\n",
    "            'utility_p_micro': utility_p_micro, 'utility_no_trip': utility_no_trip,\n",
    "            'utility_s_car': utility_s_car, 'utility_transit': utility_transit,\n",
    "            'utility_car': utility_car, 'utility_s_micro': utility_s_micro,\n",
    "            'utility_ridehail': utility_ridehail, 'utility_walk': utility_walk, \n",
    "            'utility_unknown': utility_unknown, \n",
    "        }\n",
    "    \n",
    "    betas = results.getBetaValues()\n",
    "\n",
    "    u_data = data.apply(lambda x: compute_utilities(betas, x), axis=1).tolist()\n",
    "    return pd.DataFrame(u_data)"
   ]
  },
  {
   "cell_type": "code",
   "execution_count": null,
   "metadata": {},
   "outputs": [],
   "source": [
    "u_df = get_utility_df(results, database.fullData)"
   ]
  },
  {
   "cell_type": "code",
   "execution_count": null,
   "metadata": {},
   "outputs": [],
   "source": [
    "u_np = u_df.values\n",
    "choice_df = np.exp(u_np)/np.sum(np.exp(u_np), axis=1, keepdims=True)\n",
    "\n",
    "choice_df = pd.DataFrame(choice_df, columns=u_df.columns)\n",
    "display(choice_df.head())"
   ]
  },
  {
   "cell_type": "code",
   "execution_count": null,
   "metadata": {},
   "outputs": [],
   "source": [
    "from sklearn.metrics import f1_score\n",
    "\n",
    "y_pred = np.argmax(choice_df.values, axis=1) + 1\n",
    "\n",
    "print(np.unique(y_pred))"
   ]
  },
  {
   "cell_type": "code",
   "execution_count": null,
   "metadata": {},
   "outputs": [],
   "source": [
    "pd.Series(y_pred).hist()"
   ]
  },
  {
   "cell_type": "code",
   "execution_count": null,
   "metadata": {},
   "outputs": [],
   "source": [
    "# labels are 1-9\n",
    "y_true = data.chosen\n",
    "\n",
    "pd.Series(y_true).hist()"
   ]
  },
  {
   "cell_type": "code",
   "execution_count": null,
   "metadata": {},
   "outputs": [],
   "source": [
    "score = f1_score(y_true, y_pred, average='weighted')\n",
    "print(score)"
   ]
  },
  {
   "cell_type": "code",
   "execution_count": null,
   "metadata": {},
   "outputs": [],
   "source": []
  }
 ],
 "metadata": {
  "interpreter": {
   "hash": "ab0c6e94c9422d07d42069ec9e3bb23090f5e156fc0e23cc25ca45a62375bf53"
  },
  "kernelspec": {
   "display_name": "Python 3.9.16 ('emission')",
   "language": "python",
   "name": "python3"
  },
  "language_info": {
   "codemirror_mode": {
    "name": "ipython",
    "version": 3
   },
   "file_extension": ".py",
   "mimetype": "text/x-python",
   "name": "python",
   "nbconvert_exporter": "python",
   "pygments_lexer": "ipython3",
   "version": "3.9.16"
  },
  "orig_nbformat": 4
 },
 "nbformat": 4,
 "nbformat_minor": 2
}
