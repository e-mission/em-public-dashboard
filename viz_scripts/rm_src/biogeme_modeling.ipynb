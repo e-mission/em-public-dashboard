{
 "cells": [
  {
   "cell_type": "code",
   "execution_count": null,
   "metadata": {},
   "outputs": [],
   "source": [
    "import pandas as pd\n",
    "import biogeme.biogeme as bio\n",
    "import biogeme.database as db\n",
    "from biogeme import models\n",
    "from biogeme.expressions import Beta\n",
    "from biogeme.expressions import Variable\n",
    "import numpy as np"
   ]
  },
  {
   "cell_type": "code",
   "execution_count": null,
   "metadata": {},
   "outputs": [],
   "source": [
    "data = pd.read_csv('../data/preprocessed_data.csv')"
   ]
  },
  {
   "cell_type": "code",
   "execution_count": null,
   "metadata": {},
   "outputs": [],
   "source": [
    "USER_MAP = {\n",
    "    u: i+1 for (i, u) in enumerate(data.user_id.unique())\n",
    "}\n",
    "\n",
    "# Drop section_mode_argmax and available_modes.\n",
    "data.drop(columns=[\n",
    "    'section_mode_argmax', 'available_modes', 'section_distance_argmax', 'section_duration_argmax'\n",
    "    ], inplace=True)\n",
    "\n",
    "data['user_id'] = data['user_id'].apply(lambda x: USER_MAP[x])"
   ]
  },
  {
   "cell_type": "code",
   "execution_count": null,
   "metadata": {},
   "outputs": [],
   "source": [
    "# Convert from min -> hrs\n",
    "data[[c for c in data.columns if 'tt_' in c]] /= 60."
   ]
  },
  {
   "cell_type": "code",
   "execution_count": null,
   "metadata": {},
   "outputs": [],
   "source": [
    "# Scale currency by 1/10.\n",
    "data[[c for c in data.columns if 'cost_' in c]] /= 10."
   ]
  },
  {
   "cell_type": "code",
   "execution_count": null,
   "metadata": {},
   "outputs": [],
   "source": [
    "display(data[[c for c in data.columns if 'tt_' in c]].describe())\n",
    "display(data[[c for c in data.columns if 'cost_' in c]].describe())"
   ]
  },
  {
   "cell_type": "code",
   "execution_count": null,
   "metadata": {},
   "outputs": [],
   "source": [
    "\n",
    "for c in data.columns:\n",
    "    if 'av_' in c:\n",
    "        print(f\"Feature {c} availability: {data.loc[:, c].sum()}/{data.shape[0]}\")"
   ]
  },
  {
   "cell_type": "code",
   "execution_count": null,
   "metadata": {},
   "outputs": [],
   "source": [
    "# data.drop(columns=['tt_unknown','av_unknown'], inplace=True)\n",
    "# data.drop(index=data.loc[(data.chosen == 9)].index, inplace=True)"
   ]
  },
  {
   "cell_type": "code",
   "execution_count": null,
   "metadata": {},
   "outputs": [],
   "source": [
    "database = db.Database('emission', data)"
   ]
  },
  {
   "cell_type": "code",
   "execution_count": null,
   "metadata": {},
   "outputs": [],
   "source": [
    "# Variable definitions.\n",
    "\n",
    "# ID.\n",
    "USER_ID = Variable('user_id')\n",
    "\n",
    "# Availability.\n",
    "AV_P_MICRO = Variable('av_p_micro')\n",
    "AV_NO_TRIP = Variable('av_no_trip')\n",
    "AV_S_CAR = Variable('av_s_car')\n",
    "AV_TRANSIT = Variable('av_transit')\n",
    "AV_CAR = Variable('av_car')\n",
    "AV_S_MICRO = Variable('av_s_micro')\n",
    "AV_RIDEHAIL = Variable('av_ridehail')\n",
    "AV_WALK = Variable('av_walk')\n",
    "AV_UNKNOWN = Variable('av_unknown')\n",
    "\n",
    "# Time.\n",
    "TT_P_MICRO = Variable('tt_p_micro')\n",
    "TT_NO_TRIP = Variable('tt_no_trip')\n",
    "TT_S_CAR = Variable('tt_s_car')\n",
    "TT_TRANSIT = Variable('tt_transit')\n",
    "TT_CAR = Variable('tt_car')\n",
    "TT_S_MICRO = Variable('tt_s_micro')\n",
    "TT_RIDEHAIL = Variable('tt_ridehail')\n",
    "TT_WALK = Variable('tt_walk')\n",
    "TT_UNKNOWN = Variable('tt_unknown')\n",
    "\n",
    "# Cost.\n",
    "CO_P_MICRO = Variable('cost_p_micro')\n",
    "CO_NO_TRIP = Variable('cost_no_trip')\n",
    "CO_S_CAR = Variable('cost_s_car')\n",
    "CO_TRANSIT = Variable('cost_transit')\n",
    "CO_CAR = Variable('cost_car')\n",
    "CO_S_MICRO = Variable('cost_s_micro')\n",
    "CO_RIDEHAIL = Variable('cost_ridehail')\n",
    "CO_WALK = Variable('cost_walk')\n",
    "CO_UNKNOWN = Variable('cost_unknown')\n",
    "\n",
    "# Choice.\n",
    "CHOICE = Variable('chosen')"
   ]
  },
  {
   "cell_type": "code",
   "execution_count": null,
   "metadata": {},
   "outputs": [],
   "source": [
    "# Parameters\n",
    "\n",
    "# Create a coefficient from time and set the initial value to 0. There is no lower bound for this coefficient,\n",
    "# but we would like to constrain the ceil to 0 since we want these coefficients to denote the utiltiy function.\n",
    "# Finally, we want this parameter to be updated by the optimization algorithm.\n",
    "B_TIME = Beta('B_TIME', 0, None, 0, 0)\n",
    "B_COST = Beta('B_COST', 0, None, 0, 0)\n",
    "\n",
    "# Alternative-Specific Constants.\n",
    "ASC_P_MICRO = Beta('ASC_P_MICRO', 0, None, None, 0)\n",
    "ASC_NO_TRIP = Beta('ASC_NO_TRIP', 0, None, None, 1)\n",
    "ASC_S_CAR = Beta('ASC_S_CAR', 0, None, None, 0)\n",
    "ASC_TRANSIT = Beta('ASC_TRANSIT', 0, None, None, 0)\n",
    "ASC_CAR = Beta('ASC_CAR', 0, None, None, 0)\n",
    "ASC_S_MICRO = Beta('ASC_S_MICRO', 0, None, None, 0)\n",
    "ASC_RIDEHAIL = Beta('ASC_RIDEHAIL', 0, None, None, 0)\n",
    "ASC_WALK = Beta('ASC_WALK', 0, None, None, 0)\n",
    "ASC_UNKNOWN = Beta('ASC_UNKNOWN', 0, None, None, 1)"
   ]
  },
  {
   "cell_type": "code",
   "execution_count": null,
   "metadata": {},
   "outputs": [],
   "source": [
    "# Define the utility functions.\n",
    "# number of alternatives = number of UFs.\n",
    "\n",
    "V_P_MICRO = (\n",
    "    ASC_P_MICRO +\n",
    "    B_TIME * TT_P_MICRO +\n",
    "    B_COST * CO_P_MICRO\n",
    ")\n",
    "\n",
    "V_NO_TRIP = (\n",
    "    ASC_NO_TRIP +\n",
    "    B_TIME * TT_NO_TRIP +\n",
    "    B_COST * CO_NO_TRIP\n",
    ")\n",
    "\n",
    "V_S_CAR = (\n",
    "    ASC_CAR +\n",
    "    B_TIME * TT_CAR +\n",
    "    B_COST * CO_CAR\n",
    ")\n",
    "\n",
    "V_TRANSIT = (\n",
    "    ASC_TRANSIT +\n",
    "    B_TIME * TT_TRANSIT +\n",
    "    B_COST * CO_TRANSIT\n",
    ")\n",
    "\n",
    "V_CAR = (\n",
    "    ASC_CAR +\n",
    "    B_TIME * TT_CAR +\n",
    "    B_COST * CO_CAR\n",
    ")\n",
    "\n",
    "V_S_MICRO = (\n",
    "    ASC_S_MICRO +\n",
    "    B_TIME * TT_S_MICRO +\n",
    "    B_COST * CO_S_MICRO\n",
    ")\n",
    "\n",
    "V_RIDEHAIL = (\n",
    "    ASC_RIDEHAIL +\n",
    "    B_TIME * TT_RIDEHAIL +\n",
    "    B_COST * CO_RIDEHAIL\n",
    ")\n",
    "\n",
    "V_WALK = (\n",
    "    ASC_WALK +\n",
    "    B_TIME * TT_WALK +\n",
    "    B_COST * CO_WALK\n",
    ")\n",
    "\n",
    "V_UNKNOWN = (\n",
    "    ASC_UNKNOWN +\n",
    "    B_TIME * TT_UNKNOWN +\n",
    "    B_COST * CO_UNKNOWN\n",
    ")"
   ]
  },
  {
   "cell_type": "code",
   "execution_count": null,
   "metadata": {},
   "outputs": [],
   "source": [
    "# Map alterative to utility functions.\n",
    "V = {\n",
    "    1: V_P_MICRO, \n",
    "    2: V_NO_TRIP,\n",
    "    3: V_S_CAR, \n",
    "    4: V_TRANSIT,\n",
    "    5: V_CAR, \n",
    "    6: V_S_MICRO,\n",
    "    7: V_RIDEHAIL, \n",
    "    8: V_WALK, \n",
    "    9: V_UNKNOWN\n",
    "}"
   ]
  },
  {
   "cell_type": "code",
   "execution_count": null,
   "metadata": {},
   "outputs": [],
   "source": [
    "# Availability.\n",
    "# We have already masked-off costs and times for the instances where a particular mode is not available to the user.\n",
    "# So here, we can specify the availability as 1 for every mode, saying that every other mode should be included when computing\n",
    "# the logprob for a certain mode.\n",
    "\n",
    "av = {\n",
    "    1: AV_P_MICRO,\n",
    "    2: AV_NO_TRIP,\n",
    "    3: AV_S_CAR,\n",
    "    4: AV_TRANSIT,\n",
    "    5: AV_CAR,\n",
    "    6: AV_S_MICRO,\n",
    "    7: AV_RIDEHAIL,\n",
    "    8: AV_WALK,\n",
    "    9: AV_UNKNOWN\n",
    "}"
   ]
  },
  {
   "cell_type": "code",
   "execution_count": null,
   "metadata": {},
   "outputs": [],
   "source": [
    "logprob = models.loglogit(V, av, CHOICE)"
   ]
  },
  {
   "cell_type": "code",
   "execution_count": null,
   "metadata": {},
   "outputs": [],
   "source": [
    "model = bio.BIOGEME(database, logprob)\n",
    "model.modelName = 'noMaskNoTrip'"
   ]
  },
  {
   "cell_type": "code",
   "execution_count": null,
   "metadata": {},
   "outputs": [],
   "source": [
    "results = model.estimate()"
   ]
  },
  {
   "cell_type": "code",
   "execution_count": null,
   "metadata": {},
   "outputs": [],
   "source": [
    "print(results.short_summary())"
   ]
  },
  {
   "cell_type": "code",
   "execution_count": null,
   "metadata": {},
   "outputs": [],
   "source": [
    "results.getEstimatedParameters()"
   ]
  },
  {
   "cell_type": "code",
   "execution_count": null,
   "metadata": {},
   "outputs": [],
   "source": [
    "results.getCorrelationResults()"
   ]
  },
  {
   "cell_type": "code",
   "execution_count": null,
   "metadata": {},
   "outputs": [],
   "source": [
    "def generate_metrics(model: bio.BIOGEME, data: pd.DataFrame):\n",
    "    \"\"\"\n",
    "    Given a test dataframe and the trained model, generate precision, recall, F1.\n",
    "    \"\"\"\n",
    "\n",
    "    pass"
   ]
  }
 ],
 "metadata": {
  "interpreter": {
   "hash": "ab0c6e94c9422d07d42069ec9e3bb23090f5e156fc0e23cc25ca45a62375bf53"
  },
  "kernelspec": {
   "display_name": "Python 3.9.16 ('emission')",
   "language": "python",
   "name": "python3"
  },
  "language_info": {
   "codemirror_mode": {
    "name": "ipython",
    "version": 3
   },
   "file_extension": ".py",
   "mimetype": "text/x-python",
   "name": "python",
   "nbconvert_exporter": "python",
   "pygments_lexer": "ipython3",
   "version": "3.9.16"
  },
  "orig_nbformat": 4
 },
 "nbformat": 4,
 "nbformat_minor": 2
}
