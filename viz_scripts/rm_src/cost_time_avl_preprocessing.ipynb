{
 "cells": [
  {
   "cell_type": "code",
   "execution_count": null,
   "metadata": {},
   "outputs": [],
   "source": [
    "import pandas as pd\n",
    "import numpy as np\n",
    "import matplotlib.pyplot as plt\n",
    "import seaborn as sns\n",
    "import ast\n",
    "import geopandas as gpd\n",
    "from traceback import print_exception\n",
    "\n",
    "%matplotlib inline"
   ]
  },
  {
   "cell_type": "markdown",
   "metadata": {},
   "source": [
    "# Sections\n",
    "\n",
    "### 0: Refer to the mnl_exploration.ipynb notebook for specifics about user-level preprocessing\n",
    "### 1. Creating the dummy variables for the available modes\n",
    "### 2. Creating trip-specific variables for each available mode (cost and time)\n",
    "### 3. ??"
   ]
  },
  {
   "cell_type": "code",
   "execution_count": null,
   "metadata": {},
   "outputs": [],
   "source": [
    "# Data loading. Refer to the mnl_exploration.ipynb file for details on how user-level features are generated.\n",
    "\n",
    "df = pd.read_csv('../data/modeling_w_duration.csv')"
   ]
  },
  {
   "cell_type": "code",
   "execution_count": null,
   "metadata": {},
   "outputs": [],
   "source": [
    "df.drop_duplicates(inplace=True)"
   ]
  },
  {
   "cell_type": "markdown",
   "metadata": {},
   "source": [
    "### Creating the dummy variables for the available modes"
   ]
  },
  {
   "cell_type": "code",
   "execution_count": null,
   "metadata": {},
   "outputs": [],
   "source": [
    "def compute_argmax(df: pd.DataFrame):\n",
    "    # Create the two columns.\n",
    "    df[['section_distance_argmax', 'section_duration_argmax', 'section_mode_argmax', 'section_coordinates_argmax']] = None\n",
    "    rows = list()\n",
    "\n",
    "    for ix, row in df.iterrows():\n",
    "        row_dict = row.to_dict()\n",
    "        \n",
    "        try:\n",
    "            parsed_distances = ast.literal_eval(row_dict['section_distances'])\n",
    "            parsed_durations = ast.literal_eval(row_dict['section_durations'])\n",
    "            parsed_modes = ast.literal_eval(row_dict['section_modes'])\n",
    "\n",
    "            argmax_ix = np.argmax(parsed_distances)\n",
    "\n",
    "            row_dict['section_distance_argmax'] = parsed_distances[argmax_ix] * 0.0006213712        # Pick the argmax and scale to miles.\n",
    "            row_dict['section_duration_argmax'] = parsed_durations[argmax_ix] / 60                  # Pick the argmax and scale to minutes.\n",
    "            row_dict['section_mode_argmax'] = parsed_modes[argmax_ix]\n",
    "            \n",
    "            row_dict['mark'] = False\n",
    "\n",
    "        except Exception as e:\n",
    "            row_dict['mark'] = True\n",
    "\n",
    "        rows.append(row_dict)\n",
    "\n",
    "    return pd.DataFrame(rows)"
   ]
  },
  {
   "cell_type": "code",
   "execution_count": null,
   "metadata": {},
   "outputs": [],
   "source": [
    "# Let's plot the mode-wise durations as a function of distance.\n",
    "df_modded = compute_argmax(df)"
   ]
  },
  {
   "cell_type": "code",
   "execution_count": null,
   "metadata": {},
   "outputs": [],
   "source": [
    "df_modded = df_modded.loc[~df_modded.mark, :].reset_index(drop=True, inplace=False).drop(columns=['mark'], inplace=False)"
   ]
  },
  {
   "cell_type": "markdown",
   "metadata": {},
   "source": [
    "Intercept and coefficient values for determining the duration from distance (Obtained from time_distance_estimation.ipynb):\n",
    "\n",
    "```\n",
    "Format:\n",
    "-> mode train_r2 test_r2\n",
    "-> intercept: x, coefficient: y\n",
    "\n",
    "\n",
    "walking 0.24312136039586707 0.5572752052765471\n",
    "intercept:  14.09698152519682 coeff:  19.153802211061134\n",
    "bicycling 0.5986205637411164 0.646267142326254\n",
    "intercept:  4.753590860550791 coeff:  4.2723965916811935\n",
    "car 0.45228118668156203 0.6040302860034135\n",
    "intercept:  10.515751350707365 coeff:  1.112111276629702\n",
    "no_sensed 0.5188696686147352 0.5028191556675814\n",
    "intercept:  9.423026094931313 coeff:  2.640429444466706\n",
    "public_transport 0.47377939742617625 0.5916737429017003\n",
    "intercept:  7.5000351741492395 coeff:  1.839562017986485\n",
    "```"
   ]
  },
  {
   "cell_type": "code",
   "execution_count": null,
   "metadata": {},
   "outputs": [],
   "source": [
    "df_modded['no_trip'] = df_modded.apply(\n",
    "    lambda x: 'Do not have vehicle' in x.available_modes or 'None' in x.available_modes, axis=1\n",
    ")"
   ]
  },
  {
   "cell_type": "code",
   "execution_count": null,
   "metadata": {},
   "outputs": [],
   "source": [
    "no_sensed = df_modded.apply(\n",
    "    lambda x: 'no_sensed' == x.section_mode_argmax, axis=1\n",
    ")\n",
    "\n",
    "n, d = no_sensed[no_sensed == True].shape[0], no_sensed.shape[0]\n",
    "print(n, d)\n",
    "print((n/d)*100.)"
   ]
  },
  {
   "cell_type": "code",
   "execution_count": null,
   "metadata": {},
   "outputs": [],
   "source": [
    "n = df_modded.loc[df_modded.no_trip, :].shape[0]\n",
    "d = df_modded.shape[0]\n",
    "print(n, d)\n",
    "print((n/d) * 100.)"
   ]
  },
  {
   "cell_type": "code",
   "execution_count": null,
   "metadata": {},
   "outputs": [],
   "source": [
    "def generate_available_features(df: pd.DataFrame, available_mode_map: dict, section_mode_map: dict, ordinal_mapper: dict):\n",
    "    \"\"\"\n",
    "    This method generates the wide-form dummy features for available modes.\n",
    "    The current implementation uses (section_mode_argmax OR available_modes) to indicate mode availability.\n",
    "    \"\"\"\n",
    "\n",
    "    # Reset indices.\n",
    "    df = df.reset_index(drop=True, inplace=False)\n",
    "\n",
    "    columns = list(available_mode_map.values()) + ['unknown']\n",
    "\n",
    "    # Create the columns along with the 'chosen' column.\n",
    "    df[columns + ['chosen']] = 0\n",
    "\n",
    "    row_dicts = list()\n",
    "\n",
    "    for _, row in df.iterrows():\n",
    "        row_dict = row.to_dict()\n",
    "\n",
    "        # Access the available modes. Split on ; and strip all the elements.\n",
    "        available_modes = [x.strip() for x in str(row_dict['available_modes']).split(';')]\n",
    "\n",
    "        # Update the available modes.\n",
    "        for available_mode in available_modes:\n",
    "            row_dict[available_mode_map[available_mode]] = 1\n",
    "        \n",
    "        # Now, look at the section_mode_argmax as a proxy for the confirmed mode.\n",
    "        chosen_modes = section_mode_map[row_dict['section_mode_argmax']]\n",
    "\n",
    "        # Determine the length of the mapping.\n",
    "        n = len(chosen_modes)\n",
    "\n",
    "        # Go ahead and modify the current dict with the first value.\n",
    "        row_dict['chosen'] = ordinal_mapper[chosen_modes[0]]\n",
    "        row_dict['primary_mode'] = 1\n",
    "\n",
    "        # Also update the available modes.\n",
    "        for chosen_mode in chosen_modes:\n",
    "            row_dict[chosen_mode] = 1\n",
    "        \n",
    "        # Append thee first row to the list.\n",
    "        row_dicts.append(row_dict)\n",
    "        \n",
    "    constructed = pd.DataFrame(row_dicts)\n",
    "    constructed.rename(columns=dict([(c, 'av_'+c) for c in ordinal_mapper.keys()]), inplace=True)\n",
    "\n",
    "    return constructed"
   ]
  },
  {
   "cell_type": "code",
   "execution_count": null,
   "metadata": {},
   "outputs": [],
   "source": [
    "## Define the mapping strategy\n",
    "\n",
    "available = {\n",
    "    'Bicycle': 'p_micro',\n",
    "    'Do not have vehicle': 'no_trip',\n",
    "    'Get a ride from a friend or family member': 's_car',\n",
    "    'None': 'no_trip',\n",
    "    'Public transportation (bus, subway, light rail, etc.)': 'transit',\n",
    "    'Rental car (including Zipcar/ Car2Go)': 'car',\n",
    "    'Shared bicycle or scooter': 's_micro',\n",
    "    'Skateboard': 'p_micro',\n",
    "    'Taxi (regular taxi, Uber, Lyft, etc)': 'ridehail',\n",
    "    'Walk/roll': 'walk'\n",
    "}\n",
    "\n",
    "# Map each sensed mode to the binary indicators.\n",
    "section_mode_mapping = {\n",
    "    'bicycling': ['p_micro', 's_micro'],\n",
    "    'bus': ['transit'],\n",
    "    'car': ['s_car', 'car', 'ridehail'],\n",
    "    'no_sensed': ['unknown'],\n",
    "    'train': ['transit'],\n",
    "    'walking': ['walk']\n",
    "}\n",
    "\n",
    "# These values were obtained using a simple linear regression model. Specifics can be found in time_distance_estimation.ipynb\n",
    "duration_dict = {\n",
    "    'walk': {\n",
    "        'intercept': 14.09698152519682,\n",
    "        'coef':  19.153802211061134\n",
    "    },\n",
    "    'p_micro': {\n",
    "        'intercept':  4.753590860550791,\n",
    "        'coef':  4.2723965916811935\n",
    "    },\n",
    "    's_micro': {\n",
    "        'intercept':  4.753590860550791,\n",
    "        'coef':  4.2723965916811935\n",
    "    },\n",
    "    's_car': {\n",
    "        'intercept':  10.515751350707365, \n",
    "        'coef':  1.112111276629702\n",
    "    },\n",
    "    'car': {\n",
    "        'intercept':  10.515751350707365, \n",
    "        'coef':  1.112111276629702\n",
    "    },\n",
    "    'ridehail': {\n",
    "        'intercept':  10.515751350707365, \n",
    "        'coef':  1.112111276629702\n",
    "    },\n",
    "    'transit': {\n",
    "        'intercept':  7.5000351741492395,\n",
    "        'coef':  1.839562017986485\n",
    "    },\n",
    "    'unknown': {\n",
    "        'intercept':  9.423026094931313,\n",
    "        'coef':  2.640429444466706\n",
    "    },\n",
    "    'no_trip': {\n",
    "        'intercept': 0.,\n",
    "        'coef': 0.\n",
    "    }\n",
    "}\n",
    "\n",
    "ordinal_mapping = {'p_micro': 1, 'no_trip': 2, 's_car': 3, 'transit': 4, 'car': 5, 's_micro': 6, 'ridehail': 7, 'walk': 8, 'unknown': 9}\n",
    "reverse_ordinal_mapping = {v:k for k,v in ordinal_mapping.items()}\n",
    "\n",
    "print(ordinal_mapping)"
   ]
  },
  {
   "cell_type": "code",
   "execution_count": null,
   "metadata": {},
   "outputs": [],
   "source": [
    "# Let's only select data that we require and copy it into a separate df.\n",
    "av_df = df_modded[['user_id', 'section_distance_argmax', 'section_duration_argmax', 'section_mode_argmax', 'available_modes']].copy()\n",
    "\n",
    "# Update the same df.\n",
    "av_df = generate_available_features(av_df, available, section_mode_mapping, ordinal_mapping)"
   ]
  },
  {
   "cell_type": "code",
   "execution_count": null,
   "metadata": {},
   "outputs": [],
   "source": [
    "av_df.head(10)"
   ]
  },
  {
   "cell_type": "code",
   "execution_count": null,
   "metadata": {},
   "outputs": [],
   "source": [
    "def compute_alt_durations(df: pd.DataFrame, reverse_mapper: dict, duration_mapper: dict):\n",
    "    '''\n",
    "    We re-iterate over the generated available mode df and populate the modes.\n",
    "    We are only concerned with the rows that have primary_mode = 0, which indicates that they are alternate mode rows.\n",
    "    This method uses the intercept and coefficients obtained from the regression models.\n",
    "    '''\n",
    "\n",
    "    column_names = list(reverse_mapper.values())\n",
    "\n",
    "    # Start with a 0 cost for everyone.\n",
    "    df[column_names] = 0\n",
    "\n",
    "    rows = list()\n",
    "    for ix, row in df.iterrows():\n",
    "        \n",
    "        # Convert to a dict\n",
    "        row_dict = row.to_dict()\n",
    "\n",
    "        for mode in column_names:\n",
    "            if mode == reverse_mapper[row['chosen']]:\n",
    "                row_dict[mode] = row_dict['section_distance_argmax']\n",
    "                continue\n",
    "            \n",
    "            mode_params = duration_mapper[mode]\n",
    "            # use availability as a mask.\n",
    "            row_dict[mode] = row_dict['av_' + mode] * (mode_params['intercept'] + (mode_params['coef'] * row_dict['section_distance_argmax']))\n",
    "        \n",
    "        rows.append(row_dict)\n",
    "    \n",
    "    return pd.DataFrame(rows).rename(columns=dict([(c, 'tt_'+c) for c in column_names]), inplace=False)"
   ]
  },
  {
   "cell_type": "code",
   "execution_count": null,
   "metadata": {},
   "outputs": [],
   "source": [
    "def compute_durations_using_data(df: pd.DataFrame, section_mapper: dict, reverse_ordinal_mapping: dict):\n",
    "    \"\"\"\n",
    "    Function to perform imputation using historical averages. Instead of estimating mode duration from mode distance, we simply\n",
    "    impute it using the mean of the particular mode's historical duration.\n",
    "    \"\"\"\n",
    "\n",
    "    # First, using the history, generate the average durations calculated per mode.\n",
    "    duration_dict = df.groupby('section_mode_argmax')['section_duration_argmax'].mean().to_dict()\n",
    "\n",
    "    extended_dict = dict()\n",
    "    for k, v in duration_dict.items():\n",
    "        mapped_sections = section_mapper[k]\n",
    "        for _k in mapped_sections:\n",
    "            extended_dict[_k] = v\n",
    "\n",
    "    # Manually add one more.\n",
    "    extended_dict['no_trip'] = 0.\n",
    "\n",
    "    print(extended_dict)\n",
    "\n",
    "    # NOW, we iterate over the dataframe.\n",
    "    new_columns = list(reverse_ordinal_mapping.values())\n",
    "\n",
    "    # Create and init to 0.\n",
    "    df[new_columns] = 0.\n",
    "\n",
    "    rows = []\n",
    "\n",
    "    for _, row in df.iterrows():\n",
    "        row_dict = row.to_dict()\n",
    "\n",
    "        # First, look at the section_mode_argmax\n",
    "        mapped_modes = section_mapper[row_dict['section_mode_argmax']]\n",
    "\n",
    "        for mode in mapped_modes:\n",
    "            section_duration = row_dict['section_duration_argmax']\n",
    "            if section_duration > 0:\n",
    "                row_dict[mode] = row_dict['section_duration_argmax']\n",
    "            else:\n",
    "                row_dict[mode] = extended_dict[mode]\n",
    "\n",
    "        # for the remaining modes, estimate their duration through the dict.\n",
    "        remaining = [mode for mode in new_columns if mode not in mapped_modes]\n",
    "\n",
    "        for mode in remaining:\n",
    "            # If you'd like to use a mask here, use the av_ dummy values to mask-out irrelevant data.\n",
    "            row_dict[mode] = extended_dict[mode]\n",
    "        \n",
    "        rows.append(row_dict)\n",
    "    \n",
    "    return_df = pd.DataFrame(rows)\n",
    "    return_df.rename(columns=dict([(c, 'tt_'+c) for c in new_columns]), inplace=True)\n",
    "    return return_df"
   ]
  },
  {
   "cell_type": "code",
   "execution_count": null,
   "metadata": {},
   "outputs": [],
   "source": [
    "av_time_df = compute_durations_using_data(av_df, section_mode_mapping, reverse_ordinal_mapping)"
   ]
  },
  {
   "cell_type": "code",
   "execution_count": null,
   "metadata": {},
   "outputs": [],
   "source": [
    "av_time_df.head()"
   ]
  },
  {
   "cell_type": "markdown",
   "metadata": {},
   "source": [
    "## Cost estimation\n",
    "\n",
    "```\n",
    "{'p_micro': 1, 'no_trip': 2, 's_car': 3, 'transit': 4, 'car': 5, 's_micro': 6, 'ridehail': 7, 'walk': 8, 'unknown': 9}\n",
    "```"
   ]
  },
  {
   "cell_type": "code",
   "execution_count": null,
   "metadata": {},
   "outputs": [],
   "source": [
    "# All values are taken from VTPI.\n",
    "\n",
    "mode_cost_per_mile = {\n",
    "    # bicycle/skateboard\n",
    "    'p_micro': 0.,\n",
    "    'no_trip': 0.,\n",
    "    # Shared car would be half the cost of regular car, which is $0.6/mile.\n",
    "    's_car': 0.3,\n",
    "    # Rental car.\n",
    "    'car': 0.6,\n",
    "    # Average of bus and train taken.\n",
    "    'transit': 0.6,\n",
    "    # Shared bicyle or scooter - values taken from https://nacto.org/shared-micromobility-2020-2021/ and \n",
    "    # https://www.mckinsey.com/industries/automotive-and-assembly/our-insights/how-sharing-the-road-is-likely-to-transform-american-mobility\n",
    "    's_micro': 0.3,\n",
    "    # uber/taxi/lyft\n",
    "    'ridehail': 2.,\n",
    "    'walk': 0.,\n",
    "    'unknown': 0.\n",
    "}\n",
    "\n",
    "# All 0 for now.\n",
    "mode_init_cost = {\n",
    "    k: 0 for k in mode_cost_per_mile.keys()\n",
    "}"
   ]
  },
  {
   "cell_type": "code",
   "execution_count": null,
   "metadata": {},
   "outputs": [],
   "source": [
    "av_time_df.columns"
   ]
  },
  {
   "cell_type": "code",
   "execution_count": null,
   "metadata": {},
   "outputs": [],
   "source": [
    "def compute_cost_estimates(df: pd.DataFrame, cost_mapper: dict, init_cost_mapper: dict, ordinal_mapper: dict):\n",
    "    \n",
    "    # Create some extra colums.\n",
    "    columns = list(ordinal_mapper.keys())\n",
    "\n",
    "    print(columns)\n",
    "\n",
    "    # Initialize the columns to 0.\n",
    "    df[columns] = 0.\n",
    "\n",
    "    rows = list()\n",
    "\n",
    "    # Iterate over every row.\n",
    "    for _, row in df.iterrows():\n",
    "        # Check which flags are active.\n",
    "        row_dict = row.to_dict()\n",
    "\n",
    "        # ---- Not using the av_ features as a mask. ----\n",
    "        # # Iterate over the columns and retain the columns with an available mode of 1. Returns a list of [av_* keys]\n",
    "        # columns = [c for c in row_dict.keys() if c.startswith('av_') and row_dict[c] == 1]\n",
    "\n",
    "        # Access the section_distance_argmax attribute for the distance. Note that this is now in miles.\n",
    "        distance = row_dict['section_distance_argmax']\n",
    "\n",
    "        for lookup in columns:\n",
    "            row_dict[lookup] = init_cost_mapper[lookup] + (cost_mapper[lookup] * distance)\n",
    "\n",
    "        rows.append(row_dict)\n",
    "\n",
    "    new_df = pd.DataFrame(rows)\n",
    "    new_df.rename(columns=dict([(c, 'cost_'+c) for c in ordinal_mapper.keys()]), inplace=True)\n",
    "\n",
    "    return new_df"
   ]
  },
  {
   "cell_type": "code",
   "execution_count": null,
   "metadata": {},
   "outputs": [],
   "source": [
    "cost_df = compute_cost_estimates(av_time_df, cost_mapper=mode_cost_per_mile, init_cost_mapper=mode_init_cost, ordinal_mapper=ordinal_mapping)"
   ]
  },
  {
   "cell_type": "code",
   "execution_count": null,
   "metadata": {},
   "outputs": [],
   "source": [
    "cost_df[['user_id'] + [c for c  in cost_df.columns if 'av_' in c or 'cost_' in c or 'tt_' in c]].head()"
   ]
  },
  {
   "cell_type": "code",
   "execution_count": null,
   "metadata": {},
   "outputs": [],
   "source": [
    "cost_df.to_csv('../data/preprocessed_data.csv', index=False)"
   ]
  }
 ],
 "metadata": {
  "interpreter": {
   "hash": "ab0c6e94c9422d07d42069ec9e3bb23090f5e156fc0e23cc25ca45a62375bf53"
  },
  "kernelspec": {
   "display_name": "Python 3.9.16 ('emission')",
   "language": "python",
   "name": "python3"
  },
  "language_info": {
   "codemirror_mode": {
    "name": "ipython",
    "version": 3
   },
   "file_extension": ".py",
   "mimetype": "text/x-python",
   "name": "python",
   "nbconvert_exporter": "python",
   "pygments_lexer": "ipython3",
   "version": "3.9.16"
  },
  "orig_nbformat": 4
 },
 "nbformat": 4,
 "nbformat_minor": 2
}
