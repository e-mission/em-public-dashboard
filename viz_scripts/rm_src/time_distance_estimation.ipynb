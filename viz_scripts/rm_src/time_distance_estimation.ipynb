{
 "cells": [
  {
   "cell_type": "code",
   "execution_count": null,
   "metadata": {},
   "outputs": [],
   "source": [
    "import pandas as pd\n",
    "import numpy as np\n",
    "import matplotlib.pyplot as plt\n",
    "import seaborn as sns\n",
    "\n",
    "%matplotlib inline"
   ]
  },
  {
   "cell_type": "code",
   "execution_count": null,
   "metadata": {},
   "outputs": [],
   "source": [
    "# Data loading. Refer to the user_data_preprocessing.ipynb file for details on how user-level features are generated.\n",
    "\n",
    "df = pd.read_csv('../data/modeling_w_duration.csv')"
   ]
  },
  {
   "cell_type": "code",
   "execution_count": null,
   "metadata": {},
   "outputs": [],
   "source": [
    "# Drop duplicate rows (if any)\n",
    "df.drop_duplicates(inplace=True)"
   ]
  },
  {
   "cell_type": "code",
   "execution_count": null,
   "metadata": {},
   "outputs": [],
   "source": [
    "def compute_argmax(df: pd.DataFrame):\n",
    "    # Create the two columns.\n",
    "    df[['section_distance_argmax', 'section_duration_argmax', 'section_mode_argmax']] = None\n",
    "    rows = list()\n",
    "\n",
    "    for ix, row in df.iterrows():\n",
    "        parsed_distances = eval(row['section_distances'])\n",
    "        parsed_durations = eval(row['section_durations'])\n",
    "        parsed_modes = eval(row['section_modes'])\n",
    "\n",
    "        argmax_ix = np.argmax(parsed_distances)\n",
    "\n",
    "        row['section_distance_argmax'] = parsed_distances[argmax_ix]\n",
    "        row['section_duration_argmax'] = parsed_durations[argmax_ix]\n",
    "        row['section_mode_argmax'] = parsed_modes[argmax_ix]\n",
    "\n",
    "        rows.append(row.to_dict())\n",
    "    \n",
    "    return pd.DataFrame(rows)"
   ]
  },
  {
   "cell_type": "code",
   "execution_count": null,
   "metadata": {},
   "outputs": [],
   "source": [
    "# Let's plot the mode-wise durations as a function of distance.\n",
    "df_modded = compute_argmax(df)"
   ]
  },
  {
   "cell_type": "code",
   "execution_count": null,
   "metadata": {},
   "outputs": [],
   "source": [
    "df_modded.columns"
   ]
  },
  {
   "cell_type": "code",
   "execution_count": null,
   "metadata": {},
   "outputs": [],
   "source": [
    "analysis = df_modded[['section_mode_argmax', 'section_duration_argmax', 'section_distance_argmax']].copy()"
   ]
  },
  {
   "cell_type": "code",
   "execution_count": null,
   "metadata": {},
   "outputs": [],
   "source": [
    "analysis.head()"
   ]
  },
  {
   "cell_type": "code",
   "execution_count": null,
   "metadata": {},
   "outputs": [],
   "source": [
    "from scipy.stats import pearsonr\n",
    "from sklearn.model_selection import train_test_split\n",
    "from sklearn.metrics import r2_score\n",
    "from sklearn.linear_model import LinearRegression\n",
    "from sklearn.preprocessing import StandardScaler\n",
    "\n",
    "analysis.loc[(analysis.section_mode_argmax == 'bus') | (analysis.section_mode_argmax == 'train'), ['section_mode_argmax']] = 'public_transport'\n",
    "\n",
    "for mode in analysis.section_mode_argmax.unique():\n",
    "    mode_df = analysis.loc[(analysis.section_mode_argmax == mode) \n",
    "    & (analysis.section_duration_argmax >=0) \n",
    "    & ((analysis.section_distance_argmax >=0)), ['section_duration_argmax', 'section_distance_argmax']]\n",
    "\n",
    "    X = mode_df[['section_distance_argmax']].values * 0.00062\n",
    "    Y = mode_df[['section_duration_argmax']].values / 60\n",
    "\n",
    "    X_tr, X_te, Y_tr, Y_te = train_test_split(X, Y, test_size=0.2, random_state=42, shuffle=True)\n",
    "\n",
    "    # scaler = StandardScaler()\n",
    "\n",
    "    # X_tr = scaler.fit_transform(X_tr)\n",
    "    # X_te = scaler.transform(X_te)\n",
    "\n",
    "    # regr = LinearRegression()\n",
    "    regr = LinearRegression(fit_intercept=True)\n",
    "    regr.fit(X_tr.reshape(-1,1), Y_tr.reshape(-1,1))\n",
    "\n",
    "    y_tr_pred = regr.predict(X_tr)\n",
    "    y_te_pred = regr.predict(X_te)\n",
    "\n",
    "    train_r2 = r2_score(y_true=Y_tr.flatten(), y_pred=y_tr_pred.flatten())\n",
    "    test_r2 = r2_score(y_true=Y_te.flatten(), y_pred=y_te_pred.flatten())\n",
    "\n",
    "    print(mode, train_r2, test_r2)\n",
    "    print('intercept: ', regr.intercept_[0], 'coeff: ', regr.coef_[0][0])\n",
    "\n",
    "\n",
    "'''\n",
    "Previous results:\n",
    "\n",
    "walking 0.3843977052858275 0.3749466865077252\n",
    "bicycling 0.7396768569714562 0.735986721086616\n",
    "car 0.5839819702140339 0.5918942114399524\n",
    "no_sensed 0.8045590529878717 0.8059202285373765\n",
    "public_transport 0.44880904441364 0.6020723455289356\n",
    "'''"
   ]
  },
  {
   "cell_type": "code",
   "execution_count": null,
   "metadata": {},
   "outputs": [],
   "source": [
    "from scipy.stats import pearsonr\n",
    "from sklearn.model_selection import train_test_split\n",
    "from sklearn.preprocessing import StandardScaler\n",
    "from sklearn.metrics import r2_score\n",
    "\n",
    "\n",
    "# Combine bus and train into 'public transport'\n",
    "analysis.loc[(analysis.section_mode_argmax == 'bus') | (analysis.section_mode_argmax == 'train'), ['section_mode_argmax']] = 'public_transport'\n",
    "\n",
    "for mode in analysis.section_mode_argmax.unique():\n",
    "\n",
    "    mode_df = analysis.loc[\n",
    "        (analysis.section_mode_argmax == mode) & (analysis.section_duration_argmax >= 0) & (analysis.section_distance_argmax >= 0), \n",
    "        ['section_duration_argmax', 'section_distance_argmax']\n",
    "    ]\n",
    "    \n",
    "\n",
    "    X = mode_df[['section_distance_argmax']].values\n",
    "    Y = mode_df[['section_duration_argmax']].values\n",
    "\n",
    "    scaler = StandardScaler()\n",
    "\n",
    "    X_tr, X_te, Y_tr, Y_te = train_test_split(X, Y, test_size=0.2, random_state=42, shuffle=True)\n",
    "\n",
    "    X_tr = X_tr.flatten()\n",
    "    X_te = X_te.flatten()\n",
    "    Y_tr, Y_te = Y_tr.flatten(), Y_te.flatten()\n",
    "\n",
    "    fit = np.polyfit(X_tr, Y_tr.flatten(), 1)\n",
    "    # Using the fit, predict tr and te.\n",
    "    y_tr_pred = np.poly1d(fit)(X_tr)\n",
    "    y_te_pred = np.poly1d(fit)(X_te)\n",
    "\n",
    "    train_r2 = r2_score(y_true=Y_tr, y_pred=y_tr_pred)\n",
    "    test_r2 = r2_score(y_true=Y_te, y_pred=y_te_pred)\n",
    "\n",
    "    fig, ax = plt.subplots()\n",
    "    # Plot the testing samples.\n",
    "    sns.scatterplot(x=X_te, y=Y_te, ax=ax)\n",
    "    # Plot the line.\n",
    "    # line = mode_model.intercept_ + (mode_model.coef_[0] * X_te.flatten())\n",
    "    sns.lineplot(x=X_te, y=y_te_pred, ax=ax)\n",
    "    plt.show()\n",
    "\n",
    "    print(mode, train_r2, test_r2)"
   ]
  }
 ],
 "metadata": {
  "interpreter": {
   "hash": "ab0c6e94c9422d07d42069ec9e3bb23090f5e156fc0e23cc25ca45a62375bf53"
  },
  "kernelspec": {
   "display_name": "Python 3.9.16 ('emission')",
   "language": "python",
   "name": "python3"
  },
  "language_info": {
   "codemirror_mode": {
    "name": "ipython",
    "version": 3
   },
   "file_extension": ".py",
   "mimetype": "text/x-python",
   "name": "python",
   "nbconvert_exporter": "python",
   "pygments_lexer": "ipython3",
   "version": "3.9.16"
  },
  "orig_nbformat": 4
 },
 "nbformat": 4,
 "nbformat_minor": 2
}
