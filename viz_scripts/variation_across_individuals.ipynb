{
 "cells": [
  {
   "cell_type": "code",
   "execution_count": null,
   "id": "32b25c19",
   "metadata": {},
   "outputs": [],
   "source": [
    "# This is still exploratory analysis, so it is not converted to work with the cold start changes\n",
    "# similar to the other notebooks"
   ]
  },
  {
   "cell_type": "code",
   "execution_count": null,
   "id": "lyric-montgomery",
   "metadata": {},
   "outputs": [],
   "source": [
    "year = None\n",
    "month = None\n",
    "program = None"
   ]
  },
  {
   "cell_type": "code",
   "execution_count": null,
   "id": "mobile-certificate",
   "metadata": {},
   "outputs": [],
   "source": [
    "import pandas as pd\n",
    "import numpy as np\n",
    "import matplotlib.pyplot as plt\n",
    "import seaborn as sns\n",
    "from collections import defaultdict\n",
    "\n",
    "sns.set_style(\"whitegrid\")\n",
    "sns.set()\n",
    "%matplotlib inline"
   ]
  },
  {
   "cell_type": "code",
   "execution_count": null,
   "id": "existing-tanzania",
   "metadata": {},
   "outputs": [],
   "source": [
    "import scaffolding \n",
    "from plots import *"
   ]
  },
  {
   "cell_type": "code",
   "execution_count": null,
   "id": "unique-topic",
   "metadata": {},
   "outputs": [],
   "source": [
    "# Loading mapping dictionaries from mapping_dictionaries notebook\n",
    "%store -r dic_ei\n",
    "%store -r dic_re\n",
    "%store -r dic_pur\n",
    "\n",
    "# convert a dictionary to a defaultdict\n",
    "dic_pur = defaultdict(lambda: 'Other',dic_pur)\n",
    "dic_re = defaultdict(lambda: 'Other',dic_re)"
   ]
  },
  {
   "cell_type": "code",
   "execution_count": null,
   "id": "legitimate-ethics",
   "metadata": {},
   "outputs": [],
   "source": [
    "tq = scaffolding.get_time_query(year, month)"
   ]
  },
  {
   "cell_type": "code",
   "execution_count": null,
   "id": "contrary-poverty",
   "metadata": {},
   "outputs": [],
   "source": [
    "participant_ct_df = scaffolding.load_all_participant_trips(program, tq)"
   ]
  },
  {
   "cell_type": "code",
   "execution_count": null,
   "id": "international-retention",
   "metadata": {},
   "outputs": [],
   "source": [
    "labeled_ct = scaffolding.filter_labeled_trips(participant_ct_df)"
   ]
  },
  {
   "cell_type": "code",
   "execution_count": null,
   "id": "dynamic-allowance",
   "metadata": {},
   "outputs": [],
   "source": [
    "expanded_ct = scaffolding.expand_userinputs(labeled_ct)"
   ]
  },
  {
   "cell_type": "code",
   "execution_count": null,
   "id": "micro-gathering",
   "metadata": {},
   "outputs": [],
   "source": [
    "expanded_ct.shape"
   ]
  },
  {
   "cell_type": "code",
   "execution_count": null,
   "id": "sweet-muscle",
   "metadata": {},
   "outputs": [],
   "source": [
    "expanded_ct = scaffolding.data_quality_check(expanded_ct)\n",
    "expanded_ct.shape"
   ]
  },
  {
   "cell_type": "code",
   "execution_count": null,
   "id": "compact-reader",
   "metadata": {},
   "outputs": [],
   "source": [
    "## Mapping new labels with dictionaries\n",
    "expanded_ct['Trip_purpose']= expanded_ct['purpose_confirm'].map(dic_pur)\n",
    "expanded_ct['Mode_confirm']= expanded_ct['mode_confirm'].map(dic_re)\n",
    "expanded_ct['Replaced_mode']= expanded_ct['replaced_mode'].map(dic_re)"
   ]
  },
  {
   "cell_type": "code",
   "execution_count": null,
   "id": "studied-oxide",
   "metadata": {},
   "outputs": [],
   "source": [
    "assert len(expanded_ct[(expanded_ct['Mode_confirm'] == 'Pilot ebike') & (expanded_ct[\"Replaced_mode\"] == \"Pilot ebike\")]) == 0"
   ]
  },
  {
   "cell_type": "code",
   "execution_count": null,
   "id": "auburn-driving",
   "metadata": {},
   "outputs": [],
   "source": [
    "# Energy Impact Calculation\n",
    "scaffolding.unit_conversions(expanded_ct)"
   ]
  },
  {
   "cell_type": "code",
   "execution_count": null,
   "id": "mental-compact",
   "metadata": {},
   "outputs": [],
   "source": [
    "# group by user\n",
    "all_trip_user_count = participant_ct_df.groupby(\"user_id\")[\"user_id\"].agg([\"count\"])\n",
    "all_trip_user_count"
   ]
  },
  {
   "cell_type": "code",
   "execution_count": null,
   "id": "international-morrison",
   "metadata": {},
   "outputs": [],
   "source": [
    "# group by user\n",
    "labeled_trip_user_count = expanded_ct.groupby(\"user_id\")[\"user_id\"].agg([\"count\"])\n",
    "labeled_trip_user_count"
   ]
  },
  {
   "cell_type": "markdown",
   "id": "junior-scholar",
   "metadata": {},
   "source": [
    "## eBike only"
   ]
  },
  {
   "cell_type": "code",
   "execution_count": null,
   "id": "sticky-fiber",
   "metadata": {},
   "outputs": [],
   "source": [
    "data_eb = expanded_ct.query(\"Mode_confirm == 'Pilot ebike'\")"
   ]
  },
  {
   "cell_type": "code",
   "execution_count": null,
   "id": "representative-scale",
   "metadata": {},
   "outputs": [],
   "source": [
    "eb_user_count = data_eb.groupby(\"user_id\")[\"user_id\"].count()"
   ]
  },
  {
   "cell_type": "code",
   "execution_count": null,
   "id": "liked-silver",
   "metadata": {},
   "outputs": [],
   "source": [
    "compare_df = pd.concat([eb_user_count, labeled_trip_user_count, all_trip_user_count], axis=1)\n",
    "compare_df.columns = [\"ebike_trips\", \"labeled_trips\", \"all_trips\"]\n",
    "compare_df[\"labeled Trip Pct\"] = (compare_df.labeled_trips * 100) / compare_df.all_trips\n",
    "compare_df[\"ebike Trip Pct\"] = (compare_df.ebike_trips * 100) / compare_df.labeled_trips\n",
    "compare_df"
   ]
  },
  {
   "cell_type": "code",
   "execution_count": null,
   "id": "comic-audience",
   "metadata": {},
   "outputs": [],
   "source": []
  }
 ],
 "metadata": {
  "kernelspec": {
   "display_name": "Python 3 (ipykernel)",
   "language": "python",
   "name": "python3"
  },
  "language_info": {
   "codemirror_mode": {
    "name": "ipython",
    "version": 3
   },
   "file_extension": ".py",
   "mimetype": "text/x-python",
   "name": "python",
   "nbconvert_exporter": "python",
   "pygments_lexer": "ipython3",
   "version": "3.7.12"
  }
 },
 "nbformat": 4,
 "nbformat_minor": 5
}
