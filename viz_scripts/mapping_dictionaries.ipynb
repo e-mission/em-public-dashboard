{
 "cells": [
  {
   "cell_type": "code",
   "execution_count": 4,
   "id": "available-fusion",
   "metadata": {},
   "outputs": [],
   "source": [
    "import pandas as pd\n",
    "import pickle"
   ]
  },
  {
   "cell_type": "code",
   "execution_count": 5,
   "id": "obvious-chapter",
   "metadata": {},
   "outputs": [],
   "source": [
    "df_pur = pd.read_csv(r'auxiliary_files/purpose_labels.csv')\n",
    "df_re = pd.read_csv(r'auxiliary_files/mode_labels.csv')\n",
    "df_ei = pd.read_csv(r'auxiliary_files/energy_intensity.csv')\n",
    "\n",
    "#dictionaries:\n",
    "dic_pur = dict(zip(df_pur['purpose_confirm'],df_pur['bin_purpose'])) # bin purpose\n",
    "dic_re  = dict(zip(df_re['replaced_mode'],df_re['mode_clean'])) # bin modes\n",
    "dic_fuel = dict(zip(df_ei['mode'],df_ei['fuel']))"
   ]
  },
  {
   "cell_type": "code",
   "execution_count": 6,
   "id": "younger-indication",
   "metadata": {},
   "outputs": [],
   "source": [
    "# %store df_ei\n",
    "# %store dic_re\n",
    "# %store dic_pur\n",
    "# %store dic_fuel\n",
    "\n",
    "with open('auxiliary_files/df_ei.pkl', 'wb') as f:\n",
    "    f.write(pickle.dumps(df_ei))\n",
    "\n",
    "with open('auxiliary_files/dic_re.pkl', 'wb') as f:\n",
    "    f.write(pickle.dumps(dic_re))\n",
    "\n",
    "with open('auxiliary_files/dic_pur.pkl', 'wb') as f:\n",
    "    f.write(pickle.dumps(dic_pur))\n",
    "\n",
    "with open('auxiliary_files/dic_fuel.pkl', 'wb') as f:\n",
    "    f.write(pickle.dumps(dic_fuel))"
   ]
  },
  {
   "cell_type": "code",
   "execution_count": null,
   "id": "8e389b3d",
   "metadata": {},
   "outputs": [],
   "source": []
  }
 ],
 "metadata": {
  "interpreter": {
   "hash": "ab0c6e94c9422d07d42069ec9e3bb23090f5e156fc0e23cc25ca45a62375bf53"
  },
  "kernelspec": {
   "display_name": "Python 3.9.16 ('emission')",
   "language": "python",
   "name": "python3"
  },
  "language_info": {
   "codemirror_mode": {
    "name": "ipython",
    "version": 3
   },
   "file_extension": ".py",
   "mimetype": "text/x-python",
   "name": "python",
   "nbconvert_exporter": "python",
   "pygments_lexer": "ipython3",
   "version": "3.9.16"
  }
 },
 "nbformat": 4,
 "nbformat_minor": 5
}
