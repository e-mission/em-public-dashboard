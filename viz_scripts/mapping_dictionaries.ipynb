{
 "cells": [
  {
   "cell_type": "code",
   "execution_count": null,
   "id": "available-fusion",
   "metadata": {},
   "outputs": [],
   "source": [
    "import pandas as pd"
   ]
  },
  {
   "cell_type": "code",
   "execution_count": null,
   "id": "obvious-chapter",
   "metadata": {},
   "outputs": [],
   "source": [
    "df_pur= pd.read_csv(r'auxiliary_files/purpose_labels.csv')\n",
    "df_re = pd.read_csv(r'auxiliary_files/mode_labels.csv')\n",
    "df_EI = pd.read_csv(r'auxiliary_files/energy_intensity.csv')\n",
    "\n",
    "#dictionaries:\n",
    "dic_pur = dict(zip(df_pur['purpose_confirm'],df_pur['bin_purpose'])) # bin purpose\n",
    "dic_re  = dict(zip(df_re['replaced_mode'],df_re['mode_clean'])) # bin modes\n",
    "dic_fuel = dict(zip(df_EI['mode'],df_EI['fuel']))"
   ]
  },
  {
   "cell_type": "code",
   "execution_count": null,
   "id": "younger-indication",
   "metadata": {},
   "outputs": [],
   "source": [
    "%store df_EI \n",
    "%store dic_re \n",
    "%store dic_pur \n",
    "%store dic_fuel "
   ]
  },
  {
   "cell_type": "code",
   "execution_count": null,
   "id": "8a25d7e2",
   "metadata": {},
   "outputs": [],
   "source": []
  }
 ],
 "metadata": {
  "kernelspec": {
   "display_name": "Python 3",
   "language": "python",
   "name": "python3"
  },
  "language_info": {
   "codemirror_mode": {
    "name": "ipython",
    "version": 3
   },
   "file_extension": ".py",
   "mimetype": "text/x-python",
   "name": "python",
   "nbconvert_exporter": "python",
   "pygments_lexer": "ipython3",
   "version": "3.7.9"
  }
 },
 "nbformat": 4,
 "nbformat_minor": 5
}
