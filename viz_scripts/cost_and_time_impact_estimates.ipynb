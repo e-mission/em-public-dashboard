{
 "cells": [
  {
   "cell_type": "markdown",
   "id": "2518a96d",
   "metadata": {},
   "source": [
    "# Based on Issue #31: Add cost and time estimates as well\n",
    "We want to add simple cost and time estimates to assess the broader impacts of programs.\n",
    "We will do so by creating simple distance-based maps for each metric - e.g.\n",
    "\n",
    "cost_per_mile = { \"drove_alone\": ..., \"shared_ride\": ...., \"pilot_ebike\": ....\n",
    "}\n",
    "\n",
    "We can then compute the overall impact of the metric by pseudo code similar to:\n",
    "\n",
    "for trip in trips:\n",
    "    cost_impact_trip = (cost_per_mile[“ebike”] – cost_per_mile[trip.replaced_mode]) * trip.length_in_miles\n",
    "    cost_impact_trips.append(cost_impact_trip)\n",
    "\n",
    "cost_impact_overall = sum(cost_impact_trips)\n",
    "\n",
    "Of course, we could also use pandas if that works better - e.g. something like:\n",
    "\n",
    "cost_impact_trips = trips.apply(lambda trip_row: (cost_per_mile[\"ebike\"] - cost_per_mile[trip_row.replaced_mode]) * trip_row.length__in_miles\n",
    "cost_impact_overall = cost_impact_trips.sum()\n"
   ]
  },
  {
   "cell_type": "markdown",
   "id": "0a308acb",
   "metadata": {},
   "source": [
    "Shankari K. suggested following the process outlined in the energy_calculations notebook reproduced below."
   ]
  },
  {
   "cell_type": "code",
   "execution_count": null,
   "id": "b9624fe3",
   "metadata": {},
   "outputs": [],
   "source": [
    "# user defined modules\n",
    "import scaffolding\n",
    "from plots import *\n",
    "\n",
    "# external packages\n",
    "import pandas as pd\n",
    "import seaborn as sns\n",
    "import matplotlib.pyplot as plt\n",
    "from collections import defaultdict"
   ]
  },
  {
   "cell_type": "code",
   "execution_count": null,
   "id": "29424542",
   "metadata": {},
   "outputs": [],
   "source": [
    "# global configurations\n",
    "sns.set_style('whitegrid')\n",
    "sns.set()\n",
    "\n",
    "%matplotlib inline"
   ]
  },
  {
   "cell_type": "code",
   "execution_count": null,
   "id": "e55a1a1f",
   "metadata": {},
   "outputs": [],
   "source": [
    "# external variables (run mapping_dictionaries notebook before running this cell)\n",
    "%store -r df_EI  \n",
    "%store -r df_CT\n",
    "\n",
    "%store -r dic_re\n",
    "%store -r dic_pur\n",
    "%store -r dic_fuel\n",
    "\n",
    "# convert a dictionary to a defaultdict\n",
    "dic_pur = defaultdict(lambda: 'Other',dic_pur)\n",
    "dic_re = defaultdict(lambda: 'Other',dic_re)"
   ]
  },
  {
   "cell_type": "code",
   "execution_count": null,
   "id": "ef7dd45c",
   "metadata": {},
   "outputs": [],
   "source": [
    "# Scaffolding Inputs (None -> get all data)\n",
    "year = None\n",
    "month = None\n",
    "program = None"
   ]
  },
  {
   "cell_type": "code",
   "execution_count": null,
   "id": "9beff67f",
   "metadata": {},
   "outputs": [],
   "source": [
    "# Define time series for year and month\n",
    "tq = scaffolding.get_time_query(year, month)"
   ]
  },
  {
   "cell_type": "code",
   "execution_count": null,
   "id": "6a7cdcde",
   "metadata": {},
   "outputs": [],
   "source": [
    "# Acquire rows from database corresponding to time series and program label\n",
    "participant_ct_df = scaffolding.load_all_participant_trips(program, tq)"
   ]
  },
  {
   "cell_type": "code",
   "execution_count": null,
   "id": "c50baf4a",
   "metadata": {},
   "outputs": [],
   "source": [
    "# Remove any labelled trips from the dataframe\n",
    "labeled_ct = scaffolding.filter_labeled_trips(participant_ct_df)"
   ]
  },
  {
   "cell_type": "code",
   "execution_count": null,
   "id": "c2dd6e2a",
   "metadata": {},
   "outputs": [],
   "source": [
    "# Just expand the user_input feature to multiple features for each entry\n",
    "expanded_ct = scaffolding.expand_userinputs(labeled_ct)"
   ]
  },
  {
   "cell_type": "code",
   "execution_count": null,
   "id": "f948dc57",
   "metadata": {},
   "outputs": [],
   "source": [
    "# Removes some rows that don't show a change from another mode to pilot e-bike + name same_mode as confirmed_mode\n",
    "expanded_ct = scaffolding.data_quality_check(expanded_ct)\n",
    "expanded_ct.shape"
   ]
  },
  {
   "cell_type": "code",
   "execution_count": null,
   "id": "9495e947",
   "metadata": {},
   "outputs": [],
   "source": [
    "## Mapping new labels with dictionaries\n",
    "expanded_ct['Trip_purpose']= expanded_ct['purpose_confirm'].map(dic_pur)\n",
    "expanded_ct['Mode_confirm']= expanded_ct['mode_confirm'].map(dic_re)\n",
    "expanded_ct['Replaced_mode']= expanded_ct['replaced_mode'].map(dic_re)\n",
    "\n",
    "#Mapping fuel\n",
    "expanded_ct['Mode_confirm_fuel']= expanded_ct['Mode_confirm'].map(dic_fuel)\n",
    "expanded_ct['Replaced_mode_fuel']= expanded_ct['Replaced_mode'].map(dic_fuel)\n",
    "expanded_ct.shape"
   ]
  },
  {
   "cell_type": "code",
   "execution_count": null,
   "id": "9e27d0e9",
   "metadata": {},
   "outputs": [],
   "source": [
    "# Just a meters to miles conversion at this point\n",
    "scaffolding.unit_conversions(expanded_ct)"
   ]
  },
  {
   "cell_type": "code",
   "execution_count": null,
   "id": "e5330285",
   "metadata": {},
   "outputs": [],
   "source": [
    "file_suffix = scaffolding.get_file_suffix(year, month, program)\n",
    "quality_text = scaffolding.get_quality_text(participant_ct_df, expanded_ct)"
   ]
  },
  {
   "cell_type": "markdown",
   "id": "e0420cf9",
   "metadata": {},
   "source": [
    "### Analysis of Time Impact"
   ]
  },
  {
   "cell_type": "code",
   "execution_count": null,
   "id": "9448046e",
   "metadata": {},
   "outputs": [],
   "source": [
    "expanded_ct = scaffolding.cost(expanded_ct, df_CT, 'distance','Replaced_mode', 'Mode_confirm')\n",
    "expanded_ct = scaffolding.cost_impact(expanded_ct, 'distance_miles','Replaced_mode', 'Mode_confirm')"
   ]
  },
  {
   "cell_type": "code",
   "execution_count": null,
   "id": "41460ce2",
   "metadata": {},
   "outputs": [],
   "source": [
    "expanded_ct.columns"
   ]
  },
  {
   "cell_type": "code",
   "execution_count": null,
   "id": "69f6ae3d",
   "metadata": {},
   "outputs": [],
   "source": [
    "data=expanded_ct.loc[(expanded_ct['distance_miles'] <= 40)].sort_values(by=['Cost_Impact($)'], ascending=False)   \n",
    "x='Cost_Impact($)'\n",
    "y='distance_miles'\n",
    "legend ='Mode_confirm'\n",
    "plot_title=\"Sketch of Cost_Impact($) by Travel Mode Selected\\n%s\" % quality_text\n",
    "file_name ='sketch_distance_cost_impact%s.png' % file_suffix\n",
    "distancevsenergy(data,x,y,legend,plot_title,file_name)"
   ]
  },
  {
   "cell_type": "code",
   "execution_count": null,
   "id": "84f69f84",
   "metadata": {},
   "outputs": [],
   "source": [
    "#eirp : energy impact replaced_mode\n",
    "eirc=expanded_ct.groupby('Replaced_mode').agg({'Cost_Impact($)': ['sum', 'mean']},)\n",
    "eirc.columns = ['Sketch of Total Cost_Impact($)', 'Sketch of Average Cost_Impact($)']\n",
    "eirc = eirc.reset_index()\n",
    "eirc = eirc.sort_values(by=['Sketch of Total Cost_Impact($)'], ascending=False)\n",
    "eirc['boolean'] = eirc['Sketch of Total Cost_Impact($)'] > 0\n",
    "\n",
    "#eimc : energy impact mode_confirm\n",
    "eimc=expanded_ct.groupby('Mode_confirm').agg({'Energy_Impact(kWH)': ['sum', 'mean']},)\n",
    "eimc.columns = ['Sketch of Total Energy_Impact(kWH)', 'Sketch of Average Energy_Impact(kWH)']\n",
    "eimc = eimc.reset_index()\n",
    "eimc = eimc.sort_values(by=['Sketch of Total Energy_Impact(kWH)'], ascending=False)\n",
    "\n",
    "\n",
    "subset1 = eirc [['Replaced_mode', 'Sketch of Total Energy_Impact(kWH)']].copy()\n",
    "subset1.rename(columns = {'Replaced_mode':'Transport Mode','Sketch of Total Energy_Impact(kWH)':'Replaced_Mode' }, inplace=True)\n",
    "\n",
    "subset2 = eimc [['Mode_confirm', 'Sketch of Total Energy_Impact(kWH)']].copy()\n",
    "subset2.rename(columns = {'Mode_confirm':'Transport Mode','Sketch of Total Energy_Impact(kWH)':'Mode_Confirm' }, inplace=True)\n",
    "\n",
    "df_plot = pd.merge(subset1, subset2, on=\"Transport Mode\")\n",
    "df = pd.melt(df_plot , id_vars=['Transport Mode'], value_vars=['Replaced_Mode','Mode_Confirm'], var_name='selection')\n",
    "df.rename(columns = {'value':'Energy Impact (kWH)'}, inplace = True)"
   ]
  },
  {
   "cell_type": "markdown",
   "id": "e12ee241",
   "metadata": {},
   "source": [
    "### Analysis of Time Impact"
   ]
  },
  {
   "cell_type": "code",
   "execution_count": null,
   "id": "3065d606",
   "metadata": {},
   "outputs": [],
   "source": []
  }
 ],
 "metadata": {
  "kernelspec": {
   "display_name": "Python 3",
   "language": "python",
   "name": "python3"
  },
  "language_info": {
   "codemirror_mode": {
    "name": "ipython",
    "version": 3
   },
   "file_extension": ".py",
   "mimetype": "text/x-python",
   "name": "python",
   "nbconvert_exporter": "python",
   "pygments_lexer": "ipython3",
   "version": "3.7.9"
  }
 },
 "nbformat": 4,
 "nbformat_minor": 5
}
