{
 "cells": [
  {
   "cell_type": "markdown",
   "id": "academic-context",
   "metadata": {},
   "source": [
    "## Generate static graphs"
   ]
  },
  {
   "cell_type": "markdown",
   "id": "medium-siemens",
   "metadata": {},
   "source": [
    "These are the input parameters for the notebook. They will be automatically changed when the scripts to generate monthly statistics are run. You can modify them manually to generate multiple plots locally as well.\n",
    "\n",
    "Pass in `None` to remove the filters and plot all data. This is not recommended for production settings, but might be useful for reports based on data snapshots."
   ]
  },
  {
   "cell_type": "code",
   "execution_count": null,
   "id": "narrative-hunter",
   "metadata": {},
   "outputs": [],
   "source": [
    "year = None\n",
    "month = None\n",
    "program = None"
   ]
  },
  {
   "cell_type": "code",
   "execution_count": null,
   "id": "activated-portugal",
   "metadata": {},
   "outputs": [],
   "source": [
    "import pandas as pd\n",
    "import numpy as np\n",
    "import matplotlib.pyplot as plt\n",
    "import seaborn as sns\n",
    "from collections import defaultdict\n",
    "\n",
    "sns.set_style(\"whitegrid\")\n",
    "sns.set()\n",
    "%matplotlib inline"
   ]
  },
  {
   "cell_type": "code",
   "execution_count": null,
   "id": "shared-september",
   "metadata": {},
   "outputs": [],
   "source": [
    "import scaffolding \n",
    "from plots import *"
   ]
  },
  {
   "cell_type": "code",
   "execution_count": null,
   "id": "minor-journal",
   "metadata": {},
   "outputs": [],
   "source": [
    "# Loading mapping dictionaries from mapping_dictionaries notebook\n",
    "%store -r dic_ei\n",
    "%store -r dic_pur\n",
    "%store -r dic_re\n",
    "\n",
    "# convert a dictionary to a defaultdict\n",
    "dic_pur = defaultdict(lambda: 'Other',dic_pur)\n",
    "dic_re = defaultdict(lambda: 'Other',dic_re)"
   ]
  },
  {
   "cell_type": "code",
   "execution_count": null,
   "id": "adjacent-transformation",
   "metadata": {},
   "outputs": [],
   "source": [
    "tq = scaffolding.get_time_query(year, month)"
   ]
  },
  {
   "cell_type": "code",
   "execution_count": null,
   "id": "instant-candy",
   "metadata": {},
   "outputs": [],
   "source": [
    "participant_ct_df = scaffolding.load_all_participant_trips(program, tq)"
   ]
  },
  {
   "cell_type": "code",
   "execution_count": null,
   "id": "laughing-rescue",
   "metadata": {},
   "outputs": [],
   "source": [
    "labeled_ct = scaffolding.filter_labeled_trips(participant_ct_df)"
   ]
  },
  {
   "cell_type": "code",
   "execution_count": null,
   "id": "imperial-services",
   "metadata": {},
   "outputs": [],
   "source": [
    "expanded_ct = scaffolding.expand_userinputs(labeled_ct)"
   ]
  },
  {
   "cell_type": "code",
   "execution_count": null,
   "id": "renewable-federal",
   "metadata": {},
   "outputs": [],
   "source": [
    "expanded_ct.shape"
   ]
  },
  {
   "cell_type": "code",
   "execution_count": null,
   "id": "several-pendant",
   "metadata": {},
   "outputs": [],
   "source": [
    "expanded_ct = scaffolding.data_quality_check(expanded_ct)\n",
    "expanded_ct.shape"
   ]
  },
  {
   "cell_type": "code",
   "execution_count": null,
   "id": "removed-retailer",
   "metadata": {},
   "outputs": [],
   "source": [
    "## Mapping new labels with dictionaries\n",
    "expanded_ct['Trip_purpose']= expanded_ct['purpose_confirm'].map(dic_pur)\n",
    "expanded_ct['Mode_confirm']= expanded_ct['mode_confirm'].map(dic_re)\n",
    "expanded_ct['Replaced_mode']= expanded_ct['replaced_mode'].map(dic_re)"
   ]
  },
  {
   "cell_type": "code",
   "execution_count": null,
   "id": "framed-uzbekistan",
   "metadata": {},
   "outputs": [],
   "source": [
    "dic_pur"
   ]
  },
  {
   "cell_type": "code",
   "execution_count": null,
   "id": "every-zimbabwe",
   "metadata": {},
   "outputs": [],
   "source": [
    "# Energy Impact Calculation\n",
    "expanded_ct = scaffolding.energy_cal(expanded_ct,dic_ei)"
   ]
  },
  {
   "cell_type": "code",
   "execution_count": null,
   "id": "organic-pitch",
   "metadata": {},
   "outputs": [],
   "source": [
    "file_suffix = scaffolding.get_file_suffix(year, month, program)\n",
    "quality_text = scaffolding.get_quality_text(participant_ct_df, expanded_ct)"
   ]
  },
  {
   "cell_type": "markdown",
   "id": "distributed-peace",
   "metadata": {},
   "source": [
    "# Distribution of Mode_confirm Attribute"
   ]
  },
  {
   "cell_type": "code",
   "execution_count": null,
   "id": "tracked-serbia",
   "metadata": {},
   "outputs": [],
   "source": [
    "labels_mc = expanded_ct['Mode_confirm'].value_counts(dropna=True)[:9].keys().tolist()\n",
    "values_mc = expanded_ct['Mode_confirm'].value_counts(dropna=True)[:9].tolist()\n",
    "plot_title= \"Number of trips for each mode (selected by users)\\n%s\" % quality_text\n",
    "file_name= 'ntrips_mode_confirm_%s.png' % file_suffix\n",
    "pie_chart_mode(plot_title,labels_mc,values_mc,file_name)"
   ]
  },
  {
   "cell_type": "markdown",
   "id": "biological-vancouver",
   "metadata": {},
   "source": [
    "# Distribution of Replace_Mode Attribute"
   ]
  },
  {
   "cell_type": "code",
   "execution_count": null,
   "id": "comprehensive-august",
   "metadata": {},
   "outputs": [],
   "source": [
    "labels_rm = expanded_ct['Replaced_mode'].value_counts(dropna=True)[:10].keys().tolist()\n",
    "values_rm = expanded_ct['Replaced_mode'].value_counts(dropna=True)[:10].tolist()\n",
    "plot_title=\"Number of trips for each replaced mode (selected by users)\\n%s\" % quality_text\n",
    "file_name= 'ntrips_replaced_mode_%s.png' % file_suffix\n",
    "pie_chart_mode(plot_title,labels_rm,values_rm,file_name)"
   ]
  },
  {
   "cell_type": "markdown",
   "id": "prepared-saver",
   "metadata": {},
   "source": [
    "### Note: The portion of pilot ebikes in the pie chart above is only when the mode_confirm is different that ebike. Example: mode_confirm was Walk, replaced_mode ebike. \n",
    "###           mode_confrim was Car, drove alone, replaced_mode ebike."
   ]
  },
  {
   "cell_type": "code",
   "execution_count": null,
   "id": "acceptable-producer",
   "metadata": {},
   "outputs": [],
   "source": [
    "expanded_ct.loc[expanded_ct['Replaced_mode'] == 'Pilot ebike'].Mode_confirm.unique()"
   ]
  },
  {
   "cell_type": "markdown",
   "id": "careful-spencer",
   "metadata": {},
   "source": [
    "# Distribution of Trip Purpose Attribute"
   ]
  },
  {
   "cell_type": "code",
   "execution_count": null,
   "id": "conservative-september",
   "metadata": {},
   "outputs": [],
   "source": [
    "labels_tp = expanded_ct['Trip_purpose'].value_counts(dropna=True)[:10].keys().tolist()\n",
    "values_tp = expanded_ct['Trip_purpose'].value_counts(dropna=True)[:10].tolist()\n",
    "plot_title=\"Number of trips for each purposes (selected by users)\\n%s\" % quality_text\n",
    "file_name= 'ntrips_purpose_%s.png' % file_suffix\n",
    "pie_chart_purpose(plot_title,labels_tp,values_tp,file_name)"
   ]
  },
  {
   "cell_type": "markdown",
   "id": "crucial-keyboard",
   "metadata": {},
   "source": [
    "# Transport of Choice for Trips Under 10 Miles"
   ]
  },
  {
   "cell_type": "code",
   "execution_count": null,
   "id": "identified-replica",
   "metadata": {},
   "outputs": [],
   "source": [
    "labels_d10 = expanded_ct.loc[(expanded_ct['distance_miles'] <= 10)].Mode_confirm.value_counts(dropna=True)[:10].keys().tolist()\n",
    "values_d10 = expanded_ct.loc[(expanded_ct['distance_miles'] <= 10)].Mode_confirm.value_counts(dropna=True)[:10].tolist()\n",
    "plot_title=\"Mode confirmations for trips under 10 Miles\\n%s\" % quality_text\n",
    "file_name ='ntrips_under10miles_mode_confirm%s.png' % file_suffix\n",
    "pie_chart_mode(plot_title,labels_d10,values_d10,file_name)"
   ]
  },
  {
   "cell_type": "markdown",
   "id": "dominant-company",
   "metadata": {},
   "source": [
    "# Miles per transport mode selected (Mode_confirm)"
   ]
  },
  {
   "cell_type": "code",
   "execution_count": null,
   "id": "satisfied-sharing",
   "metadata": {},
   "outputs": [],
   "source": [
    "miles = expanded_ct.groupby('Mode_confirm').agg({'distance_miles': ['sum', 'count' , 'mean']})\n",
    "miles.columns = ['Total (miles)', 'Count', 'Average (miles)']\n",
    "miles = miles.reset_index()\n",
    "miles =miles.sort_values(by=['Total (miles)'], ascending=False)\n",
    "\n",
    "#data\n",
    "miles_dict = dict(zip(miles['Mode_confirm'], miles['Total (miles)']))\n",
    "\n",
    "labels_m = []\n",
    "values_m = []\n",
    "\n",
    "for x, y in miles_dict.items():\n",
    "    labels_m.append(x)\n",
    "    values_m.append(y)\n",
    "\n",
    "labels_miles = labels_m[:5]\n",
    "values_miles = values_m[:5]\n",
    "plot_title=\"Miles for each mode (selected by users)\\n%s\" % quality_text\n",
    "file_name ='miles_mode_confirm_%s.png' % file_suffix\n",
    "pie_chart_mode(plot_title,labels_miles,values_miles,file_name)\n",
    "print(miles)"
   ]
  },
  {
   "cell_type": "markdown",
   "id": "demanding-franklin",
   "metadata": {},
   "source": [
    "# Average Miles per transport mode selected (Mode_confirm)"
   ]
  },
  {
   "cell_type": "code",
   "execution_count": null,
   "id": "patent-cliff",
   "metadata": {},
   "outputs": [],
   "source": [
    "data = miles.sort_values(by=['Average (miles)'], ascending=False)\n",
    "x='Mode_confirm'\n",
    "y='Average (miles)'\n",
    "\n",
    "plot_title=\" Average Miles for each mode (selected by users)\\n%s\" % quality_text\n",
    "file_name ='average_miles_mode_confirm_%s.png' % file_suffix\n",
    "\n",
    "barplot_mode(data,x,y,plot_title,file_name)"
   ]
  },
  {
   "cell_type": "code",
   "execution_count": null,
   "id": "swiss-cleanup",
   "metadata": {},
   "outputs": [],
   "source": [
    "data = miles.sort_values(by=['Average (miles)'], ascending=False)\n",
    "x='Mode_confirm'\n",
    "y='Average (miles)'\n",
    "y2 = \"Count\"\n",
    "\n",
    "plot_title=\" Average Miles for each mode (selected by users)\\n%s\" % quality_text\n",
    "file_name ='average_miles_mode_confirm_%s.png' % file_suffix\n",
    "\n",
    "barplot_mode2(data,x,y,y2,plot_title,file_name)"
   ]
  },
  {
   "cell_type": "markdown",
   "id": "sound-bradley",
   "metadata": {},
   "source": [
    "# Number of Trips by Day¶"
   ]
  },
  {
   "cell_type": "code",
   "execution_count": null,
   "id": "alleged-subsection",
   "metadata": {},
   "outputs": [],
   "source": [
    "fq_days = expanded_ct.groupby(['start_local_dt_day']).agg({'start_local_dt_day': ['sum', 'count']})\n",
    "fq_days = fq_days.reset_index()\n",
    "fq_days.columns = ['Day of the Month', 'Total', 'Number of Trips']\n",
    "fq_days"
   ]
  },
  {
   "cell_type": "code",
   "execution_count": null,
   "id": "working-michigan",
   "metadata": {},
   "outputs": [],
   "source": [
    "data = fq_days\n",
    "x = 'Day of the Month'\n",
    "y = 'Number of Trips'\n",
    "\n",
    "plot_title=\"Number of trips by day\\n%s\" % quality_text\n",
    "file_name ='number_of_trips_by_day_%s.png' % file_suffix\n",
    "\n",
    "barplot_day(data,x,y,plot_title,file_name)"
   ]
  },
  {
   "cell_type": "code",
   "execution_count": null,
   "id": "imperial-genesis",
   "metadata": {},
   "outputs": [],
   "source": []
  }
 ],
 "metadata": {
  "kernelspec": {
   "display_name": "Python 3",
   "language": "python",
   "name": "python3"
  },
  "language_info": {
   "codemirror_mode": {
    "name": "ipython",
    "version": 3
   },
   "file_extension": ".py",
   "mimetype": "text/x-python",
   "name": "python",
   "nbconvert_exporter": "python",
   "pygments_lexer": "ipython3",
   "version": "3.7.9"
  }
 },
 "nbformat": 4,
 "nbformat_minor": 5
}
