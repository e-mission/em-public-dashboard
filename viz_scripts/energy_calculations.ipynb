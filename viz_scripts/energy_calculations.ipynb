{
 "cells": [
  {
   "cell_type": "markdown",
   "id": "future-boating",
   "metadata": {},
   "source": [
    "## Generate static graphs"
   ]
  },
  {
   "cell_type": "markdown",
   "id": "adopted-muscle",
   "metadata": {},
   "source": [
    "These are the input parameters for the notebook. They will be automatically changed when the scripts to generate monthly statistics are run. You can modify them manually to generate multiple plots locally as well.\n",
    "\n",
    "Pass in `None` to remove the filters and plot all data. This is not recommended for production settings, but might be useful for reports based on data snapshots."
   ]
  },
  {
   "cell_type": "code",
   "execution_count": null,
   "id": "bigger-magnet",
   "metadata": {},
   "outputs": [],
   "source": [
    "year = 2020\n",
    "month = 11\n",
    "program = \"prepilot\""
   ]
  },
  {
   "cell_type": "code",
   "execution_count": null,
   "id": "respiratory-spanking",
   "metadata": {},
   "outputs": [],
   "source": [
    "import pandas as pd\n",
    "import numpy as np\n",
    "import matplotlib.pyplot as plt\n",
    "import seaborn as sns\n",
    "from collections import defaultdict\n",
    "\n",
    "sns.set_style(\"whitegrid\")\n",
    "sns.set()\n",
    "%matplotlib inline"
   ]
  },
  {
   "cell_type": "code",
   "execution_count": null,
   "id": "criminal-parker",
   "metadata": {},
   "outputs": [],
   "source": [
    "import scaffolding \n",
    "from plots import *"
   ]
  },
  {
   "cell_type": "code",
   "execution_count": null,
   "id": "neutral-hudson",
   "metadata": {},
   "outputs": [],
   "source": [
    "# Loading mapping dictionaries from mapping_dictionaries notebook\n",
    "%store -r dic_ei\n",
    "%store -r dic_re\n",
    "%store -r dic_pur\n",
    "\n",
    "# convert a dictionary to a defaultdict\n",
    "dic_pur = defaultdict(lambda: 'Other',dic_pur)\n",
    "dic_re = defaultdict(lambda: 'Other',dic_re)"
   ]
  },
  {
   "cell_type": "code",
   "execution_count": null,
   "id": "corrected-seven",
   "metadata": {},
   "outputs": [],
   "source": [
    "dic_pur"
   ]
  },
  {
   "cell_type": "code",
   "execution_count": null,
   "id": "congressional-history",
   "metadata": {},
   "outputs": [],
   "source": [
    "tq = scaffolding.get_time_query(year, month)"
   ]
  },
  {
   "cell_type": "code",
   "execution_count": null,
   "id": "lesser-madrid",
   "metadata": {},
   "outputs": [],
   "source": [
    "participant_ct_df = scaffolding.load_all_participant_trips(program, tq)"
   ]
  },
  {
   "cell_type": "code",
   "execution_count": null,
   "id": "excess-butterfly",
   "metadata": {},
   "outputs": [],
   "source": [
    "labeled_ct = scaffolding.filter_labeled_trips(participant_ct_df)"
   ]
  },
  {
   "cell_type": "code",
   "execution_count": null,
   "id": "sustainable-judge",
   "metadata": {},
   "outputs": [],
   "source": [
    "expanded_ct = scaffolding.expand_userinputs(labeled_ct)"
   ]
  },
  {
   "cell_type": "code",
   "execution_count": null,
   "id": "english-atlanta",
   "metadata": {},
   "outputs": [],
   "source": [
    "expanded_ct = scaffolding.data_quality_check(expanded_ct)\n",
    "expanded_ct.shape"
   ]
  },
  {
   "cell_type": "code",
   "execution_count": null,
   "id": "involved-image",
   "metadata": {},
   "outputs": [],
   "source": [
    "## Mapping new labels with dictionaries\n",
    "expanded_ct['Trip_purpose']= expanded_ct['purpose_confirm'].map(dic_pur)\n",
    "expanded_ct['Mode_confirm']= expanded_ct['mode_confirm'].map(dic_re)\n",
    "expanded_ct['Replaced_mode']= expanded_ct['replaced_mode'].map(dic_re)"
   ]
  },
  {
   "cell_type": "code",
   "execution_count": null,
   "id": "compressed-syndicate",
   "metadata": {},
   "outputs": [],
   "source": [
    "# Energy Impact Calculation\n",
    "expanded_ct = scaffolding.energy_cal(expanded_ct,dic_ei)"
   ]
  },
  {
   "cell_type": "code",
   "execution_count": null,
   "id": "prompt-manufacturer",
   "metadata": {},
   "outputs": [],
   "source": [
    "file_suffix = scaffolding.get_file_suffix(year, month, program)\n",
    "quality_text = scaffolding.get_quality_text(participant_ct_df, expanded_ct)"
   ]
  },
  {
   "cell_type": "markdown",
   "id": "immune-hollow",
   "metadata": {},
   "source": [
    "# Distance vs. Energy_Impact (kWH) by Mode_confirm"
   ]
  },
  {
   "cell_type": "code",
   "execution_count": null,
   "id": "activated-score",
   "metadata": {
    "scrolled": false
   },
   "outputs": [],
   "source": [
    "data=expanded_ct.loc[(expanded_ct['distance_miles'] <= 40)].sort_values(by=['Energy_Impact(kWH)'], ascending=False)   \n",
    "x='Energy_Impact(kWH)'\n",
    "y='distance_miles'\n",
    "legend ='Mode_confirm'\n",
    "plot_title=\"Sketch of Energy Impact (kWH) by Travel Mode Selected\\n%s\" % quality_text\n",
    "file_name ='sketch_distance_energy_impact%s.png' % file_suffix\n",
    "distancevsenergy(data,x,y,legend,plot_title,file_name)"
   ]
  },
  {
   "cell_type": "markdown",
   "id": "incorporate-easter",
   "metadata": {},
   "source": [
    "# Energy_Impact (kWH)"
   ]
  },
  {
   "cell_type": "code",
   "execution_count": null,
   "id": "funny-flour",
   "metadata": {},
   "outputs": [],
   "source": [
    "#eirp : energy impact replaced_mode\n",
    "eirc=expanded_ct.groupby('Replaced_mode').agg({'Energy_Impact(kWH)': ['sum', 'mean']},)\n",
    "eirc.columns = ['Sketch of Total Energy_Impact(kWH)', 'Sketch of Average Energy_Impact(kWH)']\n",
    "eirc = eirc.reset_index()\n",
    "eirc = eirc.sort_values(by=['Sketch of Total Energy_Impact(kWH)'], ascending=False)\n",
    "eirc['boolean'] = eirc['Sketch of Total Energy_Impact(kWH)'] > 0\n",
    "\n",
    "#eimc : energy impact mode_confirm\n",
    "eimc=expanded_ct.groupby('Mode_confirm').agg({'Energy_Impact(kWH)': ['sum', 'mean']},)\n",
    "eimc.columns = ['Sketch of Total Energy_Impact(kWH)', 'Sketch of Average Energy_Impact(kWH)']\n",
    "eimc = eimc.reset_index()\n",
    "eimc = eimc.sort_values(by=['Sketch of Total Energy_Impact(kWH)'], ascending=False)\n",
    "\n",
    "\n",
    "subset1 = eirc [['Replaced_mode', 'Sketch of Total Energy_Impact(kWH)']].copy()\n",
    "subset1.rename(columns = {'Replaced_mode':'Transport Mode','Sketch of Total Energy_Impact(kWH)':'Replaced_Mode' }, inplace=True)\n",
    "\n",
    "subset2 = eimc [['Mode_confirm', 'Sketch of Total Energy_Impact(kWH)']].copy()\n",
    "subset2.rename(columns = {'Mode_confirm':'Transport Mode','Sketch of Total Energy_Impact(kWH)':'Mode_Confirm' }, inplace=True)\n",
    "\n",
    "df_plot = pd.merge(subset1, subset2, on=\"Transport Mode\")\n",
    "df = pd.melt(df_plot , id_vars=['Transport Mode'], value_vars=['Replaced_Mode','Mode_Confirm'], var_name='selection')\n",
    "df.rename(columns = {'value':'Energy Impact (kWH)'}, inplace = True)"
   ]
  },
  {
   "cell_type": "code",
   "execution_count": null,
   "id": "vocal-canadian",
   "metadata": {},
   "outputs": [],
   "source": [
    "df"
   ]
  },
  {
   "cell_type": "code",
   "execution_count": null,
   "id": "japanese-norwegian",
   "metadata": {
    "scrolled": false
   },
   "outputs": [],
   "source": [
    "df= df.sort_values(by=['Energy Impact (kWH)'], ascending=False)\n",
    "x= 'Energy Impact (kWH)'\n",
    "y= 'Transport Mode'\n",
    "color = 'selection'\n",
    "plot_title=\"Sketch of Energy Impact (kWH) by Transport Mode\\n%s\" % quality_text\n",
    "file_name ='sketch_all_energy_impact%s.png' % file_suffix\n",
    "overeall_energy_impact(x,y,color,df,plot_title,file_name)"
   ]
  },
  {
   "cell_type": "markdown",
   "id": "disciplinary-monitoring",
   "metadata": {},
   "source": [
    "# Sketch of Total Energy_Impact (kWH) by Replaced_mode"
   ]
  },
  {
   "cell_type": "code",
   "execution_count": null,
   "id": "educated-insert",
   "metadata": {},
   "outputs": [],
   "source": [
    "net_energy_saved = round(sum(eirc['Sketch of Total Energy_Impact(kWH)']), 2)\n",
    "\n",
    "x = eirc['Sketch of Total Energy_Impact(kWH)']\n",
    "y = eirc['Replaced_mode']\n",
    "color =eirc['boolean']\n",
    "\n",
    "plot_title=\"Sketch of Energy Impact for all confirmed trips \\n Contribution by mode towards a total of %s (kWH) \\n%s\" % (net_energy_saved, quality_text)\n",
    "file_name ='sketch_all_mode_energy_impact%s.png' % file_suffix\n",
    "energy_impact(x,y,color,plot_title,file_name)"
   ]
  },
  {
   "cell_type": "markdown",
   "id": "binding-oracle",
   "metadata": {},
   "source": [
    "# Sketch of Energy Impact by E-bike trips"
   ]
  },
  {
   "cell_type": "code",
   "execution_count": null,
   "id": "creative-driver",
   "metadata": {
    "scrolled": false
   },
   "outputs": [],
   "source": [
    "data_eb = expanded_ct.query(\"Mode_confirm == 'Pilot ebike'\")\n",
    "# ebei : ebike energy impact\n",
    "ebei=data_eb.groupby('Replaced_mode').agg({'Energy_Impact(kWH)': ['sum', 'mean']},)\n",
    "ebei.columns = ['Sketch of Total Energy_Impact(kWH)', 'Sketch of Average Energy_Impact(kWH)']\n",
    "ebei= ebei.reset_index()\n",
    "ebei = ebei.sort_values(by=['Sketch of Total Energy_Impact(kWH)'], ascending=False)\n",
    "ebei['boolean'] = ebei['Sketch of Total Energy_Impact(kWH)'] > 0\n",
    "net_energy_saved = round(sum(ebei['Sketch of Total Energy_Impact(kWH)']), 2)\n",
    "\n",
    "x = ebei['Sketch of Total Energy_Impact(kWH)']\n",
    "y = ebei['Replaced_mode']\n",
    "color =ebei['boolean']\n",
    "\n",
    "plot_title=\"Sketch of Energy Impact of E-Bike trips\\n Contribution by replaced mode towards a total of %s (kWH)\\n %s\" % (net_energy_saved, quality_text)\n",
    "file_name ='sketch_energy_impact_ebike%s.png' % file_suffix\n",
    "energy_impact(x,y,color,plot_title,file_name)"
   ]
  },
  {
   "cell_type": "markdown",
   "id": "black-aruba",
   "metadata": {},
   "source": [
    "# CO2 Emmissions Calculation"
   ]
  },
  {
   "cell_type": "code",
   "execution_count": null,
   "id": "expressed-mother",
   "metadata": {},
   "outputs": [],
   "source": [
    "expanded_ct.Mode_confirm.unique()"
   ]
  },
  {
   "cell_type": "markdown",
   "id": "desperate-application",
   "metadata": {},
   "source": [
    "(df[\"distance_miles\"]/23.2)*19.60\n",
    "miles*mpg = gal* lb CO2/gal\n",
    "\n",
    "ebike\n",
    "kWH/passenger mile *0.001 (MWH/kWH)* lb CO2/MWH\n",
    "\n"
   ]
  },
  {
   "cell_type": "code",
   "execution_count": null,
   "id": "careful-structure",
   "metadata": {},
   "outputs": [],
   "source": [
    "def CO2_emmsions(df):\n",
    "    if (df[\"Mode_confirm\"] == 'Car, drove alone'):\n",
    "        return  ((df[\"distance_miles\"]*4374)*0.000001)*157.2 \n",
    "    elif (df[\"Mode_confirm\"] ==  'Car, with others'):\n",
    "        return  ((df[\"distance_miles\"]*2840)*0.000001)*157.2 \n",
    "    elif (df[\"Mode_confirm\"] == 'Taxi/Uber/Lyft'):\n",
    "        return  ((df[\"distance_miles\"]*7214)*0.000001)*157.2 \n",
    "    elif df[\"Mode_confirm\"] ==  'Bus':\n",
    "        return ((df[\"distance_miles\"]*4560)*0.000001)*163.1\n",
    "    elif df[\"Mode_confirm\"] ==  'Train':\n",
    "        return (df[\"distance_miles\"]*0.37*0.001*1166)\n",
    "    elif df[\"Mode_confirm\"] ==  'Pilot ebike'or (df[\"Mode_confirm\"] == 'Bikeshare'):\n",
    "        return (df[\"distance_miles\"]*0.022*0.001*1166)\n",
    "    elif df[\"Mode_confirm\"] == 'Scooter share' :\n",
    "        return (df[\"distance_miles\"]*0.027*0.001*1166)\n",
    "  \n",
    "    else:\n",
    "        return 0"
   ]
  },
  {
   "cell_type": "code",
   "execution_count": null,
   "id": "protective-personal",
   "metadata": {},
   "outputs": [],
   "source": [
    "expanded_ct['lbCO2'] = expanded_ct.apply(CO2_emmsions, axis=1)"
   ]
  },
  {
   "cell_type": "code",
   "execution_count": null,
   "id": "collect-demographic",
   "metadata": {},
   "outputs": [],
   "source": [
    "expanded_ct[[\"distance_miles\",'Mode_confirm', 'lbCO2']]"
   ]
  },
  {
   "cell_type": "code",
   "execution_count": null,
   "id": "amended-racing",
   "metadata": {},
   "outputs": [],
   "source": [
    "data = expanded_ct\n",
    "x = 'lbCO2'\n",
    "y = 'Mode_confirm'\n",
    "\n",
    "\n",
    "plot_title=\"Pounds of CO2 Emmisions by mode selected by users\"\n",
    "file_name ='CO2%s.png' % file_suffix\n",
    "barplot_mode(data,x,y,plot_title,file_name)"
   ]
  },
  {
   "cell_type": "code",
   "execution_count": null,
   "id": "hearing-occupation",
   "metadata": {},
   "outputs": [],
   "source": []
  },
  {
   "cell_type": "code",
   "execution_count": null,
   "id": "employed-system",
   "metadata": {},
   "outputs": [],
   "source": []
  }
 ],
 "metadata": {
  "kernelspec": {
   "display_name": "Python 3",
   "language": "python",
   "name": "python3"
  },
  "language_info": {
   "codemirror_mode": {
    "name": "ipython",
    "version": 3
   },
   "file_extension": ".py",
   "mimetype": "text/x-python",
   "name": "python",
   "nbconvert_exporter": "python",
   "pygments_lexer": "ipython3",
   "version": "3.7.9"
  }
 },
 "nbformat": 4,
 "nbformat_minor": 5
}
