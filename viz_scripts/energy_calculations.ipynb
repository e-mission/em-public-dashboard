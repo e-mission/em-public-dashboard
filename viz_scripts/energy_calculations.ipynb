{
 "cells": [
  {
   "cell_type": "markdown",
   "id": "united-feeding",
   "metadata": {},
   "source": [
    "## Generate Static Graphs"
   ]
  },
  {
   "cell_type": "markdown",
   "id": "outdoor-celebrity",
   "metadata": {},
   "source": [
    "These are the input parameters for the notebook. They will be automatically changed when the scripts to generate monthly statistics are run. You can modify them manually to generate multiple plots locally as well.\n",
    "\n",
    "Pass in `None` to remove the filters and plot all data. This is not recommended for production settings, but might be useful for reports based on data snapshots."
   ]
  },
  {
   "cell_type": "code",
   "execution_count": null,
   "id": "determined-matrix",
   "metadata": {},
   "outputs": [],
   "source": [
    "year = 2020\n",
    "month = 11\n",
    "program = \"default\"\n",
    "study_type = \"program\"\n",
    "mode_of_interest = \"e-bike\""
   ]
  },
  {
   "cell_type": "code",
   "execution_count": null,
   "id": "pharmaceutical-survival",
   "metadata": {},
   "outputs": [],
   "source": [
    "from collections import defaultdict\n",
    "\n",
    "import numpy as np\n",
    "import pandas as pd\n",
    "\n",
    "from plots import *\n",
    "import scaffolding\n",
    "\n",
    "sns.set_style(\"whitegrid\")\n",
    "sns.set()\n",
    "%matplotlib inline"
   ]
  },
  {
   "cell_type": "code",
   "execution_count": null,
   "id": "furnished-silicon",
   "metadata": {},
   "outputs": [],
   "source": [
    "# Do not run this notebook at all unless it is for a program; nbclient will run up through this cell\n",
    "if study_type != \"program\":\n",
    "    raise Exception(\"The plots in this notebook are only relevant to programs\")"
   ]
  },
  {
   "cell_type": "code",
   "execution_count": null,
   "id": "nearby-fruit",
   "metadata": {},
   "outputs": [],
   "source": [
    "# Loading mapping dictionaries from mapping_dictionaries notebook\n",
    "%store -r df_ei\n",
    "%store -r dic_re\n",
    "%store -r dic_pur\n",
    "%store -r dic_fuel\n",
    "\n",
    "# convert a dictionary to a defaultdict\n",
    "dic_re = defaultdict(lambda: 'Other',dic_re)\n",
    "dic_pur = defaultdict(lambda: 'Other',dic_pur)\n",
    "dic_fuel = defaultdict(lambda: 'Other',dic_fuel)"
   ]
  },
  {
   "cell_type": "markdown",
   "id": "parallel-patch",
   "metadata": {},
   "source": [
    "## Collect Data From Database"
   ]
  },
  {
   "cell_type": "code",
   "execution_count": null,
   "id": "sufficient-kingston",
   "metadata": {
    "scrolled": false
   },
   "outputs": [],
   "source": [
    "expanded_ct, file_suffix, quality_text = scaffolding.load_viz_notebook_data(year,\n",
    "                                                                            month,\n",
    "                                                                            program,\n",
    "                                                                            study_type,\n",
    "                                                                            dic_re,\n",
    "                                                                            dic_pur=dic_pur)\n",
    "expanded_ct = scaffolding.add_energy_labels(expanded_ct, df_ei, dic_fuel)"
   ]
  },
  {
   "cell_type": "markdown",
   "id": "caring-aruba",
   "metadata": {},
   "source": [
    "## Energy Impacts Relative to Specific Mode"
   ]
  },
  {
   "cell_type": "code",
   "execution_count": null,
   "id": "blessed-leader",
   "metadata": {},
   "outputs": [],
   "source": [
    "data_eb = expanded_ct.query(f\"mode_confirm == '{mode_of_interest}'\")"
   ]
  },
  {
   "cell_type": "code",
   "execution_count": null,
   "id": "seeing-court",
   "metadata": {},
   "outputs": [],
   "source": [
    "quality_text_mode = scaffolding.get_quality_text(expanded_ct, data_eb, mode_of_interest)"
   ]
  },
  {
   "cell_type": "markdown",
   "id": "ready-return",
   "metadata": {},
   "source": [
    "### Energy impact (kWH)"
   ]
  },
  {
   "cell_type": "code",
   "execution_count": null,
   "id": "adequate-oriental",
   "metadata": {
    "scrolled": false
   },
   "outputs": [],
   "source": [
    "#eirp : energy impact replaced_mode\n",
    "eirc=expanded_ct.groupby('Replaced_mode').agg({'Energy_Impact(kWH)': ['sum', 'mean']},)\n",
    "eirc.columns = ['Sketch of Total Energy_Impact(kWH)', 'Sketch of Average Energy_Impact(kWH)']\n",
    "eirc = eirc.reset_index()\n",
    "eirc = eirc.sort_values(by=['Sketch of Total Energy_Impact(kWH)'], ascending=False)\n",
    "eirc['boolean'] = eirc['Sketch of Total Energy_Impact(kWH)'] > 0\n",
    "\n",
    "subset1 = eirc [['Replaced_mode', 'Sketch of Total Energy_Impact(kWH)']].copy()\n",
    "subset1.rename(columns = {'Replaced_mode':'Transport Mode','Sketch of Total Energy_Impact(kWH)':'Replaced_Mode' }, inplace=True)\n",
    "\n",
    "#eimc : energy impact mode_confirm\n",
    "eimc=expanded_ct.groupby('Mode_confirm').agg({'Energy_Impact(kWH)': ['sum', 'mean']},)\n",
    "eimc.columns = ['Sketch of Total Energy_Impact(kWH)', 'Sketch of Average Energy_Impact(kWH)']\n",
    "eimc = eimc.reset_index()\n",
    "eimc = eimc.sort_values(by=['Sketch of Total Energy_Impact(kWH)'], ascending=False)\n",
    "\n",
    "subset2 = eimc [['Mode_confirm', 'Sketch of Total Energy_Impact(kWH)']].copy()\n",
    "subset2.rename(columns = {'Mode_confirm':'Transport Mode','Sketch of Total Energy_Impact(kWH)':'Mode_Confirm' }, inplace=True)\n",
    "\n",
    "df_plot = pd.merge(subset1, subset2, on=\"Transport Mode\")\n",
    "df = pd.melt(df_plot , id_vars=['Transport Mode'], value_vars=['Replaced_Mode','Mode_Confirm'], var_name='selection')\n",
    "df.rename(columns = {'value':'Energy Impact (kWH)'}, inplace = True)\n",
    "\n",
    "df= df.sort_values(by=['Energy Impact (kWH)'], ascending=False)\n",
    "x= 'Energy Impact (kWH)'\n",
    "y= 'Transport Mode'\n",
    "color = 'selection'\n",
    "plot_title=\"Sketch of Energy Impact (kWH) by Transport Mode\\n%s\" % quality_text\n",
    "file_name ='sketch_all_energy_impact%s' % file_suffix\n",
    "overeall_energy_impact(x,y,color,df,plot_title,file_name)\n",
    "alt_text = store_alt_text_bar(pd.DataFrame(df['Energy Impact (kWH)'].values, df['selection'] + '; ' + df['Transport Mode']), file_name, plot_title)"
   ]
  },
  {
   "cell_type": "markdown",
   "id": "loose-puppy",
   "metadata": {},
   "source": [
    "### Sketch of total energy_impact (kWH) by Replaced_mode"
   ]
  },
  {
   "cell_type": "code",
   "execution_count": null,
   "id": "emotional-universal",
   "metadata": {},
   "outputs": [],
   "source": [
    "net_energy_saved = round(sum(eirc['Sketch of Total Energy_Impact(kWH)']), 2)\n",
    "\n",
    "x = eirc['Sketch of Total Energy_Impact(kWH)']\n",
    "y = eirc['Replaced_mode']\n",
    "color =eirc['boolean']\n",
    "\n",
    "plot_title=\"Sketch of Energy Impact for all confirmed trips \\n Contribution by mode towards a total of %s (kWH) \\n%s\" % (net_energy_saved, quality_text)\n",
    "file_name ='sketch_all_mode_energy_impact%s' % file_suffix\n",
    "energy_impact(x,y,color,plot_title,file_name)\n",
    "alt_text = store_alt_text_bar(pd.DataFrame(x,y), file_name, plot_title)"
   ]
  },
  {
   "cell_type": "markdown",
   "id": "advanced-complexity",
   "metadata": {},
   "source": [
    "### Sketch of energy impact by trips for specified mode"
   ]
  },
  {
   "cell_type": "code",
   "execution_count": null,
   "id": "dense-programmer",
   "metadata": {
    "scrolled": false
   },
   "outputs": [],
   "source": [
    "# ebei : ebike energy impact\n",
    "ebei=data_eb.groupby('Replaced_mode').agg({'Energy_Impact(kWH)': ['sum', 'mean']},)\n",
    "ebei.columns = ['Sketch of Total Energy_Impact(kWH)', 'Sketch of Average Energy_Impact(kWH)']\n",
    "ebei= ebei.reset_index()\n",
    "ebei = ebei.sort_values(by=['Sketch of Total Energy_Impact(kWH)'], ascending=False)\n",
    "ebei['boolean'] = ebei['Sketch of Total Energy_Impact(kWH)'] > 0\n",
    "net_energy_saved = round(sum(ebei['Sketch of Total Energy_Impact(kWH)']), 2)\n",
    "\n",
    "x = ebei['Sketch of Total Energy_Impact(kWH)']\n",
    "y = ebei['Replaced_mode']\n",
    "color =ebei['boolean']\n",
    "\n",
    "plot_title=f\"Sketch of Energy Impact of {mode_of_interest} trips\\n Contribution by replaced mode towards a total of %s (kWH)\\n %s\" % (net_energy_saved, quality_text_mode)\n",
    "file_name =f'sketch_energy_impact_{mode_of_interest}%s' % file_suffix\n",
    "energy_impact(x,y,color,plot_title,file_name)\n",
    "alt_text = store_alt_text_bar(pd.DataFrame(x.values,y), file_name, plot_title)"
   ]
  },
  {
   "cell_type": "markdown",
   "id": "crazy-retreat",
   "metadata": {},
   "source": [
    "### Sketch of total CO2 emissions by Replaced_mode"
   ]
  },
  {
   "cell_type": "code",
   "execution_count": null,
   "id": "annoying-vault",
   "metadata": {},
   "outputs": [],
   "source": [
    "co2rp=expanded_ct.groupby('Replaced_mode').agg({'CO2_Impact(lb)': ['sum', 'mean']},)\n",
    "co2rp.columns = ['total_lb_CO2_emissions', 'average_lb_CO2_emission']\n",
    "co2rp = co2rp.reset_index()\n",
    "co2rp= co2rp.sort_values(by=['total_lb_CO2_emissions'], ascending=False)\n",
    "co2rp['boolean'] = co2rp['total_lb_CO2_emissions'] > 0\n",
    "\n",
    "net_CO2_saved = round(sum(co2rp['total_lb_CO2_emissions']), 2)\n",
    "\n",
    "x = co2rp['total_lb_CO2_emissions']\n",
    "y = co2rp['Replaced_mode']\n",
    "color =co2rp['boolean']\n",
    "\n",
    "plot_title=\"Sketch of CO2 Emissions Impact for all confirmed trips \\n Contribution by mode towards a total of %s (kWH) \\n%s\" % (net_CO2_saved, quality_text)\n",
    "file_name ='sketch_all_mode_CO2impact%s' % file_suffix\n",
    "CO2_impact(x,y,color,plot_title,file_name)\n",
    "alt_text = store_alt_text_bar(pd.DataFrame(x.values,y), file_name, plot_title)"
   ]
  },
  {
   "cell_type": "markdown",
   "id": "strategic-sheet",
   "metadata": {},
   "source": [
    "### Sketch of CO2 emissions impact by trips of specified mode"
   ]
  },
  {
   "cell_type": "code",
   "execution_count": null,
   "id": "animated-place",
   "metadata": {},
   "outputs": [],
   "source": [
    "ebco2=data_eb.groupby('Replaced_mode').agg({'CO2_Impact(lb)': ['sum', 'mean']},)\n",
    "ebco2.columns = ['total_lb_CO2_emissions', 'average_lb_CO2_emission']\n",
    "ebco2 = ebco2.reset_index()\n",
    "ebco2 = ebco2.sort_values(by=['total_lb_CO2_emissions'], ascending=False)\n",
    "ebco2['boolean'] = ebco2['total_lb_CO2_emissions'] > 0\n",
    "net_CO2_emissions = round(sum(ebco2['total_lb_CO2_emissions']), 2)\n",
    "\n",
    "x = ebco2['total_lb_CO2_emissions']\n",
    "y = ebco2['Replaced_mode']\n",
    "color = ebco2['boolean']\n",
    "\n",
    "plot_title=f\"Sketch of Total Pounds of CO2 Emissions of {mode_of_interest} trips\\n Contribution by replaced mode towards a total of %s (lb CO2 Emissions )\\n %s\" % (net_CO2_emissions, quality_text_mode)\n",
    "file_name =f'sketch_CO2impact_{mode_of_interest}%s' % file_suffix\n",
    "CO2_impact(x,y,color,plot_title,file_name)\n",
    "alt_text = store_alt_text_bar(pd.DataFrame(x.values,y), file_name, plot_title)"
   ]
  }
 ],
 "metadata": {
  "kernelspec": {
   "display_name": "Python 3",
   "language": "python",
   "name": "python3"
  },
  "language_info": {
   "codemirror_mode": {
    "name": "ipython",
    "version": 3
   },
   "file_extension": ".py",
   "mimetype": "text/x-python",
   "name": "python",
   "nbconvert_exporter": "python",
   "pygments_lexer": "ipython3",
   "version": "3.7.9"
  }
 },
 "nbformat": 4,
 "nbformat_minor": 5
}
