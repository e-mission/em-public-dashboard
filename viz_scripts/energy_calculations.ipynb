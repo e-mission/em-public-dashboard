{
 "cells": [
  {
   "cell_type": "markdown",
   "id": "united-feeding",
   "metadata": {},
   "source": [
    "## Generate Static Graphs"
   ]
  },
  {
   "cell_type": "markdown",
   "id": "outdoor-celebrity",
   "metadata": {},
   "source": [
    "These are the input parameters for the notebook. They will be automatically changed when the scripts to generate monthly statistics are run. You can modify them manually to generate multiple plots locally as well.\n",
    "\n",
    "Pass in `None` to remove the filters and plot all data. This is not recommended for production settings, but might be useful for reports based on data snapshots."
   ]
  },
  {
   "cell_type": "code",
   "execution_count": null,
   "id": "determined-matrix",
   "metadata": {},
   "outputs": [],
   "source": [
    "year = 2020\n",
    "month = 11\n",
    "program = \"default\"\n",
    "study_type = \"program\"\n",
    "mode_of_interest = \"e-bike\"\n",
    "include_test_users = False\n",
    "is_debug_mode = False\n",
    "dynamic_labels = {}"
   ]
  },
  {
   "cell_type": "code",
   "execution_count": null,
   "id": "pharmaceutical-survival",
   "metadata": {},
   "outputs": [],
   "source": [
    "from collections import defaultdict\n",
    "\n",
    "import numpy as np\n",
    "import pandas as pd\n",
    "\n",
    "from plots import *\n",
    "import scaffolding\n",
    "\n",
    "sns.set_style(\"whitegrid\")\n",
    "sns.set()\n",
    "%matplotlib inline"
   ]
  },
  {
   "cell_type": "code",
   "execution_count": null,
   "id": "furnished-silicon",
   "metadata": {},
   "outputs": [],
   "source": [
    "# Do not run this notebook at all unless it is for a program; nbclient will run up through this cell\n",
    "if study_type != \"program\":\n",
    "    ipython = get_ipython()\n",
    "    ipython._showtraceback = scaffolding.no_traceback_handler\n",
    "    raise Exception(\"The plots in this notebook are only relevant to programs\")"
   ]
  },
  {
   "cell_type": "code",
   "execution_count": null,
   "id": "nearby-fruit",
   "metadata": {},
   "outputs": [],
   "source": [
    "# Loading mapping dictionaries from mapping_dictionaries notebook\n",
    "%store -r df_ei\n",
    "%store -r dic_re\n",
    "%store -r dic_pur\n",
    "%store -r dic_fuel\n",
    "\n",
    "# convert a dictionary to a defaultdict\n",
    "dic_re = defaultdict(lambda: 'Other',dic_re)\n",
    "dic_pur = defaultdict(lambda: 'Other',dic_pur)\n",
    "dic_fuel = defaultdict(lambda: 'Other',dic_fuel)"
   ]
  },
  {
   "cell_type": "markdown",
   "id": "parallel-patch",
   "metadata": {},
   "source": [
    "## Collect Data From Database"
   ]
  },
  {
   "cell_type": "code",
   "execution_count": null,
   "id": "sufficient-kingston",
   "metadata": {
    "scrolled": false
   },
   "outputs": [],
   "source": [
    "expanded_ct, file_suffix, quality_text, debug_df = scaffolding.load_viz_notebook_data(year,\n",
    "                                                                            month,\n",
    "                                                                            program,\n",
    "                                                                            study_type,\n",
    "                                                                            dynamic_labels,\n",
    "                                                                            dic_re,\n",
    "                                                                            dic_pur=dic_pur,\n",
    "                                                                            include_test_users=include_test_users)\n",
    "# CASE 1 of https://github.com/e-mission/em-public-dashboard/issues/69#issuecomment-1256835867 \n",
    "expanded_ct = scaffolding.add_energy_impact(expanded_ct, df_ei, dic_fuel, dynamic_labels) if len(expanded_ct) > 0 else expanded_ct"
   ]
  },
  {
   "cell_type": "code",
   "execution_count": null,
   "id": "625872b0",
   "metadata": {},
   "outputs": [],
   "source": [
    "if 'mode_confirm' in expanded_ct.columns:\n",
    "    mode_of_interest_df = expanded_ct.query(f\"mode_confirm == '{mode_of_interest}'\")\n",
    "    debug_df.loc[f\"{mode_of_interest}_trips\"] = len(mode_of_interest_df)\n",
    "    debug_df.loc[f\"{mode_of_interest}_trips_with_replaced_mode\"] = scaffolding.trip_label_count(\"Replaced_mode\", mode_of_interest_df)"
   ]
  },
  {
   "cell_type": "markdown",
   "id": "caring-aruba",
   "metadata": {},
   "source": [
    "## Energy Impacts Relative to Specific Mode"
   ]
  },
  {
   "cell_type": "code",
   "execution_count": null,
   "id": "blessed-leader",
   "metadata": {},
   "outputs": [],
   "source": [
    "# CASE 2 of https://github.com/e-mission/em-public-dashboard/issues/69#issuecomment-1256835867\n",
    "data_eb = expanded_ct.query(f\"mode_confirm == '{mode_of_interest}'\") if \"mode_confirm\" in expanded_ct.columns else expanded_ct"
   ]
  },
  {
   "cell_type": "code",
   "execution_count": null,
   "id": "seeing-court",
   "metadata": {},
   "outputs": [],
   "source": [
    "quality_text_mode = scaffolding.get_quality_text(expanded_ct, data_eb, mode_of_interest)"
   ]
  },
  {
   "cell_type": "markdown",
   "id": "advanced-complexity",
   "metadata": {},
   "source": [
    "### Sketch of energy impact by trips for specified mode"
   ]
  },
  {
   "cell_type": "code",
   "execution_count": null,
   "id": "dense-programmer",
   "metadata": {
    "scrolled": false
   },
   "outputs": [],
   "source": [
    "# ebei : ebike energy impact\n",
    "plot_title_no_quality=f\"Sketch of Energy Impact of {mode_of_interest} trips\"\n",
    "file_name =f'sketch_energy_impact_{mode_of_interest}%s' % file_suffix\n",
    "    \n",
    "try:\n",
    "    ebei=data_eb.groupby('Replaced_mode').agg({'Energy_Impact(kWH)': ['sum', 'mean']},)\n",
    "    ebei.columns = ['Sketch of Total Energy_Impact(kWH)', 'Sketch of Average Energy_Impact(kWH)']\n",
    "    ebei= ebei.reset_index()\n",
    "    ebei = ebei.sort_values(by=['Sketch of Total Energy_Impact(kWH)'], ascending=False)\n",
    "    ebei['boolean'] = ebei['Sketch of Total Energy_Impact(kWH)'] > 0\n",
    "    net_energy_saved = round(sum(ebei['Sketch of Total Energy_Impact(kWH)']), 2)\n",
    "\n",
    "    x = ebei['Sketch of Total Energy_Impact(kWH)']\n",
    "    y = ebei['Replaced_mode']\n",
    "    color =ebei['boolean']\n",
    "\n",
    "    plot_title= plot_title_no_quality+f\"\\n Contribution by replaced mode towards a total of {net_energy_saved}(kWH)\\n\"+quality_text\n",
    "    energy_impact(x,y,color,plot_title,file_name)\n",
    "    alt_text = store_alt_text_bar(pd.DataFrame(x.values,y), file_name, plot_title)\n",
    "except:\n",
    "    generate_missing_plot(plot_title_no_quality,debug_df,file_name)\n",
    "    alt_text = store_alt_text_missing(debug_df, file_name, plot_title_no_quality)"
   ]
  },
  {
   "cell_type": "markdown",
   "id": "strategic-sheet",
   "metadata": {},
   "source": [
    "### Sketch of CO2 emissions impact by trips of specified mode"
   ]
  },
  {
   "cell_type": "code",
   "execution_count": null,
   "id": "animated-place",
   "metadata": {},
   "outputs": [],
   "source": [
    "def ebco2_compute(data_eb, weight_unit):\n",
    "    ebco2=data_eb.groupby('Replaced_mode').agg({f'CO2_Impact({weight_unit})': ['sum', 'mean']},)\n",
    "    ebco2.columns = [f'total_{weight_unit}_CO2_emissions', f'average_{weight_unit}_CO2_emission']\n",
    "    ebco2 = ebco2.reset_index()\n",
    "    ebco2 = ebco2.sort_values(by=[f'total_{weight_unit}_CO2_emissions'], ascending=False)\n",
    "    return ebco2\n",
    "\n",
    "def display_total_CO2_emissions(data_eb, weight_unit, weight_unit_debug, mode_of_interest):\n",
    "    plot_title_no_quality=f\"Sketch of Total {weight_unit} of CO2 Emissions of {mode_of_interest} trips\"\n",
    "    file_name =f'sketch_CO2impact_{mode_of_interest}%s' % file_suffix\n",
    "    \n",
    "    ebco2 = ebco2_compute(data_eb, weight_unit)\n",
    "    net_CO2_emissions = round(sum(ebco2[f'total_{weight_unit}_CO2_emissions']), 2)\n",
    "    ebco2['boolean'] = ebco2[f'total_{weight_unit}_CO2_emissions'] > 0\n",
    "    x = ebco2[f'total_{weight_unit}_CO2_emissions']\n",
    "    y = ebco2['Replaced_mode']\n",
    "    xLabel = f'CO2 Emissions ({weight_unit})'\n",
    "    yLabel = 'Replaced Mode'\n",
    "    color = ebco2['boolean']\n",
    "\n",
    "    plot_title= plot_title_no_quality+f\"\\n Contribution by replaced mode towards a total of {net_CO2_emissions}({weight_unit} CO2 Emissions )\\n\"+quality_text\n",
    "    CO2_impact(x,y,color,plot_title, xLabel,yLabel,file_name)\n",
    "    alt_text = store_alt_text_bar(pd.DataFrame(x.values,y), file_name, plot_title)\n",
    "\n",
    "    # For debugging: Computing and displaying Total CO2 emissions in both Metric(kg) and Imperial(lb) unit system for easy comparison.\n",
    "    if (is_debug_mode == True):\n",
    "        ebco2_debug = ebco2_compute(data_eb, weight_unit_debug)\n",
    "        if (weight_unit == 'kg'):\n",
    "            scaffolding.print_CO2_emission_calculations(data_eb, ebco2_debug, ebco2, dynamic_labels)\n",
    "        else:\n",
    "            scaffolding.print_CO2_emission_calculations(data_eb, ebco2, ebco2_debug, dynamic_labels)\n",
    "\n",
    "try:\n",
    "    if (len(dynamic_labels) > 0):\n",
    "        display_total_CO2_emissions(data_eb,'kg','lb', mode_of_interest)\n",
    "    else:\n",
    "        display_total_CO2_emissions(data_eb,'lb','kg', mode_of_interest)\n",
    "except:\n",
    "    generate_missing_plot(plot_title_no_quality,debug_df,file_name)\n",
    "    alt_text = store_alt_text_missing(debug_df, file_name, plot_title_no_quality)"
   ]
  }
 ],
 "metadata": {
  "kernelspec": {
   "display_name": "Python 3 (ipykernel)",
   "language": "python",
   "name": "python3"
  },
  "language_info": {
   "codemirror_mode": {
    "name": "ipython",
    "version": 3
   },
   "file_extension": ".py",
   "mimetype": "text/x-python",
   "name": "python",
   "nbconvert_exporter": "python",
   "pygments_lexer": "ipython3",
   "version": "3.7.12"
  }
 },
 "nbformat": 4,
 "nbformat_minor": 5
}
