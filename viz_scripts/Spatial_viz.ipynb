{
 "cells": [
  {
   "cell_type": "code",
   "execution_count": null,
   "id": "45b5f52d",
   "metadata": {},
   "outputs": [],
   "source": [
    "import pandas as pd\n",
    "\n",
    "import emission.core.get_database as edb\n",
    "import emission.core.wrapper.entry as ecwe\n",
    "import emission.storage.decorations.analysis_timeseries_queries as esda\n",
    "import emission.storage.decorations.trip_queries as esdt\n",
    "import emission.storage.decorations.timeline as esdl\n",
    "import emission.storage.timeseries.abstract_timeseries as esta\n",
    "import emission.storage.timeseries.timequery as estt\n",
    "import scaffolding\n",
    "from uuid import UUID\n",
    "\n",
    "%matplotlib inline"
   ]
  },
  {
   "cell_type": "code",
   "execution_count": null,
   "id": "37971fe6",
   "metadata": {},
   "outputs": [],
   "source": [
    "year = None\n",
    "month = None\n",
    "program = \"default\"\n",
    "study_type = \"program\"\n",
    "mode_of_interest = \"e-bike\"\n",
    "include_test_users = True"
   ]
  },
  {
   "cell_type": "markdown",
   "id": "f46a0ee4",
   "metadata": {},
   "source": [
    "## Load the programs"
   ]
  },
  {
   "cell_type": "code",
   "execution_count": null,
   "id": "9ca01e6a",
   "metadata": {},
   "outputs": [],
   "source": [
    "# Split UUIDs by program\n",
    "program_uuid_map = {}\n",
    "for ue in edb.get_uuid_db().find():\n",
    "    program = ue['user_email'].split(\"_\")[0]\n",
    "    if program in program_uuid_map.keys():\n",
    "        program_uuid_map[program].append(str(ue['uuid']))\n",
    "    else:\n",
    "        print(f\"Found new program {program}, creating new list\")\n",
    "        program_uuid_map[program] = []\n",
    "        program_uuid_map[program].append(str(ue['uuid']))"
   ]
  },
  {
   "cell_type": "code",
   "execution_count": null,
   "id": "186df380",
   "metadata": {},
   "outputs": [],
   "source": [
    "uuid_program_list = []\n",
    "for ue in edb.get_uuid_db().find():\n",
    "    program = ue['user_email'].split(\"_\")[0]\n",
    "    uuid_program_list.append({\"program\": program, \"opcode\": ue[\"user_email\"], \"user_id_str\": str(ue['uuid'])})"
   ]
  },
  {
   "cell_type": "code",
   "execution_count": null,
   "id": "7bbc92a5",
   "metadata": {},
   "outputs": [],
   "source": [
    "uuid_program_df = pd.DataFrame.from_dict(uuid_program_list)\n",
    "uuid_program_df.head()"
   ]
  },
  {
   "cell_type": "code",
   "execution_count": null,
   "id": "b7f71fe9",
   "metadata": {},
   "outputs": [],
   "source": [
    "from collections import defaultdict"
   ]
  },
  {
   "cell_type": "code",
   "execution_count": null,
   "id": "1f308bfb",
   "metadata": {},
   "outputs": [],
   "source": [
    "# Loading mapping dictionaries from mapping_dictionaries notebook\n",
    "%store -r dic_re\n",
    "%store -r dic_pur\n",
    "\n",
    "# convert a dictionary to a defaultdict\n",
    "dic_re = defaultdict(lambda: 'Other',dic_re)\n",
    "dic_pur = defaultdict(lambda: 'Other',dic_pur)"
   ]
  },
  {
   "cell_type": "markdown",
   "id": "f8465faf",
   "metadata": {},
   "source": [
    "## Load the trip table"
   ]
  },
  {
   "cell_type": "code",
   "execution_count": null,
   "id": "dd86bac6",
   "metadata": {},
   "outputs": [],
   "source": [
    "expanded_ct, file_suffix, quality_text, debug_df = scaffolding.load_viz_notebook_data(year,\n",
    "                                                                            month,\n",
    "                                                                            program,\n",
    "                                                                            study_type,\n",
    "                                                                            dic_re,\n",
    "                                                                            dic_pur=dic_pur,\n",
    "                                                                            include_test_users=include_test_users)"
   ]
  },
  {
   "cell_type": "code",
   "execution_count": null,
   "id": "571423c3",
   "metadata": {},
   "outputs": [],
   "source": [
    "expanded_ct[\"user_id_str\"] = expanded_ct.user_id.apply(lambda u: str(u))\n",
    "len(expanded_ct.user_id_str.unique())"
   ]
  },
  {
   "cell_type": "markdown",
   "id": "40b672c9",
   "metadata": {},
   "source": [
    "## Combine program and trip tables"
   ]
  },
  {
   "cell_type": "code",
   "execution_count": null,
   "id": "db155d8d",
   "metadata": {},
   "outputs": [],
   "source": [
    "trip_program_df = expanded_ct.merge(uuid_program_df, on=\"user_id_str\")"
   ]
  },
  {
   "cell_type": "code",
   "execution_count": null,
   "id": "7a654427",
   "metadata": {},
   "outputs": [],
   "source": [
    "trip_program_df[\"distance_km\"] = trip_program_df.distance / 1000"
   ]
  },
  {
   "cell_type": "code",
   "execution_count": null,
   "id": "5f9522a6",
   "metadata": {},
   "outputs": [],
   "source": [
    "trip_program_df.sample(n=50, random_state=123)[[\"program\", \"user_id_str\", \"opcode\", \"_id\", \"start_fmt_time\", \"end_fmt_time\", \"distance_km\", \"mode_confirm\"]]"
   ]
  },
  {
   "cell_type": "code",
   "execution_count": null,
   "id": "dfed08f4",
   "metadata": {},
   "outputs": [],
   "source": [
    "%conda install geopandas"
   ]
  },
  {
   "cell_type": "markdown",
   "id": "a1bd2948",
   "metadata": {},
   "source": [
    "## Load shape files"
   ]
  },
  {
   "cell_type": "code",
   "execution_count": null,
   "id": "748fac18",
   "metadata": {},
   "outputs": [],
   "source": [
    "import geopandas as gpd"
   ]
  },
  {
   "cell_type": "code",
   "execution_count": null,
   "id": "3e5c29c6",
   "metadata": {},
   "outputs": [],
   "source": [
    "denver_boundary = gpd.read_file(\"geom/denver_uza.shp\")"
   ]
  },
  {
   "cell_type": "code",
   "execution_count": null,
   "id": "b2614a62",
   "metadata": {},
   "outputs": [],
   "source": [
    "# denver_boundary.to_json()"
   ]
  },
  {
   "cell_type": "code",
   "execution_count": null,
   "id": "ce13a917",
   "metadata": {},
   "outputs": [],
   "source": [
    "denver_boundary.plot()"
   ]
  },
  {
   "cell_type": "code",
   "execution_count": null,
   "id": "8a67dadf",
   "metadata": {},
   "outputs": [],
   "source": [
    "denver_pixels = gpd.read_file(\"geom/denver_uza_grid.shp\")"
   ]
  },
  {
   "cell_type": "code",
   "execution_count": null,
   "id": "851fb046",
   "metadata": {},
   "outputs": [],
   "source": [
    "denver_pixels"
   ]
  },
  {
   "cell_type": "code",
   "execution_count": null,
   "id": "849f2d66",
   "metadata": {},
   "outputs": [],
   "source": [
    "denver_pixels.plot()"
   ]
  },
  {
   "cell_type": "markdown",
   "id": "3fbecc09",
   "metadata": {},
   "source": [
    "## Prepping dataframes for plotting"
   ]
  },
  {
   "cell_type": "code",
   "execution_count": null,
   "id": "767957f4",
   "metadata": {},
   "outputs": [],
   "source": [
    "all_start_end_points = trip_program_df.start_loc.append(trip_program_df.end_loc)"
   ]
  },
  {
   "cell_type": "code",
   "execution_count": null,
   "id": "ee64aad6",
   "metadata": {},
   "outputs": [],
   "source": [
    "import shapely as shp"
   ]
  },
  {
   "cell_type": "code",
   "execution_count": null,
   "id": "a34e74c4",
   "metadata": {},
   "outputs": [],
   "source": [
    "# I wanted to use shapely's from_geojson but it doesn't seem to be supported in this version\n",
    "all_geo_start_end_points = gpd.GeoSeries(all_start_end_points.apply(lambda p: shp.geometry.Point(p['coordinates'])), crs=\"EPSG:4269\")"
   ]
  },
  {
   "cell_type": "code",
   "execution_count": null,
   "id": "43a05b74",
   "metadata": {},
   "outputs": [],
   "source": [
    "denver_boundary.geometry.iloc[0]"
   ]
  },
  {
   "cell_type": "code",
   "execution_count": null,
   "id": "38429efb",
   "metadata": {},
   "outputs": [],
   "source": [
    "all_start_or_end_within = all_geo_start_end_points[all_geo_start_end_points.within(denver_boundary.geometry.iloc[0])]"
   ]
  },
  {
   "cell_type": "code",
   "execution_count": null,
   "id": "421ef413",
   "metadata": {},
   "outputs": [],
   "source": [
    "import matplotlib.pyplot as plt"
   ]
  },
  {
   "cell_type": "code",
   "execution_count": null,
   "id": "28c53632",
   "metadata": {},
   "outputs": [],
   "source": [
    "fig, ax_arr = plt.subplots(nrows=1, ncols=2)\n",
    "denver_boundary.plot(color=\"#E66D0A\", ax=ax_arr[0])\n",
    "denver_boundary.plot(color=\"#E66D0A\", ax=ax_arr[1])\n",
    "all_start_or_end_within.plot(ax=ax_arr[1])"
   ]
  },
  {
   "cell_type": "code",
   "execution_count": null,
   "id": "31e655f8",
   "metadata": {},
   "outputs": [],
   "source": [
    "e_bike_trips = trip_program_df[trip_program_df.mode_confirm == 'pilot_ebike']; len(e_bike_trips)"
   ]
  },
  {
   "cell_type": "code",
   "execution_count": null,
   "id": "8434120d",
   "metadata": {},
   "outputs": [],
   "source": [
    "car_like_trips = trip_program_df.query('mode_confirm == \"drove_alone\" | mode_confirm == \"shared_ride\" | mode_confirm == \"taxi\"'); len(car_like_trips)"
   ]
  },
  {
   "cell_type": "code",
   "execution_count": null,
   "id": "79d64e18",
   "metadata": {},
   "outputs": [],
   "source": [
    "e_bike_start_end_points = e_bike_trips.start_loc.append(e_bike_trips.end_loc); len(e_bike_start_end_points)"
   ]
  },
  {
   "cell_type": "code",
   "execution_count": null,
   "id": "2379a1e4",
   "metadata": {},
   "outputs": [],
   "source": [
    "e_bike_geo_start_end_points = gpd.GeoSeries(e_bike_start_end_points.apply(lambda p: shp.geometry.Point(p['coordinates'])), crs=\"EPSG:4269\")"
   ]
  },
  {
   "cell_type": "code",
   "execution_count": null,
   "id": "02a0d8e5",
   "metadata": {},
   "outputs": [],
   "source": [
    "e_bike_start_or_end_within = e_bike_geo_start_end_points[e_bike_geo_start_end_points.within(denver_boundary.geometry.iloc[0])]"
   ]
  },
  {
   "cell_type": "code",
   "execution_count": null,
   "id": "176684f7",
   "metadata": {},
   "outputs": [],
   "source": [
    "car_like_start_end_points = car_like_trips.start_loc.append(car_like_trips.end_loc); len(car_like_start_end_points)"
   ]
  },
  {
   "cell_type": "code",
   "execution_count": null,
   "id": "0c2beaec",
   "metadata": {},
   "outputs": [],
   "source": [
    "car_like_geo_start_end_points = gpd.GeoSeries(car_like_start_end_points.apply(lambda p: shp.geometry.Point(p['coordinates'])), crs=\"EPSG:4269\")"
   ]
  },
  {
   "cell_type": "code",
   "execution_count": null,
   "id": "d2e3bfa0",
   "metadata": {},
   "outputs": [],
   "source": [
    "car_like_start_or_end_within = car_like_geo_start_end_points[car_like_geo_start_end_points.within(denver_boundary.geometry.iloc[0])]"
   ]
  },
  {
   "cell_type": "markdown",
   "id": "35af778d",
   "metadata": {},
   "source": [
    "### General plotting of start/end points"
   ]
  },
  {
   "cell_type": "code",
   "execution_count": null,
   "id": "955c9a4b",
   "metadata": {},
   "outputs": [],
   "source": [
    "fig, ax_arr = plt.subplots(nrows=1, ncols=3, figsize=(12,6), sharex=True, sharey=True)\n",
    "denver_boundary.boundary.plot(ax=ax_arr[0])\n",
    "all_start_or_end_within.plot(ax=ax_arr[0])\n",
    "denver_boundary.boundary.plot(ax=ax_arr[1])\n",
    "e_bike_start_or_end_within.plot(color=\"#28a745\", ax=ax_arr[1])\n",
    "denver_boundary.boundary.plot(ax=ax_arr[2])\n",
    "car_like_start_or_end_within.plot(color=\"#dc3545\", ax=ax_arr[2])"
   ]
  },
  {
   "cell_type": "markdown",
   "id": "c94c8e01",
   "metadata": {},
   "source": [
    "### Heatmap using folium\n",
    "\n",
    "Example from: https://stackoverflow.com/a/65756840/4040267"
   ]
  },
  {
   "cell_type": "code",
   "execution_count": null,
   "id": "8fc4b2f5",
   "metadata": {},
   "outputs": [],
   "source": [
    "import folium\n",
    "import folium.plugins as fpl"
   ]
  },
  {
   "cell_type": "code",
   "execution_count": null,
   "id": "9a8ba433",
   "metadata": {},
   "outputs": [],
   "source": [
    "denver_boundary.representative_point()"
   ]
  },
  {
   "cell_type": "code",
   "execution_count": null,
   "id": "202e7761",
   "metadata": {},
   "outputs": [],
   "source": [
    "import numpy as np"
   ]
  },
  {
   "cell_type": "code",
   "execution_count": null,
   "id": "a135ae14",
   "metadata": {},
   "outputs": [],
   "source": [
    "all_start_or_end_within.apply(lambda p: [p.y, p.x])"
   ]
  },
  {
   "cell_type": "code",
   "execution_count": null,
   "id": "29fa104d",
   "metadata": {},
   "outputs": [],
   "source": [
    "np.array([all_start_or_end_within.x, all_start_or_end_within.y])"
   ]
  },
  {
   "cell_type": "code",
   "execution_count": null,
   "id": "fb27f764",
   "metadata": {},
   "outputs": [],
   "source": [
    "map = folium.Map(\n",
    "    location=(39.67707, -104.96168),\n",
    "    zoom_start=11\n",
    ")\n",
    "fpl.HeatMap(all_start_or_end_within.apply(lambda p: [p.y, p.x])).add_to(map)\n",
    "map"
   ]
  },
  {
   "cell_type": "code",
   "execution_count": null,
   "id": "7860e7a5",
   "metadata": {},
   "outputs": [],
   "source": [
    "import branca.element as bre"
   ]
  },
  {
   "cell_type": "code",
   "execution_count": null,
   "id": "b6dc5685",
   "metadata": {},
   "outputs": [],
   "source": [
    "all_map = folium.Map(\n",
    "    location=(39.67707, -104.96168),\n",
    "    zoom_start=11\n",
    ")\n",
    "fpl.HeatMap(all_start_or_end_within.apply(lambda p: [p.y, p.x])).add_to(all_map)\n",
    "\n",
    "e_bike_map = folium.Map(\n",
    "    location=(39.67707, -104.96168),\n",
    "    zoom_start=11\n",
    ")\n",
    "fpl.HeatMap(e_bike_start_or_end_within.apply(lambda p: [p.y, p.x])).add_to(e_bike_map)\n",
    "\n",
    "car_like_map = folium.Map(\n",
    "    location=(39.67707, -104.96168),\n",
    "    zoom_start=11\n",
    ")\n",
    "fpl.HeatMap(car_like_start_or_end_within.apply(lambda p: [p.y, p.x])).add_to(car_like_map)\n",
    "\n",
    "\n",
    "fig = bre.Figure()\n",
    "fig.add_subplot(1,3,1).add_child(all_map)\n",
    "fig.add_subplot(1,3,2).add_child(e_bike_map)\n",
    "fig.add_subplot(1,3,3).add_child(car_like_map)"
   ]
  },
  {
   "cell_type": "markdown",
   "id": "c65af58f",
   "metadata": {},
   "source": [
    "### Heatmap using geopandas\n",
    "\n",
    "Example from: https://gist.github.com/perrygeo/c426355e40037c452434"
   ]
  },
  {
   "cell_type": "code",
   "execution_count": null,
   "id": "32b9bdcd",
   "metadata": {},
   "outputs": [],
   "source": [
    "from scipy import ndimage"
   ]
  },
  {
   "cell_type": "code",
   "execution_count": null,
   "id": "99a166ca",
   "metadata": {},
   "outputs": [],
   "source": [
    "denver_bounds_extent = (denver_boundary.bounds)[[\"minx\", \"maxx\", \"maxy\", \"miny\"]].values.tolist()[0]"
   ]
  },
  {
   "cell_type": "code",
   "execution_count": null,
   "id": "a7ee1792",
   "metadata": {},
   "outputs": [],
   "source": [
    "def heatmap(d, bins=(100,100), smoothing=1.3, cmap='viridis', ax=None, bounds=None):\n",
    "    heatmap, xedges, yedges = np.histogram2d(d.y, d.x, bins=bins)\n",
    "    if bounds is None:\n",
    "        extent = [yedges[0], yedges[-1], xedges[-1], xedges[0]]\n",
    "        print(extent)\n",
    "    else:\n",
    "        extent = bounds\n",
    "        print(extent)\n",
    "\n",
    "    logheatmap = np.log(heatmap)\n",
    "    logheatmap[np.isneginf(logheatmap)] = 0\n",
    "    logheatmap = ndimage.filters.gaussian_filter(logheatmap, smoothing, mode='nearest')\n",
    "    # heatmap = ndimage.filters.gaussian_filter(heatmap, smoothing, mode='nearest')\n",
    "    \n",
    "    if ax is None:\n",
    "        plt.imshow(logheatmap, cmap=cmap, extent=extent)\n",
    "        plt.colorbar()\n",
    "        plt.gca().invert_yaxis()\n",
    "        plt.show()\n",
    "    else:\n",
    "        ax.imshow(logheatmap, cmap=cmap, extent=extent)\n",
    "        ax.invert_yaxis()"
   ]
  },
  {
   "cell_type": "code",
   "execution_count": null,
   "id": "47f18e63",
   "metadata": {},
   "outputs": [],
   "source": [
    "heatmap(all_start_or_end_within)"
   ]
  },
  {
   "cell_type": "code",
   "execution_count": null,
   "id": "2cad7c6f",
   "metadata": {},
   "outputs": [],
   "source": [
    "fig, ax_arr = plt.subplots(nrows=1, ncols=3, sharex=True, sharey=True, figsize=(12,6))\n",
    "denver_boundary.boundary.plot(ax=ax_arr[0])\n",
    "heatmap(all_start_or_end_within, ax=ax_arr[0], bounds=denver_bounds_extent)\n",
    "denver_boundary.boundary.plot(ax=ax_arr[1])\n",
    "heatmap(e_bike_start_or_end_within, ax=ax_arr[1], bounds=denver_bounds_extent)\n",
    "denver_boundary.boundary.plot(ax=ax_arr[2])\n",
    "heatmap(car_like_start_or_end_within, ax=ax_arr[2], bounds=denver_bounds_extent)"
   ]
  },
  {
   "cell_type": "markdown",
   "id": "46107935",
   "metadata": {},
   "source": [
    "### Using seaborn\n",
    "\n",
    "https://www.geeksforgeeks.org/kde-plot-visualization-with-pandas-and-seaborn/"
   ]
  },
  {
   "cell_type": "code",
   "execution_count": null,
   "id": "e9a90302",
   "metadata": {},
   "outputs": [],
   "source": [
    "import seaborn as sns"
   ]
  },
  {
   "cell_type": "code",
   "execution_count": null,
   "id": "25abcf03",
   "metadata": {},
   "outputs": [],
   "source": [
    "ax = sns.kdeplot(x=all_start_or_end_within.x, y=all_start_or_end_within.y, color='g', shade=True)\n",
    "denver_boundary.boundary.plot(ax=ax)"
   ]
  },
  {
   "cell_type": "code",
   "execution_count": null,
   "id": "5f06b25e",
   "metadata": {},
   "outputs": [],
   "source": [
    "fig, ax_arr = plt.subplots(nrows=1, ncols=3, sharex=True, sharey=True, figsize=(12,6))\n",
    "denver_boundary.boundary.plot(ax=ax_arr[0])\n",
    "sns.kdeplot(x=all_start_or_end_within.x, y=all_start_or_end_within.y, ax=ax_arr[0], color='g', shade=True)\n",
    "denver_boundary.boundary.plot(ax=ax_arr[1])\n",
    "sns.kdeplot(x=e_bike_start_or_end_within.x, y=e_bike_start_or_end_within.y, ax=ax_arr[1], color='g', shade=True)\n",
    "denver_boundary.boundary.plot(ax=ax_arr[2])\n",
    "sns.kdeplot(x=car_like_start_or_end_within.x, y=car_like_start_or_end_within.y, ax=ax_arr[2], color='g', shade=True)"
   ]
  },
  {
   "cell_type": "code",
   "execution_count": null,
   "id": "a7120791",
   "metadata": {},
   "outputs": [],
   "source": [
    "all_geo_start_end_points.head()"
   ]
  },
  {
   "cell_type": "markdown",
   "id": "47157c73",
   "metadata": {},
   "source": [
    "### Plot all e-bike trajectories (note that this will take several hours)"
   ]
  },
  {
   "cell_type": "code",
   "execution_count": null,
   "id": "822c87bd",
   "metadata": {},
   "outputs": [],
   "source": [
    "def get_points_for_trip(user_id, trip_id):\n",
    "    ts = esta.TimeSeries.get_time_series(user_id)\n",
    "    return ts.get_data_df(\"analysis/recreated_location\",\n",
    "                         time_query=esda.get_time_query_for_trip_like(\"analysis/confirmed_trip\", trip_id))"
   ]
  },
  {
   "cell_type": "code",
   "execution_count": null,
   "id": "1f27160f",
   "metadata": {},
   "outputs": [],
   "source": [
    "# e_bike_all_trip_points = e_bike_trips.iloc[0:5].apply(lambda t: get_points_for_trip(t.user_id, t._id), axis=1)\n",
    "e_bike_all_trip_points = e_bike_trips.apply(lambda t: get_points_for_trip(t.user_id, t._id), axis=1)"
   ]
  },
  {
   "cell_type": "code",
   "execution_count": null,
   "id": "a69f86c9",
   "metadata": {},
   "outputs": [],
   "source": [
    "import functools"
   ]
  },
  {
   "cell_type": "code",
   "execution_count": null,
   "id": "d123936c",
   "metadata": {},
   "outputs": [],
   "source": [
    "e_bike_all_points = functools.reduce(lambda x, y: x.append(y), e_bike_all_trip_points)"
   ]
  },
  {
   "cell_type": "code",
   "execution_count": null,
   "id": "04b1aea9",
   "metadata": {},
   "outputs": [],
   "source": [
    "e_bike_all_points[\"loc\"]"
   ]
  },
  {
   "cell_type": "code",
   "execution_count": null,
   "id": "62d7a98b",
   "metadata": {},
   "outputs": [],
   "source": [
    "e_bike_all_points_gs = gpd.GeoSeries(e_bike_all_points[\"loc\"].apply(lambda p: shp.geometry.Point(p['coordinates'])), crs=\"EPSG:4269\")"
   ]
  },
  {
   "cell_type": "code",
   "execution_count": null,
   "id": "6e60644f",
   "metadata": {},
   "outputs": [],
   "source": [
    "e_bike_all_points_within = e_bike_all_points_gs[e_bike_all_points_gs.within(denver_boundary.geometry.iloc[0])]"
   ]
  },
  {
   "cell_type": "code",
   "execution_count": null,
   "id": "f9591399",
   "metadata": {},
   "outputs": [],
   "source": [
    "fig, ax_arr = plt.subplots(nrows=1, ncols=1, figsize=(24,12))\n",
    "# durham_boundary.plot(color=\"#E66D0A\", ax=ax_arr[0])\n",
    "denver_boundary.boundary.plot(ax=ax_arr)\n",
    "e_bike_all_points_within.plot(ax=ax_arr, markersize=1)"
   ]
  },
  {
   "cell_type": "markdown",
   "id": "c41e816e",
   "metadata": {},
   "source": [
    "### Final, most complicated version using pixels, and computing the ratio of e-bike to car_like trips"
   ]
  },
  {
   "cell_type": "code",
   "execution_count": null,
   "id": "c98119eb",
   "metadata": {},
   "outputs": [],
   "source": [
    "# First, let's just make a dataframe with the three different counts: total, e-bike, car-like, for each polygon\n",
    "def get_counts(pixel_polygon):\n",
    "    all_trip_count = np.count_nonzero(all_geo_start_end_points.within(pixel_polygon))\n",
    "    e_bike_trip_count = np.count_nonzero(e_bike_geo_start_end_points.within(pixel_polygon))\n",
    "    car_like_trip_count = np.count_nonzero(car_like_geo_start_end_points.within(pixel_polygon))\n",
    "    return pd.Series([all_trip_count, e_bike_trip_count, car_like_trip_count])"
   ]
  },
  {
   "cell_type": "markdown",
   "id": "92711796",
   "metadata": {},
   "source": [
    "#### Test with a small dataset"
   ]
  },
  {
   "cell_type": "code",
   "execution_count": null,
   "id": "3191d93b",
   "metadata": {},
   "outputs": [],
   "source": [
    "test_pixels = denver_pixels.head(n=50).copy()"
   ]
  },
  {
   "cell_type": "code",
   "execution_count": null,
   "id": "b1af5275",
   "metadata": {},
   "outputs": [],
   "source": [
    "test_pixels"
   ]
  },
  {
   "cell_type": "code",
   "execution_count": null,
   "id": "f9245244",
   "metadata": {},
   "outputs": [],
   "source": [
    "test_pixels[[\"all_trip_count\", \"e_bike_trip_count\", \"car_like_trip_count\"]] = test_pixels.geometry.apply(lambda pp: get_counts(pp))"
   ]
  },
  {
   "cell_type": "code",
   "execution_count": null,
   "id": "b0b65751",
   "metadata": {},
   "outputs": [],
   "source": [
    "test_pixels.head()"
   ]
  },
  {
   "cell_type": "code",
   "execution_count": null,
   "id": "11c68030",
   "metadata": {},
   "outputs": [],
   "source": [
    "fig, ax_arr = plt.subplots(nrows=3, ncols=1, figsize=(12,6), sharex=True, sharey=True)\n",
    "test_pixels.plot(column=\"all_trip_count\", legend=True, ax=ax_arr[0])\n",
    "test_pixels.plot(column=\"e_bike_trip_count\", legend=True, ax=ax_arr[1])\n",
    "test_pixels.plot(column=\"car_like_trip_count\", legend=True, ax=ax_arr[2])"
   ]
  },
  {
   "cell_type": "code",
   "execution_count": null,
   "id": "e49b9e04",
   "metadata": {},
   "outputs": [],
   "source": [
    "test_pixels[\"e_bike_2_car_like\"] = test_pixels.e_bike_trip_count / test_pixels.car_like_trip_count"
   ]
  },
  {
   "cell_type": "code",
   "execution_count": null,
   "id": "434466c1",
   "metadata": {},
   "outputs": [],
   "source": [
    "test_pixels.head()"
   ]
  },
  {
   "cell_type": "code",
   "execution_count": null,
   "id": "e5aeb173",
   "metadata": {},
   "outputs": [],
   "source": [
    "test_pixels.e_bike_2_car_like.dropna()"
   ]
  },
  {
   "cell_type": "code",
   "execution_count": null,
   "id": "0c572d23",
   "metadata": {},
   "outputs": [],
   "source": [
    "ax = denver_boundary.boundary.plot()\n",
    "test_pixels.plot(column=\"e_bike_2_car_like\", ax=ax, legend=True)"
   ]
  },
  {
   "cell_type": "markdown",
   "id": "cf3b9e3e",
   "metadata": {},
   "source": [
    "### And now for the final version"
   ]
  },
  {
   "cell_type": "code",
   "execution_count": null,
   "id": "fd0d9494",
   "metadata": {},
   "outputs": [],
   "source": [
    "denver_pixels_all = denver_pixels.copy()\n",
    "denver_pixels_all[[\"all_trip_count\", \"e_bike_trip_count\", \"car_like_trip_count\"]] = denver_pixels_all.geometry.apply(lambda pp: get_counts(pp))"
   ]
  },
  {
   "cell_type": "code",
   "execution_count": null,
   "id": "031da00b",
   "metadata": {},
   "outputs": [],
   "source": [
    "fig, ax_arr = plt.subplots(nrows=1, ncols=3, figsize=(12,6), sharex=True, sharey=True)\n",
    "denver_pixels_all.plot(column=\"all_trip_count\", ax=ax_arr[0], cmap=\"YlOrRd\")\n",
    "denver_pixels_all.plot(column=\"e_bike_trip_count\", ax=ax_arr[1], cmap=\"YlOrRd\")\n",
    "denver_pixels_all.plot(column=\"car_like_trip_count\", ax=ax_arr[2], cmap=\"YlOrRd\")"
   ]
  },
  {
   "cell_type": "code",
   "execution_count": null,
   "id": "b7252e37",
   "metadata": {},
   "outputs": [],
   "source": [
    "denver_pixels_all[\"e_bike_2_car_like\"] = denver_pixels_all.e_bike_trip_count / denver_pixels_all.car_like_trip_count"
   ]
  },
  {
   "cell_type": "code",
   "execution_count": null,
   "id": "ad07357b",
   "metadata": {},
   "outputs": [],
   "source": [
    "denver_pixels_all.replace(np.inf, denver_pixels_all.replace(np.inf, 0).e_bike_2_car_like.max(), inplace=True)"
   ]
  },
  {
   "cell_type": "code",
   "execution_count": null,
   "id": "e7358dde",
   "metadata": {},
   "outputs": [],
   "source": [
    "denver_pixels_all[denver_pixels_all.e_bike_2_car_like > 5]"
   ]
  },
  {
   "cell_type": "code",
   "execution_count": null,
   "id": "96a9b598",
   "metadata": {},
   "outputs": [],
   "source": [
    "ax = denver_boundary.boundary.plot()\n",
    "denver_pixels_all.plot(column=\"e_bike_2_car_like\", ax=ax, cmap=\"YlGn\", legend=True)"
   ]
  },
  {
   "cell_type": "code",
   "execution_count": null,
   "id": "7442c485",
   "metadata": {},
   "outputs": [],
   "source": [
    "denver_pixels_all.e_bike_2_car_like.dropna().plot(kind=\"hist\", bins=35)"
   ]
  },
  {
   "cell_type": "code",
   "execution_count": null,
   "id": "681cda62",
   "metadata": {},
   "outputs": [],
   "source": [
    "np.count_nonzero(denver_pixels_all.e_bike_2_car_like < 0.5), np.count_nonzero(denver_pixels_all.e_bike_2_car_like >= 0.5)"
   ]
  },
  {
   "cell_type": "code",
   "execution_count": null,
   "id": "efed6fd5",
   "metadata": {},
   "outputs": [],
   "source": [
    "108 * 100 / 658"
   ]
  },
  {
   "cell_type": "code",
   "execution_count": null,
   "id": "d234c787",
   "metadata": {},
   "outputs": [],
   "source": [
    "denver_pixels_all[\"e_bike_better\"] = pd.Categorical(denver_pixels_all.e_bike_2_car_like >= 1)"
   ]
  },
  {
   "cell_type": "code",
   "execution_count": null,
   "id": "34e87c2f",
   "metadata": {},
   "outputs": [],
   "source": [
    "ax = denver_boundary.boundary.plot()\n",
    "denver_pixels_all.dropna(axis='rows', how='any').plot(column = \"e_bike_better\", ax = ax, legend=True, legend_kwds={\"loc\": \"lower left\"}, categorical=True, cmap=\"Paired\", figsize=(12,6))"
   ]
  },
  {
   "cell_type": "code",
   "execution_count": null,
   "id": "a72ab0a8",
   "metadata": {},
   "outputs": [],
   "source": [
    "denver_pixels_all.dropna().groupby(\"e_bike_better\").count().id.plot(kind=\"pie\", autopct='%.1f', title=\"Pixels where e-bikes are used more often than driving\")"
   ]
  },
  {
   "cell_type": "code",
   "execution_count": null,
   "id": "ba892372",
   "metadata": {},
   "outputs": [],
   "source": [
    "denver_pixels_all[\"e_bike_gt_50_pct\"] = pd.Categorical(denver_pixels_all.e_bike_2_car_like >= 0.5)"
   ]
  },
  {
   "cell_type": "code",
   "execution_count": null,
   "id": "568ebcac",
   "metadata": {},
   "outputs": [],
   "source": [
    "denver_pixels_all.dropna().groupby(\"e_bike_gt_50_pct\").count().id.plot(kind=\"pie\", autopct='%.1f', title=\"Pixels where e-bike trips are least 50% of driving trips\")"
   ]
  },
  {
   "cell_type": "markdown",
   "id": "47c9e769",
   "metadata": {},
   "source": [
    "## Another complex check - does this differ across programs"
   ]
  },
  {
   "cell_type": "code",
   "execution_count": null,
   "id": "c562827c",
   "metadata": {},
   "outputs": [],
   "source": [
    "def get_endpoints_within(trip_df):\n",
    "    start_end_points = trip_df.start_loc.append(trip_df.end_loc)\n",
    "    geo_start_end_points = gpd.GeoSeries(start_end_points.apply(lambda p: shp.geometry.Point(p['coordinates'])), crs=\"EPSG:4269\")\n",
    "    start_or_end_within = geo_start_end_points[geo_start_end_points.within(denver_boundary.geometry.iloc[0])]\n",
    "    return start_or_end_within"
   ]
  },
  {
   "cell_type": "code",
   "execution_count": null,
   "id": "d263f5a2",
   "metadata": {},
   "outputs": [],
   "source": [
    "def get_all_e_bike_car_like(trip_df):\n",
    "    return {\"all\": get_endpoints_within(trip_df),\n",
    "            \"e_bike\": get_endpoints_within(trip_df.query('mode_confirm == \"pilot_ebike\"')),\n",
    "            \"car_like\": get_endpoints_within(trip_df.query('mode_confirm == \"drove_alone\" | mode_confirm == \"shared_ride\" | mode_confirm == \"taxi\"'))\n",
    "           }"
   ]
  },
  {
   "cell_type": "code",
   "execution_count": null,
   "id": "add35445",
   "metadata": {},
   "outputs": [],
   "source": [
    "sc_trips_split = get_all_e_bike_car_like(trip_program_df.query(\"program == 'sc'\"))"
   ]
  },
  {
   "cell_type": "code",
   "execution_count": null,
   "id": "a3c6a8b0",
   "metadata": {},
   "outputs": [],
   "source": [
    "prepilot_trips_split = get_all_e_bike_car_like(trip_program_df.query(\"program == 'prepilot'\"))"
   ]
  },
  {
   "cell_type": "code",
   "execution_count": null,
   "id": "7dfe9909",
   "metadata": {},
   "outputs": [],
   "source": [
    "def get_kde_plots(trips_split):\n",
    "    fig, ax_arr = plt.subplots(nrows=1, ncols=3, sharex=True, sharey=True, figsize=(12,6))\n",
    "    denver_boundary.boundary.plot(ax=ax_arr[0])\n",
    "    sns.kdeplot(x=trips_split[\"all\"].x, y=trips_split[\"all\"].y, ax=ax_arr[0], color='g', shade=True)\n",
    "    denver_boundary.boundary.plot(ax=ax_arr[1])\n",
    "    sns.kdeplot(x=trips_split[\"e_bike\"].x, y=trips_split[\"e_bike\"].y, ax=ax_arr[1], color='g', shade=True)\n",
    "    denver_boundary.boundary.plot(ax=ax_arr[2])\n",
    "    sns.kdeplot(x=trips_split[\"car_like\"].x, y=trips_split[\"car_like\"].y, ax=ax_arr[2], color='g', shade=True)\n",
    "    # return fig"
   ]
  },
  {
   "cell_type": "code",
   "execution_count": null,
   "id": "eae7713b",
   "metadata": {
    "scrolled": false
   },
   "outputs": [],
   "source": [
    "get_kde_plots(sc_trips_split)"
   ]
  },
  {
   "cell_type": "code",
   "execution_count": null,
   "id": "d13244f5",
   "metadata": {},
   "outputs": [],
   "source": [
    "get_kde_plots(prepilot_trips_split)"
   ]
  },
  {
   "cell_type": "code",
   "execution_count": null,
   "id": "c930a85b",
   "metadata": {},
   "outputs": [],
   "source": [
    "def get_scatter_plots(trips_split):\n",
    "    fig, ax_arr = plt.subplots(nrows=1, ncols=3, sharex=True, sharey=True, figsize=(12,6))\n",
    "    denver_boundary.boundary.plot(ax=ax_arr[0])\n",
    "    trips_split[\"all\"].plot(ax=ax_arr[0])\n",
    "    ax_arr[0].set_title(\"all trips\")\n",
    "    denver_boundary.boundary.plot(ax=ax_arr[1])\n",
    "    trips_split[\"e_bike\"].plot(color=\"#28a745\", ax=ax_arr[1])\n",
    "    ax_arr[1].set_title(\"e-bike trips\")\n",
    "    denver_boundary.boundary.plot(ax=ax_arr[2])\n",
    "    trips_split[\"car_like\"].plot(color=\"#dc3545\", ax=ax_arr[2])\n",
    "    ax_arr[2].set_title(\"car trips\")\n",
    "    # return fig"
   ]
  },
  {
   "cell_type": "code",
   "execution_count": null,
   "id": "47a45243",
   "metadata": {},
   "outputs": [],
   "source": [
    "get_scatter_plots(sc_trips_split)"
   ]
  },
  {
   "cell_type": "code",
   "execution_count": null,
   "id": "f960a2c5",
   "metadata": {},
   "outputs": [],
   "source": [
    "get_scatter_plots(prepilot_trips_split)"
   ]
  },
  {
   "cell_type": "code",
   "execution_count": null,
   "id": "27ff266b",
   "metadata": {},
   "outputs": [],
   "source": [
    "# First, let's just make a dataframe with the three different counts: total, e-bike, car-like, for each polygon\n",
    "def get_counts_trips_split(trips_split, pixel_polygon):\n",
    "    all_trip_count = np.count_nonzero(trips_split[\"all\"].within(pixel_polygon))\n",
    "    e_bike_trip_count = np.count_nonzero(trips_split[\"e_bike\"].within(pixel_polygon))\n",
    "    car_like_trip_count = np.count_nonzero(trips_split[\"car_like\"].within(pixel_polygon))\n",
    "    return pd.Series([all_trip_count, e_bike_trip_count, car_like_trip_count])"
   ]
  },
  {
   "cell_type": "code",
   "execution_count": null,
   "id": "3acaaa28",
   "metadata": {},
   "outputs": [],
   "source": [
    "def get_pixel_stats(trips_split):\n",
    "    curr_pixel_stats = denver_pixels.copy()\n",
    "    curr_pixel_stats[[\"all_trip_count\", \"e_bike_trip_count\", \"car_like_trip_count\"]] = curr_pixel_stats.geometry.apply(lambda pp: get_counts_trips_split(trips_split, pp))\n",
    "    curr_pixel_stats[\"e_bike_2_car_like\"] = curr_pixel_stats.e_bike_trip_count / curr_pixel_stats.car_like_trip_count\n",
    "    curr_pixel_stats[\"e_bike_better\"] = pd.Categorical(curr_pixel_stats.e_bike_2_car_like >= 1)\n",
    "    curr_pixel_stats[\"e_bike_gt_50_pct\"] = pd.Categorical(curr_pixel_stats.e_bike_2_car_like >= 0.5)\n",
    "    return curr_pixel_stats"
   ]
  },
  {
   "cell_type": "code",
   "execution_count": null,
   "id": "0c3fcf78",
   "metadata": {},
   "outputs": [],
   "source": [
    "sc_pixel_stats = get_pixel_stats(sc_trips_split)"
   ]
  },
  {
   "cell_type": "code",
   "execution_count": null,
   "id": "89e0e788",
   "metadata": {},
   "outputs": [],
   "source": [
    "def show_pixel_stats(pixel_stats):\n",
    "    fig, ax_arr = plt.subplots(nrows=1, ncols=2)\n",
    "    denver_boundary.boundary.plot(ax=ax_arr[0])\n",
    "    pixel_stats.dropna(axis='rows', how='any').plot(column = \"e_bike_better\", ax = ax_arr[0], legend=True, legend_kwds={\"loc\": \"lower left\"}, categorical=True, cmap=\"Paired\", figsize=(12,6))\n",
    "    denver_boundary.boundary.plot(ax=ax_arr[1])\n",
    "    pixel_stats.dropna(axis='rows', how='any').plot(column = \"e_bike_gt_50_pct\", ax = ax_arr[1], legend=True, legend_kwds={\"loc\": \"lower left\"}, categorical=True, cmap=\"Paired\", figsize=(12,6))    "
   ]
  },
  {
   "cell_type": "code",
   "execution_count": null,
   "id": "8ad023d1",
   "metadata": {},
   "outputs": [],
   "source": [
    "show_pixel_stats(sc_pixel_stats)"
   ]
  },
  {
   "cell_type": "code",
   "execution_count": null,
   "id": "ed37c19c",
   "metadata": {},
   "outputs": [],
   "source": [
    "def show_pixel_percents(pixel_stats):\n",
    "    fig, ax_arr = plt.subplots(nrows=1, ncols=2, sharex=True, sharey=True, figsize=(10,5))\n",
    "    pixel_stats.dropna().groupby(\"e_bike_better\").count().id.plot(kind=\"pie\", ax=ax_arr[0], autopct='%.1f', title=\"e-bikes are used more often than driving\")\n",
    "    pixel_stats.dropna().groupby(\"e_bike_gt_50_pct\").count().id.plot(kind=\"pie\", ax=ax_arr[1], autopct='%.1f', title=\"e-bike trips are least 50% of driving trips\")\n",
    "    ax_arr[0].set_ylabel(\"% of pixels\")"
   ]
  },
  {
   "cell_type": "code",
   "execution_count": null,
   "id": "1b0be9e8",
   "metadata": {},
   "outputs": [],
   "source": [
    "show_pixel_percents(sc_pixel_stats)"
   ]
  },
  {
   "cell_type": "code",
   "execution_count": null,
   "id": "f2185bfa",
   "metadata": {},
   "outputs": [],
   "source": [
    "prepilot_pixel_stats = get_pixel_stats(prepilot_trips_split)"
   ]
  },
  {
   "cell_type": "code",
   "execution_count": null,
   "id": "75da5270",
   "metadata": {},
   "outputs": [],
   "source": [
    "show_pixel_stats(prepilot_pixel_stats)"
   ]
  },
  {
   "cell_type": "code",
   "execution_count": null,
   "id": "5890896f",
   "metadata": {},
   "outputs": [],
   "source": [
    "show_pixel_percents(prepilot_pixel_stats)"
   ]
  },
  {
   "cell_type": "code",
   "execution_count": null,
   "id": "ba349515",
   "metadata": {},
   "outputs": [],
   "source": [
    "other_programs_split = get_all_e_bike_car_like(trip_program_df.query('program != \"sc\" & program != \"prepilot\" & program != \"stage\"'))"
   ]
  },
  {
   "cell_type": "code",
   "execution_count": null,
   "id": "db276ba6",
   "metadata": {},
   "outputs": [],
   "source": [
    "get_scatter_plots(other_programs_split)"
   ]
  },
  {
   "cell_type": "code",
   "execution_count": null,
   "id": "239c06ee",
   "metadata": {},
   "outputs": [],
   "source": [
    "other_programs_pixel_stats = get_pixel_stats(other_programs_split)"
   ]
  },
  {
   "cell_type": "code",
   "execution_count": null,
   "id": "d4cfaa40",
   "metadata": {},
   "outputs": [],
   "source": [
    "show_pixel_stats(other_programs_pixel_stats)"
   ]
  },
  {
   "cell_type": "code",
   "execution_count": null,
   "id": "a8bc2b76",
   "metadata": {},
   "outputs": [],
   "source": [
    "show_pixel_percents(other_programs_pixel_stats)"
   ]
  },
  {
   "cell_type": "markdown",
   "id": "4f7bed9b",
   "metadata": {},
   "source": [
    "## Experimenting with whether we can associate other fields with the start_end_loc points"
   ]
  },
  {
   "cell_type": "code",
   "execution_count": null,
   "id": "2c592371",
   "metadata": {},
   "outputs": [],
   "source": [
    "start_loc_df = trip_program_df[[\"program\", \"mode_confirm\", \"start_loc\"]].copy()\n",
    "start_loc_df[\"type\"] = [\"start\"] * len(start_loc_df)\n",
    "start_loc_df.rename(columns = {\"start_loc\": \"location\"}, inplace=True)\n",
    "start_loc_df.head()"
   ]
  },
  {
   "cell_type": "code",
   "execution_count": null,
   "id": "7f170fa3",
   "metadata": {},
   "outputs": [],
   "source": [
    "end_loc_df = trip_program_df[[\"program\", \"mode_confirm\", \"end_loc\"]].copy()\n",
    "end_loc_df[\"type\"] = [\"end\"] * len(end_loc_df)\n",
    "end_loc_df.rename(columns = {\"end_loc\": \"location\"}, inplace=True)\n",
    "end_loc_df.head()"
   ]
  },
  {
   "cell_type": "code",
   "execution_count": null,
   "id": "032f2aa1",
   "metadata": {},
   "outputs": [],
   "source": [
    "loc_program_df = gpd.GeoDataFrame(start_loc_df.append(end_loc_df))\n",
    "loc_program_geodf = loc_program_df.set_geometry(loc_program_df['location'].apply(lambda p: shp.geometry.Point(p['coordinates'])), crs=\"EPSG:4269\")\n",
    "loc_program_geodf.head()"
   ]
  },
  {
   "cell_type": "code",
   "execution_count": null,
   "id": "2f2f4731",
   "metadata": {},
   "outputs": [],
   "source": [
    "program_endpoints_within = loc_program_geodf[loc_program_geodf.within(denver_boundary.geometry.iloc[0])]"
   ]
  },
  {
   "cell_type": "code",
   "execution_count": null,
   "id": "5df9eeb1",
   "metadata": {},
   "outputs": [],
   "source": [
    "program_endpoints_within.head()"
   ]
  },
  {
   "cell_type": "code",
   "execution_count": null,
   "id": "57634730",
   "metadata": {},
   "outputs": [],
   "source": [
    "fig, ax_arr = plt.subplots(nrows=1, ncols=3, sharex=True, sharey=True, figsize=(12,6))\n",
    "denver_boundary.boundary.plot(ax=ax_arr[0])\n",
    "program_endpoints_within.plot(column=\"program\", cmap=\"tab10\", ax=ax_arr[0])\n",
    "denver_boundary.boundary.plot(ax=ax_arr[1])\n",
    "program_endpoints_within.query('mode_confirm == \"pilot_ebike\"').plot(column=\"program\", cmap=\"tab10\", ax=ax_arr[1])\n",
    "denver_boundary.boundary.plot(ax=ax_arr[2])\n",
    "program_endpoints_within.query('mode_confirm == \"drove_alone\" | mode_confirm == \"shared_ride\" | mode_confirm == \"taxi\"').plot(column=\"program\", cmap=\"tab10\", ax=ax_arr[2])"
   ]
  },
  {
   "cell_type": "code",
   "execution_count": null,
   "id": "c0699e03",
   "metadata": {},
   "outputs": [],
   "source": [
    "other_programs_endpoints_within_query = program_endpoints_within.query('program != \"sc\" & program != \"prepilot\" & program != \"stage\"')"
   ]
  },
  {
   "cell_type": "code",
   "execution_count": null,
   "id": "3af682b7",
   "metadata": {},
   "outputs": [],
   "source": [
    "fig, ax_arr = plt.subplots(nrows=1, ncols=5, sharex=True, sharey=True, figsize=(20,10))\n",
    "denver_boundary.boundary.plot(ax=ax_arr[0])\n",
    "other_programs_endpoints_within_query.plot(column=\"program\", cmap=\"tab10\", categories=other_programs_endpoints_within_query.program.unique(), ax=ax_arr[0], legend=True, legend_kwds={\"loc\": \"lower left\"})\n",
    "ax_arr[0].set_title(\"all\")\n",
    "denver_boundary.boundary.plot(ax=ax_arr[1])\n",
    "other_programs_endpoints_within_query.query('mode_confirm == \"pilot_ebike\"').plot(column=\"program\", cmap=\"tab10\", categories=other_programs_endpoints_within_query.program.unique(), ax=ax_arr[1], legend=True, legend_kwds={\"loc\": \"lower left\"})\n",
    "ax_arr[1].set_title(\"e-bike\")\n",
    "denver_boundary.boundary.plot(ax=ax_arr[2])\n",
    "other_programs_endpoints_within_query.query('mode_confirm == \"drove_alone\"').plot(column=\"program\", cmap=\"tab10\", categories=other_programs_endpoints_within_query.program.unique(), ax=ax_arr[2], legend=True, legend_kwds={\"loc\": \"lower left\"})\n",
    "ax_arr[2].set_title(\"drove_alone\")\n",
    "denver_boundary.boundary.plot(ax=ax_arr[3])\n",
    "other_programs_endpoints_within_query.query('mode_confirm == \"shared_ride\"').plot(column=\"program\", cmap=\"tab10\", categories=other_programs_endpoints_within_query.program.unique(), ax=ax_arr[3], legend=True, legend_kwds={\"loc\": \"lower left\"})\n",
    "ax_arr[3].set_title(\"shared_ride\")\n",
    "denver_boundary.boundary.plot(ax=ax_arr[4])\n",
    "other_programs_endpoints_within_query.query('mode_confirm == \"taxi\"').plot(column=\"program\", cmap=\"tab10\", categories=other_programs_endpoints_within_query.program.unique(), ax=ax_arr[4], legend=True, legend_kwds={\"loc\": \"lower left\"})\n",
    "ax_arr[4].set_title(\"taxi\")\n",
    "# ax_arr[0].legend([\"denver\"] + other_programs_endpoints_within_query.program.unique().tolist(), loc=\"lower left\", bbox_to_anchor=(0.5, 0.5))"
   ]
  },
  {
   "cell_type": "code",
   "execution_count": null,
   "id": "99227243",
   "metadata": {},
   "outputs": [],
   "source": [
    "program_endpoints_within.to_file(\"ceo_results/program_endpoints_within_denver\")"
   ]
  },
  {
   "cell_type": "code",
   "execution_count": null,
   "id": "0ceaa2ad",
   "metadata": {},
   "outputs": [],
   "source": [
    "program_endpoints_within.to_csv(\"ceo_results/program_endpoints_within_denver.csv\")"
   ]
  },
  {
   "cell_type": "code",
   "execution_count": null,
   "id": "60eadb3a",
   "metadata": {},
   "outputs": [],
   "source": [
    "sc_pixel_stats_to_export = sc_pixel_stats.copy()"
   ]
  },
  {
   "cell_type": "code",
   "execution_count": null,
   "id": "d2d96a1f",
   "metadata": {},
   "outputs": [],
   "source": [
    "sc_pixel_stats_to_export = sc_pixel_stats_to_export.astype({\"e_bike_better\": bool, \"e_bike_gt_50_pct\": bool})"
   ]
  },
  {
   "cell_type": "code",
   "execution_count": null,
   "id": "21f2d99c",
   "metadata": {},
   "outputs": [],
   "source": [
    "sc_pixel_stats_to_export.to_file(\"ceo_results/sc_pixel_stats\")"
   ]
  },
  {
   "cell_type": "code",
   "execution_count": null,
   "id": "f71e2691",
   "metadata": {},
   "outputs": [],
   "source": [
    "prepilot_pixel_stats_to_export = prepilot_pixel_stats.copy()"
   ]
  },
  {
   "cell_type": "code",
   "execution_count": null,
   "id": "fb659b2c",
   "metadata": {},
   "outputs": [],
   "source": [
    "prepilot_pixel_stats_to_export = prepilot_pixel_stats_to_export.astype({\"e_bike_better\": bool, \"e_bike_gt_50_pct\": bool})"
   ]
  },
  {
   "cell_type": "code",
   "execution_count": null,
   "id": "fa51bf39",
   "metadata": {},
   "outputs": [],
   "source": [
    "prepilot_pixel_stats_to_export.to_file(\"ceo_results/prepilot_pixel_stats\")"
   ]
  },
  {
   "cell_type": "code",
   "execution_count": null,
   "id": "612a31a7",
   "metadata": {},
   "outputs": [],
   "source": [
    "sc_pixel_stats.to_csv(\"ceo_results/sc_pixel_stats.csv\")"
   ]
  },
  {
   "cell_type": "code",
   "execution_count": null,
   "id": "815d2bb2",
   "metadata": {},
   "outputs": [],
   "source": [
    "prepilot_pixel_stats.to_csv(\"ceo_results/prepilot_pixel_stats.csv\")"
   ]
  },
  {
   "cell_type": "code",
   "execution_count": null,
   "id": "d3ff2b62",
   "metadata": {},
   "outputs": [],
   "source": [
    "other_programs_pixel_stats_to_export = other_programs_pixel_stats.copy()"
   ]
  },
  {
   "cell_type": "code",
   "execution_count": null,
   "id": "90943b1c",
   "metadata": {},
   "outputs": [],
   "source": [
    "other_programs_pixel_stats_to_export = other_programs_pixel_stats_to_export.astype({\"e_bike_better\": bool, \"e_bike_gt_50_pct\": bool})"
   ]
  },
  {
   "cell_type": "code",
   "execution_count": null,
   "id": "64f1d3a0",
   "metadata": {},
   "outputs": [],
   "source": [
    "other_programs_pixel_stats_to_export.to_file(\"ceo_results/other_programs_pixel_stats\")"
   ]
  },
  {
   "cell_type": "code",
   "execution_count": null,
   "id": "f5683fbc",
   "metadata": {},
   "outputs": [],
   "source": [
    "other_programs_pixel_stats.to_csv(\"ceo_results/other_programs_pixel_stats.csv\")"
   ]
  },
  {
   "cell_type": "code",
   "execution_count": null,
   "id": "01016aa6",
   "metadata": {},
   "outputs": [],
   "source": []
  }
 ],
 "metadata": {
  "kernelspec": {
   "display_name": "Python 3 (ipykernel)",
   "language": "python",
   "name": "python3"
  },
  "language_info": {
   "codemirror_mode": {
    "name": "ipython",
    "version": 3
   },
   "file_extension": ".py",
   "mimetype": "text/x-python",
   "name": "python",
   "nbconvert_exporter": "python",
   "pygments_lexer": "ipython3",
   "version": "3.7.12"
  }
 },
 "nbformat": 4,
 "nbformat_minor": 5
}
