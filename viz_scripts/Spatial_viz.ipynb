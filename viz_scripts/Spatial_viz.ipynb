{
 "cells": [
  {
   "cell_type": "code",
   "execution_count": null,
   "id": "a73ce58b",
   "metadata": {},
   "outputs": [],
   "source": [
    "# %conda install geopandas"
   ]
  },
  {
   "cell_type": "code",
   "execution_count": null,
   "id": "202e7761",
   "metadata": {},
   "outputs": [],
   "source": [
    "import pandas as pd\n",
    "\n",
    "import emission.core.get_database as edb\n",
    "import emission.core.wrapper.entry as ecwe\n",
    "import emission.storage.decorations.analysis_timeseries_queries as esda\n",
    "import emission.storage.decorations.trip_queries as esdt\n",
    "import emission.storage.decorations.timeline as esdl\n",
    "import emission.storage.timeseries.abstract_timeseries as esta\n",
    "import emission.storage.timeseries.timequery as estt\n",
    "import scaffolding\n",
    "from uuid import UUID\n",
    "\n",
    "import geopandas as gpd\n",
    "from collections import defaultdict\n",
    "import shapely as shp\n",
    "import matplotlib.pyplot as plt\n",
    "\n",
    "%matplotlib inline\n",
    "\n",
    "import folium\n",
    "import folium.plugins as fpl\n",
    "import numpy as np\n",
    "import branca.element as bre\n",
    "import functools\n"
   ]
  },
  {
   "cell_type": "code",
   "execution_count": null,
   "id": "37971fe6",
   "metadata": {},
   "outputs": [],
   "source": [
    "year = None\n",
    "month = None\n",
    "# program = \"study\"\n",
    "study_type = \"study\"\n",
    "mode_of_interest = \"e-bike\"\n",
    "include_test_users = False #NO TEST USERS\n",
    "\n",
    "dynamic_labels = {\n",
    "    \"MODE\": [\n",
    "      {\"value\":\"walk\", \"baseMode\":\"WALKING\", \"met_equivalent\":\"WALKING\", \"kgCo2PerKm\": 0},\n",
    "      {\"value\":\"e-auto_rickshaw\", \"baseMode\":\"MOPED\", \"met_equivalent\":\"IN_VEHICLE\", \"kgCo2PerKm\": 0.085416859},\n",
    "      {\"value\":\"auto_rickshaw\", \"baseMode\":\"MOPED\", \"met_equivalent\":\"IN_VEHICLE\", \"kgCo2PerKm\": 0.231943784},\n",
    "      {\"value\":\"motorcycle\", \"baseMode\":\"MOPED\", \"met_equivalent\":\"IN_VEHICLE\", \"kgCo2PerKm\": 0.113143309},\n",
    "      {\"value\":\"e-bike\", \"baseMode\":\"E_BIKE\", \"met\": {\"ALL\": {\"range\": [0, -1], \"mets\": 4.9}}, \"kgCo2PerKm\": 0.00728},\n",
    "      {\"value\":\"bike\", \"baseMode\":\"BICYCLING\", \"met_equivalent\":\"BICYCLING\", \"kgCo2PerKm\": 0},\n",
    "      {\"value\":\"drove_alone\", \"baseMode\":\"CAR\", \"met_equivalent\":\"IN_VEHICLE\", \"kgCo2PerKm\": 0.22031},\n",
    "      {\"value\":\"shared_ride\", \"baseMode\":\"CAR\", \"met_equivalent\":\"IN_VEHICLE\", \"kgCo2PerKm\": 0.11015},\n",
    "      {\"value\":\"e_car_drove_alone\", \"baseMode\":\"E_CAR\", \"met_equivalent\":\"IN_VEHICLE\", \"kgCo2PerKm\": 0.08216},\n",
    "      {\"value\":\"e_car_shared_ride\", \"baseMode\":\"E_CAR\", \"met_equivalent\":\"IN_VEHICLE\", \"kgCo2PerKm\": 0.04108},\n",
    "      {\"value\":\"taxi\", \"baseMode\":\"TAXI\", \"met_equivalent\":\"IN_VEHICLE\", \"kgCo2PerKm\": 0.30741},\n",
    "      {\"value\":\"bus\", \"baseMode\":\"BUS\", \"met_equivalent\":\"IN_VEHICLE\", \"kgCo2PerKm\": 0.20727},\n",
    "      {\"value\":\"train\", \"baseMode\":\"TRAIN\", \"met_equivalent\":\"IN_VEHICLE\", \"kgCo2PerKm\": 0.12256},\n",
    "      {\"value\":\"free_shuttle\", \"baseMode\":\"BUS\", \"met_equivalent\":\"IN_VEHICLE\", \"kgCo2PerKm\": 0.20727},\n",
    "      {\"value\":\"air\", \"baseMode\":\"AIR\", \"met_equivalent\":\"IN_VEHICLE\", \"kgCo2PerKm\": 0.09975},\n",
    "      {\"value\":\"not_a_trip\", \"baseMode\":\"UNKNOWN\", \"met_equivalent\":\"UNKNOWN\", \"kgCo2PerKm\": 0},\n",
    "      {\"value\":\"other\", \"baseMode\":\"OTHER\", \"met_equivalent\":\"UNKNOWN\", \"kgCo2PerKm\": 0}\n",
    "    ],\n",
    "    \"PURPOSE\": [\n",
    "      {\"value\":\"home\"},\n",
    "      {\"value\":\"work\"},\n",
    "      {\"value\":\"at_work\"},\n",
    "      {\"value\":\"school\"},\n",
    "      {\"value\":\"transit_transfer\"},\n",
    "      {\"value\":\"shopping\"},\n",
    "      {\"value\":\"meal\"},\n",
    "      {\"value\":\"pick_drop_person\"},\n",
    "      {\"value\":\"pick_drop_item\"},\n",
    "      {\"value\":\"personal_med\"},\n",
    "      {\"value\":\"access_recreation\"},\n",
    "      {\"value\":\"exercise\"},\n",
    "      {\"value\":\"entertainment\"},\n",
    "      {\"value\":\"religious\"},\n",
    "      {\"value\":\"other\"}\n",
    "    ],\n",
    "    \"translations\": {\n",
    "      \"en\": {\n",
    "        \"walk\": \"Walk\",\n",
    "        \"e-auto_rickshaw\":\"E-tuk tuk\",\n",
    "        \"auto_rickshaw\":\"Tuk Tuk\",\n",
    "        \"motorcycle\":\"Motorcycle\",\n",
    "        \"e-bike\": \"E-bike\",\n",
    "        \"bike\": \"Bicycle\",\n",
    "        \"drove_alone\": \"Car Drove Alone\",\n",
    "        \"shared_ride\": \"Car Shared Ride\",\n",
    "        \"e_car_drove_alone\": \"E-Car Drove Alone\",\n",
    "        \"e_car_shared_ride\": \"E-Car Shared Ride\",\n",
    "        \"taxi\": \"Taxi/Loca/inDrive\",\n",
    "        \"bus\": \"Bus\",\n",
    "        \"train\": \"Train\",\n",
    "        \"free_shuttle\": \"Free Shuttle\",\n",
    "        \"air\": \"Airplane\",\n",
    "        \"not_a_trip\": \"Not a trip\",\n",
    "        \"home\": \"Home\",\n",
    "        \"work\": \"To Work\",\n",
    "        \"at_work\": \"At Work\",\n",
    "        \"school\": \"School\",\n",
    "        \"transit_transfer\": \"Transit transfer\",\n",
    "        \"shopping\": \"Shopping\",\n",
    "        \"meal\": \"Meal\",\n",
    "        \"pick_drop_person\": \"Pick-up/ Drop off Person\",\n",
    "        \"pick_drop_item\": \"Pick-up/ Drop off Item\",\n",
    "        \"personal_med\": \"Personal/ Medical\",\n",
    "        \"access_recreation\": \"Access Recreation\",\n",
    "        \"exercise\": \"Recreation/ Exercise\",\n",
    "        \"entertainment\": \"Entertainment/ Social\",\n",
    "        \"religious\": \"Religious\",\n",
    "        \"other\": \"Other\"\n",
    "      },\n",
    "      \"lo\": {\n",
    "        \"walk\": \"ດ້ວຍການຍ່າງ\",\n",
    "        \"e-auto_rickshaw\":\"ລົດ 3 ລໍ້ໄຟຟ້າ ຫລື ຕຸກຕຸກໄຟຟ້າ\",\n",
    "        \"auto_rickshaw\":\"ເດີນທາດ້ວຍ ລົດຕຸກຕຸກ ຫລື ລົດສາມລໍ້\",\n",
    "        \"motorcycle\":\"ລົດຈັກ\",\n",
    "        \"e-bike\": \"ວຍລົດຈັກໄຟຟ້າ\",\n",
    "        \"bike\": \"ລົດຖີບ\",\n",
    "        \"drove_alone\": \"ເດີນທາງ ດ້ວຍລົດໃຫ່ຍ ເຊີ່ງເປັນລົດທີ່ຂັບເອງ\",\n",
    "        \"shared_ride\": \"ເດີນທາງດ້ວຍລົດໃຫ່ຍ ຮ່ວມກັບລົດຄົນອຶ່ນ\",\n",
    "        \"e_car_drove_alone\": \"ດ້ວຍການຂັບລົດໄຟຟ້າໄປເອງ\",\n",
    "        \"e_car_shared_ride\": \"ດ້ວຍການຈ້າງລົດໄຟຟ້າໄປ\",\n",
    "        \"taxi\": \"ແທັກຊີ\",\n",
    "        \"bus\": \"ລົດເມ\",\n",
    "        \"train\": \"ລົດໄຟ\",\n",
    "        \"free_shuttle\": \"ລົດຮັບສົ່ງຟຣີ\",\n",
    "        \"air\": \"ຍົນ\",\n",
    "        \"not_a_trip\": \"ບໍ່ແມ່ນການເດີນທາງ\",\n",
    "        \"home\": \"ບ້ານ\",\n",
    "        \"work\": \"ໄປເຮັດວຽກ\",\n",
    "        \"at_work\": \"ຢູ່ບ່ອນເຮັດວຽກ\",\n",
    "        \"school\": \"ໄປໂຮງຮຽນ\",\n",
    "        \"transit_transfer\": \"ການຖ່າຍໂອນການເດີນທາງ\",\n",
    "        \"shopping\": \"ຊອບປິ້ງ\",\n",
    "        \"meal\": \"ອາຫານ\",\n",
    "        \"pick_drop_person\": \"ໄປຮັບ ຫລື ສົນ ຄົນ\",\n",
    "        \"pick_drop_item\": \"ໄປຮັບ ຫລື ສົ່ງສິນຄ້າ\",\n",
    "        \"personal_med\": \"ໄປຫາໝໍ\",\n",
    "        \"access_recreation\": \"ເຂົ້າເຖິງການພັກຜ່ອນ\",\n",
    "        \"exercise\": \"ພັກຜ່ອນ/ອອກກຳລັງກາຍ\",\n",
    "        \"entertainment\": \"ບັນເທີງ/ສັງຄົມ\",\n",
    "        \"religious\": \"ຈຸດປະສົງທາງສາດສະໜາ\",\n",
    "        \"other\": \"ອື່ນໆ\"\n",
    "      }\n",
    "    }\n",
    "  }"
   ]
  },
  {
   "cell_type": "markdown",
   "id": "f46a0ee4",
   "metadata": {},
   "source": [
    "## Load the programs"
   ]
  },
  {
   "cell_type": "code",
   "execution_count": null,
   "id": "9ca01e6a",
   "metadata": {},
   "outputs": [],
   "source": [
    "# Split UUIDs by program\n",
    "program_uuid_map = {}\n",
    "for ue in edb.get_uuid_db().find():\n",
    "    program = ue['user_email'].split(\"_\")[0]\n",
    "    if program in program_uuid_map.keys():\n",
    "        program_uuid_map[program].append(str(ue['uuid']))\n",
    "    else:\n",
    "        print(f\"Found new program {program}, creating new list\")\n",
    "        program_uuid_map[program] = []\n",
    "        program_uuid_map[program].append(str(ue['uuid']))\n",
    "\n",
    "uuid_program_list = []\n",
    "for ue in edb.get_uuid_db().find():\n",
    "    program = ue['user_email'].split(\"_\")[0]\n",
    "    uuid_program_list.append({\"program\": program, \"opcode\": ue[\"user_email\"], \"user_id_str\": str(ue['uuid'])})\n",
    "\n",
    "uuid_program_df = pd.DataFrame.from_dict(uuid_program_list)\n",
    "uuid_program_df.head()"
   ]
  },
  {
   "cell_type": "code",
   "execution_count": null,
   "id": "1f308bfb",
   "metadata": {},
   "outputs": [],
   "source": [
    "#workaround for custom labels :)\n",
    "def mapping_labels(dynamic_labels, label_type):\n",
    "    if \"translations\" in dynamic_labels and \"en\" in dynamic_labels[\"translations\"]:\n",
    "        translations = dynamic_labels[\"translations\"][\"en\"]\n",
    "        dic_mapping = dict()\n",
    "\n",
    "        def translate_labels(labels):\n",
    "            translation_mapping = {}\n",
    "            for label in labels:\n",
    "                value = label[\"value\"]\n",
    "                translation = translations.get(value)\n",
    "                translation_mapping[value] = translation\n",
    "            return defaultdict(lambda: 'Other', translation_mapping)\n",
    "        dic_mapping = translate_labels(dynamic_labels[label_type])\n",
    "        print(dic_mapping)\n",
    "        return dic_mapping\n",
    "\n",
    "dic_re = mapping_labels(dynamic_labels, 'MODE')\n",
    "\n",
    "dic_pur = mapping_labels(dynamic_labels, 'PURPOSE')\n"
   ]
  },
  {
   "cell_type": "markdown",
   "id": "f8465faf",
   "metadata": {},
   "source": [
    "## Load the trip table"
   ]
  },
  {
   "cell_type": "code",
   "execution_count": null,
   "id": "dd86bac6",
   "metadata": {},
   "outputs": [],
   "source": [
    "program = \"usaid_laos_ev\"\n",
    "expanded_ct, file_suffix, quality_text, debug_df = await scaffolding.load_viz_notebook_data(year,\n",
    "                                                                            month,\n",
    "                                                                            program,\n",
    "                                                                            study_type,\n",
    "                                                                            dynamic_labels,\n",
    "                                                                            include_test_users=include_test_users)\n",
    "tq = scaffolding.get_time_query(year, month)\n",
    "all_trips = await scaffolding.load_all_participant_trips(program, tq, False, dynamic_labels)"
   ]
  },
  {
   "cell_type": "code",
   "execution_count": null,
   "id": "571423c3",
   "metadata": {},
   "outputs": [],
   "source": [
    "print(len(expanded_ct))\n",
    "\n",
    "early_testing = expanded_ct[expanded_ct['start_ts'] < 1700438400]\n",
    "print(len(early_testing))\n",
    "print(early_testing.user_id.nunique())\n",
    "\n",
    "\n",
    "expanded_ct = expanded_ct[expanded_ct['start_ts'] > 1700438400]\n",
    "print(len(expanded_ct))\n",
    "expanded_ct[\"user_id_str\"] = expanded_ct.user_id.apply(lambda u: str(u))\n",
    "print(len(expanded_ct.user_id_str.unique()))\n",
    "expanded_ct.user_id_str.unique()\n",
    "\n",
    "earlt_testing_all = all_trips[all_trips['start_ts'] < 1700438400]\n",
    "\n",
    "all_trips = all_trips[all_trips['start_ts'] > 1700438400]\n",
    "print(len(all_trips))\n",
    "all_trips[\"user_id_str\"] = all_trips.user_id.apply(lambda u: str(u))\n",
    "print(len(all_trips.user_id_str.unique()))\n",
    "# all_trips.user_id_str.unique()"
   ]
  },
  {
   "cell_type": "code",
   "execution_count": null,
   "id": "76c3d91c",
   "metadata": {},
   "outputs": [],
   "source": [
    "early_testing.user_id.unique()"
   ]
  },
  {
   "cell_type": "code",
   "execution_count": null,
   "id": "faae3805",
   "metadata": {},
   "outputs": [],
   "source": [
    "earlt_testing_all.user_id.unique()"
   ]
  },
  {
   "cell_type": "markdown",
   "id": "40b672c9",
   "metadata": {},
   "source": [
    "## Combine program and trip tables"
   ]
  },
  {
   "cell_type": "code",
   "execution_count": null,
   "id": "7a654427",
   "metadata": {},
   "outputs": [],
   "source": [
    "trip_program_df = expanded_ct.merge(uuid_program_df, on=\"user_id_str\")\n",
    "all_trip_df = all_trips.merge(uuid_program_df, on=\"user_id_str\")\n",
    "\n",
    "trip_program_df[\"distance_km\"] = trip_program_df.distance / 1000\n",
    "all_trip_df[\"distance_km\"] = all_trip_df.distance / 1000"
   ]
  },
  {
   "cell_type": "code",
   "execution_count": null,
   "id": "5167f7cb",
   "metadata": {},
   "outputs": [],
   "source": [
    "trip_program_df.sample(n=50, random_state=123)[[\"program\", \"user_id_str\", \"opcode\", \"_id\", \"start_fmt_time\", \"end_fmt_time\", \"distance_km\", \"mode_confirm\"]]\n",
    "print(len(trip_program_df))\n",
    "print(trip_program_df.user_id.nunique())"
   ]
  },
  {
   "cell_type": "code",
   "execution_count": null,
   "id": "5f9522a6",
   "metadata": {},
   "outputs": [],
   "source": [
    "all_trip_df.sample(n=50, random_state=123)[[\"program\", \"user_id_str\", \"opcode\", \"_id\", \"start_fmt_time\", \"end_fmt_time\", \"distance_km\"]]\n",
    "print(len(all_trip_df))\n",
    "print(all_trip_df.user_id.nunique())"
   ]
  },
  {
   "cell_type": "markdown",
   "id": "3fbecc09",
   "metadata": {},
   "source": [
    "## Prepping dataframes for plotting"
   ]
  },
  {
   "cell_type": "code",
   "execution_count": null,
   "id": "125e3208",
   "metadata": {},
   "outputs": [],
   "source": [
    "def all_start_end(points):\n",
    "    return points.start_loc.append(points.end_loc)\n",
    "\n",
    "def geo_start_end(start_end):\n",
    "    return gpd.GeoSeries(start_end.apply(lambda p: shp.geometry.Point(p['coordinates'])), crs=\"EPSG:4269\")"
   ]
  },
  {
   "cell_type": "code",
   "execution_count": null,
   "id": "f2a88696",
   "metadata": {},
   "outputs": [],
   "source": [
    "print(trip_program_df.user_id.nunique())\n",
    "print(all_trip_df.user_id.nunique())\n",
    "\n",
    "all_start_end_points = all_start_end(trip_program_df)\n",
    "all_modeless_points = all_start_end(all_trip_df)\n",
    "\n",
    "all_geo_start_end_points = geo_start_end(all_start_end_points)\n",
    "all_geo_modeless = geo_start_end(all_modeless_points)\n",
    "\n",
    "earlt_testing_all_points = all_start_end(earlt_testing_all)\n",
    "earlt_testing_all_points_geo = geo_start_end(earlt_testing_all_points)"
   ]
  },
  {
   "cell_type": "code",
   "execution_count": null,
   "id": "0424bc45",
   "metadata": {},
   "outputs": [],
   "source": [
    "trip_program_df.mode_confirm.unique()"
   ]
  },
  {
   "cell_type": "code",
   "execution_count": null,
   "id": "7d9a192e",
   "metadata": {},
   "outputs": [],
   "source": [
    "motorcycle_trips = trip_program_df[trip_program_df.mode_confirm == 'motorcycle']; \n",
    "print(len(motorcycle_trips))\n",
    "print(motorcycle_trips.user_id.nunique())\n",
    "\n",
    "motorcycle_start_end_points = all_start_end(motorcycle_trips); \n",
    "motorcycle_geo_start_end_points = geo_start_end(motorcycle_start_end_points)\n",
    "\n",
    "car_like_trips = trip_program_df.query('mode_confirm == \"own_car\" | mode_confirm == \"shared_ride\" | mode_confirm == \"drove_alone\" | mode_confirm == \"e_car_drove_alone\" | mode_confirm == \"e_car_shared_ride\" | mode_confirm == \"own_cars\" | mode_confirm == \"taxi\"'); \n",
    "print(len(car_like_trips))\n",
    "print(car_like_trips.user_id.nunique())\n",
    "\n",
    "car_like_start_end_points = all_start_end(car_like_trips)\n",
    "car_like_geo_start_end_points = geo_start_end(car_like_start_end_points)"
   ]
  },
  {
   "cell_type": "code",
   "execution_count": null,
   "id": "f593a8d0",
   "metadata": {},
   "outputs": [],
   "source": [
    "trip_program_df.Trip_purpose.unique()"
   ]
  },
  {
   "cell_type": "code",
   "execution_count": null,
   "id": "fa3c2a54",
   "metadata": {},
   "outputs": [],
   "source": [
    "work_trips = trip_program_df[trip_program_df.Trip_purpose == 'To Work']; \n",
    "print(len(work_trips))\n",
    "print(work_trips.user_id.nunique())\n",
    "\n",
    "meal_shopping_trips = trip_program_df.query('Trip_purpose == \"Shopping\" | Trip_purpose == \"Meal\"'); \n",
    "print(len(meal_shopping_trips))\n",
    "print(meal_shopping_trips.user_id.nunique())\n",
    "\n",
    "school_trips = trip_program_df.query('Trip_purpose == \"School\"'); \n",
    "print(len(school_trips))\n",
    "print(school_trips.user_id.nunique())\n",
    "\n",
    "work_end_points = work_trips.end_loc; \n",
    "work_geo_end_points = geo_start_end(work_end_points)\n",
    "\n",
    "meal_shopping_end_points = meal_shopping_trips.end_loc\n",
    "meal_shopping_geo_end_points = geo_start_end(meal_shopping_end_points)\n",
    "\n",
    "school_end_points = school_trips.end_loc\n",
    "school_geo_end_points = geo_start_end(school_end_points)"
   ]
  },
  {
   "cell_type": "markdown",
   "id": "6d80718e",
   "metadata": {},
   "source": [
    "### Heatmap using folium\n",
    "\n",
    "Example from: https://stackoverflow.com/a/65756840/4040267"
   ]
  },
  {
   "cell_type": "code",
   "execution_count": null,
   "id": "f19229ad",
   "metadata": {},
   "outputs": [],
   "source": [
    "def make_basic_heatmap(all_geo_start_end):\n",
    "\n",
    "    map = folium.Map(\n",
    "        location=(17.9757, 102.6331),\n",
    "        zoom_start=11,\n",
    "        control_scale = True\n",
    "    )\n",
    "    fpl.HeatMap(all_geo_start_end.apply(lambda p: [p.y, p.x])).add_to(map)\n",
    "    return map"
   ]
  },
  {
   "cell_type": "code",
   "execution_count": null,
   "id": "29fa104d",
   "metadata": {
    "scrolled": false
   },
   "outputs": [],
   "source": [
    "#all labeled trips\n",
    "make_basic_heatmap(all_geo_start_end_points)"
   ]
  },
  {
   "cell_type": "code",
   "execution_count": null,
   "id": "512b9d1a",
   "metadata": {},
   "outputs": [],
   "source": [
    "make_basic_heatmap(earlt_testing_all_points_geo)"
   ]
  },
  {
   "cell_type": "code",
   "execution_count": null,
   "id": "376dde4a",
   "metadata": {},
   "outputs": [],
   "source": [
    "#all trips\n",
    "make_basic_heatmap(all_geo_modeless)"
   ]
  },
  {
   "cell_type": "code",
   "execution_count": null,
   "id": "ebaba4d8",
   "metadata": {
    "scrolled": false
   },
   "outputs": [],
   "source": [
    "#TEST - scaled heatmap\n",
    "\n",
    "import branca.colormap\n",
    "from collections import defaultdict\n",
    "import folium\n",
    "import webbrowser\n",
    "from folium.plugins import HeatMap \n",
    "\n",
    "def make_scaled_heatmap(data):\n",
    "    map_osm = folium.Map(llocation=[17.9757, 102.6331],zoom_start=11, control_scale = True)\n",
    "\n",
    "    steps=20\n",
    "    colormap = branca.colormap.linear.Spectral_09.scale(0, 1).to_step(steps)\n",
    "    colormap.colors.reverse()\n",
    "    gradient_map=defaultdict(dict)\n",
    "    for i in range(steps):\n",
    "        gradient_map[1/steps*i] = colormap.rgb_hex_str(1/steps*i)\n",
    "    colormap.add_to(map_osm) #add color bar at the top of the map\n",
    "\n",
    "    HeatMap(data.apply(lambda p: [p.y, p.x]),gradient = gradient_map).add_to(map_osm) # Add heat map to the previously created map\n",
    "\n",
    "    return map_osm\n",
    "\n",
    "map = make_scaled_heatmap(all_geo_modeless)\n",
    "map"
   ]
  },
  {
   "cell_type": "code",
   "execution_count": null,
   "id": "b6dc5685",
   "metadata": {},
   "outputs": [],
   "source": [
    "#triple heatmap for all, car, motorcycle\n",
    "all_map = folium.Map(\n",
    "    location=(17.9757, 102.6331),\n",
    "    zoom_start=11,\n",
    "    control_scale = True\n",
    ")\n",
    "fpl.HeatMap(all_geo_start_end_points.apply(lambda p: [p.y, p.x])).add_to(all_map)\n",
    "\n",
    "e_bike_map = folium.Map(\n",
    "    location=(17.9757, 102.6331),\n",
    "    zoom_start=11,\n",
    "    control_scale = True\n",
    ")\n",
    "fpl.HeatMap(motorcycle_geo_start_end_points.apply(lambda p: [p.y, p.x])).add_to(e_bike_map)\n",
    "\n",
    "car_like_map = folium.Map(\n",
    "    location=(17.9757, 102.6331),\n",
    "    zoom_start=11,\n",
    "    control_scale = True\n",
    ")\n",
    "fpl.HeatMap(car_like_geo_start_end_points.apply(lambda p: [p.y, p.x])).add_to(car_like_map)\n",
    "\n",
    "\n",
    "fig = bre.Figure()\n",
    "fig.add_subplot(1,3,1).add_child(all_map)\n",
    "fig.add_subplot(1,3,2).add_child(e_bike_map)\n",
    "fig.add_subplot(1,3,3).add_child(car_like_map)"
   ]
  },
  {
   "cell_type": "code",
   "execution_count": null,
   "id": "09846f1e",
   "metadata": {},
   "outputs": [],
   "source": [
    "make_basic_heatmap(work_geo_end_points)"
   ]
  },
  {
   "cell_type": "code",
   "execution_count": null,
   "id": "1b2fc96f",
   "metadata": {},
   "outputs": [],
   "source": [
    "make_basic_heatmap(meal_shopping_geo_end_points)"
   ]
  },
  {
   "cell_type": "code",
   "execution_count": null,
   "id": "72228253",
   "metadata": {},
   "outputs": [],
   "source": [
    "make_basic_heatmap(school_geo_end_points)"
   ]
  },
  {
   "cell_type": "markdown",
   "id": "47157c73",
   "metadata": {},
   "source": [
    "### Plot all e-bike trajectories (note that this will take several hours)"
   ]
  },
  {
   "cell_type": "code",
   "execution_count": null,
   "id": "83277427",
   "metadata": {},
   "outputs": [],
   "source": [
    "def get_points_for_trip(user_id, trip_id):\n",
    "    ts = esta.TimeSeries.get_time_series(user_id)\n",
    "    return ts.get_data_df(\"analysis/recreated_location\",\n",
    "                         time_query=esda.get_time_query_for_trip_like(\"analysis/confirmed_trip\", trip_id))"
   ]
  },
  {
   "cell_type": "code",
   "execution_count": null,
   "id": "f3f89ac1",
   "metadata": {},
   "outputs": [],
   "source": [
    "def points_map(dataframe):\n",
    "    \n",
    "    #create a map\n",
    "    this_map = folium.Map(prefer_canvas=True, control_scale = True)\n",
    "\n",
    "    def plotDot(point):\n",
    "        '''input: series that contains a numeric named latitude and a numeric named longitude\n",
    "        this function creates a CircleMarker and adds it to your this_map'''\n",
    "        folium.CircleMarker(location=[point.latitude, point.longitude],\n",
    "                            radius=1,\n",
    "                            weight=2).add_to(this_map)\n",
    "\n",
    "    #use df.apply(,axis=1) to \"iterate\" through every row in your dataframe\n",
    "    dataframe.apply(plotDot, axis = 1)\n",
    "\n",
    "    #Set the zoom to the maximum possible\n",
    "    this_map.fit_bounds(this_map.get_bounds())\n",
    "\n",
    "\n",
    "    return this_map"
   ]
  },
  {
   "cell_type": "code",
   "execution_count": null,
   "id": "43fdc02b",
   "metadata": {},
   "outputs": [],
   "source": [
    "def points_map_objects(point_list):\n",
    "    this_map = folium.Map(prefer_canvas=True, control_scale = True)\n",
    "\n",
    "    def plotDot(point):\n",
    "        '''input: series that contains a numeric named latitude and a numeric named longitude\n",
    "        this function creates a CircleMarker and adds it to your this_map'''\n",
    "        folium.CircleMarker(location=[point['coordinates'][1], point['coordinates'][0]],\n",
    "                            radius=1,\n",
    "                            weight=2).add_to(this_map)\n",
    "\n",
    "    #use df.apply(,axis=1) to \"iterate\" through every row in your dataframe\n",
    "    point_list.apply(plotDot)\n",
    "\n",
    "    #Set the zoom to the maximum possible\n",
    "    this_map.fit_bounds(this_map.get_bounds())\n",
    "\n",
    "    return this_map"
   ]
  },
  {
   "cell_type": "code",
   "execution_count": null,
   "id": "4f7df049",
   "metadata": {},
   "outputs": [],
   "source": [
    "def get_trajectory_points(trips):\n",
    "    try:\n",
    "        all_trip_points = trips.apply(lambda t: get_points_for_trip(t.user_id, t._id), axis=1)\n",
    "    except: #once merged with surveys\n",
    "        all_trip_points = trips.apply(lambda t: get_points_for_trip(t.user_id, t._id_x), axis=1)\n",
    "\n",
    "    all_points = functools.reduce(lambda x, y: x.append(y), all_trip_points)\n",
    "\n",
    "    all_points_gs = gpd.GeoSeries(all_points[\"loc\"].apply(lambda p: shp.geometry.Point(p['coordinates'])), crs=\"EPSG:4269\")\n",
    "\n",
    "    return all_trip_points, all_points, all_points_gs"
   ]
  },
  {
   "cell_type": "code",
   "execution_count": null,
   "id": "4a75dbe7",
   "metadata": {},
   "outputs": [],
   "source": [
    "#get number of points (will take a while)\n",
    "all_trip_traj_points = get_trajectory_points(all_trips)\n",
    "print(len(all_trip_traj_points))"
   ]
  },
  {
   "cell_type": "code",
   "execution_count": null,
   "id": "c9aeea02",
   "metadata": {},
   "outputs": [],
   "source": [
    "points_map_objects(earlt_testing_all_points)"
   ]
  },
  {
   "cell_type": "code",
   "execution_count": null,
   "id": "5f8c1239",
   "metadata": {},
   "outputs": [],
   "source": [
    "#counting!!\n",
    "edb.get_analysis_timeseries_db().count_documents({\"metadata.key\": \"analysis/recreated_location\"})"
   ]
  },
  {
   "cell_type": "code",
   "execution_count": null,
   "id": "e57c1f21",
   "metadata": {},
   "outputs": [],
   "source": [
    "#work trips\n",
    "print(len(work_end_points))\n",
    "points_map_objects(work_end_points)"
   ]
  },
  {
   "cell_type": "code",
   "execution_count": null,
   "id": "46380bf0",
   "metadata": {},
   "outputs": [],
   "source": [
    "#shopping trips\n",
    "print(len(meal_shopping_end_points))\n",
    "points_map_objects(meal_shopping_end_points)"
   ]
  },
  {
   "cell_type": "code",
   "execution_count": null,
   "id": "37cb1664",
   "metadata": {},
   "outputs": [],
   "source": [
    "#school trips\n",
    "print(len(school_end_points))\n",
    "points_map_objects(school_end_points)"
   ]
  },
  {
   "cell_type": "code",
   "execution_count": null,
   "id": "822c87bd",
   "metadata": {},
   "outputs": [],
   "source": [
    "#using motorcycle for Laos application\n",
    "e_bike_all_trip_points,  e_bike_all_points, e_bike_all_points_gs= get_trajectory_points(motorcycle_trips)\n",
    "\n",
    "print(len(e_bike_all_points))\n",
    "e_bike_all_points.head()"
   ]
  },
  {
   "cell_type": "code",
   "execution_count": null,
   "id": "6c75771e",
   "metadata": {
    "scrolled": false
   },
   "outputs": [],
   "source": [
    "points_map(e_bike_all_points)"
   ]
  },
  {
   "cell_type": "code",
   "execution_count": null,
   "id": "a5f0e7c7",
   "metadata": {},
   "outputs": [],
   "source": [
    "car_all_trip_points, car_all_points, car_all_points_gs = get_trajectory_points(car_like_trips)\n",
    "\n",
    "print(len(car_all_points))\n",
    "car_all_points.head()"
   ]
  },
  {
   "cell_type": "code",
   "execution_count": null,
   "id": "15822b14",
   "metadata": {},
   "outputs": [],
   "source": [
    "points_map(car_all_points)"
   ]
  },
  {
   "cell_type": "markdown",
   "id": "15ee9f3d",
   "metadata": {},
   "source": [
    "# Gender Space!"
   ]
  },
  {
   "cell_type": "code",
   "execution_count": null,
   "id": "0afaaad3",
   "metadata": {},
   "outputs": [],
   "source": [
    "surveys = pd.read_csv('DemographicData.csv')\n",
    "print(len(surveys), 'surveys')\n",
    "\n",
    "#drop any null ids\n",
    "socio_data = surveys[~surveys['user_id'].isnull()]\n",
    "print(len(socio_data), 'surveys after dropping null ids')\n",
    "\n",
    "#drop duplicates\n",
    "socio_data = socio_data.sort_values(by=['user_id', 'data.ts'])\n",
    "socio_data.drop_duplicates(subset=['user_id'], keep='last', inplace=True)\n",
    "print(len(socio_data),'surveys', socio_data['user_id'].nunique(), 'users after dropping duplicates')\n",
    "\n",
    "#prepare survey ids for merging\n",
    "socio_data['user_id_socio'] = socio_data['user_id'].astype(str)\n",
    "socio_data['user_id_socio'] = socio_data['user_id_socio'].str.strip() #remove leading or trailing whitespace!!\n",
    "socio_data['user_id_socio'] = [i.replace('-','') for i in socio_data.user_id_socio]\n",
    "socio_data['user_id_socio'] = socio_data['user_id_socio']\n",
    "socio_data = socio_data.drop(labels='user_id', axis=1)"
   ]
  },
  {
   "cell_type": "code",
   "execution_count": null,
   "id": "a2211ced",
   "metadata": {},
   "outputs": [],
   "source": [
    "socio_data = socio_data[socio_data['data.local_dt.timezone'] != 'America/Denver'] #throw out the test codes\n",
    "print(len(socio_data))"
   ]
  },
  {
   "cell_type": "code",
   "execution_count": null,
   "id": "208a6ce7",
   "metadata": {},
   "outputs": [],
   "source": [
    "tq = scaffolding.get_time_query(year, month)\n",
    "all_trips = await scaffolding.load_all_participant_trips('usaid-laos-ev', tq, False, dynamic_labels)\n",
    "\n",
    "all_trips = all_trips[all_trips['start_ts'] > 1700438400]\n",
    "all_trips[\"user_id_str\"] = all_trips.user_id.apply(lambda u: str(u))\n",
    "len(all_trips.user_id_str.unique())\n",
    "\n",
    "all_trip_df = all_trips.merge(uuid_program_df, on=\"user_id_str\")\n",
    "all_trip_df[\"distance_km\"] = all_trip_df.distance / 1000\n",
    "all_trip_df.head()"
   ]
  },
  {
   "cell_type": "code",
   "execution_count": null,
   "id": "add3411b",
   "metadata": {},
   "outputs": [],
   "source": [
    "#prepare trip ids for merging\n",
    "trips = all_trip_df.copy()\n",
    "print(len(trips), 'trips')\n",
    "print(trips.user_id.nunique(), 'people')\n",
    "trips['user_id_socio'] = trips.user_id.astype(str)\n",
    "trips['user_id_socio'] = trips['user_id_socio'].str.strip() #remove leading or trailing whitespace!!\n",
    "trips.user_id_socio = [i.replace('-','') for i in trips.user_id_socio] # remove all dashes from strings\n",
    "\n",
    "#merge the data\n",
    "data = trips.merge(socio_data, on='user_id_socio')\n",
    "print(len(data), 'trips after merging')\n",
    "print(data.user_id_socio.nunique(), 'people after merging')"
   ]
  },
  {
   "cell_type": "code",
   "execution_count": null,
   "id": "1dc25de1",
   "metadata": {},
   "outputs": [],
   "source": [
    "data['GENDER'] = data['What_is_your_gender']\n",
    "\n",
    "woman = data[data.GENDER == 'woman']\n",
    "print(len(woman), \"woman trips\")\n",
    "print(woman.user_id.nunique(), \"women\")\n",
    "man = data[data.GENDER == 'man']\n",
    "print(len(man), \"man trips\")\n",
    "print(man.user_id.nunique(), \"men\")"
   ]
  },
  {
   "cell_type": "code",
   "execution_count": null,
   "id": "e4c84a85",
   "metadata": {},
   "outputs": [],
   "source": [
    "all_woman = all_start_end(woman)\n",
    "all_geo_woman = geo_start_end(all_woman)\n",
    "print(len(all_geo_woman))\n",
    "\n",
    "all_man = all_start_end(man)\n",
    "all_geo_man = geo_start_end(all_man)\n",
    "print(len(all_geo_man))"
   ]
  },
  {
   "cell_type": "code",
   "execution_count": null,
   "id": "57a09c46",
   "metadata": {},
   "outputs": [],
   "source": [
    "make_basic_heatmap(all_geo_woman)"
   ]
  },
  {
   "cell_type": "code",
   "execution_count": null,
   "id": "255a9b7d",
   "metadata": {},
   "outputs": [],
   "source": [
    "make_basic_heatmap(all_geo_man)"
   ]
  },
  {
   "cell_type": "code",
   "execution_count": null,
   "id": "1ff2c942",
   "metadata": {
    "scrolled": false
   },
   "outputs": [],
   "source": [
    "points_map_objects(all_woman)"
   ]
  },
  {
   "cell_type": "code",
   "execution_count": null,
   "id": "ab05f167",
   "metadata": {},
   "outputs": [],
   "source": [
    "points_map_objects(all_man)"
   ]
  },
  {
   "cell_type": "markdown",
   "id": "bfa42443",
   "metadata": {},
   "source": [
    "## Gender + Mode"
   ]
  },
  {
   "cell_type": "code",
   "execution_count": null,
   "id": "28edcd91",
   "metadata": {},
   "outputs": [],
   "source": [
    "expanded_ct, file_suffix, quality_text, debug_df = await scaffolding.load_viz_notebook_data(year,\n",
    "                                                                            month,\n",
    "                                                                            program,\n",
    "                                                                            study_type,\n",
    "                                                                            dynamic_labels,\n",
    "                                                                            include_test_users=include_test_users)"
   ]
  },
  {
   "cell_type": "code",
   "execution_count": null,
   "id": "41832806",
   "metadata": {},
   "outputs": [],
   "source": [
    "#prepare trip ids for merging\n",
    "trips = expanded_ct.copy()\n",
    "print(len(trips), 'trips')\n",
    "print(trips.user_id.nunique(), 'people')\n",
    "trips['user_id_socio'] = trips.user_id.astype(str)\n",
    "trips['user_id_socio'] = trips['user_id_socio'].str.strip() #remove leading or trailing whitespace!!\n",
    "trips.user_id_socio = [i.replace('-','') for i in trips.user_id_socio] # remove all dashes from strings\n",
    "\n",
    "#merge the data\n",
    "data = trips.merge(socio_data, on='user_id_socio')\n",
    "print(len(data), 'trips after merging')\n",
    "print(data.user_id_socio.nunique(), 'people after merging')"
   ]
  },
  {
   "cell_type": "code",
   "execution_count": null,
   "id": "f5cb3370",
   "metadata": {},
   "outputs": [],
   "source": [
    "data.columns"
   ]
  },
  {
   "cell_type": "code",
   "execution_count": null,
   "id": "f76a51ae",
   "metadata": {},
   "outputs": [],
   "source": [
    "motorcycle = data[data[\"mode_confirm\"] == \"motorcycle\"]\n",
    "print(len(motorcycle), \"total motorcycle trips\")\n",
    "\n",
    "woman_motorcycle = motorcycle[motorcycle[\"What_is_your_gender\"] == \"woman\"]\n",
    "print(len(woman_motorcycle), \"by women\")\n",
    "print(woman_motorcycle.user_id.nunique())\n",
    "\n",
    "man_motorcycle = motorcycle[motorcycle[\"What_is_your_gender\"] == \"man\"]\n",
    "print(len(man_motorcycle), \"by men\")\n",
    "print(man_motorcycle.user_id.nunique())"
   ]
  },
  {
   "cell_type": "code",
   "execution_count": null,
   "id": "f9e0a364",
   "metadata": {},
   "outputs": [],
   "source": [
    "all_woman_cycle = all_start_end(woman_motorcycle)\n",
    "all_geo_woman_cycle = geo_start_end(all_woman_cycle)\n",
    "print(len(all_geo_woman_cycle))\n",
    "\n",
    "all_man_cycle = all_start_end(man_motorcycle)\n",
    "all_geo_man_cycle = geo_start_end(all_man_cycle)\n",
    "print(len(all_geo_man_cycle))"
   ]
  },
  {
   "cell_type": "code",
   "execution_count": null,
   "id": "08296be5",
   "metadata": {},
   "outputs": [],
   "source": [
    "woman_motorcycle.columns"
   ]
  },
  {
   "cell_type": "code",
   "execution_count": null,
   "id": "be1aa6ed",
   "metadata": {},
   "outputs": [],
   "source": [
    "all_woman_cycle_trip_points, all_woman_cycle_points,  all_woman_cycle_points_gs = get_trajectory_points(woman_motorcycle)\n",
    "\n",
    "print(len(all_woman_cycle_points))\n",
    "all_woman_cycle_points.head()"
   ]
  },
  {
   "cell_type": "code",
   "execution_count": null,
   "id": "79dfceb2",
   "metadata": {},
   "outputs": [],
   "source": [
    "points_map(all_woman_cycle_points)"
   ]
  },
  {
   "cell_type": "code",
   "execution_count": null,
   "id": "6f9affde",
   "metadata": {},
   "outputs": [],
   "source": [
    "all_man_cycle_trip_points, all_man_cycle_points, all_man_cycle_points_gs = get_trajectory_points(man_motorcycle)\n",
    "\n",
    "print(len(all_man_cycle_points))\n",
    "all_man_cycle_points.head()"
   ]
  },
  {
   "cell_type": "code",
   "execution_count": null,
   "id": "dc385f41",
   "metadata": {},
   "outputs": [],
   "source": [
    "points_map(all_man_cycle_points)"
   ]
  },
  {
   "cell_type": "markdown",
   "id": "144b65a5",
   "metadata": {},
   "source": [
    "# Gender + Purpose"
   ]
  },
  {
   "cell_type": "code",
   "execution_count": null,
   "id": "524e6c3f",
   "metadata": {},
   "outputs": [],
   "source": [
    "data.Trip_purpose.unique()"
   ]
  },
  {
   "cell_type": "code",
   "execution_count": null,
   "id": "28e1a00e",
   "metadata": {},
   "outputs": [],
   "source": [
    "work_trips = data[data['Trip_purpose'] == \"To Work\"]\n",
    "print(len(work_trips), \" total work trips\")\n",
    "\n",
    "woman_work = work_trips[work_trips[\"What_is_your_gender\"] == \"woman\"]\n",
    "print(len(woman_work), \" by women\")\n",
    "print(woman_work.user_id.nunique())\n",
    "\n",
    "man_work = work_trips[work_trips[\"What_is_your_gender\"] == \"man\"]\n",
    "print(len(man_work), \"by men\")\n",
    "print(man_work.user_id.nunique())"
   ]
  },
  {
   "cell_type": "code",
   "execution_count": null,
   "id": "78f3f839",
   "metadata": {},
   "outputs": [],
   "source": [
    "women_work_end_points = woman_work.end_loc; \n",
    "women_work_geo_end_points = geo_start_end(women_work_end_points)\n",
    "\n",
    "men_work_end_points = man_work.end_loc; \n",
    "men_work_geo_end_points = geo_start_end(men_work_end_points)"
   ]
  },
  {
   "cell_type": "code",
   "execution_count": null,
   "id": "9354be5a",
   "metadata": {},
   "outputs": [],
   "source": [
    "print(len(women_work_geo_end_points))\n",
    "make_basic_heatmap(women_work_geo_end_points)"
   ]
  },
  {
   "cell_type": "code",
   "execution_count": null,
   "id": "676cd0fb",
   "metadata": {},
   "outputs": [],
   "source": [
    "print(len(men_work_geo_end_points))\n",
    "make_basic_heatmap(men_work_geo_end_points)"
   ]
  }
 ],
 "metadata": {
  "kernelspec": {
   "display_name": "Python 3 (ipykernel)",
   "language": "python",
   "name": "python3"
  },
  "language_info": {
   "codemirror_mode": {
    "name": "ipython",
    "version": 3
   },
   "file_extension": ".py",
   "mimetype": "text/x-python",
   "name": "python",
   "nbconvert_exporter": "python",
   "pygments_lexer": "ipython3",
   "version": "3.9.20"
  }
 },
 "nbformat": 4,
 "nbformat_minor": 5
}
